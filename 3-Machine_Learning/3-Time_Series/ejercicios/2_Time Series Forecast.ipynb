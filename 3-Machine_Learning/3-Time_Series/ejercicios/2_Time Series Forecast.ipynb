{
 "cells": [
  {
   "cell_type": "markdown",
   "metadata": {},
   "source": [
    "## Ejercicio Time Series Forecast\n",
    "Para este ejercicio vamos a predecir cuál será la demanda de pasajeros de una aerolinea, para poder anticiparse a las contrataciones de personal, mantenimiento de las aeronaves y gestión de inventario y comidas.\n",
    "\n",
    "Para ello, se pide:\n",
    "1. Carga datos (AirPassengers.csv) y representa la serie. ¿Hay seasonality? ¿Cada cuanto?\n",
    "2. Crea en una gráfica la variable original + su media obtenida mediante una rolling window con el valor de seasonality obtenido en el apartado anterior. Tienes que usar la función rolling() del DataFrame.\n",
    "3. Comprueba de manera estadística si la serie es o no stationary.\n",
    "4. Aplica una transformación logarítmica sobre los datos para mejorar el proceso de transformación de tu time series a stationary. Acuérdate después del forecast de invertir la transformación.\n",
    "5. Divide en train y test. Guarda 20 muestras para test.\n",
    "6. Crea tu primer modelo ARIMA. Habrá varias combinaciones en función de sus hiperparámetros... Mide el MAE y RMSE del modelo en predicción. Ten en cuenta el parámetro \"m\" de la función ARIMA, mediante el cual se establece el seasonality.\n",
    "7. Representa en una gráfica los datos de test y tus predicciones.\n",
    "8. Prueba un decission tree y un random forest, a ver qué performance presentan."
   ]
  },
  {
   "cell_type": "code",
   "execution_count": 72,
   "metadata": {},
   "outputs": [],
   "source": [
    "import pandas as pd\n",
    "import numpy as np\n",
    "import matplotlib.pyplot as plt\n",
    "import warnings \n",
    "# warnings.filterwarnings(\"ignore\")"
   ]
  },
  {
   "cell_type": "markdown",
   "metadata": {},
   "source": [
    "## 1. Carga datos (AirPassengers.csv) y representa la serie. ¿Hay seasonality? ¿Cada cuanto?\n"
   ]
  },
  {
   "cell_type": "code",
   "execution_count": 112,
   "metadata": {},
   "outputs": [
    {
     "data": {
      "text/html": [
       "<div>\n",
       "<style scoped>\n",
       "    .dataframe tbody tr th:only-of-type {\n",
       "        vertical-align: middle;\n",
       "    }\n",
       "\n",
       "    .dataframe tbody tr th {\n",
       "        vertical-align: top;\n",
       "    }\n",
       "\n",
       "    .dataframe thead th {\n",
       "        text-align: right;\n",
       "    }\n",
       "</style>\n",
       "<table border=\"1\" class=\"dataframe\">\n",
       "  <thead>\n",
       "    <tr style=\"text-align: right;\">\n",
       "      <th></th>\n",
       "      <th>date</th>\n",
       "      <th>value</th>\n",
       "    </tr>\n",
       "  </thead>\n",
       "  <tbody>\n",
       "    <tr>\n",
       "      <th>0</th>\n",
       "      <td>1949-01-01</td>\n",
       "      <td>112</td>\n",
       "    </tr>\n",
       "    <tr>\n",
       "      <th>1</th>\n",
       "      <td>1949-02-01</td>\n",
       "      <td>118</td>\n",
       "    </tr>\n",
       "    <tr>\n",
       "      <th>2</th>\n",
       "      <td>1949-03-01</td>\n",
       "      <td>132</td>\n",
       "    </tr>\n",
       "    <tr>\n",
       "      <th>3</th>\n",
       "      <td>1949-04-01</td>\n",
       "      <td>129</td>\n",
       "    </tr>\n",
       "    <tr>\n",
       "      <th>4</th>\n",
       "      <td>1949-05-01</td>\n",
       "      <td>121</td>\n",
       "    </tr>\n",
       "  </tbody>\n",
       "</table>\n",
       "</div>"
      ],
      "text/plain": [
       "         date  value\n",
       "0  1949-01-01    112\n",
       "1  1949-02-01    118\n",
       "2  1949-03-01    132\n",
       "3  1949-04-01    129\n",
       "4  1949-05-01    121"
      ]
     },
     "execution_count": 112,
     "metadata": {},
     "output_type": "execute_result"
    }
   ],
   "source": []
  },
  {
   "cell_type": "code",
   "execution_count": 74,
   "metadata": {},
   "outputs": [
    {
     "name": "stdout",
     "output_type": "stream",
     "text": [
      "<class 'pandas.core.frame.DataFrame'>\n",
      "RangeIndex: 144 entries, 0 to 143\n",
      "Data columns (total 2 columns):\n",
      " #   Column  Non-Null Count  Dtype \n",
      "---  ------  --------------  ----- \n",
      " 0   date    144 non-null    object\n",
      " 1   value   144 non-null    int64 \n",
      "dtypes: int64(1), object(1)\n",
      "memory usage: 2.4+ KB\n"
     ]
    }
   ],
   "source": []
  },
  {
   "cell_type": "code",
   "execution_count": 75,
   "metadata": {},
   "outputs": [
    {
     "data": {
      "text/html": [
       "<div>\n",
       "<style scoped>\n",
       "    .dataframe tbody tr th:only-of-type {\n",
       "        vertical-align: middle;\n",
       "    }\n",
       "\n",
       "    .dataframe tbody tr th {\n",
       "        vertical-align: top;\n",
       "    }\n",
       "\n",
       "    .dataframe thead th {\n",
       "        text-align: right;\n",
       "    }\n",
       "</style>\n",
       "<table border=\"1\" class=\"dataframe\">\n",
       "  <thead>\n",
       "    <tr style=\"text-align: right;\">\n",
       "      <th></th>\n",
       "      <th>value</th>\n",
       "    </tr>\n",
       "    <tr>\n",
       "      <th>date</th>\n",
       "      <th></th>\n",
       "    </tr>\n",
       "  </thead>\n",
       "  <tbody>\n",
       "    <tr>\n",
       "      <th>1949-01-01</th>\n",
       "      <td>112</td>\n",
       "    </tr>\n",
       "    <tr>\n",
       "      <th>1949-02-01</th>\n",
       "      <td>118</td>\n",
       "    </tr>\n",
       "    <tr>\n",
       "      <th>1949-03-01</th>\n",
       "      <td>132</td>\n",
       "    </tr>\n",
       "    <tr>\n",
       "      <th>1949-04-01</th>\n",
       "      <td>129</td>\n",
       "    </tr>\n",
       "    <tr>\n",
       "      <th>1949-05-01</th>\n",
       "      <td>121</td>\n",
       "    </tr>\n",
       "  </tbody>\n",
       "</table>\n",
       "</div>"
      ],
      "text/plain": [
       "            value\n",
       "date             \n",
       "1949-01-01    112\n",
       "1949-02-01    118\n",
       "1949-03-01    132\n",
       "1949-04-01    129\n",
       "1949-05-01    121"
      ]
     },
     "execution_count": 75,
     "metadata": {},
     "output_type": "execute_result"
    }
   ],
   "source": []
  },
  {
   "cell_type": "code",
   "execution_count": 76,
   "metadata": {},
   "outputs": [
    {
     "data": {
      "image/png": "[encoded data removed]",
      "text/plain": [
       "<Figure size 432x288 with 1 Axes>"
      ]
     },
     "metadata": {
      "needs_background": "light"
     },
     "output_type": "display_data"
    }
   ],
   "source": []
  },
  {
   "cell_type": "markdown",
   "metadata": {},
   "source": [
    "## 2. Crea en una gráfica la variable original + su media obtenida mediante una rolling window con el valor de seasonality obtenido en el apartado anterior. Tienes que usar la función rolling() del DataFrame."
   ]
  },
  {
   "cell_type": "code",
   "execution_count": 77,
   "metadata": {},
   "outputs": [
    {
     "data": {
      "text/html": [
       "<div>\n",
       "<style scoped>\n",
       "    .dataframe tbody tr th:only-of-type {\n",
       "        vertical-align: middle;\n",
       "    }\n",
       "\n",
       "    .dataframe tbody tr th {\n",
       "        vertical-align: top;\n",
       "    }\n",
       "\n",
       "    .dataframe thead th {\n",
       "        text-align: right;\n",
       "    }\n",
       "</style>\n",
       "<table border=\"1\" class=\"dataframe\">\n",
       "  <thead>\n",
       "    <tr style=\"text-align: right;\">\n",
       "      <th></th>\n",
       "      <th>value</th>\n",
       "    </tr>\n",
       "    <tr>\n",
       "      <th>date</th>\n",
       "      <th></th>\n",
       "    </tr>\n",
       "  </thead>\n",
       "  <tbody>\n",
       "    <tr>\n",
       "      <th>1949-01-01</th>\n",
       "      <td>112</td>\n",
       "    </tr>\n",
       "    <tr>\n",
       "      <th>1949-02-01</th>\n",
       "      <td>118</td>\n",
       "    </tr>\n",
       "    <tr>\n",
       "      <th>1949-03-01</th>\n",
       "      <td>132</td>\n",
       "    </tr>\n",
       "    <tr>\n",
       "      <th>1949-04-01</th>\n",
       "      <td>129</td>\n",
       "    </tr>\n",
       "    <tr>\n",
       "      <th>1949-05-01</th>\n",
       "      <td>121</td>\n",
       "    </tr>\n",
       "    <tr>\n",
       "      <th>...</th>\n",
       "      <td>...</td>\n",
       "    </tr>\n",
       "    <tr>\n",
       "      <th>1960-08-01</th>\n",
       "      <td>606</td>\n",
       "    </tr>\n",
       "    <tr>\n",
       "      <th>1960-09-01</th>\n",
       "      <td>508</td>\n",
       "    </tr>\n",
       "    <tr>\n",
       "      <th>1960-10-01</th>\n",
       "      <td>461</td>\n",
       "    </tr>\n",
       "    <tr>\n",
       "      <th>1960-11-01</th>\n",
       "      <td>390</td>\n",
       "    </tr>\n",
       "    <tr>\n",
       "      <th>1960-12-01</th>\n",
       "      <td>432</td>\n",
       "    </tr>\n",
       "  </tbody>\n",
       "</table>\n",
       "<p>144 rows × 1 columns</p>\n",
       "</div>"
      ],
      "text/plain": [
       "            value\n",
       "date             \n",
       "1949-01-01    112\n",
       "1949-02-01    118\n",
       "1949-03-01    132\n",
       "1949-04-01    129\n",
       "1949-05-01    121\n",
       "...           ...\n",
       "1960-08-01    606\n",
       "1960-09-01    508\n",
       "1960-10-01    461\n",
       "1960-11-01    390\n",
       "1960-12-01    432\n",
       "\n",
       "[144 rows x 1 columns]"
      ]
     },
     "execution_count": 77,
     "metadata": {},
     "output_type": "execute_result"
    }
   ],
   "source": [
    "df"
   ]
  },
  {
   "cell_type": "code",
   "execution_count": 79,
   "metadata": {},
   "outputs": [
    {
     "data": {
      "text/plain": [
       "Text(0.5, 1.0, 'Rolling Mean')"
      ]
     },
     "execution_count": 79,
     "metadata": {},
     "output_type": "execute_result"
    },
    {
     "data": {
      "image/png": "[encoded data removed]",
      "text/plain": [
       "<Figure size 432x288 with 1 Axes>"
      ]
     },
     "metadata": {
      "needs_background": "light"
     },
     "output_type": "display_data"
    }
   ],
   "source": []
  },
  {
   "cell_type": "markdown",
   "metadata": {},
   "source": [
    "## 3. Comprueba de manera estadística si la serie es o no stationary."
   ]
  },
  {
   "cell_type": "code",
   "execution_count": null,
   "metadata": {},
   "outputs": [],
   "source": [
    "from statsmodels.tsa.stattools import adfuller"
   ]
  },
  {
   "cell_type": "code",
   "execution_count": 80,
   "metadata": {},
   "outputs": [
    {
     "data": {
      "text/plain": [
       "0.9918802434376409"
      ]
     },
     "execution_count": 80,
     "metadata": {},
     "output_type": "execute_result"
    }
   ],
   "source": []
  },
  {
   "cell_type": "markdown",
   "metadata": {},
   "source": [
    "## 4. Aplica una transformación logarítmica"
   ]
  },
  {
   "cell_type": "code",
   "execution_count": 92,
   "metadata": {},
   "outputs": [
    {
     "data": {
      "text/plain": [
       "<AxesSubplot:xlabel='date'>"
      ]
     },
     "execution_count": 92,
     "metadata": {},
     "output_type": "execute_result"
    },
    {
     "data": {
      "image/png": "[encoded data removed]",
      "text/plain": [
       "<Figure size 432x288 with 1 Axes>"
      ]
     },
     "metadata": {
      "needs_background": "light"
     },
     "output_type": "display_data"
    }
   ],
   "source": []
  },
  {
   "cell_type": "markdown",
   "metadata": {},
   "source": [
    "## 5. Divide en train y test. Guarda 20 muestras para test."
   ]
  },
  {
   "cell_type": "code",
   "execution_count": 22,
   "metadata": {},
   "outputs": [
    {
     "name": "stdout",
     "output_type": "stream",
     "text": [
      "(124,)\n",
      "(20,)\n"
     ]
    }
   ],
   "source": [
    "# shapes de train y test"
   ]
  },
  {
   "cell_type": "markdown",
   "metadata": {},
   "source": [
    "## 6. Crea tu primer modelo ARIMA"
   ]
  },
  {
   "cell_type": "code",
   "execution_count": null,
   "metadata": {},
   "outputs": [],
   "source": [
    "from pmdarima.arima import auto_arima\n",
    "from sklearn.metrics import mean_absolute_error, mean_absolute_percentage_error"
   ]
  },
  {
   "cell_type": "code",
   "execution_count": 64,
   "metadata": {},
   "outputs": [
    {
     "data": {
      "text/plain": [
       "ARIMA(order=(4, 1, 2), scoring_args={}, suppress_warnings=True)"
      ]
     },
     "execution_count": 64,
     "metadata": {},
     "output_type": "execute_result"
    }
   ],
   "source": [
    "# módelo con art_p=1, start_q=1, max_d=3, max_p=5, max_q=5 y stationary=False"
   ]
  },
  {
   "cell_type": "code",
   "execution_count": 84,
   "metadata": {},
   "outputs": [
    {
     "data": {
      "text/plain": [
       "array([396.80138345, 395.79112516, 369.52313598, 387.27007933,\n",
       "       364.88245741, 381.961082  , 378.29898929, 376.23006892,\n",
       "       389.42713079, 372.28691084, 389.13738288, 375.00996104,\n",
       "       381.30256629, 382.37160442, 374.22919603, 387.11052311,\n",
       "       373.41134741, 385.05707763, 378.37808096, 378.93797036])"
      ]
     },
     "execution_count": 84,
     "metadata": {},
     "output_type": "execute_result"
    }
   ],
   "source": [
    "# predice 20 valores"
   ]
  },
  {
   "cell_type": "code",
   "execution_count": 31,
   "metadata": {},
   "outputs": [
    {
     "data": {
      "text/plain": [
       "array([6.04025471, 6.15697899, 6.30627529, 6.32614947, 6.13772705,\n",
       "       6.00881319, 5.89164421, 6.00388707, 6.03308622, 5.96870756,\n",
       "       6.03787092, 6.13339804, 6.15697899, 6.28226675, 6.43294009,\n",
       "       6.40687999, 6.23048145, 6.13339804, 5.96614674, 6.06842559])"
      ]
     },
     "execution_count": 31,
     "metadata": {},
     "output_type": "execute_result"
    }
   ],
   "source": [
    "# test.values"
   ]
  },
  {
   "cell_type": "code",
   "execution_count": 66,
   "metadata": {},
   "outputs": [
    {
     "name": "stdout",
     "output_type": "stream",
     "text": [
      "MAE 0.12657252410066783\n",
      "MAPE 0.020640169700076615\n"
     ]
    }
   ],
   "source": [
    "# MAE test\n",
    "# MAPE test"
   ]
  },
  {
   "cell_type": "code",
   "execution_count": 95,
   "metadata": {},
   "outputs": [
    {
     "data": {
      "text/plain": [
       "ARIMA(order=(2, 0, 0), scoring_args={}, seasonal_order=(0, 1, 1, 12),\n",
       "      suppress_warnings=True)"
      ]
     },
     "execution_count": 95,
     "metadata": {},
     "output_type": "execute_result"
    }
   ],
   "source": [
    "# reentrena el módelo incluyendo el argumento m=12"
   ]
  },
  {
   "cell_type": "code",
   "execution_count": 96,
   "metadata": {},
   "outputs": [
    {
     "name": "stdout",
     "output_type": "stream",
     "text": [
      "MAE 0.02702695363004102\n",
      "MAPE 0.004412233526458519\n"
     ]
    }
   ],
   "source": [
    "# vuelve a predecir 20 valores y obtén MAE test y MAPE test\n",
    "\n",
    "# compara con los valores previos"
   ]
  },
  {
   "cell_type": "markdown",
   "metadata": {},
   "source": [
    "## 7. Representa en una gráfica los datos de test y tus predicciones."
   ]
  },
  {
   "cell_type": "code",
   "execution_count": 97,
   "metadata": {},
   "outputs": [
    {
     "data": {
      "image/png": "[encoded data removed]",
      "text/plain": [
       "<Figure size 432x288 with 1 Axes>"
      ]
     },
     "metadata": {
      "needs_background": "light"
     },
     "output_type": "display_data"
    }
   ],
   "source": []
  },
  {
   "cell_type": "markdown",
   "metadata": {},
   "source": [
    "## 8. Prueba otros modelos, a ver qué performance presentan."
   ]
  },
  {
   "cell_type": "code",
   "execution_count": 98,
   "metadata": {},
   "outputs": [
    {
     "data": {
      "text/html": [
       "<div>\n",
       "<style scoped>\n",
       "    .dataframe tbody tr th:only-of-type {\n",
       "        vertical-align: middle;\n",
       "    }\n",
       "\n",
       "    .dataframe tbody tr th {\n",
       "        vertical-align: top;\n",
       "    }\n",
       "\n",
       "    .dataframe thead th {\n",
       "        text-align: right;\n",
       "    }\n",
       "</style>\n",
       "<table border=\"1\" class=\"dataframe\">\n",
       "  <thead>\n",
       "    <tr style=\"text-align: right;\">\n",
       "      <th></th>\n",
       "      <th>value</th>\n",
       "      <th>t-12</th>\n",
       "      <th>t-11</th>\n",
       "      <th>t-10</th>\n",
       "      <th>t-9</th>\n",
       "      <th>t-8</th>\n",
       "      <th>t-7</th>\n",
       "      <th>t-6</th>\n",
       "      <th>t-5</th>\n",
       "      <th>t-4</th>\n",
       "      <th>t-3</th>\n",
       "      <th>t-2</th>\n",
       "      <th>t-1</th>\n",
       "    </tr>\n",
       "    <tr>\n",
       "      <th>date</th>\n",
       "      <th></th>\n",
       "      <th></th>\n",
       "      <th></th>\n",
       "      <th></th>\n",
       "      <th></th>\n",
       "      <th></th>\n",
       "      <th></th>\n",
       "      <th></th>\n",
       "      <th></th>\n",
       "      <th></th>\n",
       "      <th></th>\n",
       "      <th></th>\n",
       "      <th></th>\n",
       "    </tr>\n",
       "  </thead>\n",
       "  <tbody>\n",
       "    <tr>\n",
       "      <th>1950-01-01</th>\n",
       "      <td>4.744932</td>\n",
       "      <td>4.718499</td>\n",
       "      <td>4.770685</td>\n",
       "      <td>4.882802</td>\n",
       "      <td>4.859812</td>\n",
       "      <td>4.795791</td>\n",
       "      <td>4.905275</td>\n",
       "      <td>4.997212</td>\n",
       "      <td>4.997212</td>\n",
       "      <td>4.912655</td>\n",
       "      <td>4.779123</td>\n",
       "      <td>4.644391</td>\n",
       "      <td>4.770685</td>\n",
       "    </tr>\n",
       "    <tr>\n",
       "      <th>1950-02-01</th>\n",
       "      <td>4.836282</td>\n",
       "      <td>4.770685</td>\n",
       "      <td>4.882802</td>\n",
       "      <td>4.859812</td>\n",
       "      <td>4.795791</td>\n",
       "      <td>4.905275</td>\n",
       "      <td>4.997212</td>\n",
       "      <td>4.997212</td>\n",
       "      <td>4.912655</td>\n",
       "      <td>4.779123</td>\n",
       "      <td>4.644391</td>\n",
       "      <td>4.770685</td>\n",
       "      <td>4.744932</td>\n",
       "    </tr>\n",
       "    <tr>\n",
       "      <th>1950-03-01</th>\n",
       "      <td>4.948760</td>\n",
       "      <td>4.882802</td>\n",
       "      <td>4.859812</td>\n",
       "      <td>4.795791</td>\n",
       "      <td>4.905275</td>\n",
       "      <td>4.997212</td>\n",
       "      <td>4.997212</td>\n",
       "      <td>4.912655</td>\n",
       "      <td>4.779123</td>\n",
       "      <td>4.644391</td>\n",
       "      <td>4.770685</td>\n",
       "      <td>4.744932</td>\n",
       "      <td>4.836282</td>\n",
       "    </tr>\n",
       "    <tr>\n",
       "      <th>1950-04-01</th>\n",
       "      <td>4.905275</td>\n",
       "      <td>4.859812</td>\n",
       "      <td>4.795791</td>\n",
       "      <td>4.905275</td>\n",
       "      <td>4.997212</td>\n",
       "      <td>4.997212</td>\n",
       "      <td>4.912655</td>\n",
       "      <td>4.779123</td>\n",
       "      <td>4.644391</td>\n",
       "      <td>4.770685</td>\n",
       "      <td>4.744932</td>\n",
       "      <td>4.836282</td>\n",
       "      <td>4.948760</td>\n",
       "    </tr>\n",
       "    <tr>\n",
       "      <th>1950-05-01</th>\n",
       "      <td>4.828314</td>\n",
       "      <td>4.795791</td>\n",
       "      <td>4.905275</td>\n",
       "      <td>4.997212</td>\n",
       "      <td>4.997212</td>\n",
       "      <td>4.912655</td>\n",
       "      <td>4.779123</td>\n",
       "      <td>4.644391</td>\n",
       "      <td>4.770685</td>\n",
       "      <td>4.744932</td>\n",
       "      <td>4.836282</td>\n",
       "      <td>4.948760</td>\n",
       "      <td>4.905275</td>\n",
       "    </tr>\n",
       "    <tr>\n",
       "      <th>...</th>\n",
       "      <td>...</td>\n",
       "      <td>...</td>\n",
       "      <td>...</td>\n",
       "      <td>...</td>\n",
       "      <td>...</td>\n",
       "      <td>...</td>\n",
       "      <td>...</td>\n",
       "      <td>...</td>\n",
       "      <td>...</td>\n",
       "      <td>...</td>\n",
       "      <td>...</td>\n",
       "      <td>...</td>\n",
       "      <td>...</td>\n",
       "    </tr>\n",
       "    <tr>\n",
       "      <th>1960-08-01</th>\n",
       "      <td>6.406880</td>\n",
       "      <td>6.326149</td>\n",
       "      <td>6.137727</td>\n",
       "      <td>6.008813</td>\n",
       "      <td>5.891644</td>\n",
       "      <td>6.003887</td>\n",
       "      <td>6.033086</td>\n",
       "      <td>5.968708</td>\n",
       "      <td>6.037871</td>\n",
       "      <td>6.133398</td>\n",
       "      <td>6.156979</td>\n",
       "      <td>6.282267</td>\n",
       "      <td>6.432940</td>\n",
       "    </tr>\n",
       "    <tr>\n",
       "      <th>1960-09-01</th>\n",
       "      <td>6.230481</td>\n",
       "      <td>6.137727</td>\n",
       "      <td>6.008813</td>\n",
       "      <td>5.891644</td>\n",
       "      <td>6.003887</td>\n",
       "      <td>6.033086</td>\n",
       "      <td>5.968708</td>\n",
       "      <td>6.037871</td>\n",
       "      <td>6.133398</td>\n",
       "      <td>6.156979</td>\n",
       "      <td>6.282267</td>\n",
       "      <td>6.432940</td>\n",
       "      <td>6.406880</td>\n",
       "    </tr>\n",
       "    <tr>\n",
       "      <th>1960-10-01</th>\n",
       "      <td>6.133398</td>\n",
       "      <td>6.008813</td>\n",
       "      <td>5.891644</td>\n",
       "      <td>6.003887</td>\n",
       "      <td>6.033086</td>\n",
       "      <td>5.968708</td>\n",
       "      <td>6.037871</td>\n",
       "      <td>6.133398</td>\n",
       "      <td>6.156979</td>\n",
       "      <td>6.282267</td>\n",
       "      <td>6.432940</td>\n",
       "      <td>6.406880</td>\n",
       "      <td>6.230481</td>\n",
       "    </tr>\n",
       "    <tr>\n",
       "      <th>1960-11-01</th>\n",
       "      <td>5.966147</td>\n",
       "      <td>5.891644</td>\n",
       "      <td>6.003887</td>\n",
       "      <td>6.033086</td>\n",
       "      <td>5.968708</td>\n",
       "      <td>6.037871</td>\n",
       "      <td>6.133398</td>\n",
       "      <td>6.156979</td>\n",
       "      <td>6.282267</td>\n",
       "      <td>6.432940</td>\n",
       "      <td>6.406880</td>\n",
       "      <td>6.230481</td>\n",
       "      <td>6.133398</td>\n",
       "    </tr>\n",
       "    <tr>\n",
       "      <th>1960-12-01</th>\n",
       "      <td>6.068426</td>\n",
       "      <td>6.003887</td>\n",
       "      <td>6.033086</td>\n",
       "      <td>5.968708</td>\n",
       "      <td>6.037871</td>\n",
       "      <td>6.133398</td>\n",
       "      <td>6.156979</td>\n",
       "      <td>6.282267</td>\n",
       "      <td>6.432940</td>\n",
       "      <td>6.406880</td>\n",
       "      <td>6.230481</td>\n",
       "      <td>6.133398</td>\n",
       "      <td>5.966147</td>\n",
       "    </tr>\n",
       "  </tbody>\n",
       "</table>\n",
       "<p>132 rows × 13 columns</p>\n",
       "</div>"
      ],
      "text/plain": [
       "               value      t-12      t-11      t-10       t-9       t-8  \\\n",
       "date                                                                     \n",
       "1950-01-01  4.744932  4.718499  4.770685  4.882802  4.859812  4.795791   \n",
       "1950-02-01  4.836282  4.770685  4.882802  4.859812  4.795791  4.905275   \n",
       "1950-03-01  4.948760  4.882802  4.859812  4.795791  4.905275  4.997212   \n",
       "1950-04-01  4.905275  4.859812  4.795791  4.905275  4.997212  4.997212   \n",
       "1950-05-01  4.828314  4.795791  4.905275  4.997212  4.997212  4.912655   \n",
       "...              ...       ...       ...       ...       ...       ...   \n",
       "1960-08-01  6.406880  6.326149  6.137727  6.008813  5.891644  6.003887   \n",
       "1960-09-01  6.230481  6.137727  6.008813  5.891644  6.003887  6.033086   \n",
       "1960-10-01  6.133398  6.008813  5.891644  6.003887  6.033086  5.968708   \n",
       "1960-11-01  5.966147  5.891644  6.003887  6.033086  5.968708  6.037871   \n",
       "1960-12-01  6.068426  6.003887  6.033086  5.968708  6.037871  6.133398   \n",
       "\n",
       "                 t-7       t-6       t-5       t-4       t-3       t-2  \\\n",
       "date                                                                     \n",
       "1950-01-01  4.905275  4.997212  4.997212  4.912655  4.779123  4.644391   \n",
       "1950-02-01  4.997212  4.997212  4.912655  4.779123  4.644391  4.770685   \n",
       "1950-03-01  4.997212  4.912655  4.779123  4.644391  4.770685  4.744932   \n",
       "1950-04-01  4.912655  4.779123  4.644391  4.770685  4.744932  4.836282   \n",
       "1950-05-01  4.779123  4.644391  4.770685  4.744932  4.836282  4.948760   \n",
       "...              ...       ...       ...       ...       ...       ...   \n",
       "1960-08-01  6.033086  5.968708  6.037871  6.133398  6.156979  6.282267   \n",
       "1960-09-01  5.968708  6.037871  6.133398  6.156979  6.282267  6.432940   \n",
       "1960-10-01  6.037871  6.133398  6.156979  6.282267  6.432940  6.406880   \n",
       "1960-11-01  6.133398  6.156979  6.282267  6.432940  6.406880  6.230481   \n",
       "1960-12-01  6.156979  6.282267  6.432940  6.406880  6.230481  6.133398   \n",
       "\n",
       "                 t-1  \n",
       "date                  \n",
       "1950-01-01  4.770685  \n",
       "1950-02-01  4.744932  \n",
       "1950-03-01  4.836282  \n",
       "1950-04-01  4.948760  \n",
       "1950-05-01  4.905275  \n",
       "...              ...  \n",
       "1960-08-01  6.432940  \n",
       "1960-09-01  6.406880  \n",
       "1960-10-01  6.230481  \n",
       "1960-11-01  6.133398  \n",
       "1960-12-01  5.966147  \n",
       "\n",
       "[132 rows x 13 columns]"
      ]
     },
     "execution_count": 98,
     "metadata": {},
     "output_type": "execute_result"
    }
   ],
   "source": [
    "# Transforma el df para poder usarlo con otros módelos"
   ]
  },
  {
   "cell_type": "code",
   "execution_count": null,
   "metadata": {},
   "outputs": [
    {
     "name": "stdout",
     "output_type": "stream",
     "text": [
      "(112, 12)\n",
      "(20, 12)\n",
      "(112,)\n",
      "(20,)\n"
     ]
    }
   ],
   "source": [
    "# Divide en X e y, en train/test y muestra los shapes obtenidos"
   ]
  },
  {
   "cell_type": "code",
   "execution_count": 107,
   "metadata": {},
   "outputs": [
    {
     "data": {
      "text/html": [
       "<div>\n",
       "<style scoped>\n",
       "    .dataframe tbody tr th:only-of-type {\n",
       "        vertical-align: middle;\n",
       "    }\n",
       "\n",
       "    .dataframe tbody tr th {\n",
       "        vertical-align: top;\n",
       "    }\n",
       "\n",
       "    .dataframe thead th {\n",
       "        text-align: right;\n",
       "    }\n",
       "</style>\n",
       "<table border=\"1\" class=\"dataframe\">\n",
       "  <thead>\n",
       "    <tr style=\"text-align: right;\">\n",
       "      <th></th>\n",
       "      <th>t-12</th>\n",
       "      <th>t-11</th>\n",
       "      <th>t-10</th>\n",
       "      <th>t-9</th>\n",
       "      <th>t-8</th>\n",
       "      <th>t-7</th>\n",
       "      <th>t-6</th>\n",
       "      <th>t-5</th>\n",
       "      <th>t-4</th>\n",
       "      <th>t-3</th>\n",
       "      <th>t-2</th>\n",
       "      <th>t-1</th>\n",
       "    </tr>\n",
       "    <tr>\n",
       "      <th>date</th>\n",
       "      <th></th>\n",
       "      <th></th>\n",
       "      <th></th>\n",
       "      <th></th>\n",
       "      <th></th>\n",
       "      <th></th>\n",
       "      <th></th>\n",
       "      <th></th>\n",
       "      <th></th>\n",
       "      <th></th>\n",
       "      <th></th>\n",
       "      <th></th>\n",
       "    </tr>\n",
       "  </thead>\n",
       "  <tbody>\n",
       "    <tr>\n",
       "      <th>1959-05-01</th>\n",
       "      <td>5.894403</td>\n",
       "      <td>6.075346</td>\n",
       "      <td>6.196444</td>\n",
       "      <td>6.224558</td>\n",
       "      <td>6.001415</td>\n",
       "      <td>5.883322</td>\n",
       "      <td>5.736572</td>\n",
       "      <td>5.820083</td>\n",
       "      <td>5.886104</td>\n",
       "      <td>5.834811</td>\n",
       "      <td>6.006353</td>\n",
       "      <td>5.981414</td>\n",
       "    </tr>\n",
       "    <tr>\n",
       "      <th>1959-06-01</th>\n",
       "      <td>6.075346</td>\n",
       "      <td>6.196444</td>\n",
       "      <td>6.224558</td>\n",
       "      <td>6.001415</td>\n",
       "      <td>5.883322</td>\n",
       "      <td>5.736572</td>\n",
       "      <td>5.820083</td>\n",
       "      <td>5.886104</td>\n",
       "      <td>5.834811</td>\n",
       "      <td>6.006353</td>\n",
       "      <td>5.981414</td>\n",
       "      <td>6.040255</td>\n",
       "    </tr>\n",
       "    <tr>\n",
       "      <th>1959-07-01</th>\n",
       "      <td>6.196444</td>\n",
       "      <td>6.224558</td>\n",
       "      <td>6.001415</td>\n",
       "      <td>5.883322</td>\n",
       "      <td>5.736572</td>\n",
       "      <td>5.820083</td>\n",
       "      <td>5.886104</td>\n",
       "      <td>5.834811</td>\n",
       "      <td>6.006353</td>\n",
       "      <td>5.981414</td>\n",
       "      <td>6.040255</td>\n",
       "      <td>6.156979</td>\n",
       "    </tr>\n",
       "    <tr>\n",
       "      <th>1959-08-01</th>\n",
       "      <td>6.224558</td>\n",
       "      <td>6.001415</td>\n",
       "      <td>5.883322</td>\n",
       "      <td>5.736572</td>\n",
       "      <td>5.820083</td>\n",
       "      <td>5.886104</td>\n",
       "      <td>5.834811</td>\n",
       "      <td>6.006353</td>\n",
       "      <td>5.981414</td>\n",
       "      <td>6.040255</td>\n",
       "      <td>6.156979</td>\n",
       "      <td>6.306275</td>\n",
       "    </tr>\n",
       "    <tr>\n",
       "      <th>1959-09-01</th>\n",
       "      <td>6.001415</td>\n",
       "      <td>5.883322</td>\n",
       "      <td>5.736572</td>\n",
       "      <td>5.820083</td>\n",
       "      <td>5.886104</td>\n",
       "      <td>5.834811</td>\n",
       "      <td>6.006353</td>\n",
       "      <td>5.981414</td>\n",
       "      <td>6.040255</td>\n",
       "      <td>6.156979</td>\n",
       "      <td>6.306275</td>\n",
       "      <td>6.326149</td>\n",
       "    </tr>\n",
       "    <tr>\n",
       "      <th>1959-10-01</th>\n",
       "      <td>5.883322</td>\n",
       "      <td>5.736572</td>\n",
       "      <td>5.820083</td>\n",
       "      <td>5.886104</td>\n",
       "      <td>5.834811</td>\n",
       "      <td>6.006353</td>\n",
       "      <td>5.981414</td>\n",
       "      <td>6.040255</td>\n",
       "      <td>6.156979</td>\n",
       "      <td>6.306275</td>\n",
       "      <td>6.326149</td>\n",
       "      <td>6.137727</td>\n",
       "    </tr>\n",
       "    <tr>\n",
       "      <th>1959-11-01</th>\n",
       "      <td>5.736572</td>\n",
       "      <td>5.820083</td>\n",
       "      <td>5.886104</td>\n",
       "      <td>5.834811</td>\n",
       "      <td>6.006353</td>\n",
       "      <td>5.981414</td>\n",
       "      <td>6.040255</td>\n",
       "      <td>6.156979</td>\n",
       "      <td>6.306275</td>\n",
       "      <td>6.326149</td>\n",
       "      <td>6.137727</td>\n",
       "      <td>6.008813</td>\n",
       "    </tr>\n",
       "    <tr>\n",
       "      <th>1959-12-01</th>\n",
       "      <td>5.820083</td>\n",
       "      <td>5.886104</td>\n",
       "      <td>5.834811</td>\n",
       "      <td>6.006353</td>\n",
       "      <td>5.981414</td>\n",
       "      <td>6.040255</td>\n",
       "      <td>6.156979</td>\n",
       "      <td>6.306275</td>\n",
       "      <td>6.326149</td>\n",
       "      <td>6.137727</td>\n",
       "      <td>6.008813</td>\n",
       "      <td>5.891644</td>\n",
       "    </tr>\n",
       "    <tr>\n",
       "      <th>1960-01-01</th>\n",
       "      <td>5.886104</td>\n",
       "      <td>5.834811</td>\n",
       "      <td>6.006353</td>\n",
       "      <td>5.981414</td>\n",
       "      <td>6.040255</td>\n",
       "      <td>6.156979</td>\n",
       "      <td>6.306275</td>\n",
       "      <td>6.326149</td>\n",
       "      <td>6.137727</td>\n",
       "      <td>6.008813</td>\n",
       "      <td>5.891644</td>\n",
       "      <td>6.003887</td>\n",
       "    </tr>\n",
       "    <tr>\n",
       "      <th>1960-02-01</th>\n",
       "      <td>5.834811</td>\n",
       "      <td>6.006353</td>\n",
       "      <td>5.981414</td>\n",
       "      <td>6.040255</td>\n",
       "      <td>6.156979</td>\n",
       "      <td>6.306275</td>\n",
       "      <td>6.326149</td>\n",
       "      <td>6.137727</td>\n",
       "      <td>6.008813</td>\n",
       "      <td>5.891644</td>\n",
       "      <td>6.003887</td>\n",
       "      <td>6.033086</td>\n",
       "    </tr>\n",
       "    <tr>\n",
       "      <th>1960-03-01</th>\n",
       "      <td>6.006353</td>\n",
       "      <td>5.981414</td>\n",
       "      <td>6.040255</td>\n",
       "      <td>6.156979</td>\n",
       "      <td>6.306275</td>\n",
       "      <td>6.326149</td>\n",
       "      <td>6.137727</td>\n",
       "      <td>6.008813</td>\n",
       "      <td>5.891644</td>\n",
       "      <td>6.003887</td>\n",
       "      <td>6.033086</td>\n",
       "      <td>5.968708</td>\n",
       "    </tr>\n",
       "    <tr>\n",
       "      <th>1960-04-01</th>\n",
       "      <td>5.981414</td>\n",
       "      <td>6.040255</td>\n",
       "      <td>6.156979</td>\n",
       "      <td>6.306275</td>\n",
       "      <td>6.326149</td>\n",
       "      <td>6.137727</td>\n",
       "      <td>6.008813</td>\n",
       "      <td>5.891644</td>\n",
       "      <td>6.003887</td>\n",
       "      <td>6.033086</td>\n",
       "      <td>5.968708</td>\n",
       "      <td>6.037871</td>\n",
       "    </tr>\n",
       "    <tr>\n",
       "      <th>1960-05-01</th>\n",
       "      <td>6.040255</td>\n",
       "      <td>6.156979</td>\n",
       "      <td>6.306275</td>\n",
       "      <td>6.326149</td>\n",
       "      <td>6.137727</td>\n",
       "      <td>6.008813</td>\n",
       "      <td>5.891644</td>\n",
       "      <td>6.003887</td>\n",
       "      <td>6.033086</td>\n",
       "      <td>5.968708</td>\n",
       "      <td>6.037871</td>\n",
       "      <td>6.133398</td>\n",
       "    </tr>\n",
       "    <tr>\n",
       "      <th>1960-06-01</th>\n",
       "      <td>6.156979</td>\n",
       "      <td>6.306275</td>\n",
       "      <td>6.326149</td>\n",
       "      <td>6.137727</td>\n",
       "      <td>6.008813</td>\n",
       "      <td>5.891644</td>\n",
       "      <td>6.003887</td>\n",
       "      <td>6.033086</td>\n",
       "      <td>5.968708</td>\n",
       "      <td>6.037871</td>\n",
       "      <td>6.133398</td>\n",
       "      <td>6.156979</td>\n",
       "    </tr>\n",
       "    <tr>\n",
       "      <th>1960-07-01</th>\n",
       "      <td>6.306275</td>\n",
       "      <td>6.326149</td>\n",
       "      <td>6.137727</td>\n",
       "      <td>6.008813</td>\n",
       "      <td>5.891644</td>\n",
       "      <td>6.003887</td>\n",
       "      <td>6.033086</td>\n",
       "      <td>5.968708</td>\n",
       "      <td>6.037871</td>\n",
       "      <td>6.133398</td>\n",
       "      <td>6.156979</td>\n",
       "      <td>6.282267</td>\n",
       "    </tr>\n",
       "    <tr>\n",
       "      <th>1960-08-01</th>\n",
       "      <td>6.326149</td>\n",
       "      <td>6.137727</td>\n",
       "      <td>6.008813</td>\n",
       "      <td>5.891644</td>\n",
       "      <td>6.003887</td>\n",
       "      <td>6.033086</td>\n",
       "      <td>5.968708</td>\n",
       "      <td>6.037871</td>\n",
       "      <td>6.133398</td>\n",
       "      <td>6.156979</td>\n",
       "      <td>6.282267</td>\n",
       "      <td>6.432940</td>\n",
       "    </tr>\n",
       "    <tr>\n",
       "      <th>1960-09-01</th>\n",
       "      <td>6.137727</td>\n",
       "      <td>6.008813</td>\n",
       "      <td>5.891644</td>\n",
       "      <td>6.003887</td>\n",
       "      <td>6.033086</td>\n",
       "      <td>5.968708</td>\n",
       "      <td>6.037871</td>\n",
       "      <td>6.133398</td>\n",
       "      <td>6.156979</td>\n",
       "      <td>6.282267</td>\n",
       "      <td>6.432940</td>\n",
       "      <td>6.406880</td>\n",
       "    </tr>\n",
       "    <tr>\n",
       "      <th>1960-10-01</th>\n",
       "      <td>6.008813</td>\n",
       "      <td>5.891644</td>\n",
       "      <td>6.003887</td>\n",
       "      <td>6.033086</td>\n",
       "      <td>5.968708</td>\n",
       "      <td>6.037871</td>\n",
       "      <td>6.133398</td>\n",
       "      <td>6.156979</td>\n",
       "      <td>6.282267</td>\n",
       "      <td>6.432940</td>\n",
       "      <td>6.406880</td>\n",
       "      <td>6.230481</td>\n",
       "    </tr>\n",
       "    <tr>\n",
       "      <th>1960-11-01</th>\n",
       "      <td>5.891644</td>\n",
       "      <td>6.003887</td>\n",
       "      <td>6.033086</td>\n",
       "      <td>5.968708</td>\n",
       "      <td>6.037871</td>\n",
       "      <td>6.133398</td>\n",
       "      <td>6.156979</td>\n",
       "      <td>6.282267</td>\n",
       "      <td>6.432940</td>\n",
       "      <td>6.406880</td>\n",
       "      <td>6.230481</td>\n",
       "      <td>6.133398</td>\n",
       "    </tr>\n",
       "    <tr>\n",
       "      <th>1960-12-01</th>\n",
       "      <td>6.003887</td>\n",
       "      <td>6.033086</td>\n",
       "      <td>5.968708</td>\n",
       "      <td>6.037871</td>\n",
       "      <td>6.133398</td>\n",
       "      <td>6.156979</td>\n",
       "      <td>6.282267</td>\n",
       "      <td>6.432940</td>\n",
       "      <td>6.406880</td>\n",
       "      <td>6.230481</td>\n",
       "      <td>6.133398</td>\n",
       "      <td>5.966147</td>\n",
       "    </tr>\n",
       "  </tbody>\n",
       "</table>\n",
       "</div>"
      ],
      "text/plain": [
       "                t-12      t-11      t-10       t-9       t-8       t-7  \\\n",
       "date                                                                     \n",
       "1959-05-01  5.894403  6.075346  6.196444  6.224558  6.001415  5.883322   \n",
       "1959-06-01  6.075346  6.196444  6.224558  6.001415  5.883322  5.736572   \n",
       "1959-07-01  6.196444  6.224558  6.001415  5.883322  5.736572  5.820083   \n",
       "1959-08-01  6.224558  6.001415  5.883322  5.736572  5.820083  5.886104   \n",
       "1959-09-01  6.001415  5.883322  5.736572  5.820083  5.886104  5.834811   \n",
       "1959-10-01  5.883322  5.736572  5.820083  5.886104  5.834811  6.006353   \n",
       "1959-11-01  5.736572  5.820083  5.886104  5.834811  6.006353  5.981414   \n",
       "1959-12-01  5.820083  5.886104  5.834811  6.006353  5.981414  6.040255   \n",
       "1960-01-01  5.886104  5.834811  6.006353  5.981414  6.040255  6.156979   \n",
       "1960-02-01  5.834811  6.006353  5.981414  6.040255  6.156979  6.306275   \n",
       "1960-03-01  6.006353  5.981414  6.040255  6.156979  6.306275  6.326149   \n",
       "1960-04-01  5.981414  6.040255  6.156979  6.306275  6.326149  6.137727   \n",
       "1960-05-01  6.040255  6.156979  6.306275  6.326149  6.137727  6.008813   \n",
       "1960-06-01  6.156979  6.306275  6.326149  6.137727  6.008813  5.891644   \n",
       "1960-07-01  6.306275  6.326149  6.137727  6.008813  5.891644  6.003887   \n",
       "1960-08-01  6.326149  6.137727  6.008813  5.891644  6.003887  6.033086   \n",
       "1960-09-01  6.137727  6.008813  5.891644  6.003887  6.033086  5.968708   \n",
       "1960-10-01  6.008813  5.891644  6.003887  6.033086  5.968708  6.037871   \n",
       "1960-11-01  5.891644  6.003887  6.033086  5.968708  6.037871  6.133398   \n",
       "1960-12-01  6.003887  6.033086  5.968708  6.037871  6.133398  6.156979   \n",
       "\n",
       "                 t-6       t-5       t-4       t-3       t-2       t-1  \n",
       "date                                                                    \n",
       "1959-05-01  5.736572  5.820083  5.886104  5.834811  6.006353  5.981414  \n",
       "1959-06-01  5.820083  5.886104  5.834811  6.006353  5.981414  6.040255  \n",
       "1959-07-01  5.886104  5.834811  6.006353  5.981414  6.040255  6.156979  \n",
       "1959-08-01  5.834811  6.006353  5.981414  6.040255  6.156979  6.306275  \n",
       "1959-09-01  6.006353  5.981414  6.040255  6.156979  6.306275  6.326149  \n",
       "1959-10-01  5.981414  6.040255  6.156979  6.306275  6.326149  6.137727  \n",
       "1959-11-01  6.040255  6.156979  6.306275  6.326149  6.137727  6.008813  \n",
       "1959-12-01  6.156979  6.306275  6.326149  6.137727  6.008813  5.891644  \n",
       "1960-01-01  6.306275  6.326149  6.137727  6.008813  5.891644  6.003887  \n",
       "1960-02-01  6.326149  6.137727  6.008813  5.891644  6.003887  6.033086  \n",
       "1960-03-01  6.137727  6.008813  5.891644  6.003887  6.033086  5.968708  \n",
       "1960-04-01  6.008813  5.891644  6.003887  6.033086  5.968708  6.037871  \n",
       "1960-05-01  5.891644  6.003887  6.033086  5.968708  6.037871  6.133398  \n",
       "1960-06-01  6.003887  6.033086  5.968708  6.037871  6.133398  6.156979  \n",
       "1960-07-01  6.033086  5.968708  6.037871  6.133398  6.156979  6.282267  \n",
       "1960-08-01  5.968708  6.037871  6.133398  6.156979  6.282267  6.432940  \n",
       "1960-09-01  6.037871  6.133398  6.156979  6.282267  6.432940  6.406880  \n",
       "1960-10-01  6.133398  6.156979  6.282267  6.432940  6.406880  6.230481  \n",
       "1960-11-01  6.156979  6.282267  6.432940  6.406880  6.230481  6.133398  \n",
       "1960-12-01  6.282267  6.432940  6.406880  6.230481  6.133398  5.966147  "
      ]
     },
     "execution_count": 107,
     "metadata": {},
     "output_type": "execute_result"
    }
   ],
   "source": [
    "X_test"
   ]
  },
  {
   "cell_type": "code",
   "execution_count": 106,
   "metadata": {},
   "outputs": [
    {
     "data": {
      "text/plain": [
       "date\n",
       "1959-05-01    6.040255\n",
       "1959-06-01    6.156979\n",
       "1959-07-01    6.306275\n",
       "1959-08-01    6.326149\n",
       "1959-09-01    6.137727\n",
       "1959-10-01    6.008813\n",
       "1959-11-01    5.891644\n",
       "1959-12-01    6.003887\n",
       "1960-01-01    6.033086\n",
       "1960-02-01    5.968708\n",
       "1960-03-01    6.037871\n",
       "1960-04-01    6.133398\n",
       "1960-05-01    6.156979\n",
       "1960-06-01    6.282267\n",
       "1960-07-01    6.432940\n",
       "1960-08-01    6.406880\n",
       "1960-09-01    6.230481\n",
       "1960-10-01    6.133398\n",
       "1960-11-01    5.966147\n",
       "1960-12-01    6.068426\n",
       "Name: value, dtype: float64"
      ]
     },
     "execution_count": 106,
     "metadata": {},
     "output_type": "execute_result"
    }
   ],
   "source": [
    "y_test"
   ]
  },
  {
   "cell_type": "code",
   "execution_count": 102,
   "metadata": {},
   "outputs": [],
   "source": [
    "from sklearn.ensemble import RandomForestRegressor"
   ]
  },
  {
   "cell_type": "code",
   "execution_count": 104,
   "metadata": {},
   "outputs": [
    {
     "data": {
      "text/plain": [
       "0.013769863496171658"
      ]
     },
     "execution_count": 104,
     "metadata": {},
     "output_type": "execute_result"
    }
   ],
   "source": [
    "# entrena el random forest\n",
    "\n",
    "# muestra el mean_absolute_percentage_error de test"
   ]
  },
  {
   "cell_type": "code",
   "execution_count": 109,
   "metadata": {},
   "outputs": [
    {
     "data": {
      "image/png": "[encoded data removed]",
      "text/plain": [
       "<Figure size 432x288 with 1 Axes>"
      ]
     },
     "metadata": {
      "needs_background": "light"
     },
     "output_type": "display_data"
    }
   ],
   "source": []
  },
  {
   "cell_type": "code",
   "execution_count": 111,
   "metadata": {},
   "outputs": [
    {
     "data": {
      "text/plain": [
       "array([0.89574548, 0.01420781, 0.00129769, 0.00172738, 0.00228326,\n",
       "       0.00155955, 0.00120087, 0.00176066, 0.00192478, 0.00514753,\n",
       "       0.00241009, 0.07073491])"
      ]
     },
     "execution_count": 111,
     "metadata": {},
     "output_type": "execute_result"
    }
   ],
   "source": [
    "# feature_importances_"
   ]
  },
  {
   "cell_type": "markdown",
   "metadata": {},
   "source": [
    "Prueba otro enfoque, esta vez que la fecha NO sea el índice"
   ]
  },
  {
   "cell_type": "code",
   "execution_count": 114,
   "metadata": {},
   "outputs": [
    {
     "data": {
      "text/html": [
       "<div>\n",
       "<style scoped>\n",
       "    .dataframe tbody tr th:only-of-type {\n",
       "        vertical-align: middle;\n",
       "    }\n",
       "\n",
       "    .dataframe tbody tr th {\n",
       "        vertical-align: top;\n",
       "    }\n",
       "\n",
       "    .dataframe thead th {\n",
       "        text-align: right;\n",
       "    }\n",
       "</style>\n",
       "<table border=\"1\" class=\"dataframe\">\n",
       "  <thead>\n",
       "    <tr style=\"text-align: right;\">\n",
       "      <th></th>\n",
       "      <th>date</th>\n",
       "      <th>value</th>\n",
       "      <th>t-1</th>\n",
       "      <th>t-11</th>\n",
       "      <th>t-12</th>\n",
       "      <th>t-13</th>\n",
       "    </tr>\n",
       "  </thead>\n",
       "  <tbody>\n",
       "    <tr>\n",
       "      <th>0</th>\n",
       "      <td>1949-01-01</td>\n",
       "      <td>4.718499</td>\n",
       "      <td>NaN</td>\n",
       "      <td>NaN</td>\n",
       "      <td>NaN</td>\n",
       "      <td>NaN</td>\n",
       "    </tr>\n",
       "    <tr>\n",
       "      <th>1</th>\n",
       "      <td>1949-02-01</td>\n",
       "      <td>4.770685</td>\n",
       "      <td>4.718499</td>\n",
       "      <td>NaN</td>\n",
       "      <td>NaN</td>\n",
       "      <td>NaN</td>\n",
       "    </tr>\n",
       "    <tr>\n",
       "      <th>2</th>\n",
       "      <td>1949-03-01</td>\n",
       "      <td>4.882802</td>\n",
       "      <td>4.770685</td>\n",
       "      <td>NaN</td>\n",
       "      <td>NaN</td>\n",
       "      <td>NaN</td>\n",
       "    </tr>\n",
       "    <tr>\n",
       "      <th>3</th>\n",
       "      <td>1949-04-01</td>\n",
       "      <td>4.859812</td>\n",
       "      <td>4.882802</td>\n",
       "      <td>NaN</td>\n",
       "      <td>NaN</td>\n",
       "      <td>NaN</td>\n",
       "    </tr>\n",
       "    <tr>\n",
       "      <th>4</th>\n",
       "      <td>1949-05-01</td>\n",
       "      <td>4.795791</td>\n",
       "      <td>4.859812</td>\n",
       "      <td>NaN</td>\n",
       "      <td>NaN</td>\n",
       "      <td>NaN</td>\n",
       "    </tr>\n",
       "    <tr>\n",
       "      <th>...</th>\n",
       "      <td>...</td>\n",
       "      <td>...</td>\n",
       "      <td>...</td>\n",
       "      <td>...</td>\n",
       "      <td>...</td>\n",
       "      <td>...</td>\n",
       "    </tr>\n",
       "    <tr>\n",
       "      <th>139</th>\n",
       "      <td>1960-08-01</td>\n",
       "      <td>6.406880</td>\n",
       "      <td>6.432940</td>\n",
       "      <td>6.137727</td>\n",
       "      <td>6.326149</td>\n",
       "      <td>6.306275</td>\n",
       "    </tr>\n",
       "    <tr>\n",
       "      <th>140</th>\n",
       "      <td>1960-09-01</td>\n",
       "      <td>6.230481</td>\n",
       "      <td>6.406880</td>\n",
       "      <td>6.008813</td>\n",
       "      <td>6.137727</td>\n",
       "      <td>6.326149</td>\n",
       "    </tr>\n",
       "    <tr>\n",
       "      <th>141</th>\n",
       "      <td>1960-10-01</td>\n",
       "      <td>6.133398</td>\n",
       "      <td>6.230481</td>\n",
       "      <td>5.891644</td>\n",
       "      <td>6.008813</td>\n",
       "      <td>6.137727</td>\n",
       "    </tr>\n",
       "    <tr>\n",
       "      <th>142</th>\n",
       "      <td>1960-11-01</td>\n",
       "      <td>5.966147</td>\n",
       "      <td>6.133398</td>\n",
       "      <td>6.003887</td>\n",
       "      <td>5.891644</td>\n",
       "      <td>6.008813</td>\n",
       "    </tr>\n",
       "    <tr>\n",
       "      <th>143</th>\n",
       "      <td>1960-12-01</td>\n",
       "      <td>6.068426</td>\n",
       "      <td>5.966147</td>\n",
       "      <td>6.033086</td>\n",
       "      <td>6.003887</td>\n",
       "      <td>5.891644</td>\n",
       "    </tr>\n",
       "  </tbody>\n",
       "</table>\n",
       "<p>144 rows × 6 columns</p>\n",
       "</div>"
      ],
      "text/plain": [
       "           date     value       t-1      t-11      t-12      t-13\n",
       "0    1949-01-01  4.718499       NaN       NaN       NaN       NaN\n",
       "1    1949-02-01  4.770685  4.718499       NaN       NaN       NaN\n",
       "2    1949-03-01  4.882802  4.770685       NaN       NaN       NaN\n",
       "3    1949-04-01  4.859812  4.882802       NaN       NaN       NaN\n",
       "4    1949-05-01  4.795791  4.859812       NaN       NaN       NaN\n",
       "..          ...       ...       ...       ...       ...       ...\n",
       "139  1960-08-01  6.406880  6.432940  6.137727  6.326149  6.306275\n",
       "140  1960-09-01  6.230481  6.406880  6.008813  6.137727  6.326149\n",
       "141  1960-10-01  6.133398  6.230481  5.891644  6.008813  6.137727\n",
       "142  1960-11-01  5.966147  6.133398  6.003887  5.891644  6.008813\n",
       "143  1960-12-01  6.068426  5.966147  6.033086  6.003887  5.891644\n",
       "\n",
       "[144 rows x 6 columns]"
      ]
     },
     "execution_count": 114,
     "metadata": {},
     "output_type": "execute_result"
    }
   ],
   "source": [
    "# Crea nuevas columnas con shifts de 1, 11, 12, 13"
   ]
  },
  {
   "cell_type": "code",
   "execution_count": 120,
   "metadata": {},
   "outputs": [
    {
     "name": "stdout",
     "output_type": "stream",
     "text": [
      "(112, 4)\n",
      "(19, 4)\n",
      "(112,)\n",
      "(19,)\n"
     ]
    }
   ],
   "source": [
    "# Divide en X e y, en train/test y muestra los shapes obtenidos"
   ]
  },
  {
   "cell_type": "code",
   "execution_count": 128,
   "metadata": {},
   "outputs": [
    {
     "name": "stdout",
     "output_type": "stream",
     "text": [
      "0.01174169752011279\n",
      "0.0035352065840446485\n"
     ]
    }
   ],
   "source": [
    "# entrena el random forest\n",
    "\n",
    "# muestra el mean_absolute_percentage_error de test y train"
   ]
  },
  {
   "cell_type": "code",
   "execution_count": 122,
   "metadata": {},
   "outputs": [
    {
     "data": {
      "image/png": "[encoded data removed]",
      "text/plain": [
       "<Figure size 432x288 with 1 Axes>"
      ]
     },
     "metadata": {
      "needs_background": "light"
     },
     "output_type": "display_data"
    }
   ],
   "source": []
  },
  {
   "cell_type": "code",
   "execution_count": null,
   "metadata": {},
   "outputs": [],
   "source": []
  }
 ],
 "metadata": {
  "kernelspec": {
   "display_name": "Python 3",
   "language": "python",
   "name": "python3"
  },
  "language_info": {
   "codemirror_mode": {
    "name": "ipython",
    "version": 3
   },
   "file_extension": ".py",
   "mimetype": "text/x-python",
   "name": "python",
   "nbconvert_exporter": "python",
   "pygments_lexer": "ipython3",
   "version": "3.7.4"
  }
 },
 "nbformat": 4,
 "nbformat_minor": 4
}
