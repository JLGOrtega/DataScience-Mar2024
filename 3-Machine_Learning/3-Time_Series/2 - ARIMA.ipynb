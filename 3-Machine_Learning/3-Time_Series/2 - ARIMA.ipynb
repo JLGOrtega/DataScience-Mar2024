{
  "cells": [
    {
      "cell_type": "markdown",
      "metadata": {},
      "source": [
        "## ARIMA"
      ]
    },
    {
      "cell_type": "markdown",
      "metadata": {
        "id": "-tOV_EFB7P4d"
      },
      "source": [
        "### AR & MA Models\n",
        "In time series, autoregression(AR) and moving average (MA) models provide a simple description of a process in terms of two factors--one for autoregression and the other for moving average. The AR part entails regressing the variable on its own lagged values. The idea is that the previous time period's value can help us predict the current time period's value. The MA part involves modeling the error term as a linear combination of error terms occurring at the same time step and at various times in the past.\n",
        "\n",
        "### Autoregressive Models\n",
        "Autoregressive (AR) Model is when present value of a time series can be predicted from using previous values of the same series. It's a regression using its same series, though shifted by a time step, called a lag. The present value is a weighted average of its past values. Both the t-1 and t-2 are lags of the time series y. The error term (noise) is represented as e. The values a1 and a2 are the coefficients of the model.\n",
        "\n",
        "AR(1) model: $y_{t}$ = $a_{1}$ $y_{t-1}$ + $e_{t}$\n",
        "\n",
        "AR(2) model: $y_{t}$ = $a_{1}$ $y_{t-1}$ + $a_{2}$ $y_{t-2}$ + $e_{t}$\n",
        "\n",
        "We typically represent the order of the model as p for an AR model such as AR(p).\n",
        "\n",
        "### Moving Average Models\n",
        "Moving average (MA) is a process where the present value of a time series, y, is defined as a linear combination of past errors. The error term (noise) is represented as e. Both the t-1 and t-2 are lags of the time on the errors.\n",
        "\n",
        "MA(1) model: $y_{t}$ = $m_{1}$ $e_{t-1}$ + $e_{t}$\n",
        "\n",
        "MA(2) model: $y_{t}$ = $m_{1}$ $e_{t-1}$ + $m_{2}$ $e_{t-2}$ + $e_{t}$\n",
        "\n",
        "We typically represent the order of the model as q for a MA model such as MA(q).\n",
        "\n",
        "### ARMA Models\n",
        "We can combine both Autoregressive and Moving Average models together to create an ARMA model. The time series is regressed on the previous values and the previous errors.\n",
        "\n",
        "ARMA(1,1) model: $y_{t}$ = $a_{1}$ $y_{t-1}$ + $m_{1}$ $e_{t-1}$\n",
        "\n",
        "For ARMA(p, q), p is the order of the AR process and q is the order of the MA process."
      ]
    },
    {
      "cell_type": "markdown",
      "metadata": {
        "id": "hnv4Dr-u7P4j"
      },
      "source": [
        "## Forecast quality metrics\n",
        "\n",
        "Before we begin forecasting, let's understand how to measure the quality of our predictions and take a look at the most commonly used metrics."
      ]
    },
    {
      "cell_type": "markdown",
      "metadata": {
        "id": "oTZY974Y7P4k"
      },
      "source": [
        "- [R squared](http://scikit-learn.org/stable/modules/model_evaluation.html#r2-score-the-coefficient-of-determination): coefficient of determination (in econometrics, this can be interpreted as the percentage of variance explained by the model), $(-\\infty, 1]$\n",
        "\n",
        "$R^2 = 1 - \\frac{SS_{res}}{SS_{tot}}$ \n",
        "\n",
        "```python\n",
        "sklearn.metrics.r2_score\n",
        "```\n",
        "---\n",
        "- [Mean Absolute Error](http://scikit-learn.org/stable/modules/model_evaluation.html#mean-absolute-error): this is an interpretable metric because it has the same unit of measurment as the initial series, $[0, +\\infty)$\n",
        "\n",
        "$MAE = \\frac{\\sum\\limits_{i=1}^{n} |y_i - \\hat{y}_i|}{n}$ \n",
        "\n",
        "```python\n",
        "sklearn.metrics.mean_absolute_error\n",
        "```\n",
        "---\n",
        "- [Median Absolute Error](http://scikit-learn.org/stable/modules/model_evaluation.html#median-absolute-error): again, an interpretable metric that is particularly interesting because it is robust to outliers, $[0, +\\infty)$\n",
        "\n",
        "$MedAE = median(|y_1 - \\hat{y}_1|, ... , |y_n - \\hat{y}_n|)$\n",
        "\n",
        "```python\n",
        "sklearn.metrics.median_absolute_error\n",
        "```\n",
        "---\n",
        "- [Mean Squared Error](http://scikit-learn.org/stable/modules/model_evaluation.html#mean-squared-error): the most commonly used metric that gives a higher penalty to large errors and vice versa, $[0, +\\infty)$\n",
        "\n",
        "$MSE = \\frac{1}{n}\\sum\\limits_{i=1}^{n} (y_i - \\hat{y}_i)^2$\n",
        "\n",
        "```python\n",
        "sklearn.metrics.mean_squared_error\n",
        "```\n",
        "---\n",
        "- [Mean Squared Logarithmic Error](http://scikit-learn.org/stable/modules/model_evaluation.html#mean-squared-logarithmic-error): practically, this is the same as MSE, but we take the logarithm of the series. As a result, we give more weight to small mistakes as well. This is usually used when the data has exponential trends, $[0, +\\infty)$\n",
        "\n",
        "$MSLE = \\frac{1}{n}\\sum\\limits_{i=1}^{n} (log(1+y_i) - log(1+\\hat{y}_i))^2$\n",
        "\n",
        "```python\n",
        "sklearn.metrics.mean_squared_log_error\n",
        "```\n",
        "---\n",
        "- Mean Absolute Percentage Error: this is the same as MAE but is computed as a percentage, which is very convenient when you want to explain the quality of the model to management, $[0, +\\infty)$\n",
        "\n",
        "$MAPE = \\frac{100}{n}\\sum\\limits_{i=1}^{n} \\frac{|y_i - \\hat{y}_i|}{y_i}$ \n",
        "\n",
        "```python\n",
        "def mean_absolute_percentage_error(y_true, y_pred): \n",
        "    return np.mean(np.abs((y_true - y_pred) / y_true)) * 100\n",
        "```"
      ]
    },
    {
      "cell_type": "markdown",
      "metadata": {
        "id": "JiRbRrhR7P4n"
      },
      "source": [
        "### Analítica\n",
        "Vamos a utilizar los datos de ventas de Johnson&Johnson"
      ]
    },
    {
      "cell_type": "code",
      "execution_count": 1,
      "metadata": {},
      "outputs": [
        {
          "name": "stdout",
          "output_type": "stream",
          "text": [
            "Collecting pmdarima\n",
            "  Downloading pmdarima-2.0.2-cp37-cp37m-win_amd64.whl (568 kB)\n",
            "Requirement already satisfied: numpy>=1.21.2 in c:\\users\\josel\\anaconda3\\envs\\basic_ds\\lib\\site-packages (from pmdarima) (1.21.5)\n",
            "Requirement already satisfied: scipy>=1.3.2 in c:\\users\\josel\\anaconda3\\envs\\basic_ds\\lib\\site-packages (from pmdarima) (1.7.3)\n",
            "Requirement already satisfied: urllib3 in c:\\users\\josel\\anaconda3\\envs\\basic_ds\\lib\\site-packages (from pmdarima) (1.26.12)\n",
            "Collecting statsmodels>=0.13.2\n",
            "  Downloading statsmodels-0.13.5-cp37-cp37m-win_amd64.whl (9.1 MB)\n",
            "Requirement already satisfied: scikit-learn>=0.22 in c:\\users\\josel\\anaconda3\\envs\\basic_ds\\lib\\site-packages (from pmdarima) (1.0.2)\n",
            "Requirement already satisfied: setuptools!=50.0.0,>=38.6.0 in c:\\users\\josel\\anaconda3\\envs\\basic_ds\\lib\\site-packages (from pmdarima) (58.0.4)\n",
            "Requirement already satisfied: Cython!=0.29.18,!=0.29.31,>=0.29 in c:\\users\\josel\\anaconda3\\envs\\basic_ds\\lib\\site-packages (from pmdarima) (0.29.28)\n",
            "Requirement already satisfied: joblib>=0.11 in c:\\users\\josel\\anaconda3\\envs\\basic_ds\\lib\\site-packages (from pmdarima) (1.1.0)\n",
            "Requirement already satisfied: pandas>=0.19 in c:\\users\\josel\\anaconda3\\envs\\basic_ds\\lib\\site-packages (from pmdarima) (1.3.5)\n",
            "Requirement already satisfied: python-dateutil>=2.7.3 in c:\\users\\josel\\anaconda3\\envs\\basic_ds\\lib\\site-packages (from pandas>=0.19->pmdarima) (2.8.2)\n",
            "Requirement already satisfied: pytz>=2017.3 in c:\\users\\josel\\anaconda3\\envs\\basic_ds\\lib\\site-packages (from pandas>=0.19->pmdarima) (2021.3)\n",
            "Requirement already satisfied: six>=1.5 in c:\\users\\josel\\anaconda3\\envs\\basic_ds\\lib\\site-packages (from python-dateutil>=2.7.3->pandas>=0.19->pmdarima) (1.16.0)\n",
            "Requirement already satisfied: threadpoolctl>=2.0.0 in c:\\users\\josel\\anaconda3\\envs\\basic_ds\\lib\\site-packages (from scikit-learn>=0.22->pmdarima) (2.2.0)\n",
            "Collecting patsy>=0.5.2\n",
            "  Using cached patsy-0.5.3-py2.py3-none-any.whl (233 kB)\n",
            "Requirement already satisfied: packaging>=21.3 in c:\\users\\josel\\anaconda3\\envs\\basic_ds\\lib\\site-packages (from statsmodels>=0.13.2->pmdarima) (21.3)\n",
            "Requirement already satisfied: pyparsing!=3.0.5,>=2.0.2 in c:\\users\\josel\\anaconda3\\envs\\basic_ds\\lib\\site-packages (from packaging>=21.3->statsmodels>=0.13.2->pmdarima) (3.0.4)\n",
            "Installing collected packages: patsy, statsmodels, pmdarima\n",
            "Successfully installed patsy-0.5.3 pmdarima-2.0.2 statsmodels-0.13.5\n",
            "Note: you may need to restart the kernel to use updated packages.\n"
          ]
        }
      ],
      "source": [
        "pip install pmdarima"
      ]
    },
    {
      "cell_type": "code",
      "execution_count": null,
      "metadata": {},
      "outputs": [],
      "source": []
    },
    {
      "cell_type": "code",
      "execution_count": 3,
      "metadata": {
        "id": "AhSxRW697P4p"
      },
      "outputs": [],
      "source": [
        "# librerias\n",
        "from statsmodels.tsa.stattools import pacf\n",
        "from statsmodels.tsa.stattools import acf\n",
        "from statsmodels.graphics.tsaplots import plot_pacf\n",
        "from statsmodels.graphics.tsaplots import plot_acf\n",
        "from statsmodels.tsa.stattools import adfuller\n",
        "\n",
        "from pmdarima.arima import auto_arima\n",
        "from pmdarima.arima import ARIMA\n",
        "\n",
        "import matplotlib.pyplot as plt\n",
        "import pandas as pd\n",
        "import numpy as np\n",
        "from sklearn.metrics import mean_squared_error, r2_score\n",
        "\n",
        "import warnings\n",
        "warnings.filterwarnings('ignore')"
      ]
    },
    {
      "cell_type": "code",
      "execution_count": 8,
      "metadata": {},
      "outputs": [
        {
          "data": {
            "text/plain": [
              "(84, 1)"
            ]
          },
          "execution_count": 8,
          "metadata": {},
          "output_type": "execute_result"
        }
      ],
      "source": [
        "data.shape"
      ]
    },
    {
      "cell_type": "code",
      "execution_count": 4,
      "metadata": {
        "colab": {
          "base_uri": "https://localhost:8080/",
          "height": 255
        },
        "id": "wYMABi0H7P4s",
        "outputId": "4c7b9319-8f57-4d5e-abe8-d5d0a72c5fa9"
      },
      "outputs": [
        {
          "name": "stdout",
          "output_type": "stream",
          "text": [
            "84\n"
          ]
        },
        {
          "data": {
            "text/html": [
              "<div>\n",
              "<style scoped>\n",
              "    .dataframe tbody tr th:only-of-type {\n",
              "        vertical-align: middle;\n",
              "    }\n",
              "\n",
              "    .dataframe tbody tr th {\n",
              "        vertical-align: top;\n",
              "    }\n",
              "\n",
              "    .dataframe thead th {\n",
              "        text-align: right;\n",
              "    }\n",
              "</style>\n",
              "<table border=\"1\" class=\"dataframe\">\n",
              "  <thead>\n",
              "    <tr style=\"text-align: right;\">\n",
              "      <th></th>\n",
              "      <th>data</th>\n",
              "    </tr>\n",
              "    <tr>\n",
              "      <th>date</th>\n",
              "      <th></th>\n",
              "    </tr>\n",
              "  </thead>\n",
              "  <tbody>\n",
              "    <tr>\n",
              "      <th>1960-01-01</th>\n",
              "      <td>0.71</td>\n",
              "    </tr>\n",
              "    <tr>\n",
              "      <th>1960-04-01</th>\n",
              "      <td>0.63</td>\n",
              "    </tr>\n",
              "    <tr>\n",
              "      <th>1960-07-02</th>\n",
              "      <td>0.85</td>\n",
              "    </tr>\n",
              "    <tr>\n",
              "      <th>1960-10-01</th>\n",
              "      <td>0.44</td>\n",
              "    </tr>\n",
              "    <tr>\n",
              "      <th>1961-01-01</th>\n",
              "      <td>0.61</td>\n",
              "    </tr>\n",
              "  </tbody>\n",
              "</table>\n",
              "</div>"
            ],
            "text/plain": [
              "            data\n",
              "date            \n",
              "1960-01-01  0.71\n",
              "1960-04-01  0.63\n",
              "1960-07-02  0.85\n",
              "1960-10-01  0.44\n",
              "1961-01-01  0.61"
            ]
          },
          "execution_count": 4,
          "metadata": {},
          "output_type": "execute_result"
        }
      ],
      "source": [
        "data = pd.read_csv('data/jj.csv', index_col=0)\n",
        "print(len(data))\n",
        "data.head()\n"
      ]
    },
    {
      "cell_type": "code",
      "execution_count": 5,
      "metadata": {
        "colab": {
          "base_uri": "https://localhost:8080/",
          "height": 388
        },
        "id": "J65UimN17P4t",
        "outputId": "3c1002df-c859-4f7b-ff01-68ae518baa79"
      },
      "outputs": [
        {
          "data": {
            "image/png": "[encoded data removed]",
            "text/plain": [
              "<Figure size 1080x432 with 1 Axes>"
            ]
          },
          "metadata": {
            "needs_background": "light"
          },
          "output_type": "display_data"
        }
      ],
      "source": [
        "data['data'].plot(figsize=(15,6));"
      ]
    },
    {
      "cell_type": "markdown",
      "metadata": {
        "id": "Y8OT-ZvS7P4u"
      },
      "source": [
        "Se aprecia en la gráfica que presenta diferentes estadísticos a lo largo del tiempo.\n",
        "\n",
        "Representamos su gráfica de autocorrelación. Vemos que tenemos muy complicado determinar el orden p y q, de cara al modelo ARIMA."
      ]
    },
    {
      "cell_type": "code",
      "execution_count": 6,
      "metadata": {
        "colab": {
          "base_uri": "https://localhost:8080/",
          "height": 281
        },
        "id": "G8bwnTuN7P4v",
        "outputId": "c8be9669-01bc-4410-cdaa-3064c5ccddf8"
      },
      "outputs": [
        {
          "data": {
            "image/png": "[encoded data removed]",
            "text/plain": [
              "<Figure size 432x288 with 1 Axes>"
            ]
          },
          "metadata": {
            "needs_background": "light"
          },
          "output_type": "display_data"
        }
      ],
      "source": [
        "plot_acf(data['data']);"
      ]
    },
    {
      "cell_type": "markdown",
      "metadata": {
        "id": "F8m1iwxP7P4v"
      },
      "source": [
        "Dividimos en train y test"
      ]
    },
    {
      "cell_type": "code",
      "execution_count": 7,
      "metadata": {
        "id": "yFdJfFEN7P4w"
      },
      "outputs": [],
      "source": [
        "X = data['data'].values\n",
        "train = X[:70]\n",
        "test = X[70:]"
      ]
    },
    {
      "cell_type": "code",
      "execution_count": 8,
      "metadata": {},
      "outputs": [
        {
          "data": {
            "text/plain": [
              "84"
            ]
          },
          "execution_count": 8,
          "metadata": {},
          "output_type": "execute_result"
        }
      ],
      "source": [
        "len(X)"
      ]
    },
    {
      "cell_type": "code",
      "execution_count": 9,
      "metadata": {},
      "outputs": [
        {
          "data": {
            "text/plain": [
              "array([ 9.54    ,  8.729999, 11.88    , 12.06    , 12.15    ,  8.91    ,\n",
              "       14.04    , 12.96    , 14.85    ,  9.99    , 16.2     , 14.67    ,\n",
              "       16.02    , 11.61    ])"
            ]
          },
          "execution_count": 9,
          "metadata": {},
          "output_type": "execute_result"
        }
      ],
      "source": [
        "test"
      ]
    },
    {
      "cell_type": "code",
      "execution_count": 7,
      "metadata": {
        "colab": {
          "base_uri": "https://localhost:8080/"
        },
        "id": "mgp9_gOl_oH-",
        "outputId": "dfd4cd77-8753-4491-ff0b-257131da7df0"
      },
      "outputs": [
        {
          "data": {
            "text/plain": [
              "14"
            ]
          },
          "execution_count": 7,
          "metadata": {},
          "output_type": "execute_result"
        }
      ],
      "source": [
        "len(test)"
      ]
    },
    {
      "cell_type": "code",
      "execution_count": 8,
      "metadata": {},
      "outputs": [
        {
          "data": {
            "text/plain": [
              "array([ 0.71,  0.63,  0.85,  0.44,  0.61,  0.69,  0.92,  0.55,  0.72,\n",
              "        0.77,  0.92,  0.6 ,  0.83,  0.8 ,  1.  ,  0.77,  0.92,  1.  ,\n",
              "        1.24,  1.  ,  1.16,  1.3 ,  1.45,  1.25,  1.26,  1.38,  1.86,\n",
              "        1.56,  1.53,  1.59,  1.83,  1.86,  1.53,  2.07,  2.34,  2.25,\n",
              "        2.16,  2.43,  2.7 ,  2.25,  2.79,  3.42,  3.69,  3.6 ,  3.6 ,\n",
              "        4.32,  4.32,  4.05,  4.86,  5.04,  5.04,  4.41,  5.58,  5.85,\n",
              "        6.57,  5.31,  6.03,  6.39,  6.93,  5.85,  6.93,  7.74,  7.83,\n",
              "        6.12,  7.74,  8.91,  8.28,  6.84,  9.54, 10.26])"
            ]
          },
          "execution_count": 8,
          "metadata": {},
          "output_type": "execute_result"
        }
      ],
      "source": [
        "train"
      ]
    },
    {
      "cell_type": "markdown",
      "metadata": {
        "id": "uY0oxsHX7P4w"
      },
      "source": [
        "## Autoregressive\n",
        "Tendremos que encontrar el orden de autoregression que mejor encaje con nuestros datos."
      ]
    },
    {
      "cell_type": "code",
      "execution_count": 8,
      "metadata": {},
      "outputs": [
        {
          "name": "stdout",
          "output_type": "stream",
          "text": [
            "\u001b[1;31mInit signature:\u001b[0m\n",
            "\u001b[0mARIMA\u001b[0m\u001b[1;33m(\u001b[0m\u001b[1;33m\n",
            "\u001b[0m    \u001b[0morder\u001b[0m\u001b[1;33m,\u001b[0m\u001b[1;33m\n",
            "\u001b[0m    \u001b[0mseasonal_order\u001b[0m\u001b[1;33m=\u001b[0m\u001b[1;33m(\u001b[0m\u001b[1;36m0\u001b[0m\u001b[1;33m,\u001b[0m \u001b[1;36m0\u001b[0m\u001b[1;33m,\u001b[0m \u001b[1;36m0\u001b[0m\u001b[1;33m,\u001b[0m \u001b[1;36m0\u001b[0m\u001b[1;33m)\u001b[0m\u001b[1;33m,\u001b[0m\u001b[1;33m\n",
            "\u001b[0m    \u001b[0mstart_params\u001b[0m\u001b[1;33m=\u001b[0m\u001b[1;32mNone\u001b[0m\u001b[1;33m,\u001b[0m\u001b[1;33m\n",
            "\u001b[0m    \u001b[0mmethod\u001b[0m\u001b[1;33m=\u001b[0m\u001b[1;34m'lbfgs'\u001b[0m\u001b[1;33m,\u001b[0m\u001b[1;33m\n",
            "\u001b[0m    \u001b[0mmaxiter\u001b[0m\u001b[1;33m=\u001b[0m\u001b[1;36m50\u001b[0m\u001b[1;33m,\u001b[0m\u001b[1;33m\n",
            "\u001b[0m    \u001b[0msuppress_warnings\u001b[0m\u001b[1;33m=\u001b[0m\u001b[1;32mFalse\u001b[0m\u001b[1;33m,\u001b[0m\u001b[1;33m\n",
            "\u001b[0m    \u001b[0mout_of_sample_size\u001b[0m\u001b[1;33m=\u001b[0m\u001b[1;36m0\u001b[0m\u001b[1;33m,\u001b[0m\u001b[1;33m\n",
            "\u001b[0m    \u001b[0mscoring\u001b[0m\u001b[1;33m=\u001b[0m\u001b[1;34m'mse'\u001b[0m\u001b[1;33m,\u001b[0m\u001b[1;33m\n",
            "\u001b[0m    \u001b[0mscoring_args\u001b[0m\u001b[1;33m=\u001b[0m\u001b[1;32mNone\u001b[0m\u001b[1;33m,\u001b[0m\u001b[1;33m\n",
            "\u001b[0m    \u001b[0mtrend\u001b[0m\u001b[1;33m=\u001b[0m\u001b[1;32mNone\u001b[0m\u001b[1;33m,\u001b[0m\u001b[1;33m\n",
            "\u001b[0m    \u001b[0mwith_intercept\u001b[0m\u001b[1;33m=\u001b[0m\u001b[1;32mTrue\u001b[0m\u001b[1;33m,\u001b[0m\u001b[1;33m\n",
            "\u001b[0m    \u001b[1;33m**\u001b[0m\u001b[0msarimax_kwargs\u001b[0m\u001b[1;33m,\u001b[0m\u001b[1;33m\n",
            "\u001b[0m\u001b[1;33m)\u001b[0m\u001b[1;33m\u001b[0m\u001b[1;33m\u001b[0m\u001b[0m\n",
            "\u001b[1;31mSource:\u001b[0m        \n",
            "\u001b[1;32mclass\u001b[0m \u001b[0mARIMA\u001b[0m\u001b[1;33m(\u001b[0m\u001b[0mBaseARIMA\u001b[0m\u001b[1;33m)\u001b[0m\u001b[1;33m:\u001b[0m\u001b[1;33m\n",
            "\u001b[0m    \u001b[1;34m\"\"\"An ARIMA estimator.\n",
            "\n",
            "    An ARIMA, or autoregressive integrated moving average, is a\n",
            "    generalization of an autoregressive moving average (ARMA) and is fitted to\n",
            "    time-series data in an effort to forecast future points. ARIMA models can\n",
            "    be especially efficacious in cases where data shows evidence of\n",
            "    non-stationarity.\n",
            "\n",
            "    The \"AR\" part of ARIMA indicates that the evolving variable of interest is\n",
            "    regressed on its own lagged (i.e., prior observed) values. The \"MA\" part\n",
            "    indicates that the regression error is actually a linear combination of\n",
            "    error terms whose values occurred contemporaneously and at various times\n",
            "    in the past. The \"I\" (for \"integrated\") indicates that the data values\n",
            "    have been replaced with the difference between their values and the\n",
            "    previous values (and this differencing process may have been performed\n",
            "    more than once). The purpose of each of these features is to make the model\n",
            "    fit the data as well as possible.\n",
            "\n",
            "    Non-seasonal ARIMA models are generally denoted ``ARIMA(p,d,q)`` where\n",
            "    parameters ``p``, ``d``, and ``q`` are non-negative integers, ``p`` is the\n",
            "    order (number of time lags) of the autoregressive model, ``d`` is the\n",
            "    degree of differencing (the number of times the data have had past values\n",
            "    subtracted), and ``q`` is the order of the moving-average model. Seasonal\n",
            "    ARIMA models are usually denoted ``ARIMA(p,d,q)(P,D,Q)m``, where ``m``\n",
            "    refers to the number of periods in each season, and the uppercase ``P``,\n",
            "    ``D``, ``Q`` refer to the autoregressive, differencing, and moving average\n",
            "    terms for the seasonal part of the ARIMA model.\n",
            "\n",
            "    When two out of the three terms are zeros, the model may be referred to\n",
            "    based on the non-zero parameter, dropping \"AR\", \"I\" or \"MA\" from the\n",
            "    acronym describing the model. For example, ``ARIMA(1,0,0)`` is ``AR(1)``,\n",
            "    ``ARIMA(0,1,0)`` is ``I(1)``, and ``ARIMA(0,0,1)`` is ``MA(1)``. [1]\n",
            "\n",
            "    See notes for more practical information on the ``ARIMA`` class.\n",
            "\n",
            "    Parameters\n",
            "    ----------\n",
            "    order : iterable or array-like, shape=(3,)\n",
            "        The (p,d,q) order of the model for the number of AR parameters,\n",
            "        differences, and MA parameters to use. ``p`` is the order (number of\n",
            "        time lags) of the auto-regressive model, and is a non-negative integer.\n",
            "        ``d`` is the degree of differencing (the number of times the data have\n",
            "        had past values subtracted), and is a non-negative integer. ``q`` is\n",
            "        the order of the moving-average model, and is a non-negative integer.\n",
            "\n",
            "    seasonal_order : array-like, shape=(4,), optional (default=(0, 0, 0, 0))\n",
            "        The (P,D,Q,s) order of the seasonal component of the model for the\n",
            "        AR parameters, differences, MA parameters, and periodicity. ``D`` must\n",
            "        be an integer indicating the integration order of the process, while\n",
            "        ``P`` and ``Q`` may either be an integers indicating the AR and MA\n",
            "        orders (so that all lags up to those orders are included) or else\n",
            "        iterables giving specific AR and / or MA lags to include. ``S`` is an\n",
            "        integer giving the periodicity (number of periods in season), often it\n",
            "        is 4 for quarterly data or 12 for monthly data. Default is no seasonal\n",
            "        effect.\n",
            "\n",
            "    start_params : array-like, optional (default=None)\n",
            "        Starting parameters for ``ARMA(p,q)``.  If None, the default is given\n",
            "        by ``ARMA._fit_start_params``.\n",
            "\n",
            "    method : str, optional (default='lbfgs')\n",
            "        The ``method`` determines which solver from ``scipy.optimize``\n",
            "        is used, and it can be chosen from among the following strings:\n",
            "\n",
            "        - 'newton' for Newton-Raphson\n",
            "        - 'nm' for Nelder-Mead\n",
            "        - 'bfgs' for Broyden-Fletcher-Goldfarb-Shanno (BFGS)\n",
            "        - 'lbfgs' for limited-memory BFGS with optional box constraints\n",
            "        - 'powell' for modified Powell's method\n",
            "        - 'cg' for conjugate gradient\n",
            "        - 'ncg' for Newton-conjugate gradient\n",
            "        - 'basinhopping' for global basin-hopping solver\n",
            "\n",
            "        The explicit arguments in ``fit`` are passed to the solver,\n",
            "        with the exception of the basin-hopping solver. Each\n",
            "        solver has several optional arguments that are not the same across\n",
            "        solvers. These can be passed as **fit_kwargs\n",
            "\n",
            "    maxiter : int, optional (default=50)\n",
            "        The maximum number of function evaluations. Default is 50\n",
            "\n",
            "    suppress_warnings : bool, optional (default=False)\n",
            "        Many warnings might be thrown inside of statsmodels. If\n",
            "        ``suppress_warnings`` is True, all of these warnings will be squelched.\n",
            "\n",
            "    out_of_sample_size : int, optional (default=0)\n",
            "        The number of examples from the tail of the time series to hold out\n",
            "        and use as validation examples. The model will not be fit on these\n",
            "        samples, but the observations will be added into the model's ``endog``\n",
            "        and ``exog`` arrays so that future forecast values originate from the\n",
            "        end of the endogenous vector. See :func:`update`.\n",
            "\n",
            "        For instance::\n",
            "\n",
            "            y = [0, 1, 2, 3, 4, 5, 6]\n",
            "            out_of_sample_size = 2\n",
            "\n",
            "            > Fit on: [0, 1, 2, 3, 4]\n",
            "            > Score on: [5, 6]\n",
            "            > Append [5, 6] to end of self.arima_res_.data.endog values\n",
            "\n",
            "    scoring : str or callable, optional (default='mse')\n",
            "        If performing validation (i.e., if ``out_of_sample_size`` > 0), the\n",
            "        metric to use for scoring the out-of-sample data:\n",
            "\n",
            "            * If a string, must be a valid metric name importable from\n",
            "              ``sklearn.metrics``.\n",
            "            * If a callable, must adhere to the function signature::\n",
            "\n",
            "                def foo_loss(y_true, y_pred)\n",
            "\n",
            "        Note that models are selected by *minimizing* loss. If using a\n",
            "        maximizing metric (such as ``sklearn.metrics.r2_score``), it is the\n",
            "        user's responsibility to wrap the function such that it returns a\n",
            "        negative value for minimizing.\n",
            "\n",
            "    scoring_args : dict, optional (default=None)\n",
            "        A dictionary of key-word arguments to be passed to the\n",
            "        ``scoring`` metric.\n",
            "\n",
            "    trend : str or None, optional (default=None)\n",
            "        The trend parameter. If ``with_intercept`` is True, ``trend`` will be\n",
            "        used. If ``with_intercept`` is False, the trend will be set to a no-\n",
            "        intercept value. If None and ``with_intercept``, 'c' will be used as\n",
            "        a default.\n",
            "\n",
            "    with_intercept : bool, optional (default=True)\n",
            "        Whether to include an intercept term. Default is True.\n",
            "\n",
            "    **sarimax_kwargs : keyword args, optional\n",
            "        Optional arguments to pass to the SARIMAX constructor.\n",
            "        Examples of potentially valuable kwargs:\n",
            "\n",
            "          - time_varying_regression : boolean\n",
            "            Whether or not coefficients on the exogenous regressors are allowed\n",
            "            to vary over time.\n",
            "\n",
            "          - enforce_stationarity : boolean\n",
            "            Whether or not to transform the AR parameters to enforce\n",
            "            stationarity in the auto-regressive component of the model.\n",
            "\n",
            "          - enforce_invertibility : boolean\n",
            "            Whether or not to transform the MA parameters to enforce\n",
            "            invertibility in the moving average component of the model.\n",
            "\n",
            "          - simple_differencing : boolean\n",
            "            Whether or not to use partially conditional maximum likelihood\n",
            "            estimation for seasonal ARIMA models. If True, differencing is\n",
            "            performed prior to estimation, which discards the first\n",
            "            :math:`s D + d` initial rows but results in a smaller\n",
            "            state-space formulation. If False, the full SARIMAX model is\n",
            "            put in state-space form so that all datapoints can be used in\n",
            "            estimation. Default is False.\n",
            "\n",
            "          - measurement_error: boolean\n",
            "            Whether or not to assume the endogenous observations endog were\n",
            "            measured with error. Default is False.\n",
            "\n",
            "          - mle_regression : boolean\n",
            "            Whether or not to use estimate the regression coefficients for the\n",
            "            exogenous variables as part of maximum likelihood estimation or\n",
            "            through the Kalman filter (i.e. recursive least squares). If\n",
            "            time_varying_regression is True, this must be set to False.\n",
            "            Default is True.\n",
            "\n",
            "          - hamilton_representation : boolean\n",
            "            Whether or not to use the Hamilton representation of an ARMA\n",
            "            process (if True) or the Harvey representation (if False).\n",
            "            Default is False.\n",
            "\n",
            "          - concentrate_scale : boolean\n",
            "            Whether or not to concentrate the scale (variance of the error\n",
            "            term) out of the likelihood. This reduces the number of parameters\n",
            "            estimated by maximum likelihood by one, but standard errors will\n",
            "            then not be available for the scale parameter.\n",
            "\n",
            "    Attributes\n",
            "    ----------\n",
            "    arima_res_ : ModelResultsWrapper\n",
            "        The model results, per statsmodels\n",
            "\n",
            "    endog_index_ : pd.Series or None\n",
            "        If the fitted endog array is a ``pd.Series``, this value will be\n",
            "        non-None and is used to validate args for in-sample predictions with\n",
            "        non-integer start/end indices\n",
            "\n",
            "    oob_ : float\n",
            "        The MAE or MSE of the out-of-sample records, if ``out_of_sample_size``\n",
            "        is > 0, else np.nan\n",
            "\n",
            "    oob_preds_ : np.ndarray or None\n",
            "        The predictions for the out-of-sample records, if\n",
            "        ``out_of_sample_size`` is > 0, else None\n",
            "\n",
            "    Notes\n",
            "    -----\n",
            "    * The model internally wraps the statsmodels `SARIMAX class <https://www.statsmodels.org/stable/generated/statsmodels.tsa.statespace.sarimax.SARIMAX.html>`_\n",
            "    * After the model fit, many more methods will become available to the\n",
            "      fitted model (i.e., :func:`pvalues`, :func:`params`, etc.). These are\n",
            "      delegate methods which wrap the internal ARIMA results instance.\n",
            "\n",
            "    See Also\n",
            "    --------\n",
            "    :func:`pmdarima.arima.auto_arima`\n",
            "\n",
            "    References\n",
            "    ----------\n",
            "    .. [1] https://wikipedia.org/wiki/Autoregressive_integrated_moving_average\n",
            "    \"\"\"\u001b[0m  \u001b[1;31m# noqa: E501\u001b[0m\u001b[1;33m\n",
            "\u001b[0m    \u001b[1;32mdef\u001b[0m \u001b[0m__init__\u001b[0m\u001b[1;33m(\u001b[0m\u001b[1;33m\n",
            "\u001b[0m        \u001b[0mself\u001b[0m\u001b[1;33m,\u001b[0m\u001b[1;33m\n",
            "\u001b[0m        \u001b[0morder\u001b[0m\u001b[1;33m,\u001b[0m\u001b[1;33m\n",
            "\u001b[0m        \u001b[0mseasonal_order\u001b[0m\u001b[1;33m=\u001b[0m\u001b[1;33m(\u001b[0m\u001b[1;36m0\u001b[0m\u001b[1;33m,\u001b[0m \u001b[1;36m0\u001b[0m\u001b[1;33m,\u001b[0m \u001b[1;36m0\u001b[0m\u001b[1;33m,\u001b[0m \u001b[1;36m0\u001b[0m\u001b[1;33m)\u001b[0m\u001b[1;33m,\u001b[0m\u001b[1;33m\n",
            "\u001b[0m        \u001b[0mstart_params\u001b[0m\u001b[1;33m=\u001b[0m\u001b[1;32mNone\u001b[0m\u001b[1;33m,\u001b[0m\u001b[1;33m\n",
            "\u001b[0m        \u001b[0mmethod\u001b[0m\u001b[1;33m=\u001b[0m\u001b[1;34m'lbfgs'\u001b[0m\u001b[1;33m,\u001b[0m\u001b[1;33m\n",
            "\u001b[0m        \u001b[0mmaxiter\u001b[0m\u001b[1;33m=\u001b[0m\u001b[1;36m50\u001b[0m\u001b[1;33m,\u001b[0m\u001b[1;33m\n",
            "\u001b[0m        \u001b[0msuppress_warnings\u001b[0m\u001b[1;33m=\u001b[0m\u001b[1;32mFalse\u001b[0m\u001b[1;33m,\u001b[0m\u001b[1;33m\n",
            "\u001b[0m        \u001b[0mout_of_sample_size\u001b[0m\u001b[1;33m=\u001b[0m\u001b[1;36m0\u001b[0m\u001b[1;33m,\u001b[0m\u001b[1;33m\n",
            "\u001b[0m        \u001b[0mscoring\u001b[0m\u001b[1;33m=\u001b[0m\u001b[1;34m'mse'\u001b[0m\u001b[1;33m,\u001b[0m\u001b[1;33m\n",
            "\u001b[0m        \u001b[0mscoring_args\u001b[0m\u001b[1;33m=\u001b[0m\u001b[1;32mNone\u001b[0m\u001b[1;33m,\u001b[0m\u001b[1;33m\n",
            "\u001b[0m        \u001b[0mtrend\u001b[0m\u001b[1;33m=\u001b[0m\u001b[1;32mNone\u001b[0m\u001b[1;33m,\u001b[0m\u001b[1;33m\n",
            "\u001b[0m        \u001b[0mwith_intercept\u001b[0m\u001b[1;33m=\u001b[0m\u001b[1;32mTrue\u001b[0m\u001b[1;33m,\u001b[0m\u001b[1;33m\n",
            "\u001b[0m        \u001b[1;33m**\u001b[0m\u001b[0msarimax_kwargs\u001b[0m\u001b[1;33m,\u001b[0m\u001b[1;33m\n",
            "\u001b[0m    \u001b[1;33m)\u001b[0m\u001b[1;33m:\u001b[0m\u001b[1;33m\n",
            "\u001b[0m\u001b[1;33m\n",
            "\u001b[0m        \u001b[1;31m# Future proofing: this isn't currently required--sklearn doesn't\u001b[0m\u001b[1;33m\n",
            "\u001b[0m        \u001b[1;31m# need a super call\u001b[0m\u001b[1;33m\n",
            "\u001b[0m        \u001b[0msuper\u001b[0m\u001b[1;33m(\u001b[0m\u001b[0mARIMA\u001b[0m\u001b[1;33m,\u001b[0m \u001b[0mself\u001b[0m\u001b[1;33m)\u001b[0m\u001b[1;33m.\u001b[0m\u001b[0m__init__\u001b[0m\u001b[1;33m(\u001b[0m\u001b[1;33m)\u001b[0m\u001b[1;33m\n",
            "\u001b[0m\u001b[1;33m\n",
            "\u001b[0m        \u001b[0mself\u001b[0m\u001b[1;33m.\u001b[0m\u001b[0morder\u001b[0m \u001b[1;33m=\u001b[0m \u001b[0morder\u001b[0m\u001b[1;33m\n",
            "\u001b[0m        \u001b[0mself\u001b[0m\u001b[1;33m.\u001b[0m\u001b[0mseasonal_order\u001b[0m \u001b[1;33m=\u001b[0m \u001b[0mseasonal_order\u001b[0m\u001b[1;33m\n",
            "\u001b[0m        \u001b[0mself\u001b[0m\u001b[1;33m.\u001b[0m\u001b[0mstart_params\u001b[0m \u001b[1;33m=\u001b[0m \u001b[0mstart_params\u001b[0m\u001b[1;33m\n",
            "\u001b[0m        \u001b[0mself\u001b[0m\u001b[1;33m.\u001b[0m\u001b[0mmethod\u001b[0m \u001b[1;33m=\u001b[0m \u001b[0mmethod\u001b[0m\u001b[1;33m\n",
            "\u001b[0m        \u001b[0mself\u001b[0m\u001b[1;33m.\u001b[0m\u001b[0mmaxiter\u001b[0m \u001b[1;33m=\u001b[0m \u001b[0mmaxiter\u001b[0m\u001b[1;33m\n",
            "\u001b[0m        \u001b[0mself\u001b[0m\u001b[1;33m.\u001b[0m\u001b[0msuppress_warnings\u001b[0m \u001b[1;33m=\u001b[0m \u001b[0msuppress_warnings\u001b[0m\u001b[1;33m\n",
            "\u001b[0m        \u001b[0mself\u001b[0m\u001b[1;33m.\u001b[0m\u001b[0mout_of_sample_size\u001b[0m \u001b[1;33m=\u001b[0m \u001b[0mout_of_sample_size\u001b[0m\u001b[1;33m\n",
            "\u001b[0m        \u001b[0mself\u001b[0m\u001b[1;33m.\u001b[0m\u001b[0mscoring\u001b[0m \u001b[1;33m=\u001b[0m \u001b[0mscoring\u001b[0m\u001b[1;33m\n",
            "\u001b[0m        \u001b[0mself\u001b[0m\u001b[1;33m.\u001b[0m\u001b[0mscoring_args\u001b[0m \u001b[1;33m=\u001b[0m \u001b[0mscoring_args\u001b[0m\u001b[1;33m\n",
            "\u001b[0m        \u001b[0mself\u001b[0m\u001b[1;33m.\u001b[0m\u001b[0mtrend\u001b[0m \u001b[1;33m=\u001b[0m \u001b[0mtrend\u001b[0m\u001b[1;33m\n",
            "\u001b[0m        \u001b[0mself\u001b[0m\u001b[1;33m.\u001b[0m\u001b[0mwith_intercept\u001b[0m \u001b[1;33m=\u001b[0m \u001b[0mwith_intercept\u001b[0m\u001b[1;33m\n",
            "\u001b[0m\u001b[1;33m\n",
            "\u001b[0m        \u001b[1;31m# TODO: Remove these warnings in a later version\u001b[0m\u001b[1;33m\n",
            "\u001b[0m        \u001b[1;32mfor\u001b[0m \u001b[0mdeprecated_key\u001b[0m\u001b[1;33m,\u001b[0m \u001b[0mstill_in_use\u001b[0m \u001b[1;32min\u001b[0m \u001b[1;33m(\u001b[0m\u001b[1;33m\n",
            "\u001b[0m                \u001b[1;33m(\u001b[0m\u001b[1;34m'disp'\u001b[0m\u001b[1;33m,\u001b[0m \u001b[1;32mTrue\u001b[0m\u001b[1;33m)\u001b[0m\u001b[1;33m,\u001b[0m\u001b[1;33m\n",
            "\u001b[0m                \u001b[1;33m(\u001b[0m\u001b[1;34m'callback'\u001b[0m\u001b[1;33m,\u001b[0m \u001b[1;32mTrue\u001b[0m\u001b[1;33m)\u001b[0m\u001b[1;33m,\u001b[0m\u001b[1;33m\n",
            "\u001b[0m                \u001b[1;33m(\u001b[0m\u001b[1;34m'transparams'\u001b[0m\u001b[1;33m,\u001b[0m \u001b[1;32mFalse\u001b[0m\u001b[1;33m)\u001b[0m\u001b[1;33m,\u001b[0m\u001b[1;33m\n",
            "\u001b[0m                \u001b[1;33m(\u001b[0m\u001b[1;34m'solver'\u001b[0m\u001b[1;33m,\u001b[0m \u001b[1;32mFalse\u001b[0m\u001b[1;33m)\u001b[0m\u001b[1;33m)\u001b[0m\u001b[1;33m:\u001b[0m\u001b[1;33m\n",
            "\u001b[0m            \u001b[1;32mif\u001b[0m \u001b[0msarimax_kwargs\u001b[0m\u001b[1;33m.\u001b[0m\u001b[0mpop\u001b[0m\u001b[1;33m(\u001b[0m\u001b[0mdeprecated_key\u001b[0m\u001b[1;33m,\u001b[0m \u001b[1;32mNone\u001b[0m\u001b[1;33m)\u001b[0m\u001b[1;33m:\u001b[0m\u001b[1;33m\n",
            "\u001b[0m                \u001b[0mmsg\u001b[0m \u001b[1;33m=\u001b[0m \u001b[1;33m(\u001b[0m\u001b[1;34m\"'%s' is deprecated in the ARIMA constructor and will \"\u001b[0m\u001b[1;33m\n",
            "\u001b[0m                       \u001b[1;34m\"be removed in a future release.\"\u001b[0m \u001b[1;33m%\u001b[0m \u001b[0mdeprecated_key\u001b[0m\u001b[1;33m)\u001b[0m\u001b[1;33m\n",
            "\u001b[0m                \u001b[1;32mif\u001b[0m \u001b[0mstill_in_use\u001b[0m\u001b[1;33m:\u001b[0m\u001b[1;33m\n",
            "\u001b[0m                    \u001b[0mmsg\u001b[0m \u001b[1;33m+=\u001b[0m \u001b[1;34m\" Pass via **fit_kwargs instead\"\u001b[0m\u001b[1;33m\n",
            "\u001b[0m                \u001b[0mwarnings\u001b[0m\u001b[1;33m.\u001b[0m\u001b[0mwarn\u001b[0m\u001b[1;33m(\u001b[0m\u001b[0mmsg\u001b[0m\u001b[1;33m,\u001b[0m \u001b[0mDeprecationWarning\u001b[0m\u001b[1;33m)\u001b[0m\u001b[1;33m\n",
            "\u001b[0m\u001b[1;33m\n",
            "\u001b[0m        \u001b[0mself\u001b[0m\u001b[1;33m.\u001b[0m\u001b[0msarimax_kwargs\u001b[0m \u001b[1;33m=\u001b[0m \u001b[0msarimax_kwargs\u001b[0m\u001b[1;33m\n",
            "\u001b[0m\u001b[1;33m\n",
            "\u001b[0m    \u001b[1;32mdef\u001b[0m \u001b[0m_fit\u001b[0m\u001b[1;33m(\u001b[0m\u001b[0mself\u001b[0m\u001b[1;33m,\u001b[0m \u001b[0my\u001b[0m\u001b[1;33m,\u001b[0m \u001b[0mX\u001b[0m\u001b[1;33m=\u001b[0m\u001b[1;32mNone\u001b[0m\u001b[1;33m,\u001b[0m \u001b[1;33m**\u001b[0m\u001b[0mfit_args\u001b[0m\u001b[1;33m)\u001b[0m\u001b[1;33m:\u001b[0m\u001b[1;33m\n",
            "\u001b[0m        \u001b[1;34m\"\"\"Internal fit\"\"\"\u001b[0m\u001b[1;33m\n",
            "\u001b[0m\u001b[1;33m\n",
            "\u001b[0m        \u001b[1;31m# This wrapper is used for fitting either an ARIMA or a SARIMAX\u001b[0m\u001b[1;33m\n",
            "\u001b[0m        \u001b[1;32mdef\u001b[0m \u001b[0m_fit_wrapper\u001b[0m\u001b[1;33m(\u001b[0m\u001b[1;33m)\u001b[0m\u001b[1;33m:\u001b[0m\u001b[1;33m\n",
            "\u001b[0m            \u001b[0mmethod\u001b[0m \u001b[1;33m=\u001b[0m \u001b[0mself\u001b[0m\u001b[1;33m.\u001b[0m\u001b[0mmethod\u001b[0m\u001b[1;33m\n",
            "\u001b[0m            \u001b[0mtrend\u001b[0m \u001b[1;33m=\u001b[0m \u001b[0mself\u001b[0m\u001b[1;33m.\u001b[0m\u001b[0mtrend\u001b[0m\u001b[1;33m\n",
            "\u001b[0m\u001b[1;33m\n",
            "\u001b[0m            \u001b[1;32mif\u001b[0m \u001b[0mmethod\u001b[0m \u001b[1;32mis\u001b[0m \u001b[1;32mNone\u001b[0m\u001b[1;33m:\u001b[0m\u001b[1;33m\n",
            "\u001b[0m                \u001b[1;32mraise\u001b[0m \u001b[0mValueError\u001b[0m\u001b[1;33m(\u001b[0m\u001b[1;34m\"Expected non-None value for `method`\"\u001b[0m\u001b[1;33m)\u001b[0m\u001b[1;33m\n",
            "\u001b[0m\u001b[1;33m\n",
            "\u001b[0m            \u001b[1;31m# this considers `with_intercept` truthy, so if auto_arima gets\u001b[0m\u001b[1;33m\n",
            "\u001b[0m            \u001b[1;31m# here without explicitly changing `with_intercept` from 'auto' we\u001b[0m\u001b[1;33m\n",
            "\u001b[0m            \u001b[1;31m# will treat it as True.\u001b[0m\u001b[1;33m\n",
            "\u001b[0m            \u001b[1;32mif\u001b[0m \u001b[0mtrend\u001b[0m \u001b[1;32mis\u001b[0m \u001b[1;32mNone\u001b[0m \u001b[1;32mand\u001b[0m \u001b[0mself\u001b[0m\u001b[1;33m.\u001b[0m\u001b[0mwith_intercept\u001b[0m\u001b[1;33m:\u001b[0m\u001b[1;33m\n",
            "\u001b[0m                \u001b[0mtrend\u001b[0m \u001b[1;33m=\u001b[0m \u001b[1;34m'c'\u001b[0m\u001b[1;33m\n",
            "\u001b[0m\u001b[1;33m\n",
            "\u001b[0m            \u001b[1;31m# create the SARIMAX\u001b[0m\u001b[1;33m\n",
            "\u001b[0m            \u001b[0msarimax_kwargs\u001b[0m \u001b[1;33m=\u001b[0m \\\n",
            "                \u001b[1;33m{\u001b[0m\u001b[1;33m}\u001b[0m \u001b[1;32mif\u001b[0m \u001b[1;32mnot\u001b[0m \u001b[0mself\u001b[0m\u001b[1;33m.\u001b[0m\u001b[0msarimax_kwargs\u001b[0m \u001b[1;32melse\u001b[0m \u001b[0mself\u001b[0m\u001b[1;33m.\u001b[0m\u001b[0msarimax_kwargs\u001b[0m\u001b[1;33m\n",
            "\u001b[0m            \u001b[0mseasonal_order\u001b[0m \u001b[1;33m=\u001b[0m \\\n",
            "                \u001b[0msm_compat\u001b[0m\u001b[1;33m.\u001b[0m\u001b[0mcheck_seasonal_order\u001b[0m\u001b[1;33m(\u001b[0m\u001b[0mself\u001b[0m\u001b[1;33m.\u001b[0m\u001b[0mseasonal_order\u001b[0m\u001b[1;33m)\u001b[0m\u001b[1;33m\n",
            "\u001b[0m            \u001b[0marima\u001b[0m \u001b[1;33m=\u001b[0m \u001b[0msm\u001b[0m\u001b[1;33m.\u001b[0m\u001b[0mtsa\u001b[0m\u001b[1;33m.\u001b[0m\u001b[0mstatespace\u001b[0m\u001b[1;33m.\u001b[0m\u001b[0mSARIMAX\u001b[0m\u001b[1;33m(\u001b[0m\u001b[1;33m\n",
            "\u001b[0m                \u001b[0mendog\u001b[0m\u001b[1;33m=\u001b[0m\u001b[0my\u001b[0m\u001b[1;33m,\u001b[0m \u001b[0mexog\u001b[0m\u001b[1;33m=\u001b[0m\u001b[0mX\u001b[0m\u001b[1;33m,\u001b[0m \u001b[0morder\u001b[0m\u001b[1;33m=\u001b[0m\u001b[0mself\u001b[0m\u001b[1;33m.\u001b[0m\u001b[0morder\u001b[0m\u001b[1;33m,\u001b[0m\u001b[1;33m\n",
            "\u001b[0m                \u001b[0mseasonal_order\u001b[0m\u001b[1;33m=\u001b[0m\u001b[0mseasonal_order\u001b[0m\u001b[1;33m,\u001b[0m\u001b[1;33m\n",
            "\u001b[0m                \u001b[0mtrend\u001b[0m\u001b[1;33m=\u001b[0m\u001b[0mtrend\u001b[0m\u001b[1;33m,\u001b[0m\u001b[1;33m\n",
            "\u001b[0m                \u001b[1;33m**\u001b[0m\u001b[0msarimax_kwargs\u001b[0m\u001b[1;33m)\u001b[0m\u001b[1;33m\n",
            "\u001b[0m\u001b[1;33m\n",
            "\u001b[0m            \u001b[1;31m# actually fit the model, now. If this was called from 'update',\u001b[0m\u001b[1;33m\n",
            "\u001b[0m            \u001b[1;31m# give priority to start_params from the fit_args\u001b[0m\u001b[1;33m\n",
            "\u001b[0m            \u001b[0mstart_params\u001b[0m \u001b[1;33m=\u001b[0m \u001b[0mfit_args\u001b[0m\u001b[1;33m.\u001b[0m\u001b[0mpop\u001b[0m\u001b[1;33m(\u001b[0m\u001b[1;34m\"start_params\"\u001b[0m\u001b[1;33m,\u001b[0m \u001b[0mself\u001b[0m\u001b[1;33m.\u001b[0m\u001b[0mstart_params\u001b[0m\u001b[1;33m)\u001b[0m\u001b[1;33m\n",
            "\u001b[0m\u001b[1;33m\n",
            "\u001b[0m            \u001b[1;31m# Same for 'maxiter' if called from update. Also allows it to be\u001b[0m\u001b[1;33m\n",
            "\u001b[0m            \u001b[1;31m# passed as a fit arg, if a user does it explicitly.\u001b[0m\u001b[1;33m\n",
            "\u001b[0m            \u001b[0m_maxiter\u001b[0m \u001b[1;33m=\u001b[0m \u001b[0mself\u001b[0m\u001b[1;33m.\u001b[0m\u001b[0mmaxiter\u001b[0m\u001b[1;33m\n",
            "\u001b[0m            \u001b[1;32mif\u001b[0m \u001b[0m_maxiter\u001b[0m \u001b[1;32mis\u001b[0m \u001b[1;32mNone\u001b[0m\u001b[1;33m:\u001b[0m\u001b[1;33m\n",
            "\u001b[0m                \u001b[1;32mraise\u001b[0m \u001b[0mValueError\u001b[0m\u001b[1;33m(\u001b[0m\u001b[1;34m\"Expected non-None value for `maxiter`\"\u001b[0m\u001b[1;33m)\u001b[0m\u001b[1;33m\n",
            "\u001b[0m\u001b[1;33m\n",
            "\u001b[0m            \u001b[1;31m# If maxiter is provided in the fit_args by a savvy user or the\u001b[0m\u001b[1;33m\n",
            "\u001b[0m            \u001b[1;31m# update method, we should default to their preference\u001b[0m\u001b[1;33m\n",
            "\u001b[0m            \u001b[0m_maxiter\u001b[0m \u001b[1;33m=\u001b[0m \u001b[0mfit_args\u001b[0m\u001b[1;33m.\u001b[0m\u001b[0mpop\u001b[0m\u001b[1;33m(\u001b[0m\u001b[1;34m\"maxiter\"\u001b[0m\u001b[1;33m,\u001b[0m \u001b[0m_maxiter\u001b[0m\u001b[1;33m)\u001b[0m\u001b[1;33m\n",
            "\u001b[0m\u001b[1;33m\n",
            "\u001b[0m            \u001b[0mdisp\u001b[0m \u001b[1;33m=\u001b[0m \u001b[0mfit_args\u001b[0m\u001b[1;33m.\u001b[0m\u001b[0mpop\u001b[0m\u001b[1;33m(\u001b[0m\u001b[1;34m\"disp\"\u001b[0m\u001b[1;33m,\u001b[0m \u001b[1;36m0\u001b[0m\u001b[1;33m)\u001b[0m\u001b[1;33m\n",
            "\u001b[0m            \u001b[0mfitted\u001b[0m \u001b[1;33m=\u001b[0m \u001b[0marima\u001b[0m\u001b[1;33m.\u001b[0m\u001b[0mfit\u001b[0m\u001b[1;33m(\u001b[0m\u001b[1;33m\n",
            "\u001b[0m                \u001b[0mstart_params\u001b[0m\u001b[1;33m=\u001b[0m\u001b[0mstart_params\u001b[0m\u001b[1;33m,\u001b[0m\u001b[1;33m\n",
            "\u001b[0m                \u001b[0mmethod\u001b[0m\u001b[1;33m=\u001b[0m\u001b[0mmethod\u001b[0m\u001b[1;33m,\u001b[0m\u001b[1;33m\n",
            "\u001b[0m                \u001b[0mmaxiter\u001b[0m\u001b[1;33m=\u001b[0m\u001b[0m_maxiter\u001b[0m\u001b[1;33m,\u001b[0m\u001b[1;33m\n",
            "\u001b[0m                \u001b[0mdisp\u001b[0m\u001b[1;33m=\u001b[0m\u001b[0mdisp\u001b[0m\u001b[1;33m,\u001b[0m\u001b[1;33m\n",
            "\u001b[0m                \u001b[1;33m**\u001b[0m\u001b[0mfit_args\u001b[0m\u001b[1;33m,\u001b[0m\u001b[1;33m\n",
            "\u001b[0m            \u001b[1;33m)\u001b[0m\u001b[1;33m\n",
            "\u001b[0m\u001b[1;33m\n",
            "\u001b[0m            \u001b[1;32mreturn\u001b[0m \u001b[0marima\u001b[0m\u001b[1;33m,\u001b[0m \u001b[0mfitted\u001b[0m\u001b[1;33m\n",
            "\u001b[0m\u001b[1;33m\n",
            "\u001b[0m        \u001b[1;31m# sometimes too many warnings...\u001b[0m\u001b[1;33m\n",
            "\u001b[0m        \u001b[1;32mif\u001b[0m \u001b[0mself\u001b[0m\u001b[1;33m.\u001b[0m\u001b[0msuppress_warnings\u001b[0m\u001b[1;33m:\u001b[0m\u001b[1;33m\n",
            "\u001b[0m            \u001b[1;32mwith\u001b[0m \u001b[0mwarnings\u001b[0m\u001b[1;33m.\u001b[0m\u001b[0mcatch_warnings\u001b[0m\u001b[1;33m(\u001b[0m\u001b[0mrecord\u001b[0m\u001b[1;33m=\u001b[0m\u001b[1;32mFalse\u001b[0m\u001b[1;33m)\u001b[0m\u001b[1;33m:\u001b[0m\u001b[1;33m\n",
            "\u001b[0m                \u001b[0mwarnings\u001b[0m\u001b[1;33m.\u001b[0m\u001b[0msimplefilter\u001b[0m\u001b[1;33m(\u001b[0m\u001b[1;34m'ignore'\u001b[0m\u001b[1;33m)\u001b[0m\u001b[1;33m\n",
            "\u001b[0m                \u001b[0mfit\u001b[0m\u001b[1;33m,\u001b[0m \u001b[0mself\u001b[0m\u001b[1;33m.\u001b[0m\u001b[0marima_res_\u001b[0m \u001b[1;33m=\u001b[0m \u001b[0m_fit_wrapper\u001b[0m\u001b[1;33m(\u001b[0m\u001b[1;33m)\u001b[0m\u001b[1;33m\n",
            "\u001b[0m        \u001b[1;32melse\u001b[0m\u001b[1;33m:\u001b[0m\u001b[1;33m\n",
            "\u001b[0m            \u001b[0mfit\u001b[0m\u001b[1;33m,\u001b[0m \u001b[0mself\u001b[0m\u001b[1;33m.\u001b[0m\u001b[0marima_res_\u001b[0m \u001b[1;33m=\u001b[0m \u001b[0m_fit_wrapper\u001b[0m\u001b[1;33m(\u001b[0m\u001b[1;33m)\u001b[0m\u001b[1;33m\n",
            "\u001b[0m\u001b[1;33m\n",
            "\u001b[0m        \u001b[1;31m# Set df_model attribute for SARIMAXResults object\u001b[0m\u001b[1;33m\n",
            "\u001b[0m        \u001b[0msm_compat\u001b[0m\u001b[1;33m.\u001b[0m\u001b[0mbind_df_model\u001b[0m\u001b[1;33m(\u001b[0m\u001b[0mfit\u001b[0m\u001b[1;33m,\u001b[0m \u001b[0mself\u001b[0m\u001b[1;33m.\u001b[0m\u001b[0marima_res_\u001b[0m\u001b[1;33m)\u001b[0m\u001b[1;33m\n",
            "\u001b[0m\u001b[1;33m\n",
            "\u001b[0m        \u001b[1;31m# if the model is fit with an X array, it must\u001b[0m\u001b[1;33m\n",
            "\u001b[0m        \u001b[1;31m# be predicted with one as well.\u001b[0m\u001b[1;33m\n",
            "\u001b[0m        \u001b[0mself\u001b[0m\u001b[1;33m.\u001b[0m\u001b[0mfit_with_exog_\u001b[0m \u001b[1;33m=\u001b[0m \u001b[0mX\u001b[0m \u001b[1;32mis\u001b[0m \u001b[1;32mnot\u001b[0m \u001b[1;32mNone\u001b[0m\u001b[1;33m\n",
            "\u001b[0m\u001b[1;33m\n",
            "\u001b[0m        \u001b[1;31m# Save nobs since we might change it later if using OOB\u001b[0m\u001b[1;33m\n",
            "\u001b[0m        \u001b[0mself\u001b[0m\u001b[1;33m.\u001b[0m\u001b[0mnobs_\u001b[0m \u001b[1;33m=\u001b[0m \u001b[0my\u001b[0m\u001b[1;33m.\u001b[0m\u001b[0mshape\u001b[0m\u001b[1;33m[\u001b[0m\u001b[1;36m0\u001b[0m\u001b[1;33m]\u001b[0m\u001b[1;33m\n",
            "\u001b[0m\u001b[1;33m\n",
            "\u001b[0m        \u001b[1;31m# As of version 0.7.2, start saving the version with the model so\u001b[0m\u001b[1;33m\n",
            "\u001b[0m        \u001b[1;31m# we can track changes over time.\u001b[0m\u001b[1;33m\n",
            "\u001b[0m        \u001b[0mself\u001b[0m\u001b[1;33m.\u001b[0m\u001b[0mpkg_version_\u001b[0m \u001b[1;33m=\u001b[0m \u001b[0mpmdarima\u001b[0m\u001b[1;33m.\u001b[0m\u001b[0m__version__\u001b[0m\u001b[1;33m\n",
            "\u001b[0m        \u001b[1;32mreturn\u001b[0m \u001b[0mself\u001b[0m\u001b[1;33m\n",
            "\u001b[0m\u001b[1;33m\n",
            "\u001b[0m    \u001b[1;32mdef\u001b[0m \u001b[0mfit\u001b[0m\u001b[1;33m(\u001b[0m\u001b[0mself\u001b[0m\u001b[1;33m,\u001b[0m \u001b[0my\u001b[0m\u001b[1;33m,\u001b[0m \u001b[0mX\u001b[0m\u001b[1;33m=\u001b[0m\u001b[1;32mNone\u001b[0m\u001b[1;33m,\u001b[0m \u001b[1;33m**\u001b[0m\u001b[0mfit_args\u001b[0m\u001b[1;33m)\u001b[0m\u001b[1;33m:\u001b[0m\u001b[1;33m\n",
            "\u001b[0m        \u001b[1;34m\"\"\"Fit an ARIMA to a vector, ``y``, of observations with an\n",
            "        optional matrix of ``X`` variables.\n",
            "\n",
            "        Parameters\n",
            "        ----------\n",
            "        y : array-like or iterable, shape=(n_samples,)\n",
            "            The time-series to which to fit the ``ARIMA`` estimator. This may\n",
            "            either be a Pandas ``Series`` object (statsmodels can internally\n",
            "            use the dates in the index), or a numpy array. This should be a\n",
            "            one-dimensional array of floats, and should not contain any\n",
            "            ``np.nan`` or ``np.inf`` values.\n",
            "\n",
            "        X : array-like, shape=[n_obs, n_vars], optional (default=None)\n",
            "            An optional 2-d array of exogenous variables. If provided, these\n",
            "            variables are used as additional features in the regression\n",
            "            operation. This should not include a constant or trend. Note that\n",
            "            if an ``ARIMA`` is fit on exogenous features, it must be provided\n",
            "            exogenous features for making predictions.\n",
            "\n",
            "        **fit_args : dict or kwargs\n",
            "            Any keyword arguments to pass to the statsmodels ARIMA fit.\n",
            "        \"\"\"\u001b[0m\u001b[1;33m\n",
            "\u001b[0m        \u001b[0my\u001b[0m \u001b[1;33m=\u001b[0m \u001b[0mcheck_endog\u001b[0m\u001b[1;33m(\u001b[0m\u001b[0my\u001b[0m\u001b[1;33m,\u001b[0m \u001b[0mdtype\u001b[0m\u001b[1;33m=\u001b[0m\u001b[0mDTYPE\u001b[0m\u001b[1;33m,\u001b[0m \u001b[0mpreserve_series\u001b[0m\u001b[1;33m=\u001b[0m\u001b[1;32mTrue\u001b[0m\u001b[1;33m)\u001b[0m\u001b[1;33m\n",
            "\u001b[0m        \u001b[0mn_samples\u001b[0m \u001b[1;33m=\u001b[0m \u001b[0my\u001b[0m\u001b[1;33m.\u001b[0m\u001b[0mshape\u001b[0m\u001b[1;33m[\u001b[0m\u001b[1;36m0\u001b[0m\u001b[1;33m]\u001b[0m\u001b[1;33m\n",
            "\u001b[0m\u001b[1;33m\n",
            "\u001b[0m        \u001b[1;31m# See issue 499\u001b[0m\u001b[1;33m\n",
            "\u001b[0m        \u001b[0mself\u001b[0m\u001b[1;33m.\u001b[0m\u001b[0mendog_index_\u001b[0m \u001b[1;33m=\u001b[0m \u001b[0my\u001b[0m\u001b[1;33m.\u001b[0m\u001b[0mindex\u001b[0m \u001b[1;32mif\u001b[0m \u001b[0misinstance\u001b[0m\u001b[1;33m(\u001b[0m\u001b[0my\u001b[0m\u001b[1;33m,\u001b[0m \u001b[0mpd\u001b[0m\u001b[1;33m.\u001b[0m\u001b[0mSeries\u001b[0m\u001b[1;33m)\u001b[0m \u001b[1;32melse\u001b[0m \u001b[1;32mNone\u001b[0m\u001b[1;33m\n",
            "\u001b[0m\u001b[1;33m\n",
            "\u001b[0m        \u001b[1;31m# if exog was included, check the array...\u001b[0m\u001b[1;33m\n",
            "\u001b[0m        \u001b[1;32mif\u001b[0m \u001b[0mX\u001b[0m \u001b[1;32mis\u001b[0m \u001b[1;32mnot\u001b[0m \u001b[1;32mNone\u001b[0m\u001b[1;33m:\u001b[0m\u001b[1;33m\n",
            "\u001b[0m            \u001b[0mX\u001b[0m \u001b[1;33m=\u001b[0m \u001b[0mcheck_exog\u001b[0m\u001b[1;33m(\u001b[0m\u001b[0mX\u001b[0m\u001b[1;33m,\u001b[0m \u001b[0mforce_all_finite\u001b[0m\u001b[1;33m=\u001b[0m\u001b[1;32mFalse\u001b[0m\u001b[1;33m,\u001b[0m \u001b[0mcopy\u001b[0m\u001b[1;33m=\u001b[0m\u001b[1;32mFalse\u001b[0m\u001b[1;33m,\u001b[0m \u001b[0mdtype\u001b[0m\u001b[1;33m=\u001b[0m\u001b[0mDTYPE\u001b[0m\u001b[1;33m)\u001b[0m\u001b[1;33m\n",
            "\u001b[0m\u001b[1;33m\n",
            "\u001b[0m        \u001b[1;31m# determine the CV args, if any\u001b[0m\u001b[1;33m\n",
            "\u001b[0m        \u001b[0mcv\u001b[0m \u001b[1;33m=\u001b[0m \u001b[0mself\u001b[0m\u001b[1;33m.\u001b[0m\u001b[0mout_of_sample_size\u001b[0m\u001b[1;33m\n",
            "\u001b[0m        \u001b[0mscoring\u001b[0m \u001b[1;33m=\u001b[0m \u001b[0mval\u001b[0m\u001b[1;33m.\u001b[0m\u001b[0mget_scoring_metric\u001b[0m\u001b[1;33m(\u001b[0m\u001b[0mself\u001b[0m\u001b[1;33m.\u001b[0m\u001b[0mscoring\u001b[0m\u001b[1;33m)\u001b[0m\u001b[1;33m\n",
            "\u001b[0m\u001b[1;33m\n",
            "\u001b[0m        \u001b[1;31m# don't allow negative, don't allow > n_samples\u001b[0m\u001b[1;33m\n",
            "\u001b[0m        \u001b[0mcv\u001b[0m \u001b[1;33m=\u001b[0m \u001b[0mmax\u001b[0m\u001b[1;33m(\u001b[0m\u001b[0mcv\u001b[0m\u001b[1;33m,\u001b[0m \u001b[1;36m0\u001b[0m\u001b[1;33m)\u001b[0m\u001b[1;33m\n",
            "\u001b[0m\u001b[1;33m\n",
            "\u001b[0m        \u001b[1;31m# if cv is too big, raise\u001b[0m\u001b[1;33m\n",
            "\u001b[0m        \u001b[1;32mif\u001b[0m \u001b[0mcv\u001b[0m \u001b[1;33m>=\u001b[0m \u001b[0mn_samples\u001b[0m\u001b[1;33m:\u001b[0m\u001b[1;33m\n",
            "\u001b[0m            \u001b[1;32mraise\u001b[0m \u001b[0mValueError\u001b[0m\u001b[1;33m(\u001b[0m\u001b[1;34m\"out-of-sample size must be less than number \"\u001b[0m\u001b[1;33m\n",
            "\u001b[0m                             \u001b[1;34m\"of samples!\"\u001b[0m\u001b[1;33m)\u001b[0m\u001b[1;33m\n",
            "\u001b[0m\u001b[1;33m\n",
            "\u001b[0m        \u001b[1;31m# If we want to get a score on the out-of-sample, we need to trim\u001b[0m\u001b[1;33m\n",
            "\u001b[0m        \u001b[1;31m# down the size of our y vec for fitting. Addressed due to Issue #28\u001b[0m\u001b[1;33m\n",
            "\u001b[0m        \u001b[0mcv_samples\u001b[0m \u001b[1;33m=\u001b[0m \u001b[1;32mNone\u001b[0m\u001b[1;33m\n",
            "\u001b[0m        \u001b[0mcv_exog\u001b[0m \u001b[1;33m=\u001b[0m \u001b[1;32mNone\u001b[0m\u001b[1;33m\n",
            "\u001b[0m        \u001b[1;32mif\u001b[0m \u001b[0mcv\u001b[0m\u001b[1;33m:\u001b[0m\u001b[1;33m\n",
            "\u001b[0m            \u001b[0mcv_samples\u001b[0m \u001b[1;33m=\u001b[0m \u001b[0my\u001b[0m\u001b[1;33m[\u001b[0m\u001b[1;33m-\u001b[0m\u001b[0mcv\u001b[0m\u001b[1;33m:\u001b[0m\u001b[1;33m]\u001b[0m\u001b[1;33m\n",
            "\u001b[0m            \u001b[0my\u001b[0m \u001b[1;33m=\u001b[0m \u001b[0my\u001b[0m\u001b[1;33m[\u001b[0m\u001b[1;33m:\u001b[0m\u001b[1;33m-\u001b[0m\u001b[0mcv\u001b[0m\u001b[1;33m]\u001b[0m\u001b[1;33m\n",
            "\u001b[0m\u001b[1;33m\n",
            "\u001b[0m            \u001b[1;31m# This also means we have to address X\u001b[0m\u001b[1;33m\n",
            "\u001b[0m            \u001b[1;32mif\u001b[0m \u001b[0mX\u001b[0m \u001b[1;32mis\u001b[0m \u001b[1;32mnot\u001b[0m \u001b[1;32mNone\u001b[0m\u001b[1;33m:\u001b[0m\u001b[1;33m\n",
            "\u001b[0m                \u001b[0mn_exog\u001b[0m \u001b[1;33m=\u001b[0m \u001b[0mX\u001b[0m\u001b[1;33m.\u001b[0m\u001b[0mshape\u001b[0m\u001b[1;33m[\u001b[0m\u001b[1;36m0\u001b[0m\u001b[1;33m]\u001b[0m\u001b[1;33m\n",
            "\u001b[0m                \u001b[0mcv_exog\u001b[0m \u001b[1;33m=\u001b[0m \u001b[0msafe_indexing\u001b[0m\u001b[1;33m(\u001b[0m\u001b[0mX\u001b[0m\u001b[1;33m,\u001b[0m \u001b[0mslice\u001b[0m\u001b[1;33m(\u001b[0m\u001b[0mn_exog\u001b[0m \u001b[1;33m-\u001b[0m \u001b[0mcv\u001b[0m\u001b[1;33m,\u001b[0m \u001b[0mn_exog\u001b[0m\u001b[1;33m)\u001b[0m\u001b[1;33m)\u001b[0m\u001b[1;33m\n",
            "\u001b[0m                \u001b[0mX\u001b[0m \u001b[1;33m=\u001b[0m \u001b[0msafe_indexing\u001b[0m\u001b[1;33m(\u001b[0m\u001b[0mX\u001b[0m\u001b[1;33m,\u001b[0m \u001b[0mslice\u001b[0m\u001b[1;33m(\u001b[0m\u001b[1;36m0\u001b[0m\u001b[1;33m,\u001b[0m \u001b[0mn_exog\u001b[0m \u001b[1;33m-\u001b[0m \u001b[0mcv\u001b[0m\u001b[1;33m)\u001b[0m\u001b[1;33m)\u001b[0m\u001b[1;33m\n",
            "\u001b[0m\u001b[1;33m\n",
            "\u001b[0m        \u001b[1;31m# Internal call\u001b[0m\u001b[1;33m\n",
            "\u001b[0m        \u001b[0mself\u001b[0m\u001b[1;33m.\u001b[0m\u001b[0m_fit\u001b[0m\u001b[1;33m(\u001b[0m\u001b[0my\u001b[0m\u001b[1;33m,\u001b[0m \u001b[0mX\u001b[0m\u001b[1;33m,\u001b[0m \u001b[1;33m**\u001b[0m\u001b[0mfit_args\u001b[0m\u001b[1;33m)\u001b[0m\u001b[1;33m\n",
            "\u001b[0m\u001b[1;33m\n",
            "\u001b[0m        \u001b[1;31m# now make a forecast if we're validating to compute the\u001b[0m\u001b[1;33m\n",
            "\u001b[0m        \u001b[1;31m# out-of-sample score\u001b[0m\u001b[1;33m\n",
            "\u001b[0m        \u001b[1;32mif\u001b[0m \u001b[0mcv_samples\u001b[0m \u001b[1;32mis\u001b[0m \u001b[1;32mnot\u001b[0m \u001b[1;32mNone\u001b[0m\u001b[1;33m:\u001b[0m\u001b[1;33m\n",
            "\u001b[0m            \u001b[1;31m# get the predictions (use self.predict, which calls forecast\u001b[0m\u001b[1;33m\n",
            "\u001b[0m            \u001b[1;31m# from statsmodels internally)\u001b[0m\u001b[1;33m\n",
            "\u001b[0m            \u001b[0mpred\u001b[0m \u001b[1;33m=\u001b[0m \u001b[0mself\u001b[0m\u001b[1;33m.\u001b[0m\u001b[0mpredict\u001b[0m\u001b[1;33m(\u001b[0m\u001b[0mn_periods\u001b[0m\u001b[1;33m=\u001b[0m\u001b[0mcv\u001b[0m\u001b[1;33m,\u001b[0m \u001b[0mX\u001b[0m\u001b[1;33m=\u001b[0m\u001b[0mcv_exog\u001b[0m\u001b[1;33m)\u001b[0m\u001b[1;33m\n",
            "\u001b[0m            \u001b[0mscoring_args\u001b[0m \u001b[1;33m=\u001b[0m \u001b[1;33m{\u001b[0m\u001b[1;33m}\u001b[0m \u001b[1;32mif\u001b[0m \u001b[1;32mnot\u001b[0m \u001b[0mself\u001b[0m\u001b[1;33m.\u001b[0m\u001b[0mscoring_args\u001b[0m \u001b[1;32melse\u001b[0m \u001b[0mself\u001b[0m\u001b[1;33m.\u001b[0m\u001b[0mscoring_args\u001b[0m\u001b[1;33m\n",
            "\u001b[0m            \u001b[0mself\u001b[0m\u001b[1;33m.\u001b[0m\u001b[0moob_\u001b[0m \u001b[1;33m=\u001b[0m \u001b[0mscoring\u001b[0m\u001b[1;33m(\u001b[0m\u001b[0mcv_samples\u001b[0m\u001b[1;33m,\u001b[0m \u001b[0mpred\u001b[0m\u001b[1;33m,\u001b[0m \u001b[1;33m**\u001b[0m\u001b[0mscoring_args\u001b[0m\u001b[1;33m)\u001b[0m\u001b[1;33m\n",
            "\u001b[0m            \u001b[0mself\u001b[0m\u001b[1;33m.\u001b[0m\u001b[0moob_preds_\u001b[0m \u001b[1;33m=\u001b[0m \u001b[0mpred\u001b[0m\u001b[1;33m\n",
            "\u001b[0m\u001b[1;33m\n",
            "\u001b[0m            \u001b[1;31m# If we compute out of sample scores, we have to now update the\u001b[0m\u001b[1;33m\n",
            "\u001b[0m            \u001b[1;31m# observed time points so future forecasts originate from the end\u001b[0m\u001b[1;33m\n",
            "\u001b[0m            \u001b[1;31m# of our y vec\u001b[0m\u001b[1;33m\n",
            "\u001b[0m            \u001b[0mself\u001b[0m\u001b[1;33m.\u001b[0m\u001b[0mupdate\u001b[0m\u001b[1;33m(\u001b[0m\u001b[0mcv_samples\u001b[0m\u001b[1;33m,\u001b[0m \u001b[0mcv_exog\u001b[0m\u001b[1;33m,\u001b[0m \u001b[1;33m**\u001b[0m\u001b[0mfit_args\u001b[0m\u001b[1;33m)\u001b[0m\u001b[1;33m\n",
            "\u001b[0m        \u001b[1;32melse\u001b[0m\u001b[1;33m:\u001b[0m\u001b[1;33m\n",
            "\u001b[0m            \u001b[0mself\u001b[0m\u001b[1;33m.\u001b[0m\u001b[0moob_\u001b[0m \u001b[1;33m=\u001b[0m \u001b[0mnp\u001b[0m\u001b[1;33m.\u001b[0m\u001b[0mnan\u001b[0m\u001b[1;33m\n",
            "\u001b[0m            \u001b[0mself\u001b[0m\u001b[1;33m.\u001b[0m\u001b[0moob_preds_\u001b[0m \u001b[1;33m=\u001b[0m \u001b[1;32mNone\u001b[0m\u001b[1;33m\n",
            "\u001b[0m\u001b[1;33m\n",
            "\u001b[0m        \u001b[1;32mreturn\u001b[0m \u001b[0mself\u001b[0m\u001b[1;33m\n",
            "\u001b[0m\u001b[1;33m\n",
            "\u001b[0m    \u001b[1;32mdef\u001b[0m \u001b[0m_check_exog\u001b[0m\u001b[1;33m(\u001b[0m\u001b[0mself\u001b[0m\u001b[1;33m,\u001b[0m \u001b[0mX\u001b[0m\u001b[1;33m)\u001b[0m\u001b[1;33m:\u001b[0m\u001b[1;33m\n",
            "\u001b[0m        \u001b[1;31m# if we fit with exog, make sure one was passed, or else fail out:\u001b[0m\u001b[1;33m\n",
            "\u001b[0m        \u001b[1;32mif\u001b[0m \u001b[0mself\u001b[0m\u001b[1;33m.\u001b[0m\u001b[0mfit_with_exog_\u001b[0m\u001b[1;33m:\u001b[0m\u001b[1;33m\n",
            "\u001b[0m            \u001b[1;32mif\u001b[0m \u001b[0mX\u001b[0m \u001b[1;32mis\u001b[0m \u001b[1;32mNone\u001b[0m\u001b[1;33m:\u001b[0m\u001b[1;33m\n",
            "\u001b[0m                \u001b[1;32mraise\u001b[0m \u001b[0mValueError\u001b[0m\u001b[1;33m(\u001b[0m\u001b[1;34m'When an ARIMA is fit with an X '\u001b[0m\u001b[1;33m\n",
            "\u001b[0m                                 \u001b[1;34m'array, it must also be provided one for '\u001b[0m\u001b[1;33m\n",
            "\u001b[0m                                 \u001b[1;34m'predicting or updating observations.'\u001b[0m\u001b[1;33m)\u001b[0m\u001b[1;33m\n",
            "\u001b[0m            \u001b[1;32melse\u001b[0m\u001b[1;33m:\u001b[0m\u001b[1;33m\n",
            "\u001b[0m                \u001b[1;32mreturn\u001b[0m \u001b[0mcheck_exog\u001b[0m\u001b[1;33m(\u001b[0m\u001b[0mX\u001b[0m\u001b[1;33m,\u001b[0m \u001b[0mforce_all_finite\u001b[0m\u001b[1;33m=\u001b[0m\u001b[1;32mTrue\u001b[0m\u001b[1;33m,\u001b[0m \u001b[0mdtype\u001b[0m\u001b[1;33m=\u001b[0m\u001b[0mDTYPE\u001b[0m\u001b[1;33m)\u001b[0m\u001b[1;33m\n",
            "\u001b[0m        \u001b[1;32mreturn\u001b[0m \u001b[1;32mNone\u001b[0m\u001b[1;33m\n",
            "\u001b[0m\u001b[1;33m\n",
            "\u001b[0m    \u001b[1;32mdef\u001b[0m \u001b[0mpredict_in_sample\u001b[0m\u001b[1;33m(\u001b[0m\u001b[1;33m\n",
            "\u001b[0m        \u001b[0mself\u001b[0m\u001b[1;33m,\u001b[0m\u001b[1;33m\n",
            "\u001b[0m        \u001b[0mX\u001b[0m\u001b[1;33m=\u001b[0m\u001b[1;32mNone\u001b[0m\u001b[1;33m,\u001b[0m\u001b[1;33m\n",
            "\u001b[0m        \u001b[0mstart\u001b[0m\u001b[1;33m=\u001b[0m\u001b[1;32mNone\u001b[0m\u001b[1;33m,\u001b[0m\u001b[1;33m\n",
            "\u001b[0m        \u001b[0mend\u001b[0m\u001b[1;33m=\u001b[0m\u001b[1;32mNone\u001b[0m\u001b[1;33m,\u001b[0m\u001b[1;33m\n",
            "\u001b[0m        \u001b[0mdynamic\u001b[0m\u001b[1;33m=\u001b[0m\u001b[1;32mFalse\u001b[0m\u001b[1;33m,\u001b[0m\u001b[1;33m\n",
            "\u001b[0m        \u001b[0mreturn_conf_int\u001b[0m\u001b[1;33m=\u001b[0m\u001b[1;32mFalse\u001b[0m\u001b[1;33m,\u001b[0m\u001b[1;33m\n",
            "\u001b[0m        \u001b[0malpha\u001b[0m\u001b[1;33m=\u001b[0m\u001b[1;36m0.05\u001b[0m\u001b[1;33m,\u001b[0m\u001b[1;33m\n",
            "\u001b[0m        \u001b[1;33m**\u001b[0m\u001b[0mkwargs\u001b[0m\u001b[1;33m,\u001b[0m\u001b[1;33m\n",
            "\u001b[0m    \u001b[1;33m)\u001b[0m\u001b[1;33m:\u001b[0m\u001b[1;33m\n",
            "\u001b[0m        \u001b[1;34m\"\"\"Generate in-sample predictions from the fit ARIMA model.\n",
            "\n",
            "        Predicts the original training (in-sample) time series values. This can\n",
            "        be useful when wanting to visualize the fit, and qualitatively inspect\n",
            "        the efficacy of the model, or when wanting to compute the residuals\n",
            "        of the model.\n",
            "\n",
            "        Parameters\n",
            "        ----------\n",
            "        X : array-like, shape=[n_obs, n_vars], optional (default=None)\n",
            "            An optional 2-d array of exogenous variables. If provided, these\n",
            "            variables are used as additional features in the regression\n",
            "            operation. This should not include a constant or trend. Note that\n",
            "            if an ``ARIMA`` is fit on exogenous features, it must be provided\n",
            "            exogenous features for making predictions.\n",
            "\n",
            "        start : int or object, optional (default=None)\n",
            "            Zero-indexed observation number at which to start forecasting, ie.,\n",
            "            the first forecast is start. Note that if this value is less than\n",
            "            ``d``, the order of differencing, an error will be raised.\n",
            "            Alternatively, a non-int value can be given if the model was fit\n",
            "            on a ``pd.Series`` with an object-type index, like a timestamp.\n",
            "\n",
            "        end : int or object, optional (default=None)\n",
            "            Zero-indexed observation number at which to end forecasting, ie.,\n",
            "            the first forecast is start. Alternatively, a non-int value can be\n",
            "            given if the model was fit on a ``pd.Series`` with an object-type\n",
            "            index, like a timestamp.\n",
            "\n",
            "        dynamic : bool, optional (default=False)\n",
            "            The `dynamic` keyword affects in-sample prediction. If dynamic\n",
            "            is False, then the in-sample lagged values are used for\n",
            "            prediction. If `dynamic` is True, then in-sample forecasts are\n",
            "            used in place of lagged dependent variables. The first forecasted\n",
            "            value is `start`.\n",
            "\n",
            "        return_conf_int : bool, optional (default=False)\n",
            "            Whether to get the confidence intervals of the forecasts.\n",
            "\n",
            "        alpha : float, optional (default=0.05)\n",
            "            The confidence intervals for the forecasts are (1 - alpha) %\n",
            "\n",
            "        Returns\n",
            "        -------\n",
            "        preds : array\n",
            "            The predicted values.\n",
            "\n",
            "        conf_int : array-like, shape=(n_periods, 2), optional\n",
            "            The confidence intervals for the predictions. Only returned if\n",
            "            ``return_conf_int`` is True.\n",
            "        \"\"\"\u001b[0m\u001b[1;33m\n",
            "\u001b[0m        \u001b[0mcheck_is_fitted\u001b[0m\u001b[1;33m(\u001b[0m\u001b[0mself\u001b[0m\u001b[1;33m,\u001b[0m \u001b[1;34m'arima_res_'\u001b[0m\u001b[1;33m)\u001b[0m\u001b[1;33m\n",
            "\u001b[0m\u001b[1;33m\n",
            "\u001b[0m        \u001b[1;31m# issue #499: support prediction with non-integer start/end indices\u001b[0m\u001b[1;33m\n",
            "\u001b[0m        \u001b[1;31m# issue #286: we can't produce valid preds for start < diff value\u001b[0m\u001b[1;33m\n",
            "\u001b[0m        \u001b[1;31m# we can only do the validation for issue 286 if `start` is an int\u001b[0m\u001b[1;33m\n",
            "\u001b[0m        \u001b[0md\u001b[0m \u001b[1;33m=\u001b[0m \u001b[0mself\u001b[0m\u001b[1;33m.\u001b[0m\u001b[0morder\u001b[0m\u001b[1;33m[\u001b[0m\u001b[1;36m1\u001b[0m\u001b[1;33m]\u001b[0m\u001b[1;33m\n",
            "\u001b[0m        \u001b[1;32mif\u001b[0m \u001b[0misinstance\u001b[0m\u001b[1;33m(\u001b[0m\u001b[0mstart\u001b[0m\u001b[1;33m,\u001b[0m \u001b[0mnumbers\u001b[0m\u001b[1;33m.\u001b[0m\u001b[0mIntegral\u001b[0m\u001b[1;33m)\u001b[0m \u001b[1;32mand\u001b[0m \u001b[0mstart\u001b[0m \u001b[1;33m<\u001b[0m \u001b[0md\u001b[0m\u001b[1;33m:\u001b[0m\u001b[1;33m\n",
            "\u001b[0m            \u001b[1;32mraise\u001b[0m \u001b[0mValueError\u001b[0m\u001b[1;33m(\u001b[0m\u001b[1;33m\n",
            "\u001b[0m                \u001b[1;34mf\"In-sample predictions undefined for start={start} when d={d}\"\u001b[0m\u001b[1;33m\n",
            "\u001b[0m            \u001b[1;33m)\u001b[0m\u001b[1;33m\n",
            "\u001b[0m\u001b[1;33m\n",
            "\u001b[0m        \u001b[1;31m# if we fit with exog, make sure one was passed:\u001b[0m\u001b[1;33m\n",
            "\u001b[0m        \u001b[0mX\u001b[0m \u001b[1;33m=\u001b[0m \u001b[0mself\u001b[0m\u001b[1;33m.\u001b[0m\u001b[0m_check_exog\u001b[0m\u001b[1;33m(\u001b[0m\u001b[0mX\u001b[0m\u001b[1;33m)\u001b[0m  \u001b[1;31m# type: np.ndarray\u001b[0m\u001b[1;33m\n",
            "\u001b[0m        \u001b[0mresults_wrapper\u001b[0m \u001b[1;33m=\u001b[0m \u001b[0mself\u001b[0m\u001b[1;33m.\u001b[0m\u001b[0marima_res_\u001b[0m\u001b[1;33m\n",
            "\u001b[0m\u001b[1;33m\n",
            "\u001b[0m        \u001b[1;31m# If not returning the confidence intervals, we have it really easy\u001b[0m\u001b[1;33m\n",
            "\u001b[0m        \u001b[1;32mif\u001b[0m \u001b[1;32mnot\u001b[0m \u001b[0mreturn_conf_int\u001b[0m\u001b[1;33m:\u001b[0m\u001b[1;33m\n",
            "\u001b[0m            \u001b[0mpreds\u001b[0m \u001b[1;33m=\u001b[0m \u001b[0mresults_wrapper\u001b[0m\u001b[1;33m.\u001b[0m\u001b[0mpredict\u001b[0m\u001b[1;33m(\u001b[0m\u001b[1;33m\n",
            "\u001b[0m                \u001b[0mexog\u001b[0m\u001b[1;33m=\u001b[0m\u001b[0mX\u001b[0m\u001b[1;33m,\u001b[0m\u001b[1;33m\n",
            "\u001b[0m                \u001b[0mstart\u001b[0m\u001b[1;33m=\u001b[0m\u001b[0mstart\u001b[0m\u001b[1;33m,\u001b[0m\u001b[1;33m\n",
            "\u001b[0m                \u001b[0mend\u001b[0m\u001b[1;33m=\u001b[0m\u001b[0mend\u001b[0m\u001b[1;33m,\u001b[0m\u001b[1;33m\n",
            "\u001b[0m                \u001b[0mdynamic\u001b[0m\u001b[1;33m=\u001b[0m\u001b[0mdynamic\u001b[0m\u001b[1;33m,\u001b[0m\u001b[1;33m\n",
            "\u001b[0m            \u001b[1;33m)\u001b[0m\u001b[1;33m\n",
            "\u001b[0m\u001b[1;33m\n",
            "\u001b[0m            \u001b[1;32mreturn\u001b[0m \u001b[0mpreds\u001b[0m\u001b[1;33m\n",
            "\u001b[0m\u001b[1;33m\n",
            "\u001b[0m        \u001b[1;31m# We cannot get confidence intervals if dynamic is true\u001b[0m\u001b[1;33m\n",
            "\u001b[0m        \u001b[1;32mif\u001b[0m \u001b[0mdynamic\u001b[0m\u001b[1;33m:\u001b[0m\u001b[1;33m\n",
            "\u001b[0m            \u001b[0mwarnings\u001b[0m\u001b[1;33m.\u001b[0m\u001b[0mwarn\u001b[0m\u001b[1;33m(\u001b[0m\u001b[1;34m\"Cannot produce in-sample confidence intervals for \"\u001b[0m\u001b[1;33m\n",
            "\u001b[0m                          \u001b[1;34m\"dynamic=True. Setting dynamic=False\"\u001b[0m\u001b[1;33m)\u001b[0m\u001b[1;33m\n",
            "\u001b[0m            \u001b[0mdynamic\u001b[0m \u001b[1;33m=\u001b[0m \u001b[1;32mFalse\u001b[0m\u001b[1;33m\n",
            "\u001b[0m\u001b[1;33m\n",
            "\u001b[0m        \u001b[1;31m# Otherwise confidence intervals are requested...\u001b[0m\u001b[1;33m\n",
            "\u001b[0m        \u001b[0mpreds\u001b[0m\u001b[1;33m,\u001b[0m \u001b[0mconf_int\u001b[0m \u001b[1;33m=\u001b[0m \u001b[0m_seasonal_prediction_with_confidence\u001b[0m\u001b[1;33m(\u001b[0m\u001b[1;33m\n",
            "\u001b[0m            \u001b[0marima_res\u001b[0m\u001b[1;33m=\u001b[0m\u001b[0mresults_wrapper\u001b[0m\u001b[1;33m,\u001b[0m\u001b[1;33m\n",
            "\u001b[0m            \u001b[0mstart\u001b[0m\u001b[1;33m=\u001b[0m\u001b[0mstart\u001b[0m\u001b[1;33m,\u001b[0m\u001b[1;33m\n",
            "\u001b[0m            \u001b[0mend\u001b[0m\u001b[1;33m=\u001b[0m\u001b[0mend\u001b[0m\u001b[1;33m,\u001b[0m\u001b[1;33m\n",
            "\u001b[0m            \u001b[0mX\u001b[0m\u001b[1;33m=\u001b[0m\u001b[0mX\u001b[0m\u001b[1;33m,\u001b[0m\u001b[1;33m\n",
            "\u001b[0m            \u001b[0malpha\u001b[0m\u001b[1;33m=\u001b[0m\u001b[0malpha\u001b[0m\u001b[1;33m,\u001b[0m\u001b[1;33m\n",
            "\u001b[0m            \u001b[0mdynamic\u001b[0m\u001b[1;33m=\u001b[0m\u001b[0mdynamic\u001b[0m\u001b[1;33m,\u001b[0m\u001b[1;33m\n",
            "\u001b[0m        \u001b[1;33m)\u001b[0m\u001b[1;33m\n",
            "\u001b[0m\u001b[1;33m\n",
            "\u001b[0m        \u001b[1;32mreturn\u001b[0m \u001b[0mpreds\u001b[0m\u001b[1;33m,\u001b[0m \u001b[0mconf_int\u001b[0m\u001b[1;33m\n",
            "\u001b[0m\u001b[1;33m\n",
            "\u001b[0m    \u001b[1;32mdef\u001b[0m \u001b[0mpredict\u001b[0m\u001b[1;33m(\u001b[0m\u001b[0mself\u001b[0m\u001b[1;33m,\u001b[0m\u001b[1;33m\n",
            "\u001b[0m                \u001b[0mn_periods\u001b[0m\u001b[1;33m=\u001b[0m\u001b[1;36m10\u001b[0m\u001b[1;33m,\u001b[0m\u001b[1;33m\n",
            "\u001b[0m                \u001b[0mX\u001b[0m\u001b[1;33m=\u001b[0m\u001b[1;32mNone\u001b[0m\u001b[1;33m,\u001b[0m\u001b[1;33m\n",
            "\u001b[0m                \u001b[0mreturn_conf_int\u001b[0m\u001b[1;33m=\u001b[0m\u001b[1;32mFalse\u001b[0m\u001b[1;33m,\u001b[0m\u001b[1;33m\n",
            "\u001b[0m                \u001b[0malpha\u001b[0m\u001b[1;33m=\u001b[0m\u001b[1;36m0.05\u001b[0m\u001b[1;33m,\u001b[0m\u001b[1;33m\n",
            "\u001b[0m                \u001b[1;33m**\u001b[0m\u001b[0mkwargs\u001b[0m\u001b[1;33m)\u001b[0m\u001b[1;33m:\u001b[0m  \u001b[1;31m# TODO: remove kwargs after exog disappears\u001b[0m\u001b[1;33m\n",
            "\u001b[0m        \u001b[1;34m\"\"\"Forecast future values\n",
            "\n",
            "        Generate predictions (forecasts) ``n_periods`` in the future.\n",
            "        Note that if ``exogenous`` variables were used in the model fit, they\n",
            "        will be expected for the predict procedure and will fail otherwise.\n",
            "\n",
            "        Parameters\n",
            "        ----------\n",
            "        n_periods : int, optional (default=10)\n",
            "            The number of periods in the future to forecast.\n",
            "\n",
            "        X : array-like, shape=[n_obs, n_vars], optional (default=None)\n",
            "            An optional 2-d array of exogenous variables. If provided, these\n",
            "            variables are used as additional features in the regression\n",
            "            operation. This should not include a constant or trend. Note that\n",
            "            if an ``ARIMA`` is fit on exogenous features, it must be provided\n",
            "            exogenous features for making predictions.\n",
            "\n",
            "        return_conf_int : bool, optional (default=False)\n",
            "            Whether to get the confidence intervals of the forecasts.\n",
            "\n",
            "        alpha : float, optional (default=0.05)\n",
            "            The confidence intervals for the forecasts are (1 - alpha) %\n",
            "\n",
            "        Returns\n",
            "        -------\n",
            "        forecasts : array-like, shape=(n_periods,)\n",
            "            The array of fore-casted values.\n",
            "\n",
            "        conf_int : array-like, shape=(n_periods, 2), optional\n",
            "            The confidence intervals for the forecasts. Only returned if\n",
            "            ``return_conf_int`` is True.\n",
            "        \"\"\"\u001b[0m\u001b[1;33m\n",
            "\u001b[0m        \u001b[0mcheck_is_fitted\u001b[0m\u001b[1;33m(\u001b[0m\u001b[0mself\u001b[0m\u001b[1;33m,\u001b[0m \u001b[1;34m'arima_res_'\u001b[0m\u001b[1;33m)\u001b[0m\u001b[1;33m\n",
            "\u001b[0m        \u001b[1;32mif\u001b[0m \u001b[1;32mnot\u001b[0m \u001b[0misinstance\u001b[0m\u001b[1;33m(\u001b[0m\u001b[0mn_periods\u001b[0m\u001b[1;33m,\u001b[0m \u001b[0mint\u001b[0m\u001b[1;33m)\u001b[0m\u001b[1;33m:\u001b[0m\u001b[1;33m\n",
            "\u001b[0m            \u001b[1;32mraise\u001b[0m \u001b[0mTypeError\u001b[0m\u001b[1;33m(\u001b[0m\u001b[1;34m\"n_periods must be an int\"\u001b[0m\u001b[1;33m)\u001b[0m\u001b[1;33m\n",
            "\u001b[0m\u001b[1;33m\n",
            "\u001b[0m        \u001b[1;31m# if we fit with exog, make sure one was passed:\u001b[0m\u001b[1;33m\n",
            "\u001b[0m        \u001b[0mX\u001b[0m \u001b[1;33m=\u001b[0m \u001b[0mself\u001b[0m\u001b[1;33m.\u001b[0m\u001b[0m_check_exog\u001b[0m\u001b[1;33m(\u001b[0m\u001b[0mX\u001b[0m\u001b[1;33m)\u001b[0m  \u001b[1;31m# type: np.ndarray\u001b[0m\u001b[1;33m\n",
            "\u001b[0m        \u001b[1;32mif\u001b[0m \u001b[0mX\u001b[0m \u001b[1;32mis\u001b[0m \u001b[1;32mnot\u001b[0m \u001b[1;32mNone\u001b[0m \u001b[1;32mand\u001b[0m \u001b[0mX\u001b[0m\u001b[1;33m.\u001b[0m\u001b[0mshape\u001b[0m\u001b[1;33m[\u001b[0m\u001b[1;36m0\u001b[0m\u001b[1;33m]\u001b[0m \u001b[1;33m!=\u001b[0m \u001b[0mn_periods\u001b[0m\u001b[1;33m:\u001b[0m\u001b[1;33m\n",
            "\u001b[0m            \u001b[1;32mraise\u001b[0m \u001b[0mValueError\u001b[0m\u001b[1;33m(\u001b[0m\u001b[1;33m\n",
            "\u001b[0m                \u001b[1;34mf'X array dims (n_rows) != n_periods. Received '\u001b[0m\u001b[1;33m\n",
            "\u001b[0m                \u001b[1;34mf'n_rows={X.shape[0]} and n_periods={n_periods}'\u001b[0m\u001b[1;33m\n",
            "\u001b[0m            \u001b[1;33m)\u001b[0m\u001b[1;33m\n",
            "\u001b[0m\u001b[1;33m\n",
            "\u001b[0m        \u001b[1;31m# f = self.arima_res_.forecast(steps=n_periods, exog=X)\u001b[0m\u001b[1;33m\n",
            "\u001b[0m        \u001b[0marima\u001b[0m \u001b[1;33m=\u001b[0m \u001b[0mself\u001b[0m\u001b[1;33m.\u001b[0m\u001b[0marima_res_\u001b[0m\u001b[1;33m\n",
            "\u001b[0m        \u001b[0mend\u001b[0m \u001b[1;33m=\u001b[0m \u001b[0marima\u001b[0m\u001b[1;33m.\u001b[0m\u001b[0mnobs\u001b[0m \u001b[1;33m+\u001b[0m \u001b[0mn_periods\u001b[0m \u001b[1;33m-\u001b[0m \u001b[1;36m1\u001b[0m\u001b[1;33m\n",
            "\u001b[0m\u001b[1;33m\n",
            "\u001b[0m        \u001b[0mf\u001b[0m\u001b[1;33m,\u001b[0m \u001b[0mconf_int\u001b[0m \u001b[1;33m=\u001b[0m \u001b[0m_seasonal_prediction_with_confidence\u001b[0m\u001b[1;33m(\u001b[0m\u001b[1;33m\n",
            "\u001b[0m            \u001b[0marima_res\u001b[0m\u001b[1;33m=\u001b[0m\u001b[0marima\u001b[0m\u001b[1;33m,\u001b[0m\u001b[1;33m\n",
            "\u001b[0m            \u001b[0mstart\u001b[0m\u001b[1;33m=\u001b[0m\u001b[0marima\u001b[0m\u001b[1;33m.\u001b[0m\u001b[0mnobs\u001b[0m\u001b[1;33m,\u001b[0m\u001b[1;33m\n",
            "\u001b[0m            \u001b[0mend\u001b[0m\u001b[1;33m=\u001b[0m\u001b[0mend\u001b[0m\u001b[1;33m,\u001b[0m\u001b[1;33m\n",
            "\u001b[0m            \u001b[0mX\u001b[0m\u001b[1;33m=\u001b[0m\u001b[0mX\u001b[0m\u001b[1;33m,\u001b[0m\u001b[1;33m\n",
            "\u001b[0m            \u001b[0malpha\u001b[0m\u001b[1;33m=\u001b[0m\u001b[0malpha\u001b[0m\u001b[1;33m)\u001b[0m\u001b[1;33m\n",
            "\u001b[0m\u001b[1;33m\n",
            "\u001b[0m        \u001b[1;32mif\u001b[0m \u001b[0mreturn_conf_int\u001b[0m\u001b[1;33m:\u001b[0m\u001b[1;33m\n",
            "\u001b[0m            \u001b[1;31m# The confidence intervals may be a Pandas frame if it comes from\u001b[0m\u001b[1;33m\n",
            "\u001b[0m            \u001b[1;31m# SARIMAX & we want Numpy. We will to duck type it so we don't add\u001b[0m\u001b[1;33m\n",
            "\u001b[0m            \u001b[1;31m# new explicit requirements for the package\u001b[0m\u001b[1;33m\n",
            "\u001b[0m            \u001b[1;32mreturn\u001b[0m \u001b[0mf\u001b[0m\u001b[1;33m,\u001b[0m \u001b[0mcheck_array\u001b[0m\u001b[1;33m(\u001b[0m\u001b[0mconf_int\u001b[0m\u001b[1;33m,\u001b[0m \u001b[0mforce_all_finite\u001b[0m\u001b[1;33m=\u001b[0m\u001b[1;32mFalse\u001b[0m\u001b[1;33m)\u001b[0m\u001b[1;33m\n",
            "\u001b[0m        \u001b[1;32mreturn\u001b[0m \u001b[0mf\u001b[0m\u001b[1;33m\n",
            "\u001b[0m\u001b[1;33m\n",
            "\u001b[0m    \u001b[1;32mdef\u001b[0m \u001b[0m__getstate__\u001b[0m\u001b[1;33m(\u001b[0m\u001b[0mself\u001b[0m\u001b[1;33m)\u001b[0m\u001b[1;33m:\u001b[0m\u001b[1;33m\n",
            "\u001b[0m        \u001b[1;34m\"\"\"I am being pickled...\"\"\"\u001b[0m\u001b[1;33m\n",
            "\u001b[0m\u001b[1;33m\n",
            "\u001b[0m        \u001b[1;31m# In versions <0.9.0, if this already contains a pointer to a\u001b[0m\u001b[1;33m\n",
            "\u001b[0m        \u001b[1;31m# \"saved state\" model, we deleted that model and replaced it with the\u001b[0m\u001b[1;33m\n",
            "\u001b[0m        \u001b[1;31m# new one.\u001b[0m\u001b[1;33m\n",
            "\u001b[0m        \u001b[1;31m# In version >= v0.9.0, we keep the old model around, since that's how\u001b[0m\u001b[1;33m\n",
            "\u001b[0m        \u001b[1;31m# the user expects it should probably work (otherwise unpickling the\u001b[0m\u001b[1;33m\n",
            "\u001b[0m        \u001b[1;31m# previous state of the model would raise an OSError).\u001b[0m\u001b[1;33m\n",
            "\u001b[0m        \u001b[1;31m# In version >= 1.1.0, we allow statsmodels results wrappers to be\u001b[0m\u001b[1;33m\n",
            "\u001b[0m        \u001b[1;31m# bundled into the same pickle file (see Issue #48) which is possible\u001b[0m\u001b[1;33m\n",
            "\u001b[0m        \u001b[1;31m# due to statsmodels v0.9.0+. As a result, we no longer really need\u001b[0m\u001b[1;33m\n",
            "\u001b[0m        \u001b[1;31m# this subhook...\u001b[0m\u001b[1;33m\n",
            "\u001b[0m        \u001b[1;32mreturn\u001b[0m \u001b[0mself\u001b[0m\u001b[1;33m.\u001b[0m\u001b[0m__dict__\u001b[0m\u001b[1;33m\n",
            "\u001b[0m\u001b[1;33m\n",
            "\u001b[0m    \u001b[1;32mdef\u001b[0m \u001b[0m__setstate__\u001b[0m\u001b[1;33m(\u001b[0m\u001b[0mself\u001b[0m\u001b[1;33m,\u001b[0m \u001b[0mstate\u001b[0m\u001b[1;33m)\u001b[0m\u001b[1;33m:\u001b[0m\u001b[1;33m\n",
            "\u001b[0m        \u001b[1;34m\"\"\"I am being unpickled...\"\"\"\u001b[0m\u001b[1;33m\n",
            "\u001b[0m        \u001b[0mself\u001b[0m\u001b[1;33m.\u001b[0m\u001b[0m__dict__\u001b[0m \u001b[1;33m=\u001b[0m \u001b[0mstate\u001b[0m\u001b[1;33m\n",
            "\u001b[0m\u001b[1;33m\n",
            "\u001b[0m        \u001b[1;31m# Warn for unpickling a different version's model\u001b[0m\u001b[1;33m\n",
            "\u001b[0m        \u001b[0mself\u001b[0m\u001b[1;33m.\u001b[0m\u001b[0m_warn_for_older_version\u001b[0m\u001b[1;33m(\u001b[0m\u001b[1;33m)\u001b[0m\u001b[1;33m\n",
            "\u001b[0m        \u001b[1;32mreturn\u001b[0m \u001b[0mself\u001b[0m\u001b[1;33m\n",
            "\u001b[0m\u001b[1;33m\n",
            "\u001b[0m    \u001b[1;32mdef\u001b[0m \u001b[0m_warn_for_older_version\u001b[0m\u001b[1;33m(\u001b[0m\u001b[0mself\u001b[0m\u001b[1;33m)\u001b[0m\u001b[1;33m:\u001b[0m\u001b[1;33m\n",
            "\u001b[0m        \u001b[1;31m# Added in v0.8.1 - check for the version pickled under and warn\u001b[0m\u001b[1;33m\n",
            "\u001b[0m        \u001b[1;31m# if it's different from the current version\u001b[0m\u001b[1;33m\n",
            "\u001b[0m        \u001b[0mdo_warn\u001b[0m \u001b[1;33m=\u001b[0m \u001b[1;32mFalse\u001b[0m\u001b[1;33m\n",
            "\u001b[0m        \u001b[0mmodl_version\u001b[0m \u001b[1;33m=\u001b[0m \u001b[1;32mNone\u001b[0m\u001b[1;33m\n",
            "\u001b[0m        \u001b[0mthis_version\u001b[0m \u001b[1;33m=\u001b[0m \u001b[0mpmdarima\u001b[0m\u001b[1;33m.\u001b[0m\u001b[0m__version__\u001b[0m\u001b[1;33m\n",
            "\u001b[0m\u001b[1;33m\n",
            "\u001b[0m        \u001b[1;32mtry\u001b[0m\u001b[1;33m:\u001b[0m\u001b[1;33m\n",
            "\u001b[0m            \u001b[0mmodl_version\u001b[0m \u001b[1;33m=\u001b[0m \u001b[0mgetattr\u001b[0m\u001b[1;33m(\u001b[0m\u001b[0mself\u001b[0m\u001b[1;33m,\u001b[0m \u001b[1;34m'pkg_version_'\u001b[0m\u001b[1;33m)\u001b[0m\u001b[1;33m\n",
            "\u001b[0m\u001b[1;33m\n",
            "\u001b[0m            \u001b[1;31m# Either < or > or '-dev' vs. release version\u001b[0m\u001b[1;33m\n",
            "\u001b[0m            \u001b[1;32mif\u001b[0m \u001b[0mmodl_version\u001b[0m \u001b[1;33m!=\u001b[0m \u001b[0mthis_version\u001b[0m\u001b[1;33m:\u001b[0m\u001b[1;33m\n",
            "\u001b[0m                \u001b[0mdo_warn\u001b[0m \u001b[1;33m=\u001b[0m \u001b[1;32mTrue\u001b[0m\u001b[1;33m\n",
            "\u001b[0m        \u001b[1;32mexcept\u001b[0m \u001b[0mAttributeError\u001b[0m\u001b[1;33m:\u001b[0m\u001b[1;33m\n",
            "\u001b[0m            \u001b[1;31m# Either wasn't fit when pickled or didn't have the attr due to\u001b[0m\u001b[1;33m\n",
            "\u001b[0m            \u001b[1;31m# it being an older version. If it wasn't fit, it will be missing\u001b[0m\u001b[1;33m\n",
            "\u001b[0m            \u001b[1;31m# the arima_res_ attr.\u001b[0m\u001b[1;33m\n",
            "\u001b[0m            \u001b[1;32mif\u001b[0m \u001b[0mhasattr\u001b[0m\u001b[1;33m(\u001b[0m\u001b[0mself\u001b[0m\u001b[1;33m,\u001b[0m \u001b[1;34m'arima_res_'\u001b[0m\u001b[1;33m)\u001b[0m\u001b[1;33m:\u001b[0m  \u001b[1;31m# it was fit, but is older\u001b[0m\u001b[1;33m\n",
            "\u001b[0m                \u001b[0mdo_warn\u001b[0m \u001b[1;33m=\u001b[0m \u001b[1;32mTrue\u001b[0m\u001b[1;33m\n",
            "\u001b[0m                \u001b[0mmodl_version\u001b[0m \u001b[1;33m=\u001b[0m \u001b[1;34m'<0.8.1'\u001b[0m\u001b[1;33m\n",
            "\u001b[0m\u001b[1;33m\n",
            "\u001b[0m            \u001b[1;31m# else: it may not have the model (not fit) and still be older,\u001b[0m\u001b[1;33m\n",
            "\u001b[0m            \u001b[1;31m# but we can't detect that.\u001b[0m\u001b[1;33m\n",
            "\u001b[0m\u001b[1;33m\n",
            "\u001b[0m        \u001b[1;31m# Means it was older\u001b[0m\u001b[1;33m\n",
            "\u001b[0m        \u001b[1;32mif\u001b[0m \u001b[0mdo_warn\u001b[0m\u001b[1;33m:\u001b[0m\u001b[1;33m\n",
            "\u001b[0m            \u001b[0mwarnings\u001b[0m\u001b[1;33m.\u001b[0m\u001b[0mwarn\u001b[0m\u001b[1;33m(\u001b[0m\u001b[1;34m\"You've deserialized an ARIMA from a version (%s) \"\u001b[0m\u001b[1;33m\n",
            "\u001b[0m                          \u001b[1;34m\"that does not match your installed version of \"\u001b[0m\u001b[1;33m\n",
            "\u001b[0m                          \u001b[1;34m\"pmdarima (%s). This could cause unforeseen \"\u001b[0m\u001b[1;33m\n",
            "\u001b[0m                          \u001b[1;34m\"behavior.\"\u001b[0m\u001b[1;33m\n",
            "\u001b[0m                          \u001b[1;33m%\u001b[0m \u001b[1;33m(\u001b[0m\u001b[0mmodl_version\u001b[0m\u001b[1;33m,\u001b[0m \u001b[0mthis_version\u001b[0m\u001b[1;33m)\u001b[0m\u001b[1;33m,\u001b[0m \u001b[0mUserWarning\u001b[0m\u001b[1;33m)\u001b[0m\u001b[1;33m\n",
            "\u001b[0m\u001b[1;33m\n",
            "\u001b[0m    \u001b[1;32mdef\u001b[0m \u001b[0m__str__\u001b[0m\u001b[1;33m(\u001b[0m\u001b[0mself\u001b[0m\u001b[1;33m)\u001b[0m\u001b[1;33m:\u001b[0m\u001b[1;33m\n",
            "\u001b[0m        \u001b[1;34m\"\"\"Different from __repr__, returns a debug string used in logging\"\"\"\u001b[0m\u001b[1;33m\n",
            "\u001b[0m        \u001b[0mp\u001b[0m\u001b[1;33m,\u001b[0m \u001b[0md\u001b[0m\u001b[1;33m,\u001b[0m \u001b[0mq\u001b[0m \u001b[1;33m=\u001b[0m \u001b[0mself\u001b[0m\u001b[1;33m.\u001b[0m\u001b[0morder\u001b[0m\u001b[1;33m\n",
            "\u001b[0m        \u001b[0mP\u001b[0m\u001b[1;33m,\u001b[0m \u001b[0mD\u001b[0m\u001b[1;33m,\u001b[0m \u001b[0mQ\u001b[0m\u001b[1;33m,\u001b[0m \u001b[0mm\u001b[0m \u001b[1;33m=\u001b[0m \u001b[0mself\u001b[0m\u001b[1;33m.\u001b[0m\u001b[0mseasonal_order\u001b[0m\u001b[1;33m\n",
            "\u001b[0m        \u001b[0mint_str\u001b[0m \u001b[1;33m=\u001b[0m \u001b[1;34m\"intercept\"\u001b[0m\u001b[1;33m\n",
            "\u001b[0m        \u001b[0mwith_intercept\u001b[0m \u001b[1;33m=\u001b[0m \u001b[0mself\u001b[0m\u001b[1;33m.\u001b[0m\u001b[0mwith_intercept\u001b[0m\u001b[1;33m\n",
            "\u001b[0m        \u001b[1;32mreturn\u001b[0m \u001b[1;33m(\u001b[0m\u001b[1;33m\n",
            "\u001b[0m            \u001b[1;34m\" ARIMA({p},{d},{q})({P},{D},{Q})[{m}] {intercept}\"\u001b[0m\u001b[1;33m.\u001b[0m\u001b[0mformat\u001b[0m\u001b[1;33m(\u001b[0m\u001b[1;33m\n",
            "\u001b[0m                \u001b[0mp\u001b[0m\u001b[1;33m=\u001b[0m\u001b[0mp\u001b[0m\u001b[1;33m,\u001b[0m\u001b[1;33m\n",
            "\u001b[0m                \u001b[0md\u001b[0m\u001b[1;33m=\u001b[0m\u001b[0md\u001b[0m\u001b[1;33m,\u001b[0m\u001b[1;33m\n",
            "\u001b[0m                \u001b[0mq\u001b[0m\u001b[1;33m=\u001b[0m\u001b[0mq\u001b[0m\u001b[1;33m,\u001b[0m\u001b[1;33m\n",
            "\u001b[0m                \u001b[0mP\u001b[0m\u001b[1;33m=\u001b[0m\u001b[0mP\u001b[0m\u001b[1;33m,\u001b[0m\u001b[1;33m\n",
            "\u001b[0m                \u001b[0mD\u001b[0m\u001b[1;33m=\u001b[0m\u001b[0mD\u001b[0m\u001b[1;33m,\u001b[0m\u001b[1;33m\n",
            "\u001b[0m                \u001b[0mQ\u001b[0m\u001b[1;33m=\u001b[0m\u001b[0mQ\u001b[0m\u001b[1;33m,\u001b[0m\u001b[1;33m\n",
            "\u001b[0m                \u001b[0mm\u001b[0m\u001b[1;33m=\u001b[0m\u001b[0mm\u001b[0m\u001b[1;33m,\u001b[0m\u001b[1;33m\n",
            "\u001b[0m                \u001b[1;31m# just for consistent spacing\u001b[0m\u001b[1;33m\n",
            "\u001b[0m                \u001b[0mintercept\u001b[0m\u001b[1;33m=\u001b[0m\u001b[0mint_str\u001b[0m \u001b[1;32mif\u001b[0m \u001b[0mwith_intercept\u001b[0m \u001b[1;32melse\u001b[0m \u001b[1;34m\" \"\u001b[0m \u001b[1;33m*\u001b[0m \u001b[0mlen\u001b[0m\u001b[1;33m(\u001b[0m\u001b[0mint_str\u001b[0m\u001b[1;33m)\u001b[0m\u001b[1;33m\n",
            "\u001b[0m            \u001b[1;33m)\u001b[0m\u001b[1;33m\n",
            "\u001b[0m        \u001b[1;33m)\u001b[0m\u001b[1;33m\n",
            "\u001b[0m\u001b[1;33m\n",
            "\u001b[0m    \u001b[1;32mdef\u001b[0m \u001b[0mupdate\u001b[0m\u001b[1;33m(\u001b[0m\u001b[0mself\u001b[0m\u001b[1;33m,\u001b[0m \u001b[0my\u001b[0m\u001b[1;33m,\u001b[0m \u001b[0mX\u001b[0m\u001b[1;33m=\u001b[0m\u001b[1;32mNone\u001b[0m\u001b[1;33m,\u001b[0m \u001b[0mmaxiter\u001b[0m\u001b[1;33m=\u001b[0m\u001b[1;32mNone\u001b[0m\u001b[1;33m,\u001b[0m \u001b[1;33m**\u001b[0m\u001b[0mkwargs\u001b[0m\u001b[1;33m)\u001b[0m\u001b[1;33m:\u001b[0m\u001b[1;33m\n",
            "\u001b[0m        \u001b[1;34m\"\"\"Update the model fit with additional observed endog/exog values.\n",
            "\n",
            "        Updating an ARIMA adds new observations to the model, updating the\n",
            "        MLE of the parameters accordingly by performing several new iterations\n",
            "        (``maxiter``) from the existing model parameters.\n",
            "\n",
            "        Parameters\n",
            "        ----------\n",
            "        y : array-like or iterable, shape=(n_samples,)\n",
            "            The time-series data to add to the endogenous samples on which the\n",
            "            ``ARIMA`` estimator was previously fit. This may either be a Pandas\n",
            "            ``Series`` object or a numpy array. This should be a one-\n",
            "            dimensional array of finite floats.\n",
            "\n",
            "        X : array-like, shape=[n_obs, n_vars], optional (default=None)\n",
            "            An optional 2-d array of exogenous variables. If the model was\n",
            "            fit with an exogenous array of covariates, it will be required for\n",
            "            updating the observed values.\n",
            "\n",
            "        maxiter : int, optional (default=None)\n",
            "            The number of iterations to perform when updating the model. If\n",
            "            None, will perform ``max(5, n_samples // 10)`` iterations.\n",
            "\n",
            "        **kwargs : keyword args\n",
            "            Any keyword args that should be passed as ``**fit_kwargs`` in the\n",
            "            new model fit.\n",
            "\n",
            "        Notes\n",
            "        -----\n",
            "        * Internally, this calls ``fit`` again using the OLD model parameters\n",
            "          as the starting parameters for the new model's MLE computation.\n",
            "        \"\"\"\u001b[0m\u001b[1;33m\n",
            "\u001b[0m        \u001b[0mcheck_is_fitted\u001b[0m\u001b[1;33m(\u001b[0m\u001b[0mself\u001b[0m\u001b[1;33m,\u001b[0m \u001b[1;34m'arima_res_'\u001b[0m\u001b[1;33m)\u001b[0m\u001b[1;33m\n",
            "\u001b[0m        \u001b[0mmodel_res\u001b[0m \u001b[1;33m=\u001b[0m \u001b[0mself\u001b[0m\u001b[1;33m.\u001b[0m\u001b[0marima_res_\u001b[0m\u001b[1;33m\n",
            "\u001b[0m\u001b[1;33m\n",
            "\u001b[0m        \u001b[1;31m# Allow updating with a scalar if the user is just adding a single\u001b[0m\u001b[1;33m\n",
            "\u001b[0m        \u001b[1;31m# sample.\u001b[0m\u001b[1;33m\n",
            "\u001b[0m        \u001b[1;32mif\u001b[0m \u001b[1;32mnot\u001b[0m \u001b[0mis_iterable\u001b[0m\u001b[1;33m(\u001b[0m\u001b[0my\u001b[0m\u001b[1;33m)\u001b[0m\u001b[1;33m:\u001b[0m\u001b[1;33m\n",
            "\u001b[0m            \u001b[0my\u001b[0m \u001b[1;33m=\u001b[0m \u001b[1;33m[\u001b[0m\u001b[0my\u001b[0m\u001b[1;33m]\u001b[0m\u001b[1;33m\n",
            "\u001b[0m\u001b[1;33m\n",
            "\u001b[0m        \u001b[1;31m# validate the new samples to add\u001b[0m\u001b[1;33m\n",
            "\u001b[0m        \u001b[0my\u001b[0m \u001b[1;33m=\u001b[0m \u001b[0mcheck_endog\u001b[0m\u001b[1;33m(\u001b[0m\u001b[0my\u001b[0m\u001b[1;33m,\u001b[0m \u001b[0mdtype\u001b[0m\u001b[1;33m=\u001b[0m\u001b[0mDTYPE\u001b[0m\u001b[1;33m,\u001b[0m \u001b[0mpreserve_series\u001b[0m\u001b[1;33m=\u001b[0m\u001b[1;32mTrue\u001b[0m\u001b[1;33m)\u001b[0m\u001b[1;33m\n",
            "\u001b[0m        \u001b[0mn_samples\u001b[0m \u001b[1;33m=\u001b[0m \u001b[0my\u001b[0m\u001b[1;33m.\u001b[0m\u001b[0mshape\u001b[0m\u001b[1;33m[\u001b[0m\u001b[1;36m0\u001b[0m\u001b[1;33m]\u001b[0m\u001b[1;33m\n",
            "\u001b[0m\u001b[1;33m\n",
            "\u001b[0m        \u001b[1;31m# if X is None and new X provided, or vice versa, raise\u001b[0m\u001b[1;33m\n",
            "\u001b[0m        \u001b[0mX\u001b[0m \u001b[1;33m=\u001b[0m \u001b[0mself\u001b[0m\u001b[1;33m.\u001b[0m\u001b[0m_check_exog\u001b[0m\u001b[1;33m(\u001b[0m\u001b[0mX\u001b[0m\u001b[1;33m)\u001b[0m  \u001b[1;31m# type: np.ndarray\u001b[0m\u001b[1;33m\n",
            "\u001b[0m\u001b[1;33m\n",
            "\u001b[0m        \u001b[1;31m# ensure the k_exog matches\u001b[0m\u001b[1;33m\n",
            "\u001b[0m        \u001b[1;32mif\u001b[0m \u001b[0mX\u001b[0m \u001b[1;32mis\u001b[0m \u001b[1;32mnot\u001b[0m \u001b[1;32mNone\u001b[0m\u001b[1;33m:\u001b[0m\u001b[1;33m\n",
            "\u001b[0m            \u001b[0mk_exog\u001b[0m \u001b[1;33m=\u001b[0m \u001b[0mmodel_res\u001b[0m\u001b[1;33m.\u001b[0m\u001b[0mmodel\u001b[0m\u001b[1;33m.\u001b[0m\u001b[0mk_exog\u001b[0m\u001b[1;33m\n",
            "\u001b[0m            \u001b[0mn_exog\u001b[0m\u001b[1;33m,\u001b[0m \u001b[0mexog_dim\u001b[0m \u001b[1;33m=\u001b[0m \u001b[0mX\u001b[0m\u001b[1;33m.\u001b[0m\u001b[0mshape\u001b[0m\u001b[1;33m\n",
            "\u001b[0m\u001b[1;33m\n",
            "\u001b[0m            \u001b[1;32mif\u001b[0m \u001b[0mX\u001b[0m\u001b[1;33m.\u001b[0m\u001b[0mshape\u001b[0m\u001b[1;33m[\u001b[0m\u001b[1;36m1\u001b[0m\u001b[1;33m]\u001b[0m \u001b[1;33m!=\u001b[0m \u001b[0mk_exog\u001b[0m\u001b[1;33m:\u001b[0m\u001b[1;33m\n",
            "\u001b[0m                \u001b[1;32mraise\u001b[0m \u001b[0mValueError\u001b[0m\u001b[1;33m(\u001b[0m\u001b[1;33m\n",
            "\u001b[0m                    \u001b[1;34mf\"Dim mismatch in fit `X` ({k_exog}) and new \"\u001b[0m\u001b[1;33m\n",
            "\u001b[0m                    \u001b[1;34mf\"`X` ({exog_dim})\"\u001b[0m\u001b[1;33m\n",
            "\u001b[0m                \u001b[1;33m)\u001b[0m\u001b[1;33m\n",
            "\u001b[0m\u001b[1;33m\n",
            "\u001b[0m            \u001b[1;31m# make sure the number of samples in X match the number\u001b[0m\u001b[1;33m\n",
            "\u001b[0m            \u001b[1;31m# of samples in the endog\u001b[0m\u001b[1;33m\n",
            "\u001b[0m            \u001b[1;32mif\u001b[0m \u001b[0mn_exog\u001b[0m \u001b[1;33m!=\u001b[0m \u001b[0mn_samples\u001b[0m\u001b[1;33m:\u001b[0m\u001b[1;33m\n",
            "\u001b[0m                \u001b[1;32mraise\u001b[0m \u001b[0mValueError\u001b[0m\u001b[1;33m(\u001b[0m\u001b[1;33m\n",
            "\u001b[0m                    \u001b[1;34mf\"Dim mismatch in n_samples (y={n_samples}, X={n_exog})\"\u001b[0m\u001b[1;33m\n",
            "\u001b[0m                \u001b[1;33m)\u001b[0m\u001b[1;33m\n",
            "\u001b[0m\u001b[1;33m\n",
            "\u001b[0m        \u001b[1;31m# first concatenate the original data (might be 2d or 1d)\u001b[0m\u001b[1;33m\n",
            "\u001b[0m        \u001b[0my\u001b[0m \u001b[1;33m=\u001b[0m \u001b[0mnp\u001b[0m\u001b[1;33m.\u001b[0m\u001b[0msqueeze\u001b[0m\u001b[1;33m(\u001b[0m\u001b[0m_append_to_endog\u001b[0m\u001b[1;33m(\u001b[0m\u001b[0mmodel_res\u001b[0m\u001b[1;33m.\u001b[0m\u001b[0mdata\u001b[0m\u001b[1;33m.\u001b[0m\u001b[0mendog\u001b[0m\u001b[1;33m,\u001b[0m \u001b[0my\u001b[0m\u001b[1;33m)\u001b[0m\u001b[1;33m)\u001b[0m\u001b[1;33m\n",
            "\u001b[0m\u001b[1;33m\n",
            "\u001b[0m        \u001b[1;31m# Now create the new X.\u001b[0m\u001b[1;33m\n",
            "\u001b[0m        \u001b[1;32mif\u001b[0m \u001b[0mX\u001b[0m \u001b[1;32mis\u001b[0m \u001b[1;32mnot\u001b[0m \u001b[1;32mNone\u001b[0m\u001b[1;33m:\u001b[0m\u001b[1;33m\n",
            "\u001b[0m            \u001b[1;31m# Concatenate\u001b[0m\u001b[1;33m\n",
            "\u001b[0m            \u001b[0mX_prime\u001b[0m \u001b[1;33m=\u001b[0m \u001b[0mnp\u001b[0m\u001b[1;33m.\u001b[0m\u001b[0mconcatenate\u001b[0m\u001b[1;33m(\u001b[0m\u001b[1;33m(\u001b[0m\u001b[0mmodel_res\u001b[0m\u001b[1;33m.\u001b[0m\u001b[0mdata\u001b[0m\u001b[1;33m.\u001b[0m\u001b[0mexog\u001b[0m\u001b[1;33m,\u001b[0m \u001b[0mX\u001b[0m\u001b[1;33m)\u001b[0m\u001b[1;33m,\u001b[0m \u001b[0maxis\u001b[0m\u001b[1;33m=\u001b[0m\u001b[1;36m0\u001b[0m\u001b[1;33m)\u001b[0m\u001b[1;33m\n",
            "\u001b[0m        \u001b[1;32melse\u001b[0m\u001b[1;33m:\u001b[0m\u001b[1;33m\n",
            "\u001b[0m            \u001b[1;31m# Just so it's in the namespace\u001b[0m\u001b[1;33m\n",
            "\u001b[0m            \u001b[0mX_prime\u001b[0m \u001b[1;33m=\u001b[0m \u001b[1;32mNone\u001b[0m\u001b[1;33m\n",
            "\u001b[0m\u001b[1;33m\n",
            "\u001b[0m        \u001b[1;31m# This is currently arbitrary... but it's here to avoid accidentally\u001b[0m\u001b[1;33m\n",
            "\u001b[0m        \u001b[1;31m# overfitting a user's model. Would be nice to find some papers that\u001b[0m\u001b[1;33m\n",
            "\u001b[0m        \u001b[1;31m# describe the best way to set this.\u001b[0m\u001b[1;33m\n",
            "\u001b[0m        \u001b[1;32mif\u001b[0m \u001b[0mmaxiter\u001b[0m \u001b[1;32mis\u001b[0m \u001b[1;32mNone\u001b[0m\u001b[1;33m:\u001b[0m\u001b[1;33m\n",
            "\u001b[0m            \u001b[0mmaxiter\u001b[0m \u001b[1;33m=\u001b[0m \u001b[0mmax\u001b[0m\u001b[1;33m(\u001b[0m\u001b[1;36m5\u001b[0m\u001b[1;33m,\u001b[0m \u001b[0mn_samples\u001b[0m \u001b[1;33m//\u001b[0m \u001b[1;36m10\u001b[0m\u001b[1;33m)\u001b[0m\u001b[1;33m\n",
            "\u001b[0m\u001b[1;33m\n",
            "\u001b[0m        \u001b[1;31m# Get the model parameters, then we have to \"fit\" a new one. If you're\u001b[0m\u001b[1;33m\n",
            "\u001b[0m        \u001b[1;31m# reading this source code, don't panic! We're not just fitting a new\u001b[0m\u001b[1;33m\n",
            "\u001b[0m        \u001b[1;31m# arbitrary model. Statsmodels does not handle patching new samples in\u001b[0m\u001b[1;33m\n",
            "\u001b[0m        \u001b[1;31m# very well, so we seed the new model with the existing parameters.\u001b[0m\u001b[1;33m\n",
            "\u001b[0m        \u001b[0mparams\u001b[0m \u001b[1;33m=\u001b[0m \u001b[0mmodel_res\u001b[0m\u001b[1;33m.\u001b[0m\u001b[0mparams\u001b[0m\u001b[1;33m\n",
            "\u001b[0m        \u001b[0mself\u001b[0m\u001b[1;33m.\u001b[0m\u001b[0m_fit\u001b[0m\u001b[1;33m(\u001b[0m\u001b[0my\u001b[0m\u001b[1;33m,\u001b[0m \u001b[0mX_prime\u001b[0m\u001b[1;33m,\u001b[0m \u001b[0mstart_params\u001b[0m\u001b[1;33m=\u001b[0m\u001b[0mparams\u001b[0m\u001b[1;33m,\u001b[0m \u001b[0mmaxiter\u001b[0m\u001b[1;33m=\u001b[0m\u001b[0mmaxiter\u001b[0m\u001b[1;33m,\u001b[0m \u001b[1;33m**\u001b[0m\u001b[0mkwargs\u001b[0m\u001b[1;33m)\u001b[0m\u001b[1;33m\n",
            "\u001b[0m\u001b[1;33m\n",
            "\u001b[0m        \u001b[1;31m# Behaves like `fit`\u001b[0m\u001b[1;33m\n",
            "\u001b[0m        \u001b[1;32mreturn\u001b[0m \u001b[0mself\u001b[0m\u001b[1;33m\n",
            "\u001b[0m\u001b[1;33m\n",
            "\u001b[0m    \u001b[1;33m@\u001b[0m\u001b[0mif_delegate_has_method\u001b[0m\u001b[1;33m(\u001b[0m\u001b[1;34m'arima_res_'\u001b[0m\u001b[1;33m)\u001b[0m\u001b[1;33m\n",
            "\u001b[0m    \u001b[1;32mdef\u001b[0m \u001b[0maic\u001b[0m\u001b[1;33m(\u001b[0m\u001b[0mself\u001b[0m\u001b[1;33m)\u001b[0m\u001b[1;33m:\u001b[0m\u001b[1;33m\n",
            "\u001b[0m        \u001b[1;34m\"\"\"Get the AIC, the Akaike Information Criterion:\n",
            "\n",
            "            :code:`-2 * llf + 2 * df_model`\n",
            "\n",
            "        Where ``df_model`` (the number of degrees of freedom in the model)\n",
            "        includes all AR parameters, MA parameters, constant terms parameters\n",
            "        on constant terms and the variance.\n",
            "\n",
            "        Returns\n",
            "        -------\n",
            "        aic : float\n",
            "            The AIC\n",
            "\n",
            "        References\n",
            "        ----------\n",
            "        .. [1] https://en.wikipedia.org/wiki/Akaike_information_criterion\n",
            "        \"\"\"\u001b[0m\u001b[1;33m\n",
            "\u001b[0m        \u001b[1;32mreturn\u001b[0m \u001b[0mself\u001b[0m\u001b[1;33m.\u001b[0m\u001b[0marima_res_\u001b[0m\u001b[1;33m.\u001b[0m\u001b[0maic\u001b[0m\u001b[1;33m\n",
            "\u001b[0m\u001b[1;33m\n",
            "\u001b[0m    \u001b[1;31m# TODO: this looks like it's implemented on statsmodels' master\u001b[0m\u001b[1;33m\n",
            "\u001b[0m    \u001b[1;33m@\u001b[0m\u001b[0mif_has_delegate\u001b[0m\u001b[1;33m(\u001b[0m\u001b[1;34m'arima_res_'\u001b[0m\u001b[1;33m)\u001b[0m\u001b[1;33m\n",
            "\u001b[0m    \u001b[1;32mdef\u001b[0m \u001b[0maicc\u001b[0m\u001b[1;33m(\u001b[0m\u001b[0mself\u001b[0m\u001b[1;33m)\u001b[0m\u001b[1;33m:\u001b[0m\u001b[1;33m\n",
            "\u001b[0m        \u001b[1;34m\"\"\"Get the AICc, the corrected Akaike Information Criterion:\n",
            "\n",
            "            :code:`AIC + 2 * df_model * (df_model + 1) / (nobs - df_model - 1)`\n",
            "\n",
            "        Where ``df_model`` (the number of degrees of freedom in the model)\n",
            "        includes all AR parameters, MA parameters, constant terms parameters\n",
            "        on constant terms and the variance. And ``nobs`` is the sample size.\n",
            "\n",
            "        Returns\n",
            "        -------\n",
            "        aicc : float\n",
            "            The AICc\n",
            "\n",
            "        References\n",
            "        ----------\n",
            "        .. [1] https://en.wikipedia.org/wiki/Akaike_information_criterion#AICc\n",
            "        \"\"\"\u001b[0m\u001b[1;33m\n",
            "\u001b[0m        \u001b[1;31m# FIXME:\u001b[0m\u001b[1;33m\n",
            "\u001b[0m        \u001b[1;31m# this code should really be added to statsmodels. Rewrite\u001b[0m\u001b[1;33m\n",
            "\u001b[0m        \u001b[1;31m# this function to reflect other metric implementations if/when\u001b[0m\u001b[1;33m\n",
            "\u001b[0m        \u001b[1;31m# statsmodels incorporates AICc\u001b[0m\u001b[1;33m\n",
            "\u001b[0m        \u001b[1;32mreturn\u001b[0m \u001b[0m_aicc\u001b[0m\u001b[1;33m(\u001b[0m\u001b[0mself\u001b[0m\u001b[1;33m.\u001b[0m\u001b[0marima_res_\u001b[0m\u001b[1;33m,\u001b[0m\u001b[1;33m\n",
            "\u001b[0m                     \u001b[0mself\u001b[0m\u001b[1;33m.\u001b[0m\u001b[0mnobs_\u001b[0m\u001b[1;33m,\u001b[0m\u001b[1;33m\n",
            "\u001b[0m                     \u001b[1;32mnot\u001b[0m \u001b[0mself\u001b[0m\u001b[1;33m.\u001b[0m\u001b[0mwith_intercept\u001b[0m\u001b[1;33m)\u001b[0m\u001b[1;33m\n",
            "\u001b[0m\u001b[1;33m\n",
            "\u001b[0m    \u001b[1;33m@\u001b[0m\u001b[0mif_delegate_has_method\u001b[0m\u001b[1;33m(\u001b[0m\u001b[1;34m'arima_res_'\u001b[0m\u001b[1;33m)\u001b[0m\u001b[1;33m\n",
            "\u001b[0m    \u001b[1;32mdef\u001b[0m \u001b[0marparams\u001b[0m\u001b[1;33m(\u001b[0m\u001b[0mself\u001b[0m\u001b[1;33m)\u001b[0m\u001b[1;33m:\u001b[0m\u001b[1;33m\n",
            "\u001b[0m        \u001b[1;34m\"\"\"Get the parameters associated with the AR coefficients in the model.\n",
            "\n",
            "        Returns\n",
            "        -------\n",
            "        arparams : array-like\n",
            "            The AR coefficients.\n",
            "        \"\"\"\u001b[0m\u001b[1;33m\n",
            "\u001b[0m        \u001b[1;32mreturn\u001b[0m \u001b[0mself\u001b[0m\u001b[1;33m.\u001b[0m\u001b[0marima_res_\u001b[0m\u001b[1;33m.\u001b[0m\u001b[0marparams\u001b[0m\u001b[1;33m\n",
            "\u001b[0m\u001b[1;33m\n",
            "\u001b[0m    \u001b[1;33m@\u001b[0m\u001b[0mif_delegate_has_method\u001b[0m\u001b[1;33m(\u001b[0m\u001b[1;34m'arima_res_'\u001b[0m\u001b[1;33m)\u001b[0m\u001b[1;33m\n",
            "\u001b[0m    \u001b[1;32mdef\u001b[0m \u001b[0marroots\u001b[0m\u001b[1;33m(\u001b[0m\u001b[0mself\u001b[0m\u001b[1;33m)\u001b[0m\u001b[1;33m:\u001b[0m\u001b[1;33m\n",
            "\u001b[0m        \u001b[1;34m\"\"\"The roots of the AR coefficients are the solution to:\n",
            "\n",
            "            :code:`(1 - arparams[0] * z - arparams[1] * z^2 - ... - arparams[\n",
            "            p-1] * z^k_ar) = 0`\n",
            "\n",
            "        Stability requires that the roots in modulus lie outside the unit\n",
            "        circle.\n",
            "\n",
            "        Returns\n",
            "        -------\n",
            "        arroots : array-like\n",
            "            The roots of the AR coefficients.\n",
            "        \"\"\"\u001b[0m\u001b[1;33m\n",
            "\u001b[0m        \u001b[1;32mreturn\u001b[0m \u001b[0mself\u001b[0m\u001b[1;33m.\u001b[0m\u001b[0marima_res_\u001b[0m\u001b[1;33m.\u001b[0m\u001b[0marroots\u001b[0m\u001b[1;33m\n",
            "\u001b[0m\u001b[1;33m\n",
            "\u001b[0m    \u001b[1;33m@\u001b[0m\u001b[0mif_delegate_has_method\u001b[0m\u001b[1;33m(\u001b[0m\u001b[1;34m'arima_res_'\u001b[0m\u001b[1;33m)\u001b[0m\u001b[1;33m\n",
            "\u001b[0m    \u001b[1;32mdef\u001b[0m \u001b[0mbic\u001b[0m\u001b[1;33m(\u001b[0m\u001b[0mself\u001b[0m\u001b[1;33m)\u001b[0m\u001b[1;33m:\u001b[0m\u001b[1;33m\n",
            "\u001b[0m        \u001b[1;34m\"\"\"Get the BIC, the Bayes Information Criterion:\n",
            "\n",
            "            :code:`-2 * llf + log(nobs) * df_model`\n",
            "\n",
            "        Where if the model is fit using conditional sum of squares, the\n",
            "        number of observations ``nobs`` does not include the ``p`` pre-sample\n",
            "        observations.\n",
            "\n",
            "        Returns\n",
            "        -------\n",
            "        bse : float\n",
            "            The BIC\n",
            "\n",
            "        References\n",
            "        ----------\n",
            "        .. [1] https://en.wikipedia.org/wiki/Bayesian_information_criterion\n",
            "        \"\"\"\u001b[0m\u001b[1;33m\n",
            "\u001b[0m        \u001b[1;32mreturn\u001b[0m \u001b[0mself\u001b[0m\u001b[1;33m.\u001b[0m\u001b[0marima_res_\u001b[0m\u001b[1;33m.\u001b[0m\u001b[0mbic\u001b[0m\u001b[1;33m\n",
            "\u001b[0m\u001b[1;33m\n",
            "\u001b[0m    \u001b[1;33m@\u001b[0m\u001b[0mif_delegate_has_method\u001b[0m\u001b[1;33m(\u001b[0m\u001b[1;34m'arima_res_'\u001b[0m\u001b[1;33m)\u001b[0m\u001b[1;33m\n",
            "\u001b[0m    \u001b[1;32mdef\u001b[0m \u001b[0mbse\u001b[0m\u001b[1;33m(\u001b[0m\u001b[0mself\u001b[0m\u001b[1;33m)\u001b[0m\u001b[1;33m:\u001b[0m\u001b[1;33m\n",
            "\u001b[0m        \u001b[1;34m\"\"\"Get the standard errors of the parameters. These are\n",
            "        computed using the numerical Hessian.\n",
            "\n",
            "        Returns\n",
            "        -------\n",
            "        bse : array-like\n",
            "            The BSE\n",
            "        \"\"\"\u001b[0m\u001b[1;33m\n",
            "\u001b[0m        \u001b[1;32mreturn\u001b[0m \u001b[0mself\u001b[0m\u001b[1;33m.\u001b[0m\u001b[0marima_res_\u001b[0m\u001b[1;33m.\u001b[0m\u001b[0mbse\u001b[0m\u001b[1;33m\n",
            "\u001b[0m\u001b[1;33m\n",
            "\u001b[0m    \u001b[1;33m@\u001b[0m\u001b[0mif_delegate_has_method\u001b[0m\u001b[1;33m(\u001b[0m\u001b[1;34m'arima_res_'\u001b[0m\u001b[1;33m)\u001b[0m\u001b[1;33m\n",
            "\u001b[0m    \u001b[1;32mdef\u001b[0m \u001b[0mconf_int\u001b[0m\u001b[1;33m(\u001b[0m\u001b[0mself\u001b[0m\u001b[1;33m,\u001b[0m \u001b[0malpha\u001b[0m\u001b[1;33m=\u001b[0m\u001b[1;36m0.05\u001b[0m\u001b[1;33m,\u001b[0m \u001b[1;33m**\u001b[0m\u001b[0mkwargs\u001b[0m\u001b[1;33m)\u001b[0m\u001b[1;33m:\u001b[0m\u001b[1;33m\n",
            "\u001b[0m        \u001b[1;34mr\"\"\"Returns the confidence interval of the fitted parameters.\n",
            "\n",
            "        Returns\n",
            "        -------\n",
            "        alpha : float, optional (default=0.05)\n",
            "            The significance level for the confidence interval. ie.,\n",
            "            the default alpha = .05 returns a 95% confidence interval.\n",
            "\n",
            "        **kwargs : keyword args or dict\n",
            "            Keyword arguments to pass to the confidence interval function.\n",
            "            Could include 'cols' or 'method'\n",
            "        \"\"\"\u001b[0m\u001b[1;33m\n",
            "\u001b[0m        \u001b[1;32mreturn\u001b[0m \u001b[0mself\u001b[0m\u001b[1;33m.\u001b[0m\u001b[0marima_res_\u001b[0m\u001b[1;33m.\u001b[0m\u001b[0mconf_int\u001b[0m\u001b[1;33m(\u001b[0m\u001b[0malpha\u001b[0m\u001b[1;33m=\u001b[0m\u001b[0malpha\u001b[0m\u001b[1;33m,\u001b[0m \u001b[1;33m**\u001b[0m\u001b[0mkwargs\u001b[0m\u001b[1;33m)\u001b[0m\u001b[1;33m\n",
            "\u001b[0m\u001b[1;33m\n",
            "\u001b[0m    \u001b[1;33m@\u001b[0m\u001b[0mif_delegate_has_method\u001b[0m\u001b[1;33m(\u001b[0m\u001b[1;34m'arima_res_'\u001b[0m\u001b[1;33m)\u001b[0m\u001b[1;33m\n",
            "\u001b[0m    \u001b[1;32mdef\u001b[0m \u001b[0mdf_model\u001b[0m\u001b[1;33m(\u001b[0m\u001b[0mself\u001b[0m\u001b[1;33m)\u001b[0m\u001b[1;33m:\u001b[0m\u001b[1;33m\n",
            "\u001b[0m        \u001b[1;34m\"\"\"The model degrees of freedom: ``k_exog`` + ``k_trend`` +\n",
            "        ``k_ar`` + ``k_ma``.\n",
            "\n",
            "        Returns\n",
            "        -------\n",
            "        df_model : array-like\n",
            "            The degrees of freedom in the model.\n",
            "        \"\"\"\u001b[0m\u001b[1;33m\n",
            "\u001b[0m        \u001b[1;32mreturn\u001b[0m \u001b[0mself\u001b[0m\u001b[1;33m.\u001b[0m\u001b[0marima_res_\u001b[0m\u001b[1;33m.\u001b[0m\u001b[0mdf_model\u001b[0m\u001b[1;33m\n",
            "\u001b[0m\u001b[1;33m\n",
            "\u001b[0m    \u001b[1;33m@\u001b[0m\u001b[0mif_delegate_has_method\u001b[0m\u001b[1;33m(\u001b[0m\u001b[1;34m'arima_res_'\u001b[0m\u001b[1;33m)\u001b[0m\u001b[1;33m\n",
            "\u001b[0m    \u001b[1;32mdef\u001b[0m \u001b[0mdf_resid\u001b[0m\u001b[1;33m(\u001b[0m\u001b[0mself\u001b[0m\u001b[1;33m)\u001b[0m\u001b[1;33m:\u001b[0m\u001b[1;33m\n",
            "\u001b[0m        \u001b[1;34m\"\"\"Get the residual degrees of freedom:\n",
            "\n",
            "            :code:`nobs - df_model`\n",
            "\n",
            "        Returns\n",
            "        -------\n",
            "        df_resid : array-like\n",
            "            The residual degrees of freedom.\n",
            "        \"\"\"\u001b[0m\u001b[1;33m\n",
            "\u001b[0m        \u001b[1;32mreturn\u001b[0m \u001b[0mself\u001b[0m\u001b[1;33m.\u001b[0m\u001b[0marima_res_\u001b[0m\u001b[1;33m.\u001b[0m\u001b[0mdf_resid\u001b[0m\u001b[1;33m\n",
            "\u001b[0m\u001b[1;33m\n",
            "\u001b[0m    \u001b[1;33m@\u001b[0m\u001b[0mif_delegate_has_method\u001b[0m\u001b[1;33m(\u001b[0m\u001b[1;34m'arima_res_'\u001b[0m\u001b[1;33m)\u001b[0m\u001b[1;33m\n",
            "\u001b[0m    \u001b[1;32mdef\u001b[0m \u001b[0mfittedvalues\u001b[0m\u001b[1;33m(\u001b[0m\u001b[0mself\u001b[0m\u001b[1;33m)\u001b[0m\u001b[1;33m:\u001b[0m\u001b[1;33m\n",
            "\u001b[0m        \u001b[1;34m\"\"\"Get the fitted values from the model\n",
            "\n",
            "        Returns\n",
            "        -------\n",
            "        fittedvalues : array-like\n",
            "            The predicted values for the original series\n",
            "        \"\"\"\u001b[0m\u001b[1;33m\n",
            "\u001b[0m        \u001b[1;32mreturn\u001b[0m \u001b[0mself\u001b[0m\u001b[1;33m.\u001b[0m\u001b[0marima_res_\u001b[0m\u001b[1;33m.\u001b[0m\u001b[0mfittedvalues\u001b[0m\u001b[1;33m\n",
            "\u001b[0m\u001b[1;33m\n",
            "\u001b[0m    \u001b[1;33m@\u001b[0m\u001b[0mif_delegate_has_method\u001b[0m\u001b[1;33m(\u001b[0m\u001b[1;34m'arima_res_'\u001b[0m\u001b[1;33m)\u001b[0m\u001b[1;33m\n",
            "\u001b[0m    \u001b[1;32mdef\u001b[0m \u001b[0mhqic\u001b[0m\u001b[1;33m(\u001b[0m\u001b[0mself\u001b[0m\u001b[1;33m)\u001b[0m\u001b[1;33m:\u001b[0m\u001b[1;33m\n",
            "\u001b[0m        \u001b[1;34m\"\"\"Get the Hannan-Quinn Information Criterion:\n",
            "\n",
            "            :code:`-2 * llf + 2 * (`df_model`) * log(log(nobs))`\n",
            "\n",
            "        Like :func:`bic` if the model is fit using conditional sum of squares\n",
            "        then the ``k_ar`` pre-sample observations are not counted in ``nobs``.\n",
            "\n",
            "        Returns\n",
            "        -------\n",
            "        hqic : float\n",
            "            The HQIC\n",
            "\n",
            "        References\n",
            "        ----------\n",
            "        .. [1] https://en.wikipedia.org/wiki/Hannan-Quinn_information_criterion\n",
            "        \"\"\"\u001b[0m\u001b[1;33m\n",
            "\u001b[0m        \u001b[1;32mreturn\u001b[0m \u001b[0mself\u001b[0m\u001b[1;33m.\u001b[0m\u001b[0marima_res_\u001b[0m\u001b[1;33m.\u001b[0m\u001b[0mhqic\u001b[0m\u001b[1;33m\n",
            "\u001b[0m\u001b[1;33m\n",
            "\u001b[0m    \u001b[1;33m@\u001b[0m\u001b[0mif_delegate_has_method\u001b[0m\u001b[1;33m(\u001b[0m\u001b[1;34m'arima_res_'\u001b[0m\u001b[1;33m)\u001b[0m\u001b[1;33m\n",
            "\u001b[0m    \u001b[1;32mdef\u001b[0m \u001b[0mmaparams\u001b[0m\u001b[1;33m(\u001b[0m\u001b[0mself\u001b[0m\u001b[1;33m)\u001b[0m\u001b[1;33m:\u001b[0m\u001b[1;33m\n",
            "\u001b[0m        \u001b[1;34m\"\"\"Get the value of the moving average coefficients.\n",
            "\n",
            "        Returns\n",
            "        -------\n",
            "        maparams : array-like\n",
            "            The MA coefficients.\n",
            "        \"\"\"\u001b[0m\u001b[1;33m\n",
            "\u001b[0m        \u001b[1;32mreturn\u001b[0m \u001b[0mself\u001b[0m\u001b[1;33m.\u001b[0m\u001b[0marima_res_\u001b[0m\u001b[1;33m.\u001b[0m\u001b[0mmaparams\u001b[0m\u001b[1;33m\n",
            "\u001b[0m\u001b[1;33m\n",
            "\u001b[0m    \u001b[1;33m@\u001b[0m\u001b[0mif_delegate_has_method\u001b[0m\u001b[1;33m(\u001b[0m\u001b[1;34m'arima_res_'\u001b[0m\u001b[1;33m)\u001b[0m\u001b[1;33m\n",
            "\u001b[0m    \u001b[1;32mdef\u001b[0m \u001b[0mmaroots\u001b[0m\u001b[1;33m(\u001b[0m\u001b[0mself\u001b[0m\u001b[1;33m)\u001b[0m\u001b[1;33m:\u001b[0m\u001b[1;33m\n",
            "\u001b[0m        \u001b[1;34m\"\"\"The roots of the MA coefficients are the solution to:\n",
            "\n",
            "            :code:`(1 + maparams[0] * z + maparams[1] * z^2 + ... + maparams[\n",
            "            q-1] * z^q) = 0`\n",
            "\n",
            "        Stability requires that the roots in modules lie outside the unit\n",
            "        circle.\n",
            "\n",
            "        Returns\n",
            "        -------\n",
            "        maroots : array-like\n",
            "            The MA roots.\n",
            "        \"\"\"\u001b[0m\u001b[1;33m\n",
            "\u001b[0m        \u001b[1;32mreturn\u001b[0m \u001b[0mself\u001b[0m\u001b[1;33m.\u001b[0m\u001b[0marima_res_\u001b[0m\u001b[1;33m.\u001b[0m\u001b[0mmaroots\u001b[0m\u001b[1;33m\n",
            "\u001b[0m\u001b[1;33m\n",
            "\u001b[0m    \u001b[1;32mdef\u001b[0m \u001b[0moob\u001b[0m\u001b[1;33m(\u001b[0m\u001b[0mself\u001b[0m\u001b[1;33m)\u001b[0m\u001b[1;33m:\u001b[0m\u001b[1;33m\n",
            "\u001b[0m        \u001b[1;34m\"\"\"If the model was built with ``out_of_sample_size`` > 0, a validation\n",
            "        score will have been computed. Otherwise it will be np.nan.\n",
            "\n",
            "        Returns\n",
            "        -------\n",
            "        oob_ : float\n",
            "            The \"out-of-bag\" score.\n",
            "        \"\"\"\u001b[0m\u001b[1;33m\n",
            "\u001b[0m        \u001b[1;32mreturn\u001b[0m \u001b[0mself\u001b[0m\u001b[1;33m.\u001b[0m\u001b[0moob_\u001b[0m\u001b[1;33m\n",
            "\u001b[0m\u001b[1;33m\n",
            "\u001b[0m    \u001b[1;33m@\u001b[0m\u001b[0mif_delegate_has_method\u001b[0m\u001b[1;33m(\u001b[0m\u001b[1;34m'arima_res_'\u001b[0m\u001b[1;33m)\u001b[0m\u001b[1;33m\n",
            "\u001b[0m    \u001b[1;32mdef\u001b[0m \u001b[0mparams\u001b[0m\u001b[1;33m(\u001b[0m\u001b[0mself\u001b[0m\u001b[1;33m)\u001b[0m\u001b[1;33m:\u001b[0m\u001b[1;33m\n",
            "\u001b[0m        \u001b[1;34m\"\"\"Get the parameters of the model. The order of variables is the trend\n",
            "        coefficients and the :func:`k_exog` exogenous coefficients, then the\n",
            "        :func:`k_ar` AR coefficients, and finally the :func:`k_ma` MA\n",
            "        coefficients.\n",
            "\n",
            "        Returns\n",
            "        -------\n",
            "        params : array-like\n",
            "            The parameters of the model.\n",
            "        \"\"\"\u001b[0m\u001b[1;33m\n",
            "\u001b[0m        \u001b[1;32mreturn\u001b[0m \u001b[0mself\u001b[0m\u001b[1;33m.\u001b[0m\u001b[0marima_res_\u001b[0m\u001b[1;33m.\u001b[0m\u001b[0mparams\u001b[0m\u001b[1;33m\n",
            "\u001b[0m\u001b[1;33m\n",
            "\u001b[0m    \u001b[1;33m@\u001b[0m\u001b[0mif_delegate_has_method\u001b[0m\u001b[1;33m(\u001b[0m\u001b[1;34m'arima_res_'\u001b[0m\u001b[1;33m)\u001b[0m\u001b[1;33m\n",
            "\u001b[0m    \u001b[1;32mdef\u001b[0m \u001b[0mpvalues\u001b[0m\u001b[1;33m(\u001b[0m\u001b[0mself\u001b[0m\u001b[1;33m)\u001b[0m\u001b[1;33m:\u001b[0m\u001b[1;33m\n",
            "\u001b[0m        \u001b[1;34m\"\"\"Get the p-values associated with the t-values of the coefficients.\n",
            "        Note that the coefficients are assumed to have a Student's T\n",
            "        distribution.\n",
            "\n",
            "        Returns\n",
            "        -------\n",
            "        pvalues : array-like\n",
            "            The p-values.\n",
            "        \"\"\"\u001b[0m\u001b[1;33m\n",
            "\u001b[0m        \u001b[1;32mreturn\u001b[0m \u001b[0mself\u001b[0m\u001b[1;33m.\u001b[0m\u001b[0marima_res_\u001b[0m\u001b[1;33m.\u001b[0m\u001b[0mpvalues\u001b[0m\u001b[1;33m\n",
            "\u001b[0m\u001b[1;33m\n",
            "\u001b[0m    \u001b[1;33m@\u001b[0m\u001b[0mif_delegate_has_method\u001b[0m\u001b[1;33m(\u001b[0m\u001b[1;34m'arima_res_'\u001b[0m\u001b[1;33m)\u001b[0m\u001b[1;33m\n",
            "\u001b[0m    \u001b[1;32mdef\u001b[0m \u001b[0mresid\u001b[0m\u001b[1;33m(\u001b[0m\u001b[0mself\u001b[0m\u001b[1;33m)\u001b[0m\u001b[1;33m:\u001b[0m\u001b[1;33m\n",
            "\u001b[0m        \u001b[1;34m\"\"\"Get the model residuals. If the model is fit using 'mle', then the\n",
            "        residuals are created via the Kalman Filter. If the model is fit\n",
            "        using 'css' then the residuals are obtained via\n",
            "        ``scipy.signal.lfilter`` adjusted such that the first :func:`k_ma`\n",
            "        residuals are zero. These zero residuals are not returned.\n",
            "\n",
            "        Returns\n",
            "        -------\n",
            "        resid : array-like\n",
            "            The model residuals.\n",
            "        \"\"\"\u001b[0m\u001b[1;33m\n",
            "\u001b[0m        \u001b[1;32mreturn\u001b[0m \u001b[0mself\u001b[0m\u001b[1;33m.\u001b[0m\u001b[0marima_res_\u001b[0m\u001b[1;33m.\u001b[0m\u001b[0mresid\u001b[0m\u001b[1;33m\n",
            "\u001b[0m\u001b[1;33m\n",
            "\u001b[0m    \u001b[1;33m@\u001b[0m\u001b[0mif_delegate_has_method\u001b[0m\u001b[1;33m(\u001b[0m\u001b[1;34m'arima_res_'\u001b[0m\u001b[1;33m)\u001b[0m\u001b[1;33m\n",
            "\u001b[0m    \u001b[1;32mdef\u001b[0m \u001b[0msummary\u001b[0m\u001b[1;33m(\u001b[0m\u001b[0mself\u001b[0m\u001b[1;33m)\u001b[0m\u001b[1;33m:\u001b[0m\u001b[1;33m\n",
            "\u001b[0m        \u001b[1;34m\"\"\"Get a summary of the ARIMA model\"\"\"\u001b[0m\u001b[1;33m\n",
            "\u001b[0m        \u001b[1;32mreturn\u001b[0m \u001b[0mself\u001b[0m\u001b[1;33m.\u001b[0m\u001b[0marima_res_\u001b[0m\u001b[1;33m.\u001b[0m\u001b[0msummary\u001b[0m\u001b[1;33m(\u001b[0m\u001b[1;33m)\u001b[0m\u001b[1;33m\n",
            "\u001b[0m\u001b[1;33m\n",
            "\u001b[0m    \u001b[1;33m@\u001b[0m\u001b[0mif_has_delegate\u001b[0m\u001b[1;33m(\u001b[0m\u001b[1;34m'arima_res_'\u001b[0m\u001b[1;33m)\u001b[0m\u001b[1;33m\n",
            "\u001b[0m    \u001b[1;32mdef\u001b[0m \u001b[0mto_dict\u001b[0m\u001b[1;33m(\u001b[0m\u001b[0mself\u001b[0m\u001b[1;33m)\u001b[0m\u001b[1;33m:\u001b[0m\u001b[1;33m\n",
            "\u001b[0m        \u001b[1;34m\"\"\"Get the ARIMA model as a dictionary\n",
            "\n",
            "        Return the dictionary representation of the ARIMA model\n",
            "\n",
            "        Returns\n",
            "        -------\n",
            "        res : dictionary\n",
            "            The ARIMA model as a dictionary.\n",
            "        \"\"\"\u001b[0m\u001b[1;33m\n",
            "\u001b[0m        \u001b[0mseasonal\u001b[0m \u001b[1;33m=\u001b[0m \u001b[0msm_compat\u001b[0m\u001b[1;33m.\u001b[0m\u001b[0mcheck_seasonal_order\u001b[0m\u001b[1;33m(\u001b[0m\u001b[0mself\u001b[0m\u001b[1;33m.\u001b[0m\u001b[0mseasonal_order\u001b[0m\u001b[1;33m)\u001b[0m\u001b[1;33m\n",
            "\u001b[0m        \u001b[1;32mreturn\u001b[0m \u001b[1;33m{\u001b[0m\u001b[1;33m\n",
            "\u001b[0m            \u001b[1;34m'pvalues'\u001b[0m\u001b[1;33m:\u001b[0m \u001b[0mself\u001b[0m\u001b[1;33m.\u001b[0m\u001b[0mpvalues\u001b[0m\u001b[1;33m(\u001b[0m\u001b[1;33m)\u001b[0m\u001b[1;33m,\u001b[0m\u001b[1;33m\n",
            "\u001b[0m            \u001b[1;34m'resid'\u001b[0m\u001b[1;33m:\u001b[0m \u001b[0mself\u001b[0m\u001b[1;33m.\u001b[0m\u001b[0mresid\u001b[0m\u001b[1;33m(\u001b[0m\u001b[1;33m)\u001b[0m\u001b[1;33m,\u001b[0m\u001b[1;33m\n",
            "\u001b[0m            \u001b[1;34m'order'\u001b[0m\u001b[1;33m:\u001b[0m \u001b[0mself\u001b[0m\u001b[1;33m.\u001b[0m\u001b[0morder\u001b[0m\u001b[1;33m,\u001b[0m\u001b[1;33m\n",
            "\u001b[0m            \u001b[1;34m'seasonal_order'\u001b[0m\u001b[1;33m:\u001b[0m \u001b[0mseasonal\u001b[0m\u001b[1;33m,\u001b[0m\u001b[1;33m\n",
            "\u001b[0m            \u001b[1;34m'oob'\u001b[0m\u001b[1;33m:\u001b[0m \u001b[0mself\u001b[0m\u001b[1;33m.\u001b[0m\u001b[0moob\u001b[0m\u001b[1;33m(\u001b[0m\u001b[1;33m)\u001b[0m\u001b[1;33m,\u001b[0m\u001b[1;33m\n",
            "\u001b[0m            \u001b[1;34m'aic'\u001b[0m\u001b[1;33m:\u001b[0m \u001b[0mself\u001b[0m\u001b[1;33m.\u001b[0m\u001b[0maic\u001b[0m\u001b[1;33m(\u001b[0m\u001b[1;33m)\u001b[0m\u001b[1;33m,\u001b[0m\u001b[1;33m\n",
            "\u001b[0m            \u001b[1;34m'aicc'\u001b[0m\u001b[1;33m:\u001b[0m \u001b[0mself\u001b[0m\u001b[1;33m.\u001b[0m\u001b[0maicc\u001b[0m\u001b[1;33m(\u001b[0m\u001b[1;33m)\u001b[0m\u001b[1;33m,\u001b[0m\u001b[1;33m\n",
            "\u001b[0m            \u001b[1;34m'bic'\u001b[0m\u001b[1;33m:\u001b[0m \u001b[0mself\u001b[0m\u001b[1;33m.\u001b[0m\u001b[0mbic\u001b[0m\u001b[1;33m(\u001b[0m\u001b[1;33m)\u001b[0m\u001b[1;33m,\u001b[0m\u001b[1;33m\n",
            "\u001b[0m            \u001b[1;34m'bse'\u001b[0m\u001b[1;33m:\u001b[0m \u001b[0mself\u001b[0m\u001b[1;33m.\u001b[0m\u001b[0mbse\u001b[0m\u001b[1;33m(\u001b[0m\u001b[1;33m)\u001b[0m\u001b[1;33m,\u001b[0m\u001b[1;33m\n",
            "\u001b[0m            \u001b[1;34m'params'\u001b[0m\u001b[1;33m:\u001b[0m \u001b[0mself\u001b[0m\u001b[1;33m.\u001b[0m\u001b[0mparams\u001b[0m\u001b[1;33m(\u001b[0m\u001b[1;33m)\u001b[0m\u001b[1;33m\n",
            "\u001b[0m        \u001b[1;33m}\u001b[0m\u001b[1;33m\n",
            "\u001b[0m\u001b[1;33m\n",
            "\u001b[0m    \u001b[1;33m@\u001b[0m\u001b[0mif_has_delegate\u001b[0m\u001b[1;33m(\u001b[0m\u001b[1;34m'arima_res_'\u001b[0m\u001b[1;33m)\u001b[0m\u001b[1;33m\n",
            "\u001b[0m    \u001b[1;32mdef\u001b[0m \u001b[0mplot_diagnostics\u001b[0m\u001b[1;33m(\u001b[0m\u001b[0mself\u001b[0m\u001b[1;33m,\u001b[0m \u001b[0mvariable\u001b[0m\u001b[1;33m=\u001b[0m\u001b[1;36m0\u001b[0m\u001b[1;33m,\u001b[0m \u001b[0mlags\u001b[0m\u001b[1;33m=\u001b[0m\u001b[1;36m10\u001b[0m\u001b[1;33m,\u001b[0m \u001b[0mfig\u001b[0m\u001b[1;33m=\u001b[0m\u001b[1;32mNone\u001b[0m\u001b[1;33m,\u001b[0m \u001b[0mfigsize\u001b[0m\u001b[1;33m=\u001b[0m\u001b[1;32mNone\u001b[0m\u001b[1;33m)\u001b[0m\u001b[1;33m:\u001b[0m\u001b[1;33m\n",
            "\u001b[0m        \u001b[1;34m\"\"\"Plot an ARIMA's diagnostics.\n",
            "\n",
            "        Diagnostic plots for standardized residuals of one endogenous variable\n",
            "\n",
            "        Parameters\n",
            "        ----------\n",
            "        variable : integer, optional\n",
            "            Index of the endogenous variable for which the diagnostic plots\n",
            "            should be created. Default is 0.\n",
            "\n",
            "        lags : integer, optional\n",
            "            Number of lags to include in the correlogram. Default is 10.\n",
            "\n",
            "        fig : Matplotlib Figure instance, optional\n",
            "            If given, subplots are created in this figure instead of in a new\n",
            "            figure. Note that the 2x2 grid will be created in the provided\n",
            "            figure using `fig.add_subplot()`.\n",
            "\n",
            "        figsize : tuple, optional\n",
            "            If a figure is created, this argument allows specifying a size.\n",
            "            The tuple is (width, height).\n",
            "\n",
            "        Notes\n",
            "        -----\n",
            "        Produces a 2x2 plot grid with the following plots (ordered clockwise\n",
            "        from top left):\n",
            "\n",
            "        1. Standardized residuals over time\n",
            "        2. Histogram plus estimated density of standardized residuals, along\n",
            "           with a Normal(0,1) density plotted for reference.\n",
            "        3. Normal Q-Q plot, with Normal reference line.\n",
            "        4. Correlogram\n",
            "\n",
            "        See Also\n",
            "        --------\n",
            "        statsmodels.graphics.gofplots.qqplot\n",
            "        pmdarima.utils.visualization.plot_acf\n",
            "\n",
            "        References\n",
            "        ----------\n",
            "        .. [1] https://www.statsmodels.org/dev/_modules/statsmodels/tsa/statespace/mlemodel.html#MLEResults.plot_diagnostics\n",
            "        \"\"\"\u001b[0m  \u001b[1;31m# noqa: E501\u001b[0m\u001b[1;33m\n",
            "\u001b[0m        \u001b[1;31m# implicitly checks whether installed, and does our backend magic:\u001b[0m\u001b[1;33m\n",
            "\u001b[0m        \u001b[0m_get_plt\u001b[0m\u001b[1;33m(\u001b[0m\u001b[1;33m)\u001b[0m\u001b[1;33m\n",
            "\u001b[0m\u001b[1;33m\n",
            "\u001b[0m        \u001b[1;31m# We originally delegated down to SARIMAX model wrapper, but\u001b[0m\u001b[1;33m\n",
            "\u001b[0m        \u001b[1;31m# statsmodels makes it difficult to trust their API, so we just re-\u001b[0m\u001b[1;33m\n",
            "\u001b[0m        \u001b[1;31m# implemented a common method for all results wrappers.\u001b[0m\u001b[1;33m\n",
            "\u001b[0m        \u001b[1;32mfrom\u001b[0m \u001b[0mstatsmodels\u001b[0m\u001b[1;33m.\u001b[0m\u001b[0mgraphics\u001b[0m \u001b[1;32mimport\u001b[0m \u001b[0mutils\u001b[0m \u001b[1;32mas\u001b[0m \u001b[0msm_graphics\u001b[0m\u001b[1;33m\n",
            "\u001b[0m        \u001b[0mfig\u001b[0m \u001b[1;33m=\u001b[0m \u001b[0msm_graphics\u001b[0m\u001b[1;33m.\u001b[0m\u001b[0mcreate_mpl_fig\u001b[0m\u001b[1;33m(\u001b[0m\u001b[0mfig\u001b[0m\u001b[1;33m,\u001b[0m \u001b[0mfigsize\u001b[0m\u001b[1;33m)\u001b[0m\u001b[1;33m\n",
            "\u001b[0m\u001b[1;33m\n",
            "\u001b[0m        \u001b[0mres_wpr\u001b[0m \u001b[1;33m=\u001b[0m \u001b[0mself\u001b[0m\u001b[1;33m.\u001b[0m\u001b[0marima_res_\u001b[0m\u001b[1;33m\n",
            "\u001b[0m        \u001b[0mdata\u001b[0m \u001b[1;33m=\u001b[0m \u001b[0mres_wpr\u001b[0m\u001b[1;33m.\u001b[0m\u001b[0mdata\u001b[0m\u001b[1;33m\n",
            "\u001b[0m\u001b[1;33m\n",
            "\u001b[0m        \u001b[1;31m# Eliminate residuals associated with burned or diffuse likelihoods.\u001b[0m\u001b[1;33m\n",
            "\u001b[0m        \u001b[1;31m# The statsmodels code for the Kalman Filter takes the loglik_burn\u001b[0m\u001b[1;33m\n",
            "\u001b[0m        \u001b[1;31m# as a parameter:\u001b[0m\u001b[1;33m\n",
            "\u001b[0m\u001b[1;33m\n",
            "\u001b[0m        \u001b[1;31m# loglikelihood_burn : int, optional\u001b[0m\u001b[1;33m\n",
            "\u001b[0m        \u001b[1;31m#     The number of initial periods during which the loglikelihood is\u001b[0m\u001b[1;33m\n",
            "\u001b[0m        \u001b[1;31m#     not recorded. Default is 0.\u001b[0m\u001b[1;33m\n",
            "\u001b[0m\u001b[1;33m\n",
            "\u001b[0m        \u001b[1;31m# If the class has it, it's a SARIMAX and we'll use it. Otherwise we\u001b[0m\u001b[1;33m\n",
            "\u001b[0m        \u001b[1;31m# will just access the residuals as we normally would...\u001b[0m\u001b[1;33m\n",
            "\u001b[0m        \u001b[1;32mif\u001b[0m \u001b[0mhasattr\u001b[0m\u001b[1;33m(\u001b[0m\u001b[0mres_wpr\u001b[0m\u001b[1;33m,\u001b[0m \u001b[1;34m'loglikelihood_burn'\u001b[0m\u001b[1;33m)\u001b[0m\u001b[1;33m:\u001b[0m\u001b[1;33m\n",
            "\u001b[0m            \u001b[1;31m# This is introduced in the bleeding edge version, but is not\u001b[0m\u001b[1;33m\n",
            "\u001b[0m            \u001b[1;31m# backwards compatible with 0.9.0 and less:\u001b[0m\u001b[1;33m\n",
            "\u001b[0m            \u001b[0md\u001b[0m \u001b[1;33m=\u001b[0m \u001b[0mres_wpr\u001b[0m\u001b[1;33m.\u001b[0m\u001b[0mloglikelihood_burn\u001b[0m\u001b[1;33m\n",
            "\u001b[0m            \u001b[1;32mif\u001b[0m \u001b[0mhasattr\u001b[0m\u001b[1;33m(\u001b[0m\u001b[0mres_wpr\u001b[0m\u001b[1;33m,\u001b[0m \u001b[1;34m'nobs_diffuse'\u001b[0m\u001b[1;33m)\u001b[0m\u001b[1;33m:\u001b[0m\u001b[1;33m\n",
            "\u001b[0m                \u001b[0md\u001b[0m \u001b[1;33m=\u001b[0m \u001b[0mnp\u001b[0m\u001b[1;33m.\u001b[0m\u001b[0mmaximum\u001b[0m\u001b[1;33m(\u001b[0m\u001b[0md\u001b[0m\u001b[1;33m,\u001b[0m \u001b[0mres_wpr\u001b[0m\u001b[1;33m.\u001b[0m\u001b[0mnobs_diffuse\u001b[0m\u001b[1;33m)\u001b[0m\u001b[1;33m\n",
            "\u001b[0m\u001b[1;33m\n",
            "\u001b[0m            \u001b[0mresid\u001b[0m \u001b[1;33m=\u001b[0m \u001b[0mres_wpr\u001b[0m\u001b[1;33m.\u001b[0m\u001b[0mfilter_results\u001b[0m\\\n",
            "                           \u001b[1;33m.\u001b[0m\u001b[0mstandardized_forecasts_error\u001b[0m\u001b[1;33m[\u001b[0m\u001b[0mvariable\u001b[0m\u001b[1;33m,\u001b[0m \u001b[0md\u001b[0m\u001b[1;33m:\u001b[0m\u001b[1;33m]\u001b[0m\u001b[1;33m\n",
            "\u001b[0m        \u001b[1;32melse\u001b[0m\u001b[1;33m:\u001b[0m\u001b[1;33m\n",
            "\u001b[0m            \u001b[1;31m# This gets the residuals, but they need to be standardized\u001b[0m\u001b[1;33m\n",
            "\u001b[0m            \u001b[0md\u001b[0m \u001b[1;33m=\u001b[0m \u001b[1;36m0\u001b[0m\u001b[1;33m\n",
            "\u001b[0m            \u001b[0mr\u001b[0m \u001b[1;33m=\u001b[0m \u001b[0mres_wpr\u001b[0m\u001b[1;33m.\u001b[0m\u001b[0mresid\u001b[0m\u001b[1;33m\n",
            "\u001b[0m            \u001b[0mresid\u001b[0m \u001b[1;33m=\u001b[0m \u001b[1;33m(\u001b[0m\u001b[0mr\u001b[0m \u001b[1;33m-\u001b[0m \u001b[0mnp\u001b[0m\u001b[1;33m.\u001b[0m\u001b[0mnanmean\u001b[0m\u001b[1;33m(\u001b[0m\u001b[0mr\u001b[0m\u001b[1;33m)\u001b[0m\u001b[1;33m)\u001b[0m \u001b[1;33m/\u001b[0m \u001b[0mnp\u001b[0m\u001b[1;33m.\u001b[0m\u001b[0mnanstd\u001b[0m\u001b[1;33m(\u001b[0m\u001b[0mr\u001b[0m\u001b[1;33m)\u001b[0m\u001b[1;33m\n",
            "\u001b[0m\u001b[1;33m\n",
            "\u001b[0m        \u001b[1;31m# Top-left: residuals vs time\u001b[0m\u001b[1;33m\n",
            "\u001b[0m        \u001b[0max\u001b[0m \u001b[1;33m=\u001b[0m \u001b[0mfig\u001b[0m\u001b[1;33m.\u001b[0m\u001b[0madd_subplot\u001b[0m\u001b[1;33m(\u001b[0m\u001b[1;36m221\u001b[0m\u001b[1;33m)\u001b[0m\u001b[1;33m\n",
            "\u001b[0m        \u001b[1;32mif\u001b[0m \u001b[0mhasattr\u001b[0m\u001b[1;33m(\u001b[0m\u001b[0mdata\u001b[0m\u001b[1;33m,\u001b[0m \u001b[1;34m'dates'\u001b[0m\u001b[1;33m)\u001b[0m \u001b[1;32mand\u001b[0m \u001b[0mdata\u001b[0m\u001b[1;33m.\u001b[0m\u001b[0mdates\u001b[0m \u001b[1;32mis\u001b[0m \u001b[1;32mnot\u001b[0m \u001b[1;32mNone\u001b[0m\u001b[1;33m:\u001b[0m\u001b[1;33m\n",
            "\u001b[0m            \u001b[0mx\u001b[0m \u001b[1;33m=\u001b[0m \u001b[0mdata\u001b[0m\u001b[1;33m.\u001b[0m\u001b[0mdates\u001b[0m\u001b[1;33m[\u001b[0m\u001b[0md\u001b[0m\u001b[1;33m:\u001b[0m\u001b[1;33m]\u001b[0m\u001b[1;33m.\u001b[0m\u001b[0m_mpl_repr\u001b[0m\u001b[1;33m(\u001b[0m\u001b[1;33m)\u001b[0m\u001b[1;33m\n",
            "\u001b[0m        \u001b[1;32melse\u001b[0m\u001b[1;33m:\u001b[0m\u001b[1;33m\n",
            "\u001b[0m            \u001b[0mx\u001b[0m \u001b[1;33m=\u001b[0m \u001b[0mnp\u001b[0m\u001b[1;33m.\u001b[0m\u001b[0marange\u001b[0m\u001b[1;33m(\u001b[0m\u001b[0mlen\u001b[0m\u001b[1;33m(\u001b[0m\u001b[0mresid\u001b[0m\u001b[1;33m)\u001b[0m\u001b[1;33m)\u001b[0m\u001b[1;33m\n",
            "\u001b[0m        \u001b[0max\u001b[0m\u001b[1;33m.\u001b[0m\u001b[0mplot\u001b[0m\u001b[1;33m(\u001b[0m\u001b[0mx\u001b[0m\u001b[1;33m,\u001b[0m \u001b[0mresid\u001b[0m\u001b[1;33m)\u001b[0m\u001b[1;33m\n",
            "\u001b[0m        \u001b[0max\u001b[0m\u001b[1;33m.\u001b[0m\u001b[0mhlines\u001b[0m\u001b[1;33m(\u001b[0m\u001b[1;36m0\u001b[0m\u001b[1;33m,\u001b[0m \u001b[0mx\u001b[0m\u001b[1;33m[\u001b[0m\u001b[1;36m0\u001b[0m\u001b[1;33m]\u001b[0m\u001b[1;33m,\u001b[0m \u001b[0mx\u001b[0m\u001b[1;33m[\u001b[0m\u001b[1;33m-\u001b[0m\u001b[1;36m1\u001b[0m\u001b[1;33m]\u001b[0m\u001b[1;33m,\u001b[0m \u001b[0malpha\u001b[0m\u001b[1;33m=\u001b[0m\u001b[1;36m0.5\u001b[0m\u001b[1;33m)\u001b[0m\u001b[1;33m\n",
            "\u001b[0m        \u001b[0max\u001b[0m\u001b[1;33m.\u001b[0m\u001b[0mset_xlim\u001b[0m\u001b[1;33m(\u001b[0m\u001b[0mx\u001b[0m\u001b[1;33m[\u001b[0m\u001b[1;36m0\u001b[0m\u001b[1;33m]\u001b[0m\u001b[1;33m,\u001b[0m \u001b[0mx\u001b[0m\u001b[1;33m[\u001b[0m\u001b[1;33m-\u001b[0m\u001b[1;36m1\u001b[0m\u001b[1;33m]\u001b[0m\u001b[1;33m)\u001b[0m\u001b[1;33m\n",
            "\u001b[0m        \u001b[0max\u001b[0m\u001b[1;33m.\u001b[0m\u001b[0mset_title\u001b[0m\u001b[1;33m(\u001b[0m\u001b[1;34m'Standardized residual'\u001b[0m\u001b[1;33m)\u001b[0m\u001b[1;33m\n",
            "\u001b[0m\u001b[1;33m\n",
            "\u001b[0m        \u001b[1;31m# Top-right: histogram, Gaussian kernel density, Normal density\u001b[0m\u001b[1;33m\n",
            "\u001b[0m        \u001b[1;31m# Can only do histogram and Gaussian kernel density on the non-null\u001b[0m\u001b[1;33m\n",
            "\u001b[0m        \u001b[1;31m# elements\u001b[0m\u001b[1;33m\n",
            "\u001b[0m        \u001b[0mresid_nonmissing\u001b[0m \u001b[1;33m=\u001b[0m \u001b[0mresid\u001b[0m\u001b[1;33m[\u001b[0m\u001b[1;33m~\u001b[0m\u001b[1;33m(\u001b[0m\u001b[0mnp\u001b[0m\u001b[1;33m.\u001b[0m\u001b[0misnan\u001b[0m\u001b[1;33m(\u001b[0m\u001b[0mresid\u001b[0m\u001b[1;33m)\u001b[0m\u001b[1;33m)\u001b[0m\u001b[1;33m]\u001b[0m\u001b[1;33m\n",
            "\u001b[0m        \u001b[0max\u001b[0m \u001b[1;33m=\u001b[0m \u001b[0mfig\u001b[0m\u001b[1;33m.\u001b[0m\u001b[0madd_subplot\u001b[0m\u001b[1;33m(\u001b[0m\u001b[1;36m222\u001b[0m\u001b[1;33m)\u001b[0m\u001b[1;33m\n",
            "\u001b[0m        \u001b[1;31m# temporarily disable Deprecation warning, normed -> density\u001b[0m\u001b[1;33m\n",
            "\u001b[0m        \u001b[1;31m# hist needs to use `density` in future when minimum matplotlib has it\u001b[0m\u001b[1;33m\n",
            "\u001b[0m        \u001b[1;31m# 'normed' argument is no longer supported in matplotlib since\u001b[0m\u001b[1;33m\n",
            "\u001b[0m        \u001b[1;31m# version 3.2.0. New function added for backwards compatibility\u001b[0m\u001b[1;33m\n",
            "\u001b[0m        \u001b[1;32mwith\u001b[0m \u001b[0mwarnings\u001b[0m\u001b[1;33m.\u001b[0m\u001b[0mcatch_warnings\u001b[0m\u001b[1;33m(\u001b[0m\u001b[0mrecord\u001b[0m\u001b[1;33m=\u001b[0m\u001b[1;32mTrue\u001b[0m\u001b[1;33m)\u001b[0m\u001b[1;33m:\u001b[0m\u001b[1;33m\n",
            "\u001b[0m            \u001b[0max\u001b[0m\u001b[1;33m.\u001b[0m\u001b[0mhist\u001b[0m\u001b[1;33m(\u001b[0m\u001b[1;33m\n",
            "\u001b[0m                \u001b[0mresid_nonmissing\u001b[0m\u001b[1;33m,\u001b[0m\u001b[1;33m\n",
            "\u001b[0m                \u001b[0mlabel\u001b[0m\u001b[1;33m=\u001b[0m\u001b[1;34m'Hist'\u001b[0m\u001b[1;33m,\u001b[0m\u001b[1;33m\n",
            "\u001b[0m                \u001b[1;33m**\u001b[0m\u001b[0mmpl_compat\u001b[0m\u001b[1;33m.\u001b[0m\u001b[0mmpl_hist_arg\u001b[0m\u001b[1;33m(\u001b[0m\u001b[1;33m)\u001b[0m\u001b[1;33m\n",
            "\u001b[0m            \u001b[1;33m)\u001b[0m\u001b[1;33m\n",
            "\u001b[0m\u001b[1;33m\n",
            "\u001b[0m        \u001b[0mkde\u001b[0m \u001b[1;33m=\u001b[0m \u001b[0mgaussian_kde\u001b[0m\u001b[1;33m(\u001b[0m\u001b[0mresid_nonmissing\u001b[0m\u001b[1;33m)\u001b[0m\u001b[1;33m\n",
            "\u001b[0m        \u001b[0mxlim\u001b[0m \u001b[1;33m=\u001b[0m \u001b[1;33m(\u001b[0m\u001b[1;33m-\u001b[0m\u001b[1;36m1.96\u001b[0m \u001b[1;33m*\u001b[0m \u001b[1;36m2\u001b[0m\u001b[1;33m,\u001b[0m \u001b[1;36m1.96\u001b[0m \u001b[1;33m*\u001b[0m \u001b[1;36m2\u001b[0m\u001b[1;33m)\u001b[0m\u001b[1;33m\n",
            "\u001b[0m        \u001b[0mx\u001b[0m \u001b[1;33m=\u001b[0m \u001b[0mnp\u001b[0m\u001b[1;33m.\u001b[0m\u001b[0mlinspace\u001b[0m\u001b[1;33m(\u001b[0m\u001b[0mxlim\u001b[0m\u001b[1;33m[\u001b[0m\u001b[1;36m0\u001b[0m\u001b[1;33m]\u001b[0m\u001b[1;33m,\u001b[0m \u001b[0mxlim\u001b[0m\u001b[1;33m[\u001b[0m\u001b[1;36m1\u001b[0m\u001b[1;33m]\u001b[0m\u001b[1;33m)\u001b[0m\u001b[1;33m\n",
            "\u001b[0m        \u001b[0max\u001b[0m\u001b[1;33m.\u001b[0m\u001b[0mplot\u001b[0m\u001b[1;33m(\u001b[0m\u001b[0mx\u001b[0m\u001b[1;33m,\u001b[0m \u001b[0mkde\u001b[0m\u001b[1;33m(\u001b[0m\u001b[0mx\u001b[0m\u001b[1;33m)\u001b[0m\u001b[1;33m,\u001b[0m \u001b[0mlabel\u001b[0m\u001b[1;33m=\u001b[0m\u001b[1;34m'KDE'\u001b[0m\u001b[1;33m)\u001b[0m\u001b[1;33m\n",
            "\u001b[0m        \u001b[0max\u001b[0m\u001b[1;33m.\u001b[0m\u001b[0mplot\u001b[0m\u001b[1;33m(\u001b[0m\u001b[0mx\u001b[0m\u001b[1;33m,\u001b[0m \u001b[0mnorm\u001b[0m\u001b[1;33m.\u001b[0m\u001b[0mpdf\u001b[0m\u001b[1;33m(\u001b[0m\u001b[0mx\u001b[0m\u001b[1;33m)\u001b[0m\u001b[1;33m,\u001b[0m \u001b[0mlabel\u001b[0m\u001b[1;33m=\u001b[0m\u001b[1;34m'N(0,1)'\u001b[0m\u001b[1;33m)\u001b[0m\u001b[1;33m\n",
            "\u001b[0m        \u001b[0max\u001b[0m\u001b[1;33m.\u001b[0m\u001b[0mset_xlim\u001b[0m\u001b[1;33m(\u001b[0m\u001b[0mxlim\u001b[0m\u001b[1;33m)\u001b[0m\u001b[1;33m\n",
            "\u001b[0m        \u001b[0max\u001b[0m\u001b[1;33m.\u001b[0m\u001b[0mlegend\u001b[0m\u001b[1;33m(\u001b[0m\u001b[1;33m)\u001b[0m\u001b[1;33m\n",
            "\u001b[0m        \u001b[0max\u001b[0m\u001b[1;33m.\u001b[0m\u001b[0mset_title\u001b[0m\u001b[1;33m(\u001b[0m\u001b[1;34m'Histogram plus estimated density'\u001b[0m\u001b[1;33m)\u001b[0m\u001b[1;33m\n",
            "\u001b[0m\u001b[1;33m\n",
            "\u001b[0m        \u001b[1;31m# Bottom-left: QQ plot\u001b[0m\u001b[1;33m\n",
            "\u001b[0m        \u001b[0max\u001b[0m \u001b[1;33m=\u001b[0m \u001b[0mfig\u001b[0m\u001b[1;33m.\u001b[0m\u001b[0madd_subplot\u001b[0m\u001b[1;33m(\u001b[0m\u001b[1;36m223\u001b[0m\u001b[1;33m)\u001b[0m\u001b[1;33m\n",
            "\u001b[0m        \u001b[1;32mfrom\u001b[0m \u001b[0mstatsmodels\u001b[0m\u001b[1;33m.\u001b[0m\u001b[0mgraphics\u001b[0m \u001b[1;32mimport\u001b[0m \u001b[0mgofplots\u001b[0m\u001b[1;33m\n",
            "\u001b[0m        \u001b[0mgofplots\u001b[0m\u001b[1;33m.\u001b[0m\u001b[0mqqplot\u001b[0m\u001b[1;33m(\u001b[0m\u001b[0mresid_nonmissing\u001b[0m\u001b[1;33m,\u001b[0m \u001b[0mline\u001b[0m\u001b[1;33m=\u001b[0m\u001b[1;34m's'\u001b[0m\u001b[1;33m,\u001b[0m \u001b[0max\u001b[0m\u001b[1;33m=\u001b[0m\u001b[0max\u001b[0m\u001b[1;33m)\u001b[0m\u001b[1;33m\n",
            "\u001b[0m        \u001b[0max\u001b[0m\u001b[1;33m.\u001b[0m\u001b[0mset_title\u001b[0m\u001b[1;33m(\u001b[0m\u001b[1;34m'Normal Q-Q'\u001b[0m\u001b[1;33m)\u001b[0m\u001b[1;33m\n",
            "\u001b[0m\u001b[1;33m\n",
            "\u001b[0m        \u001b[1;31m# Bottom-right: Correlogram\u001b[0m\u001b[1;33m\n",
            "\u001b[0m        \u001b[0max\u001b[0m \u001b[1;33m=\u001b[0m \u001b[0mfig\u001b[0m\u001b[1;33m.\u001b[0m\u001b[0madd_subplot\u001b[0m\u001b[1;33m(\u001b[0m\u001b[1;36m224\u001b[0m\u001b[1;33m)\u001b[0m\u001b[1;33m\n",
            "\u001b[0m        \u001b[1;32mfrom\u001b[0m \u001b[0mstatsmodels\u001b[0m\u001b[1;33m.\u001b[0m\u001b[0mgraphics\u001b[0m \u001b[1;32mimport\u001b[0m \u001b[0mtsaplots\u001b[0m\u001b[1;33m\n",
            "\u001b[0m        \u001b[0mtsaplots\u001b[0m\u001b[1;33m.\u001b[0m\u001b[0mplot_acf\u001b[0m\u001b[1;33m(\u001b[0m\u001b[0mresid\u001b[0m\u001b[1;33m,\u001b[0m \u001b[0max\u001b[0m\u001b[1;33m=\u001b[0m\u001b[0max\u001b[0m\u001b[1;33m,\u001b[0m \u001b[0mlags\u001b[0m\u001b[1;33m=\u001b[0m\u001b[0mlags\u001b[0m\u001b[1;33m)\u001b[0m\u001b[1;33m\n",
            "\u001b[0m        \u001b[0max\u001b[0m\u001b[1;33m.\u001b[0m\u001b[0mset_title\u001b[0m\u001b[1;33m(\u001b[0m\u001b[1;34m'Correlogram'\u001b[0m\u001b[1;33m)\u001b[0m\u001b[1;33m\n",
            "\u001b[0m\u001b[1;33m\n",
            "\u001b[0m        \u001b[0max\u001b[0m\u001b[1;33m.\u001b[0m\u001b[0mset_ylim\u001b[0m\u001b[1;33m(\u001b[0m\u001b[1;33m-\u001b[0m\u001b[1;36m1\u001b[0m\u001b[1;33m,\u001b[0m \u001b[1;36m1\u001b[0m\u001b[1;33m)\u001b[0m\u001b[1;33m\n",
            "\u001b[0m\u001b[1;33m\n",
            "\u001b[0m        \u001b[1;32mreturn\u001b[0m \u001b[0mfig\u001b[0m\u001b[1;33m\u001b[0m\u001b[1;33m\u001b[0m\u001b[0m\n",
            "\u001b[1;31mFile:\u001b[0m           c:\\users\\josel\\anaconda3\\envs\\basic_ds\\lib\\site-packages\\pmdarima\\arima\\arima.py\n",
            "\u001b[1;31mType:\u001b[0m           ABCMeta\n",
            "\u001b[1;31mSubclasses:\u001b[0m     \n"
          ]
        }
      ],
      "source": [
        "ARIMA??"
      ]
    },
    {
      "cell_type": "code",
      "execution_count": 33,
      "metadata": {
        "colab": {
          "base_uri": "https://localhost:8080/"
        },
        "id": "VEsK53AR7P4x",
        "outputId": "1d971d2e-bb91-468f-a75d-7c6a9c0959b5"
      },
      "outputs": [
        {
          "data": {
            "text/plain": [
              "ARIMA(order=(1, 0, 0))"
            ]
          },
          "execution_count": 33,
          "metadata": {},
          "output_type": "execute_result"
        }
      ],
      "source": [
        "\n",
        "model_ar = ARIMA(order=(1,0,0))\n",
        "model_ar.fit(train)"
      ]
    },
    {
      "cell_type": "code",
      "execution_count": 34,
      "metadata": {
        "colab": {
          "base_uri": "https://localhost:8080/"
        },
        "id": "u5g2cQVS7P4x",
        "outputId": "eede7a4a-44e6-497f-d564-62bcd9a33596"
      },
      "outputs": [
        {
          "name": "stdout",
          "output_type": "stream",
          "text": [
            "root_mean_squared_error: 3.7011908135211824\n"
          ]
        }
      ],
      "source": [
        "predictions = model_ar.predict(14)\n",
        "print(\"root_mean_squared_error:\", np.sqrt(mean_squared_error(test, predictions)))"
      ]
    },
    {
      "cell_type": "code",
      "execution_count": 35,
      "metadata": {},
      "outputs": [
        {
          "name": "stdout",
          "output_type": "stream",
          "text": [
            "r2_score: -1.3271209233477093\n"
          ]
        }
      ],
      "source": [
        "from sklearn.metrics import r2_score\n",
        "print(\"r2_score:\", r2_score(test, predictions))"
      ]
    },
    {
      "cell_type": "code",
      "execution_count": 36,
      "metadata": {},
      "outputs": [
        {
          "data": {
            "text/plain": [
              "array([10.18960874, 10.12012387, 10.05153371,  9.98382676,  9.91699163,\n",
              "        9.8510171 ,  9.78589208,  9.72160565,  9.65814699,  9.59550546,\n",
              "        9.53367053,  9.47263181,  9.41237906,  9.35290214])"
            ]
          },
          "execution_count": 36,
          "metadata": {},
          "output_type": "execute_result"
        }
      ],
      "source": [
        "predictions"
      ]
    },
    {
      "cell_type": "code",
      "execution_count": 37,
      "metadata": {
        "colab": {
          "base_uri": "https://localhost:8080/",
          "height": 265
        },
        "id": "-68pRbVF7P4x",
        "outputId": "d9128fe2-66bb-439d-9330-196ac426625d"
      },
      "outputs": [
        {
          "data": {
            "image/png": "[encoded data removed]",
            "text/plain": [
              "<Figure size 432x288 with 1 Axes>"
            ]
          },
          "metadata": {
            "needs_background": "light"
          },
          "output_type": "display_data"
        }
      ],
      "source": [
        "plt.plot(test)\n",
        "plt.plot(predictions,color='red');"
      ]
    },
    {
      "cell_type": "markdown",
      "metadata": {
        "id": "KKPfJcHn7P4y"
      },
      "source": [
        "No parece que de buen resultado el AR(1,0,0). Probemos diferentes lags, a ver cuál sería el mejor"
      ]
    },
    {
      "cell_type": "code",
      "execution_count": 38,
      "metadata": {
        "colab": {
          "base_uri": "https://localhost:8080/",
          "height": 265
        },
        "id": "XFbSSsuV7P4y",
        "outputId": "7bd6bf77-5444-4198-91f0-0455b13d33d3"
      },
      "outputs": [
        {
          "data": {
            "image/png": "[encoded data removed]",
            "text/plain": [
              "<Figure size 432x288 with 1 Axes>"
            ]
          },
          "metadata": {
            "needs_background": "light"
          },
          "output_type": "display_data"
        }
      ],
      "source": [
        "lags = []\n",
        "mse = []\n",
        "for lag in range(7, 12):\n",
        "    try:\n",
        "        model_ar = ARIMA(order=(lag, 0, 0))\n",
        "        model_ar.fit(train)\n",
        "        lags.append(lag)\n",
        "        predictions = model_ar.predict(14)\n",
        "        mse.append(mean_squared_error(test, predictions))\n",
        "    except:\n",
        "        continue\n",
        "    \n",
        "plt.plot(lags, mse);"
      ]
    },
    {
      "cell_type": "markdown",
      "metadata": {
        "id": "VOjCWwAb7P4z"
      },
      "source": [
        "Un parámetro p>5 parece que da buen resultado, pero aun asi es muy alto el error."
      ]
    },
    {
      "cell_type": "markdown",
      "metadata": {
        "id": "qJ1c2dKI7P4z"
      },
      "source": [
        "## Moving Average\n",
        "En este caso tendremos en cuenta los errores. El problema es que si tenemos muchos errores al principio, los iremos arrastrando durante las predicciones."
      ]
    },
    {
      "cell_type": "code",
      "execution_count": 40,
      "metadata": {
        "colab": {
          "base_uri": "https://localhost:8080/"
        },
        "id": "LZwu3veQ7P40",
        "outputId": "27af0d90-f315-44d2-cd13-6a655bd8ce89"
      },
      "outputs": [
        {
          "data": {
            "text/plain": [
              "ARIMA(order=(0, 0, 1))"
            ]
          },
          "execution_count": 40,
          "metadata": {},
          "output_type": "execute_result"
        }
      ],
      "source": [
        "model_ma = ARIMA(order = (0,0,1))\n",
        "model_ma.fit(train)"
      ]
    },
    {
      "cell_type": "code",
      "execution_count": 41,
      "metadata": {
        "colab": {
          "base_uri": "https://localhost:8080/"
        },
        "id": "kQsOuPIW7P40",
        "outputId": "79e82374-33c0-4753-99d0-606eda95c5b7"
      },
      "outputs": [
        {
          "name": "stdout",
          "output_type": "stream",
          "text": [
            "mean_squared_error: 87.1567910259145\n"
          ]
        }
      ],
      "source": [
        "predictions = model_ma.predict(14)\n",
        "print(\"mean_squared_error:\", mean_squared_error(test, predictions))"
      ]
    },
    {
      "cell_type": "code",
      "execution_count": 42,
      "metadata": {
        "colab": {
          "base_uri": "https://localhost:8080/",
          "height": 265
        },
        "id": "4X3hDCbN7P41",
        "outputId": "7e93914c-2c5c-4204-da65-7f8e11264e6a"
      },
      "outputs": [
        {
          "data": {
            "image/png": "[encoded data removed]",
            "text/plain": [
              "<Figure size 432x288 with 1 Axes>"
            ]
          },
          "metadata": {
            "needs_background": "light"
          },
          "output_type": "display_data"
        }
      ],
      "source": [
        "plt.plot(test)\n",
        "plt.plot(predictions,color='red');"
      ]
    },
    {
      "cell_type": "markdown",
      "metadata": {
        "id": "Pla4p7lW7P41"
      },
      "source": [
        "No está dando buen resultado. Probaremos entonces varios lags"
      ]
    },
    {
      "cell_type": "code",
      "execution_count": 43,
      "metadata": {
        "colab": {
          "base_uri": "https://localhost:8080/",
          "height": 265
        },
        "id": "yRkwmLXB7P42",
        "outputId": "002802af-67d0-4869-969a-16040230bcdd"
      },
      "outputs": [
        {
          "data": {
            "image/png": "[encoded data removed]",
            "text/plain": [
              "<Figure size 432x288 with 1 Axes>"
            ]
          },
          "metadata": {
            "needs_background": "light"
          },
          "output_type": "display_data"
        }
      ],
      "source": [
        "lags = []\n",
        "mse = []\n",
        "for lag in range(12, 30):\n",
        "    try:\n",
        "        model_ar = ARIMA(order=(0, 0, lag))\n",
        "        model_ar_fit = model_ar.fit(train)\n",
        "        predictions = model_ar_fit.predict(14)\n",
        "        lags.append(lag)\n",
        "        mse.append(mean_squared_error(test, predictions))\n",
        "    except:\n",
        "        continue\n",
        "    \n",
        "plt.plot(lags, mse);"
      ]
    },
    {
      "cell_type": "markdown",
      "metadata": {
        "id": "FAzGI8jj7P42"
      },
      "source": [
        "Parece que según vamos aumentando el parámetro `q` del modelo Moving Average, va disminuyendo el error, pero aun así es bastante grande."
      ]
    },
    {
      "cell_type": "markdown",
      "metadata": {
        "id": "XrJB8sZy7P42"
      },
      "source": [
        "## ARIMA\n",
        "En el arima no solo influyen los parámetros `p` y `q`, sino que también tendremos en cuenta `d`. Parametro con el que diferenciaremos la serie y conseguiremos que sea estacionaria.\n",
        "\n",
        "Ahora bien, ¿cuál es la mejor combinación de parámetros? Tendremos que realizar varias pruebas. Para comparar los modelos se suele utilizar el AIC.\n",
        "\n",
        "### AIC\n",
        "Akaike’s Information Criterion\n",
        "\n",
        "![imagen](./img/aic.png)\n",
        "\n",
        "k es el número de parámetros del modelo estadístico y L es el máximo valor de la función de verosimilitud para el modelo estimado. La función de verosimilitud permite realizar inferencias a partir de u conjunto de observaciones.\n",
        "\n",
        "Se utiliza para seleccionar el mejor modelo, que será el que tiene menor AIC. El AIC depende mucho de cada dato, y es una medida de comparación entre modelos, no de presentación de resultados. Un AIC bajo no quiere decir que el modelo sea muy bueno. Por tanto, AIC no nos dice nada sobre la calidad del modelo en terminos absolutos.\n"
      ]
    },
    {
      "cell_type": "markdown",
      "metadata": {
        "id": "4N_X_WQH7P43"
      },
      "source": [
        "#### ¿Cómo conseguir los mejores p, d, q?"
      ]
    },
    {
      "cell_type": "code",
      "execution_count": 45,
      "metadata": {
        "colab": {
          "base_uri": "https://localhost:8080/"
        },
        "id": "PMuK602l7P43",
        "outputId": "2a90ffca-7a1e-4eb3-c85d-0f8af540a0ef"
      },
      "outputs": [
        {
          "data": {
            "text/plain": [
              "[(8, 0, 20),\n",
              " (8, 0, 21),\n",
              " (8, 0, 22),\n",
              " (8, 0, 23),\n",
              " (8, 1, 20),\n",
              " (8, 1, 21),\n",
              " (8, 1, 22),\n",
              " (8, 1, 23),\n",
              " (8, 2, 20),\n",
              " (8, 2, 21),\n",
              " (8, 2, 22),\n",
              " (8, 2, 23),\n",
              " (9, 0, 20),\n",
              " (9, 0, 21),\n",
              " (9, 0, 22),\n",
              " (9, 0, 23),\n",
              " (9, 1, 20),\n",
              " (9, 1, 21),\n",
              " (9, 1, 22),\n",
              " (9, 1, 23),\n",
              " (9, 2, 20),\n",
              " (9, 2, 21),\n",
              " (9, 2, 22),\n",
              " (9, 2, 23)]"
            ]
          },
          "execution_count": 45,
          "metadata": {},
          "output_type": "execute_result"
        }
      ],
      "source": [
        "import itertools\n",
        "p = range(8,10)\n",
        "q = range(20, 24)\n",
        "d = range(0,3)\n",
        "pdq = list(itertools.product(p,d,q))\n",
        "pdq"
      ]
    },
    {
      "cell_type": "code",
      "execution_count": 49,
      "metadata": {},
      "outputs": [
        {
          "data": {
            "text/plain": [
              "24"
            ]
          },
          "execution_count": 49,
          "metadata": {},
          "output_type": "execute_result"
        }
      ],
      "source": [
        "len(pdq)"
      ]
    },
    {
      "cell_type": "code",
      "execution_count": 46,
      "metadata": {
        "id": "flu9Qq3c7P44"
      },
      "outputs": [],
      "source": [
        "results = []\n",
        "for param in pdq:\n",
        "    try:\n",
        "        model_arima = ARIMA(order=param)\n",
        "        model_arima_fit = model_arima.fit(train)\n",
        "        results.append((param,model_arima_fit.aic()))\n",
        "    except:\n",
        "        continue\n",
        "    "
      ]
    },
    {
      "cell_type": "code",
      "execution_count": 47,
      "metadata": {
        "colab": {
          "base_uri": "https://localhost:8080/",
          "height": 205
        },
        "id": "AOsGbq1R7P44",
        "outputId": "98e7c242-771a-4668-e472-e633c552adfa"
      },
      "outputs": [
        {
          "data": {
            "text/html": [
              "<div>\n",
              "<style scoped>\n",
              "    .dataframe tbody tr th:only-of-type {\n",
              "        vertical-align: middle;\n",
              "    }\n",
              "\n",
              "    .dataframe tbody tr th {\n",
              "        vertical-align: top;\n",
              "    }\n",
              "\n",
              "    .dataframe thead th {\n",
              "        text-align: right;\n",
              "    }\n",
              "</style>\n",
              "<table border=\"1\" class=\"dataframe\">\n",
              "  <thead>\n",
              "    <tr style=\"text-align: right;\">\n",
              "      <th></th>\n",
              "      <th>ARIMA params</th>\n",
              "      <th>AIC</th>\n",
              "    </tr>\n",
              "  </thead>\n",
              "  <tbody>\n",
              "    <tr>\n",
              "      <th>2</th>\n",
              "      <td>(8, 2, 23)</td>\n",
              "      <td>61.391536</td>\n",
              "    </tr>\n",
              "    <tr>\n",
              "      <th>1</th>\n",
              "      <td>(8, 1, 23)</td>\n",
              "      <td>63.101006</td>\n",
              "    </tr>\n",
              "    <tr>\n",
              "      <th>5</th>\n",
              "      <td>(9, 2, 23)</td>\n",
              "      <td>64.395126</td>\n",
              "    </tr>\n",
              "    <tr>\n",
              "      <th>4</th>\n",
              "      <td>(9, 1, 23)</td>\n",
              "      <td>65.195134</td>\n",
              "    </tr>\n",
              "    <tr>\n",
              "      <th>0</th>\n",
              "      <td>(8, 0, 23)</td>\n",
              "      <td>75.599041</td>\n",
              "    </tr>\n",
              "  </tbody>\n",
              "</table>\n",
              "</div>"
            ],
            "text/plain": [
              "  ARIMA params        AIC\n",
              "2   (8, 2, 23)  61.391536\n",
              "1   (8, 1, 23)  63.101006\n",
              "5   (9, 2, 23)  64.395126\n",
              "4   (9, 1, 23)  65.195134\n",
              "0   (8, 0, 23)  75.599041"
            ]
          },
          "execution_count": 47,
          "metadata": {},
          "output_type": "execute_result"
        }
      ],
      "source": [
        "resultados_df = pd.DataFrame(results, columns=['ARIMA params', 'AIC']).sort_values('AIC')\n",
        "resultados_df.head()"
      ]
    },
    {
      "cell_type": "code",
      "execution_count": 48,
      "metadata": {},
      "outputs": [
        {
          "data": {
            "text/plain": [
              "6"
            ]
          },
          "execution_count": 48,
          "metadata": {},
          "output_type": "execute_result"
        }
      ],
      "source": [
        "len(resultados_df)"
      ]
    },
    {
      "cell_type": "markdown",
      "metadata": {
        "id": "nsjyckLG7P45"
      },
      "source": [
        "Ya tenemos la mejor combinación de parámetros para el ARIMA. Probemos el modelo"
      ]
    },
    {
      "cell_type": "code",
      "execution_count": 49,
      "metadata": {
        "colab": {
          "base_uri": "https://localhost:8080/"
        },
        "id": "whN6gliR7P45",
        "outputId": "4e2fda4d-1f47-44b1-8b9c-94825cc261c6"
      },
      "outputs": [
        {
          "data": {
            "text/plain": [
              "ARIMA(order=(8, 2, 23))"
            ]
          },
          "execution_count": 49,
          "metadata": {},
          "output_type": "execute_result"
        }
      ],
      "source": [
        "best_model = ARIMA(order=(8, 2, 23))\n",
        "best_model.fit(train)"
      ]
    },
    {
      "cell_type": "code",
      "execution_count": 50,
      "metadata": {
        "colab": {
          "base_uri": "https://localhost:8080/"
        },
        "id": "kjMujFad7P45",
        "outputId": "634b2d31-1722-400b-efce-713d732ff0b8"
      },
      "outputs": [
        {
          "name": "stdout",
          "output_type": "stream",
          "text": [
            "mean_squared_error: 5.6860977002924855\n"
          ]
        }
      ],
      "source": [
        "predictions = best_model.predict(14)\n",
        "print(\"mean_squared_error:\", mean_squared_error(test, predictions))"
      ]
    },
    {
      "cell_type": "code",
      "execution_count": 54,
      "metadata": {},
      "outputs": [
        {
          "name": "stdout",
          "output_type": "stream",
          "text": [
            "mean_squared_error: 0.034059629299440175\n"
          ]
        }
      ],
      "source": [
        "print(\"mean_squared_error:\", r2_score(test, predictions))"
      ]
    },
    {
      "cell_type": "code",
      "execution_count": 51,
      "metadata": {},
      "outputs": [
        {
          "data": {
            "image/png": "[encoded data removed]",
            "text/plain": [
              "<Figure size 432x288 with 1 Axes>"
            ]
          },
          "metadata": {
            "needs_background": "light"
          },
          "output_type": "display_data"
        }
      ],
      "source": [
        "plt.plot(test)\n",
        "plt.plot(predictions,color='red');"
      ]
    },
    {
      "cell_type": "code",
      "execution_count": 53,
      "metadata": {},
      "outputs": [
        {
          "data": {
            "image/png": "[encoded data removed]",
            "text/plain": [
              "<Figure size 432x288 with 1 Axes>"
            ]
          },
          "metadata": {
            "needs_background": "light"
          },
          "output_type": "display_data"
        }
      ],
      "source": [
        "plt.plot(train.tolist() + test.tolist())\n",
        "plt.plot(train.tolist()  + predictions.tolist(),color='red');"
      ]
    },
    {
      "cell_type": "markdown",
      "metadata": {
        "id": "JfXrrTZT7P46"
      },
      "source": [
        "### Auto ARIMA"
      ]
    },
    {
      "cell_type": "code",
      "execution_count": 60,
      "metadata": {
        "colab": {
          "base_uri": "https://localhost:8080/"
        },
        "id": "rMuIacTS7P46",
        "outputId": "2391152c-0e16-4d94-8212-c3e30f00c7ac"
      },
      "outputs": [
        {
          "name": "stdout",
          "output_type": "stream",
          "text": [
            "Performing stepwise search to minimize aic\n",
            " ARIMA(2,2,2)(0,0,0)[0]             : AIC=83.049, Time=0.49 sec\n",
            " ARIMA(0,2,0)(0,0,0)[0]             : AIC=196.672, Time=0.02 sec\n",
            " ARIMA(1,2,0)(0,0,0)[0]             : AIC=180.443, Time=0.38 sec\n",
            " ARIMA(0,2,1)(0,0,0)[0]             : AIC=140.942, Time=0.36 sec\n",
            " ARIMA(1,2,2)(0,0,0)[0]             : AIC=137.570, Time=0.34 sec\n",
            " ARIMA(2,2,1)(0,0,0)[0]             : AIC=113.935, Time=0.10 sec\n",
            " ARIMA(3,2,2)(0,0,0)[0]             : AIC=42.673, Time=0.24 sec\n",
            " ARIMA(3,2,1)(0,0,0)[0]             : AIC=47.310, Time=0.18 sec\n",
            " ARIMA(4,2,2)(0,0,0)[0]             : AIC=44.615, Time=0.39 sec\n",
            " ARIMA(3,2,3)(0,0,0)[0]             : AIC=44.530, Time=0.24 sec\n",
            " ARIMA(2,2,3)(0,0,0)[0]             : AIC=82.336, Time=0.16 sec\n",
            " ARIMA(4,2,1)(0,0,0)[0]             : AIC=44.000, Time=0.27 sec\n",
            " ARIMA(4,2,3)(0,0,0)[0]             : AIC=45.523, Time=0.69 sec\n",
            " ARIMA(3,2,2)(0,0,0)[0] intercept   : AIC=36.981, Time=0.47 sec\n",
            " ARIMA(2,2,2)(0,0,0)[0] intercept   : AIC=83.502, Time=0.62 sec\n",
            " ARIMA(3,2,1)(0,0,0)[0] intercept   : AIC=inf, Time=0.38 sec\n",
            " ARIMA(4,2,2)(0,0,0)[0] intercept   : AIC=38.613, Time=0.54 sec\n",
            " ARIMA(3,2,3)(0,0,0)[0] intercept   : AIC=38.306, Time=0.53 sec\n",
            " ARIMA(2,2,1)(0,0,0)[0] intercept   : AIC=inf, Time=0.42 sec\n",
            " ARIMA(2,2,3)(0,0,0)[0] intercept   : AIC=77.637, Time=0.43 sec\n",
            " ARIMA(4,2,1)(0,0,0)[0] intercept   : AIC=38.197, Time=0.46 sec\n",
            " ARIMA(4,2,3)(0,0,0)[0] intercept   : AIC=inf, Time=0.51 sec\n",
            "\n",
            "Best model:  ARIMA(3,2,2)(0,0,0)[0] intercept\n",
            "Total fit time: 8.248 seconds\n"
          ]
        }
      ],
      "source": [
        "model = auto_arima(train,\n",
        "                   start_p = 2,\n",
        "                   start_q = 2,\n",
        "                   start_d = 2,\n",
        "                   max_p = 10,\n",
        "                   max_q = 10,\n",
        "                   max_d = 6,\n",
        "                   trace=True)"
      ]
    },
    {
      "cell_type": "code",
      "execution_count": 56,
      "metadata": {
        "colab": {
          "base_uri": "https://localhost:8080/"
        },
        "id": "33lhhGIN7P47",
        "outputId": "d8b8a074-bb92-47de-8c7b-2c9f54ec9ae6"
      },
      "outputs": [
        {
          "name": "stdout",
          "output_type": "stream",
          "text": [
            "                               SARIMAX Results                                \n",
            "==============================================================================\n",
            "Dep. Variable:                      y   No. Observations:                   70\n",
            "Model:               SARIMAX(3, 2, 2)   Log Likelihood                 -11.491\n",
            "Date:                Wed, 15 Feb 2023   AIC                             36.981\n",
            "Time:                        19:33:16   BIC                             52.518\n",
            "Sample:                             0   HQIC                            43.137\n",
            "                                 - 70                                         \n",
            "Covariance Type:                  opg                                         \n",
            "==============================================================================\n",
            "                 coef    std err          z      P>|z|      [0.025      0.975]\n",
            "------------------------------------------------------------------------------\n",
            "intercept      0.0175      0.002      7.297      0.000       0.013       0.022\n",
            "ar.L1         -1.1101      0.054    -20.663      0.000      -1.215      -1.005\n",
            "ar.L2         -1.0932      0.050    -21.791      0.000      -1.192      -0.995\n",
            "ar.L3         -0.9533      0.042    -22.913      0.000      -1.035      -0.872\n",
            "ma.L1         -0.5214      0.155     -3.363      0.001      -0.825      -0.218\n",
            "ma.L2         -0.4439      0.135     -3.291      0.001      -0.708      -0.179\n",
            "sigma2         0.0686      0.011      6.132      0.000       0.047       0.090\n",
            "===================================================================================\n",
            "Ljung-Box (L1) (Q):                   0.02   Jarque-Bera (JB):                 8.56\n",
            "Prob(Q):                              0.88   Prob(JB):                         0.01\n",
            "Heteroskedasticity (H):              24.76   Skew:                             0.55\n",
            "Prob(H) (two-sided):                  0.00   Kurtosis:                         4.35\n",
            "===================================================================================\n",
            "\n",
            "Warnings:\n",
            "[1] Covariance matrix calculated using the outer product of gradients (complex-step).\n"
          ]
        }
      ],
      "source": [
        "model = ARIMA(order=(3,2,2))\n",
        "model.fit(train)\n",
        "print(model.summary())"
      ]
    },
    {
      "cell_type": "code",
      "execution_count": 57,
      "metadata": {},
      "outputs": [
        {
          "name": "stdout",
          "output_type": "stream",
          "text": [
            "mean_squared_error: 3.9399997905891246\n"
          ]
        }
      ],
      "source": [
        "predictions = model.predict(14)\n",
        "print(\"mean_squared_error:\", mean_squared_error(test, predictions))"
      ]
    },
    {
      "cell_type": "code",
      "execution_count": 61,
      "metadata": {},
      "outputs": [
        {
          "name": "stdout",
          "output_type": "stream",
          "text": [
            "mean_squared_error: 0.3306824717264317\n"
          ]
        }
      ],
      "source": [
        "predictions = model.predict(14)\n",
        "print(\"mean_squared_error:\", r2_score(test, predictions))"
      ]
    },
    {
      "cell_type": "code",
      "execution_count": 58,
      "metadata": {},
      "outputs": [
        {
          "data": {
            "image/png": "[encoded data removed]",
            "text/plain": [
              "<Figure size 432x288 with 1 Axes>"
            ]
          },
          "metadata": {
            "needs_background": "light"
          },
          "output_type": "display_data"
        }
      ],
      "source": [
        "plt.plot(train.tolist() + test.tolist())\n",
        "plt.plot(train.tolist()  + predictions.tolist(),color='red');"
      ]
    },
    {
      "cell_type": "markdown",
      "metadata": {
        "id": "yGYhHQZj7P47"
      },
      "source": [
        "## ARIMAX\n",
        "La X viene de exogenous. Significa que le podemos añadir una variable externa con la que entrenar el modelo.\n",
        "\n",
        "Vamos a probar con los datos de la bolsa. Primero un auto_arima con los datos a cierre. Y después un auto_arima acompañado de los datos de apertura de bolsa, a ver cuánto ayudan a predecir el cierre."
      ]
    },
    {
      "cell_type": "code",
      "execution_count": 89,
      "metadata": {
        "colab": {
          "base_uri": "https://localhost:8080/",
          "height": 255
        },
        "id": "kSVhRx7r7P48",
        "outputId": "653be815-81fc-44d6-c395-9473455e857a"
      },
      "outputs": [
        {
          "name": "stdout",
          "output_type": "stream",
          "text": [
            "1259\n"
          ]
        },
        {
          "data": {
            "text/html": [
              "<div>\n",
              "<style scoped>\n",
              "    .dataframe tbody tr th:only-of-type {\n",
              "        vertical-align: middle;\n",
              "    }\n",
              "\n",
              "    .dataframe tbody tr th {\n",
              "        vertical-align: top;\n",
              "    }\n",
              "\n",
              "    .dataframe thead th {\n",
              "        text-align: right;\n",
              "    }\n",
              "</style>\n",
              "<table border=\"1\" class=\"dataframe\">\n",
              "  <thead>\n",
              "    <tr style=\"text-align: right;\">\n",
              "      <th></th>\n",
              "      <th>Open</th>\n",
              "      <th>High</th>\n",
              "      <th>Low</th>\n",
              "      <th>Close</th>\n",
              "      <th>Adj Close</th>\n",
              "      <th>Volume</th>\n",
              "    </tr>\n",
              "    <tr>\n",
              "      <th>Date</th>\n",
              "      <th></th>\n",
              "      <th></th>\n",
              "      <th></th>\n",
              "      <th></th>\n",
              "      <th></th>\n",
              "      <th></th>\n",
              "    </tr>\n",
              "  </thead>\n",
              "  <tbody>\n",
              "    <tr>\n",
              "      <th>2014-12-08</th>\n",
              "      <td>76.180000</td>\n",
              "      <td>77.250000</td>\n",
              "      <td>75.400002</td>\n",
              "      <td>76.519997</td>\n",
              "      <td>76.519997</td>\n",
              "      <td>25733900</td>\n",
              "    </tr>\n",
              "    <tr>\n",
              "      <th>2014-12-09</th>\n",
              "      <td>75.199997</td>\n",
              "      <td>76.930000</td>\n",
              "      <td>74.779999</td>\n",
              "      <td>76.839996</td>\n",
              "      <td>76.839996</td>\n",
              "      <td>25358600</td>\n",
              "    </tr>\n",
              "    <tr>\n",
              "      <th>2014-12-10</th>\n",
              "      <td>76.650002</td>\n",
              "      <td>77.550003</td>\n",
              "      <td>76.070000</td>\n",
              "      <td>76.180000</td>\n",
              "      <td>76.180000</td>\n",
              "      <td>32210500</td>\n",
              "    </tr>\n",
              "    <tr>\n",
              "      <th>2014-12-11</th>\n",
              "      <td>76.519997</td>\n",
              "      <td>78.519997</td>\n",
              "      <td>76.480003</td>\n",
              "      <td>77.730003</td>\n",
              "      <td>77.730003</td>\n",
              "      <td>33462100</td>\n",
              "    </tr>\n",
              "    <tr>\n",
              "      <th>2014-12-12</th>\n",
              "      <td>77.160004</td>\n",
              "      <td>78.879997</td>\n",
              "      <td>77.019997</td>\n",
              "      <td>77.830002</td>\n",
              "      <td>77.830002</td>\n",
              "      <td>28091600</td>\n",
              "    </tr>\n",
              "  </tbody>\n",
              "</table>\n",
              "</div>"
            ],
            "text/plain": [
              "                 Open       High        Low      Close  Adj Close    Volume\n",
              "Date                                                                       \n",
              "2014-12-08  76.180000  77.250000  75.400002  76.519997  76.519997  25733900\n",
              "2014-12-09  75.199997  76.930000  74.779999  76.839996  76.839996  25358600\n",
              "2014-12-10  76.650002  77.550003  76.070000  76.180000  76.180000  32210500\n",
              "2014-12-11  76.519997  78.519997  76.480003  77.730003  77.730003  33462100\n",
              "2014-12-12  77.160004  78.879997  77.019997  77.830002  77.830002  28091600"
            ]
          },
          "execution_count": 89,
          "metadata": {},
          "output_type": "execute_result"
        }
      ],
      "source": [
        "stock_df = pd.read_csv('data/FB.csv', header=0, index_col=0)\n",
        "print(len(stock_df))\n",
        "stock_df.head()"
      ]
    },
    {
      "cell_type": "code",
      "execution_count": 63,
      "metadata": {
        "colab": {
          "base_uri": "https://localhost:8080/",
          "height": 388
        },
        "id": "t_r6reK67P48",
        "outputId": "87a8455c-1899-4f89-d99f-885a01772af5"
      },
      "outputs": [
        {
          "data": {
            "image/png": "[encoded data removed]",
            "text/plain": [
              "<Figure size 1080x432 with 1 Axes>"
            ]
          },
          "metadata": {
            "needs_background": "light"
          },
          "output_type": "display_data"
        }
      ],
      "source": [
        "stock_df['Close'].plot(figsize=(15,6));"
      ]
    },
    {
      "cell_type": "code",
      "execution_count": 64,
      "metadata": {},
      "outputs": [
        {
          "data": {
            "text/plain": [
              "1259"
            ]
          },
          "execution_count": 64,
          "metadata": {},
          "output_type": "execute_result"
        }
      ],
      "source": [
        "len(stock_df['Close'])"
      ]
    },
    {
      "cell_type": "code",
      "execution_count": 65,
      "metadata": {},
      "outputs": [
        {
          "data": {
            "text/plain": [
              "count    600.000000\n",
              "mean     106.499583\n",
              "std       19.865461\n",
              "min       74.050003\n",
              "25%       87.932497\n",
              "50%      107.840001\n",
              "75%      121.807497\n",
              "max      146.559998\n",
              "Name: Close, dtype: float64"
            ]
          },
          "execution_count": 65,
          "metadata": {},
          "output_type": "execute_result"
        }
      ],
      "source": [
        "stock_df['Close'][:600].describe()"
      ]
    },
    {
      "cell_type": "code",
      "execution_count": 66,
      "metadata": {},
      "outputs": [
        {
          "data": {
            "text/plain": [
              "count    659.000000\n",
              "mean     173.255326\n",
              "std       17.356365\n",
              "min      124.059998\n",
              "25%      162.514999\n",
              "50%      175.130005\n",
              "75%      185.550003\n",
              "max      217.500000\n",
              "Name: Close, dtype: float64"
            ]
          },
          "execution_count": 66,
          "metadata": {},
          "output_type": "execute_result"
        }
      ],
      "source": [
        "stock_df['Close'][600:].describe()"
      ]
    },
    {
      "cell_type": "markdown",
      "metadata": {
        "id": "LIkpLZ3M7P49"
      },
      "source": [
        "Vemos primero ejemplo sin variable exogena"
      ]
    },
    {
      "cell_type": "code",
      "execution_count": 90,
      "metadata": {
        "id": "_UBZ39ii7P49"
      },
      "outputs": [],
      "source": [
        "train = stock_df['Close'][0:1240].values\n",
        "test = stock_df['Close'][1240:].values"
      ]
    },
    {
      "cell_type": "code",
      "execution_count": 68,
      "metadata": {},
      "outputs": [
        {
          "data": {
            "text/plain": [
              "19"
            ]
          },
          "execution_count": 68,
          "metadata": {},
          "output_type": "execute_result"
        }
      ],
      "source": [
        "len(test)"
      ]
    },
    {
      "cell_type": "markdown",
      "metadata": {
        "id": "vjUGt9A77P49"
      },
      "source": [
        "Vamos a probar varios ARIMAS, a ver cuál sería la mejor combinación de hiperparámetros."
      ]
    },
    {
      "cell_type": "code",
      "execution_count": 69,
      "metadata": {},
      "outputs": [
        {
          "name": "stdout",
          "output_type": "stream",
          "text": [
            "\u001b[1;31mSignature:\u001b[0m\n",
            "\u001b[0mauto_arima\u001b[0m\u001b[1;33m(\u001b[0m\u001b[1;33m\n",
            "\u001b[0m    \u001b[0my\u001b[0m\u001b[1;33m,\u001b[0m\u001b[1;33m\n",
            "\u001b[0m    \u001b[0mX\u001b[0m\u001b[1;33m=\u001b[0m\u001b[1;32mNone\u001b[0m\u001b[1;33m,\u001b[0m\u001b[1;33m\n",
            "\u001b[0m    \u001b[0mstart_p\u001b[0m\u001b[1;33m=\u001b[0m\u001b[1;36m2\u001b[0m\u001b[1;33m,\u001b[0m\u001b[1;33m\n",
            "\u001b[0m    \u001b[0md\u001b[0m\u001b[1;33m=\u001b[0m\u001b[1;32mNone\u001b[0m\u001b[1;33m,\u001b[0m\u001b[1;33m\n",
            "\u001b[0m    \u001b[0mstart_q\u001b[0m\u001b[1;33m=\u001b[0m\u001b[1;36m2\u001b[0m\u001b[1;33m,\u001b[0m\u001b[1;33m\n",
            "\u001b[0m    \u001b[0mmax_p\u001b[0m\u001b[1;33m=\u001b[0m\u001b[1;36m5\u001b[0m\u001b[1;33m,\u001b[0m\u001b[1;33m\n",
            "\u001b[0m    \u001b[0mmax_d\u001b[0m\u001b[1;33m=\u001b[0m\u001b[1;36m2\u001b[0m\u001b[1;33m,\u001b[0m\u001b[1;33m\n",
            "\u001b[0m    \u001b[0mmax_q\u001b[0m\u001b[1;33m=\u001b[0m\u001b[1;36m5\u001b[0m\u001b[1;33m,\u001b[0m\u001b[1;33m\n",
            "\u001b[0m    \u001b[0mstart_P\u001b[0m\u001b[1;33m=\u001b[0m\u001b[1;36m1\u001b[0m\u001b[1;33m,\u001b[0m\u001b[1;33m\n",
            "\u001b[0m    \u001b[0mD\u001b[0m\u001b[1;33m=\u001b[0m\u001b[1;32mNone\u001b[0m\u001b[1;33m,\u001b[0m\u001b[1;33m\n",
            "\u001b[0m    \u001b[0mstart_Q\u001b[0m\u001b[1;33m=\u001b[0m\u001b[1;36m1\u001b[0m\u001b[1;33m,\u001b[0m\u001b[1;33m\n",
            "\u001b[0m    \u001b[0mmax_P\u001b[0m\u001b[1;33m=\u001b[0m\u001b[1;36m2\u001b[0m\u001b[1;33m,\u001b[0m\u001b[1;33m\n",
            "\u001b[0m    \u001b[0mmax_D\u001b[0m\u001b[1;33m=\u001b[0m\u001b[1;36m1\u001b[0m\u001b[1;33m,\u001b[0m\u001b[1;33m\n",
            "\u001b[0m    \u001b[0mmax_Q\u001b[0m\u001b[1;33m=\u001b[0m\u001b[1;36m2\u001b[0m\u001b[1;33m,\u001b[0m\u001b[1;33m\n",
            "\u001b[0m    \u001b[0mmax_order\u001b[0m\u001b[1;33m=\u001b[0m\u001b[1;36m5\u001b[0m\u001b[1;33m,\u001b[0m\u001b[1;33m\n",
            "\u001b[0m    \u001b[0mm\u001b[0m\u001b[1;33m=\u001b[0m\u001b[1;36m1\u001b[0m\u001b[1;33m,\u001b[0m\u001b[1;33m\n",
            "\u001b[0m    \u001b[0mseasonal\u001b[0m\u001b[1;33m=\u001b[0m\u001b[1;32mTrue\u001b[0m\u001b[1;33m,\u001b[0m\u001b[1;33m\n",
            "\u001b[0m    \u001b[0mstationary\u001b[0m\u001b[1;33m=\u001b[0m\u001b[1;32mFalse\u001b[0m\u001b[1;33m,\u001b[0m\u001b[1;33m\n",
            "\u001b[0m    \u001b[0minformation_criterion\u001b[0m\u001b[1;33m=\u001b[0m\u001b[1;34m'aic'\u001b[0m\u001b[1;33m,\u001b[0m\u001b[1;33m\n",
            "\u001b[0m    \u001b[0malpha\u001b[0m\u001b[1;33m=\u001b[0m\u001b[1;36m0.05\u001b[0m\u001b[1;33m,\u001b[0m\u001b[1;33m\n",
            "\u001b[0m    \u001b[0mtest\u001b[0m\u001b[1;33m=\u001b[0m\u001b[1;34m'kpss'\u001b[0m\u001b[1;33m,\u001b[0m\u001b[1;33m\n",
            "\u001b[0m    \u001b[0mseasonal_test\u001b[0m\u001b[1;33m=\u001b[0m\u001b[1;34m'ocsb'\u001b[0m\u001b[1;33m,\u001b[0m\u001b[1;33m\n",
            "\u001b[0m    \u001b[0mstepwise\u001b[0m\u001b[1;33m=\u001b[0m\u001b[1;32mTrue\u001b[0m\u001b[1;33m,\u001b[0m\u001b[1;33m\n",
            "\u001b[0m    \u001b[0mn_jobs\u001b[0m\u001b[1;33m=\u001b[0m\u001b[1;36m1\u001b[0m\u001b[1;33m,\u001b[0m\u001b[1;33m\n",
            "\u001b[0m    \u001b[0mstart_params\u001b[0m\u001b[1;33m=\u001b[0m\u001b[1;32mNone\u001b[0m\u001b[1;33m,\u001b[0m\u001b[1;33m\n",
            "\u001b[0m    \u001b[0mtrend\u001b[0m\u001b[1;33m=\u001b[0m\u001b[1;32mNone\u001b[0m\u001b[1;33m,\u001b[0m\u001b[1;33m\n",
            "\u001b[0m    \u001b[0mmethod\u001b[0m\u001b[1;33m=\u001b[0m\u001b[1;34m'lbfgs'\u001b[0m\u001b[1;33m,\u001b[0m\u001b[1;33m\n",
            "\u001b[0m    \u001b[0mmaxiter\u001b[0m\u001b[1;33m=\u001b[0m\u001b[1;36m50\u001b[0m\u001b[1;33m,\u001b[0m\u001b[1;33m\n",
            "\u001b[0m    \u001b[0moffset_test_args\u001b[0m\u001b[1;33m=\u001b[0m\u001b[1;32mNone\u001b[0m\u001b[1;33m,\u001b[0m\u001b[1;33m\n",
            "\u001b[0m    \u001b[0mseasonal_test_args\u001b[0m\u001b[1;33m=\u001b[0m\u001b[1;32mNone\u001b[0m\u001b[1;33m,\u001b[0m\u001b[1;33m\n",
            "\u001b[0m    \u001b[0msuppress_warnings\u001b[0m\u001b[1;33m=\u001b[0m\u001b[1;32mTrue\u001b[0m\u001b[1;33m,\u001b[0m\u001b[1;33m\n",
            "\u001b[0m    \u001b[0merror_action\u001b[0m\u001b[1;33m=\u001b[0m\u001b[1;34m'trace'\u001b[0m\u001b[1;33m,\u001b[0m\u001b[1;33m\n",
            "\u001b[0m    \u001b[0mtrace\u001b[0m\u001b[1;33m=\u001b[0m\u001b[1;32mFalse\u001b[0m\u001b[1;33m,\u001b[0m\u001b[1;33m\n",
            "\u001b[0m    \u001b[0mrandom\u001b[0m\u001b[1;33m=\u001b[0m\u001b[1;32mFalse\u001b[0m\u001b[1;33m,\u001b[0m\u001b[1;33m\n",
            "\u001b[0m    \u001b[0mrandom_state\u001b[0m\u001b[1;33m=\u001b[0m\u001b[1;32mNone\u001b[0m\u001b[1;33m,\u001b[0m\u001b[1;33m\n",
            "\u001b[0m    \u001b[0mn_fits\u001b[0m\u001b[1;33m=\u001b[0m\u001b[1;36m10\u001b[0m\u001b[1;33m,\u001b[0m\u001b[1;33m\n",
            "\u001b[0m    \u001b[0mreturn_valid_fits\u001b[0m\u001b[1;33m=\u001b[0m\u001b[1;32mFalse\u001b[0m\u001b[1;33m,\u001b[0m\u001b[1;33m\n",
            "\u001b[0m    \u001b[0mout_of_sample_size\u001b[0m\u001b[1;33m=\u001b[0m\u001b[1;36m0\u001b[0m\u001b[1;33m,\u001b[0m\u001b[1;33m\n",
            "\u001b[0m    \u001b[0mscoring\u001b[0m\u001b[1;33m=\u001b[0m\u001b[1;34m'mse'\u001b[0m\u001b[1;33m,\u001b[0m\u001b[1;33m\n",
            "\u001b[0m    \u001b[0mscoring_args\u001b[0m\u001b[1;33m=\u001b[0m\u001b[1;32mNone\u001b[0m\u001b[1;33m,\u001b[0m\u001b[1;33m\n",
            "\u001b[0m    \u001b[0mwith_intercept\u001b[0m\u001b[1;33m=\u001b[0m\u001b[1;34m'auto'\u001b[0m\u001b[1;33m,\u001b[0m\u001b[1;33m\n",
            "\u001b[0m    \u001b[0msarimax_kwargs\u001b[0m\u001b[1;33m=\u001b[0m\u001b[1;32mNone\u001b[0m\u001b[1;33m,\u001b[0m\u001b[1;33m\n",
            "\u001b[0m    \u001b[1;33m**\u001b[0m\u001b[0mfit_args\u001b[0m\u001b[1;33m,\u001b[0m\u001b[1;33m\n",
            "\u001b[0m\u001b[1;33m)\u001b[0m\u001b[1;33m\u001b[0m\u001b[1;33m\u001b[0m\u001b[0m\n",
            "\u001b[1;31mDocstring:\u001b[0m\n",
            "Automatically discover the optimal order for an ARIMA model.\n",
            "\n",
            "The auto-ARIMA process seeks to identify the most optimal\n",
            "parameters for an ``ARIMA`` model, settling on a single fitted ARIMA model.\n",
            "This process is based on the commonly-used R function,\n",
            "``forecast::auto.arima`` [3].\n",
            "\n",
            "Auto-ARIMA works by conducting differencing tests (i.e.,\n",
            "Kwiatkowski–Phillips–Schmidt–Shin, Augmented Dickey-Fuller or\n",
            "Phillips–Perron) to determine the order of differencing, ``d``, and then\n",
            "fitting models within ranges of defined ``start_p``, ``max_p``,\n",
            "``start_q``, ``max_q`` ranges. If the ``seasonal`` optional is enabled,\n",
            "auto-ARIMA also seeks to identify the optimal ``P`` and ``Q`` hyper-\n",
            "parameters after conducting the Canova-Hansen to determine the optimal\n",
            "order of seasonal differencing, ``D``.\n",
            "\n",
            "In order to find the best model, auto-ARIMA optimizes for a given\n",
            "``information_criterion``, one of ('aic', 'aicc', 'bic', 'hqic', 'oob')\n",
            "(Akaike Information Criterion, Corrected Akaike Information Criterion,\n",
            "Bayesian Information Criterion, Hannan-Quinn Information Criterion, or\n",
            "\"out of bag\"--for validation scoring--respectively) and returns the ARIMA\n",
            "which minimizes the value.\n",
            "\n",
            "Note that due to stationarity issues, auto-ARIMA might not find a\n",
            "suitable model that will converge. If this is the case, a ``ValueError``\n",
            "will be thrown suggesting stationarity-inducing measures be taken prior\n",
            "to re-fitting or that a new range of ``order`` values be selected. Non-\n",
            "stepwise (i.e., essentially a grid search) selection can be slow,\n",
            "especially for seasonal data. Stepwise algorithm is outlined in Hyndman and\n",
            "Khandakar (2008).\n",
            "\n",
            "Parameters\n",
            "----------\n",
            "y : array-like or iterable, shape=(n_samples,)\n",
            "    The time-series to which to fit the ``ARIMA`` estimator. This may\n",
            "    either be a Pandas ``Series`` object (statsmodels can internally\n",
            "    use the dates in the index), or a numpy array. This should be a\n",
            "    one-dimensional array of floats, and should not contain any\n",
            "    ``np.nan`` or ``np.inf`` values.\n",
            "\n",
            "X : array-like, shape=[n_obs, n_vars], optional (default=None)\n",
            "    An optional 2-d array of exogenous variables. If provided, these\n",
            "    variables are used as additional features in the regression\n",
            "    operation. This should not include a constant or trend. Note that\n",
            "    if an ``ARIMA`` is fit on exogenous features, it must be provided\n",
            "    exogenous features for making predictions.\n",
            "\n",
            "start_p : int, optional (default=2)\n",
            "    The starting value of ``p``, the order (or number of time lags)\n",
            "    of the auto-regressive (\"AR\") model. Must be a positive integer.\n",
            "\n",
            "d : int, optional (default=None)\n",
            "    The order of first-differencing. If None (by default), the value\n",
            "    will automatically be selected based on the results of the ``test``\n",
            "    (i.e., either the Kwiatkowski–Phillips–Schmidt–Shin, Augmented\n",
            "    Dickey-Fuller or the Phillips–Perron test will be conducted to find\n",
            "    the most probable value). Must be a positive integer or None. Note\n",
            "    that if ``d`` is None, the runtime could be significantly longer.\n",
            "\n",
            "start_q : int, optional (default=2)\n",
            "    The starting value of ``q``, the order of the moving-average\n",
            "    (\"MA\") model. Must be a positive integer.\n",
            "\n",
            "max_p : int, optional (default=5)\n",
            "    The maximum value of ``p``, inclusive. Must be a positive integer\n",
            "    greater than or equal to ``start_p``.\n",
            "\n",
            "max_d : int, optional (default=2)\n",
            "    The maximum value of ``d``, or the maximum number of non-seasonal\n",
            "    differences. Must be a positive integer greater than or equal to ``d``.\n",
            "\n",
            "max_q : int, optional (default=5)\n",
            "    The maximum value of ``q``, inclusive. Must be a positive integer\n",
            "    greater than ``start_q``.\n",
            "\n",
            "start_P : int, optional (default=1)\n",
            "    The starting value of ``P``, the order of the auto-regressive portion\n",
            "    of the seasonal model.\n",
            "\n",
            "D : int, optional (default=None)\n",
            "    The order of the seasonal differencing. If None (by default, the value\n",
            "    will automatically be selected based on the results of the\n",
            "    ``seasonal_test``. Must be a positive integer or None.\n",
            "\n",
            "start_Q : int, optional (default=1)\n",
            "    The starting value of ``Q``, the order of the moving-average portion\n",
            "    of the seasonal model.\n",
            "\n",
            "max_P : int, optional (default=2)\n",
            "    The maximum value of ``P``, inclusive. Must be a positive integer\n",
            "    greater than ``start_P``.\n",
            "\n",
            "max_D : int, optional (default=1)\n",
            "    The maximum value of ``D``. Must be a positive integer greater\n",
            "    than ``D``.\n",
            "\n",
            "max_Q : int, optional (default=2)\n",
            "    The maximum value of ``Q``, inclusive. Must be a positive integer\n",
            "    greater than ``start_Q``.\n",
            "\n",
            "max_order : int, optional (default=5)\n",
            "    Maximum value of p+q+P+Q if model selection is not stepwise.\n",
            "    If the sum of ``p`` and ``q`` is >= ``max_order``, a model will\n",
            "    *not* be fit with those parameters, but will progress to the next\n",
            "    combination. Default is 5. If ``max_order`` is None, it means there\n",
            "    are no constraints on maximum order.\n",
            "\n",
            "m : int, optional (default=1)\n",
            "    The period for seasonal differencing, ``m`` refers to the number of\n",
            "    periods in each season. For example, ``m`` is 4 for quarterly data, 12\n",
            "    for monthly data, or 1 for annual (non-seasonal) data. Default is 1.\n",
            "    Note that if ``m`` == 1 (i.e., is non-seasonal), ``seasonal`` will be\n",
            "    set to False. For more information on setting this parameter, see\n",
            "    :ref:`period`.\n",
            "\n",
            "seasonal : bool, optional (default=True)\n",
            "    Whether to fit a seasonal ARIMA. Default is True. Note that if\n",
            "    ``seasonal`` is True and ``m`` == 1, ``seasonal`` will be set to False.\n",
            "\n",
            "stationary : bool, optional (default=False)\n",
            "    Whether the time-series is stationary and ``d`` should be set to zero.\n",
            "\n",
            "information_criterion : str, optional (default='aic')\n",
            "    The information criterion used to select the best ARIMA model. One of\n",
            "    ``pmdarima.arima.auto_arima.VALID_CRITERIA``, ('aic', 'bic', 'hqic',\n",
            "    'oob').\n",
            "\n",
            "alpha : float, optional (default=0.05)\n",
            "    Level of the test for testing significance.\n",
            "\n",
            "test : str, optional (default='kpss')\n",
            "    Type of unit root test to use in order to detect stationarity if\n",
            "    ``stationary`` is False and ``d`` is None. Default is 'kpss'\n",
            "    (Kwiatkowski–Phillips–Schmidt–Shin).\n",
            "\n",
            "seasonal_test : str, optional (default='ocsb')\n",
            "    This determines which seasonal unit root test is used if ``seasonal``\n",
            "    is True and ``D`` is None. Default is 'OCSB'.\n",
            "\n",
            "stepwise : bool, optional (default=True)\n",
            "    Whether to use the stepwise algorithm outlined in Hyndman and Khandakar\n",
            "    (2008) to identify the optimal model parameters. The stepwise algorithm\n",
            "    can be significantly faster than fitting all (or a ``random`` subset\n",
            "    of) hyper-parameter combinations and is less likely to over-fit\n",
            "    the model.\n",
            "\n",
            "n_jobs : int, optional (default=1)\n",
            "    The number of models to fit in parallel in the case of a grid search\n",
            "    (``stepwise=False``). Default is 1, but -1 can be used to designate\n",
            "    \"as many as possible\".\n",
            "\n",
            "start_params : array-like, optional (default=None)\n",
            "    Starting parameters for ``ARMA(p,q)``.  If None, the default is given\n",
            "    by ``ARMA._fit_start_params``.\n",
            "\n",
            "method : str, optional (default='lbfgs')\n",
            "    The ``method`` determines which solver from ``scipy.optimize``\n",
            "    is used, and it can be chosen from among the following strings:\n",
            "\n",
            "    - 'newton' for Newton-Raphson\n",
            "    - 'nm' for Nelder-Mead\n",
            "    - 'bfgs' for Broyden-Fletcher-Goldfarb-Shanno (BFGS)\n",
            "    - 'lbfgs' for limited-memory BFGS with optional box constraints\n",
            "    - 'powell' for modified Powell's method\n",
            "    - 'cg' for conjugate gradient\n",
            "    - 'ncg' for Newton-conjugate gradient\n",
            "    - 'basinhopping' for global basin-hopping solver\n",
            "\n",
            "    The explicit arguments in ``fit`` are passed to the solver,\n",
            "    with the exception of the basin-hopping solver. Each\n",
            "    solver has several optional arguments that are not the same across\n",
            "    solvers. These can be passed as **fit_kwargs\n",
            "\n",
            "trend : str or None, optional (default=None)\n",
            "    The trend parameter. If ``with_intercept`` is True, ``trend`` will be\n",
            "    used. If ``with_intercept`` is False, the trend will be set to a no-\n",
            "    intercept value.\n",
            "\n",
            "maxiter : int, optional (default=50)\n",
            "    The maximum number of function evaluations. Default is 50.\n",
            "\n",
            "offset_test_args : dict, optional (default=None)\n",
            "    The args to pass to the constructor of the offset (``d``) test. See\n",
            "    ``pmdarima.arima.stationarity`` for more details.\n",
            "\n",
            "seasonal_test_args : dict, optional (default=None)\n",
            "    The args to pass to the constructor of the seasonal offset (``D``)\n",
            "    test. See ``pmdarima.arima.seasonality`` for more details. Examples of\n",
            "    valid kwargs will vary based on the test. For the ``OCSBTest``\n",
            "    (default) they include:\n",
            "    \n",
            "    - 'lag_method'\n",
            "    - 'max_lag'\n",
            "\n",
            "suppress_warnings : bool, optional (default=True)\n",
            "    Many warnings might be thrown inside of statsmodels. If\n",
            "    ``suppress_warnings`` is True, all of the warnings coming from\n",
            "    ``ARIMA`` will be squelched. Note that this will not suppress\n",
            "    UserWarnings created by bad argument combinations.\n",
            "\n",
            "error_action : str, optional (default='warn')\n",
            "    If unable to fit an ``ARIMA`` for whatever reason, this controls the\n",
            "    error-handling behavior. Model fits can fail for linear algebra errors,\n",
            "    convergence errors, or any number of problems related to stationarity\n",
            "    or input data.\n",
            "        - 'warn': Warns when an error is encountered (default)\n",
            "        - 'raise': Raises when an error is encountered\n",
            "        - 'ignore': Ignores errors (not recommended)\n",
            "        - 'trace': Logs the entire error stacktrace and continues the\n",
            "           search. This is the best option when trying to determine why a\n",
            "           model is failing.\n",
            "\n",
            "trace : bool or int, optional (default=False)\n",
            "    Whether to print status on the fits. A value of False will print no\n",
            "    debugging information. A value of True will print some. Integer values\n",
            "    exceeding 1 will print increasing amounts of debug information at each\n",
            "    fit.\n",
            "\n",
            "random : bool, optional (default=False)\n",
            "    Similar to grid searches, ``auto_arima`` provides the capability to\n",
            "    perform a \"random search\" over a hyper-parameter space. If ``random``\n",
            "    is True, rather than perform an exhaustive search or ``stepwise``\n",
            "    search, only ``n_fits`` ARIMA models will be fit (``stepwise`` must be\n",
            "    False for this option to do anything).\n",
            "\n",
            "random_state : int, long or numpy ``RandomState``, optional (default=None)\n",
            "    The PRNG for when ``random=True``. Ensures replicable testing and\n",
            "    results.\n",
            "\n",
            "n_fits : int, optional (default=10)\n",
            "    If ``random`` is True and a \"random search\" is going to be performed,\n",
            "    ``n_fits`` is the number of ARIMA models to be fit.\n",
            "\n",
            "return_valid_fits : bool, optional (default=False)\n",
            "    If True, will return all valid ARIMA fits in a list. If False (by\n",
            "    default), will only return the best fit.\n",
            "\n",
            "out_of_sample_size : int, optional (default=0)\n",
            "    The ``ARIMA`` class can fit only a portion of the data if specified,\n",
            "    in order to retain an \"out of bag\" sample score. This is the\n",
            "    number of examples from the tail of the time series to hold out\n",
            "    and use as validation examples. The model will not be fit on these\n",
            "    samples, but the observations will be added into the model's ``endog``\n",
            "    and ``exog`` arrays so that future forecast values originate from the\n",
            "    end of the endogenous vector.\n",
            "\n",
            "    For instance::\n",
            "\n",
            "        y = [0, 1, 2, 3, 4, 5, 6]\n",
            "        out_of_sample_size = 2\n",
            "\n",
            "        > Fit on: [0, 1, 2, 3, 4]\n",
            "        > Score on: [5, 6]\n",
            "        > Append [5, 6] to end of self.arima_res_.data.endog values\n",
            "\n",
            "scoring : str, optional (default='mse')\n",
            "    If performing validation (i.e., if ``out_of_sample_size`` > 0), the\n",
            "    metric to use for scoring the out-of-sample data. One of ('mse', 'mae')\n",
            "\n",
            "scoring_args : dict, optional (default=None)\n",
            "    A dictionary of key-word arguments to be passed to the ``scoring``\n",
            "    metric.\n",
            "\n",
            "with_intercept : bool or str, optional (default=\"auto\")\n",
            "    Whether to include an intercept term. Default is \"auto\" which behaves\n",
            "    like True until a point in the search where the sum of differencing\n",
            "    terms will explicitly set it to True or False.\n",
            "\n",
            "\n",
            "sarimax_kwargs : dict or None, optional (default=None)\n",
            "    Keyword arguments to pass to the ARIMA constructor.\n",
            "\n",
            "\n",
            "**fit_args : dict, optional (default=None)\n",
            "    A dictionary of keyword arguments to pass to the :func:`ARIMA.fit`\n",
            "    method.\n",
            "\n",
            "See Also\n",
            "--------\n",
            ":func:`pmdarima.arima.ARIMA`\n",
            "\n",
            "Notes\n",
            "-----\n",
            "* Fitting with `stepwise=False` can prove slower, especially when\n",
            "  `seasonal=True`.\n",
            "\n",
            "References\n",
            "----------\n",
            ".. [1] https://wikipedia.org/wiki/Autoregressive_integrated_moving_average\n",
            ".. [2] R's auto-arima source code: https://github.com/robjhyndman/forecast/blob/master/R/arima.R\n",
            ".. [3] R's auto-arima documentation: https://www.rdocumentation.org/packages/forecast\n",
            "\u001b[1;31mSource:\u001b[0m   \n",
            "\u001b[1;32mdef\u001b[0m \u001b[0mauto_arima\u001b[0m\u001b[1;33m(\u001b[0m\u001b[1;33m\n",
            "\u001b[0m    \u001b[0my\u001b[0m\u001b[1;33m,\u001b[0m\u001b[1;33m\n",
            "\u001b[0m    \u001b[0mX\u001b[0m\u001b[1;33m=\u001b[0m\u001b[1;32mNone\u001b[0m\u001b[1;33m,\u001b[0m\u001b[1;33m\n",
            "\u001b[0m    \u001b[0mstart_p\u001b[0m\u001b[1;33m=\u001b[0m\u001b[1;36m2\u001b[0m\u001b[1;33m,\u001b[0m\u001b[1;33m\n",
            "\u001b[0m    \u001b[0md\u001b[0m\u001b[1;33m=\u001b[0m\u001b[1;32mNone\u001b[0m\u001b[1;33m,\u001b[0m\u001b[1;33m\n",
            "\u001b[0m    \u001b[0mstart_q\u001b[0m\u001b[1;33m=\u001b[0m\u001b[1;36m2\u001b[0m\u001b[1;33m,\u001b[0m\u001b[1;33m\n",
            "\u001b[0m    \u001b[0mmax_p\u001b[0m\u001b[1;33m=\u001b[0m\u001b[1;36m5\u001b[0m\u001b[1;33m,\u001b[0m\u001b[1;33m\n",
            "\u001b[0m    \u001b[0mmax_d\u001b[0m\u001b[1;33m=\u001b[0m\u001b[1;36m2\u001b[0m\u001b[1;33m,\u001b[0m\u001b[1;33m\n",
            "\u001b[0m    \u001b[0mmax_q\u001b[0m\u001b[1;33m=\u001b[0m\u001b[1;36m5\u001b[0m\u001b[1;33m,\u001b[0m\u001b[1;33m\n",
            "\u001b[0m    \u001b[0mstart_P\u001b[0m\u001b[1;33m=\u001b[0m\u001b[1;36m1\u001b[0m\u001b[1;33m,\u001b[0m\u001b[1;33m\n",
            "\u001b[0m    \u001b[0mD\u001b[0m\u001b[1;33m=\u001b[0m\u001b[1;32mNone\u001b[0m\u001b[1;33m,\u001b[0m\u001b[1;33m\n",
            "\u001b[0m    \u001b[0mstart_Q\u001b[0m\u001b[1;33m=\u001b[0m\u001b[1;36m1\u001b[0m\u001b[1;33m,\u001b[0m\u001b[1;33m\n",
            "\u001b[0m    \u001b[0mmax_P\u001b[0m\u001b[1;33m=\u001b[0m\u001b[1;36m2\u001b[0m\u001b[1;33m,\u001b[0m\u001b[1;33m\n",
            "\u001b[0m    \u001b[0mmax_D\u001b[0m\u001b[1;33m=\u001b[0m\u001b[1;36m1\u001b[0m\u001b[1;33m,\u001b[0m\u001b[1;33m\n",
            "\u001b[0m    \u001b[0mmax_Q\u001b[0m\u001b[1;33m=\u001b[0m\u001b[1;36m2\u001b[0m\u001b[1;33m,\u001b[0m\u001b[1;33m\n",
            "\u001b[0m    \u001b[0mmax_order\u001b[0m\u001b[1;33m=\u001b[0m\u001b[1;36m5\u001b[0m\u001b[1;33m,\u001b[0m\u001b[1;33m\n",
            "\u001b[0m    \u001b[0mm\u001b[0m\u001b[1;33m=\u001b[0m\u001b[1;36m1\u001b[0m\u001b[1;33m,\u001b[0m\u001b[1;33m\n",
            "\u001b[0m    \u001b[0mseasonal\u001b[0m\u001b[1;33m=\u001b[0m\u001b[1;32mTrue\u001b[0m\u001b[1;33m,\u001b[0m\u001b[1;33m\n",
            "\u001b[0m    \u001b[0mstationary\u001b[0m\u001b[1;33m=\u001b[0m\u001b[1;32mFalse\u001b[0m\u001b[1;33m,\u001b[0m\u001b[1;33m\n",
            "\u001b[0m    \u001b[0minformation_criterion\u001b[0m\u001b[1;33m=\u001b[0m\u001b[1;34m'aic'\u001b[0m\u001b[1;33m,\u001b[0m\u001b[1;33m\n",
            "\u001b[0m    \u001b[0malpha\u001b[0m\u001b[1;33m=\u001b[0m\u001b[1;36m0.05\u001b[0m\u001b[1;33m,\u001b[0m\u001b[1;33m\n",
            "\u001b[0m    \u001b[0mtest\u001b[0m\u001b[1;33m=\u001b[0m\u001b[1;34m'kpss'\u001b[0m\u001b[1;33m,\u001b[0m\u001b[1;33m\n",
            "\u001b[0m    \u001b[0mseasonal_test\u001b[0m\u001b[1;33m=\u001b[0m\u001b[1;34m'ocsb'\u001b[0m\u001b[1;33m,\u001b[0m\u001b[1;33m\n",
            "\u001b[0m    \u001b[0mstepwise\u001b[0m\u001b[1;33m=\u001b[0m\u001b[1;32mTrue\u001b[0m\u001b[1;33m,\u001b[0m\u001b[1;33m\n",
            "\u001b[0m    \u001b[0mn_jobs\u001b[0m\u001b[1;33m=\u001b[0m\u001b[1;36m1\u001b[0m\u001b[1;33m,\u001b[0m\u001b[1;33m\n",
            "\u001b[0m    \u001b[0mstart_params\u001b[0m\u001b[1;33m=\u001b[0m\u001b[1;32mNone\u001b[0m\u001b[1;33m,\u001b[0m\u001b[1;33m\n",
            "\u001b[0m    \u001b[0mtrend\u001b[0m\u001b[1;33m=\u001b[0m\u001b[1;32mNone\u001b[0m\u001b[1;33m,\u001b[0m\u001b[1;33m\n",
            "\u001b[0m    \u001b[0mmethod\u001b[0m\u001b[1;33m=\u001b[0m\u001b[1;34m'lbfgs'\u001b[0m\u001b[1;33m,\u001b[0m\u001b[1;33m\n",
            "\u001b[0m    \u001b[0mmaxiter\u001b[0m\u001b[1;33m=\u001b[0m\u001b[1;36m50\u001b[0m\u001b[1;33m,\u001b[0m\u001b[1;33m\n",
            "\u001b[0m    \u001b[0moffset_test_args\u001b[0m\u001b[1;33m=\u001b[0m\u001b[1;32mNone\u001b[0m\u001b[1;33m,\u001b[0m\u001b[1;33m\n",
            "\u001b[0m    \u001b[0mseasonal_test_args\u001b[0m\u001b[1;33m=\u001b[0m\u001b[1;32mNone\u001b[0m\u001b[1;33m,\u001b[0m\u001b[1;33m\n",
            "\u001b[0m    \u001b[0msuppress_warnings\u001b[0m\u001b[1;33m=\u001b[0m\u001b[1;32mTrue\u001b[0m\u001b[1;33m,\u001b[0m\u001b[1;33m\n",
            "\u001b[0m    \u001b[0merror_action\u001b[0m\u001b[1;33m=\u001b[0m\u001b[1;34m'trace'\u001b[0m\u001b[1;33m,\u001b[0m\u001b[1;33m\n",
            "\u001b[0m    \u001b[0mtrace\u001b[0m\u001b[1;33m=\u001b[0m\u001b[1;32mFalse\u001b[0m\u001b[1;33m,\u001b[0m\u001b[1;33m\n",
            "\u001b[0m    \u001b[0mrandom\u001b[0m\u001b[1;33m=\u001b[0m\u001b[1;32mFalse\u001b[0m\u001b[1;33m,\u001b[0m\u001b[1;33m\n",
            "\u001b[0m    \u001b[0mrandom_state\u001b[0m\u001b[1;33m=\u001b[0m\u001b[1;32mNone\u001b[0m\u001b[1;33m,\u001b[0m\u001b[1;33m\n",
            "\u001b[0m    \u001b[0mn_fits\u001b[0m\u001b[1;33m=\u001b[0m\u001b[1;36m10\u001b[0m\u001b[1;33m,\u001b[0m\u001b[1;33m\n",
            "\u001b[0m    \u001b[0mreturn_valid_fits\u001b[0m\u001b[1;33m=\u001b[0m\u001b[1;32mFalse\u001b[0m\u001b[1;33m,\u001b[0m\u001b[1;33m\n",
            "\u001b[0m    \u001b[0mout_of_sample_size\u001b[0m\u001b[1;33m=\u001b[0m\u001b[1;36m0\u001b[0m\u001b[1;33m,\u001b[0m\u001b[1;33m\n",
            "\u001b[0m    \u001b[0mscoring\u001b[0m\u001b[1;33m=\u001b[0m\u001b[1;34m'mse'\u001b[0m\u001b[1;33m,\u001b[0m\u001b[1;33m\n",
            "\u001b[0m    \u001b[0mscoring_args\u001b[0m\u001b[1;33m=\u001b[0m\u001b[1;32mNone\u001b[0m\u001b[1;33m,\u001b[0m\u001b[1;33m\n",
            "\u001b[0m    \u001b[0mwith_intercept\u001b[0m\u001b[1;33m=\u001b[0m\u001b[1;34m\"auto\"\u001b[0m\u001b[1;33m,\u001b[0m\u001b[1;33m\n",
            "\u001b[0m    \u001b[0msarimax_kwargs\u001b[0m\u001b[1;33m=\u001b[0m\u001b[1;32mNone\u001b[0m\u001b[1;33m,\u001b[0m\u001b[1;33m\n",
            "\u001b[0m    \u001b[1;33m**\u001b[0m\u001b[0mfit_args\u001b[0m\u001b[1;33m,\u001b[0m\u001b[1;33m\n",
            "\u001b[0m\u001b[1;33m)\u001b[0m\u001b[1;33m:\u001b[0m\u001b[1;33m\n",
            "\u001b[0m\u001b[1;33m\n",
            "\u001b[0m    \u001b[1;31m# NOTE: Doc is assigned BELOW this function\u001b[0m\u001b[1;33m\n",
            "\u001b[0m\u001b[1;33m\n",
            "\u001b[0m    \u001b[1;31m# pop out the deprecated kwargs\u001b[0m\u001b[1;33m\n",
            "\u001b[0m    \u001b[0mfit_args\u001b[0m \u001b[1;33m=\u001b[0m \u001b[0m_warn_for_deprecations\u001b[0m\u001b[1;33m(\u001b[0m\u001b[1;33m**\u001b[0m\u001b[0mfit_args\u001b[0m\u001b[1;33m)\u001b[0m\u001b[1;33m\n",
            "\u001b[0m\u001b[1;33m\n",
            "\u001b[0m    \u001b[1;31m# misc kwargs passed to various fit or test methods\u001b[0m\u001b[1;33m\n",
            "\u001b[0m    \u001b[0moffset_test_args\u001b[0m \u001b[1;33m=\u001b[0m \u001b[0mval\u001b[0m\u001b[1;33m.\u001b[0m\u001b[0mcheck_kwargs\u001b[0m\u001b[1;33m(\u001b[0m\u001b[0moffset_test_args\u001b[0m\u001b[1;33m)\u001b[0m\u001b[1;33m\n",
            "\u001b[0m    \u001b[0mseasonal_test_args\u001b[0m \u001b[1;33m=\u001b[0m \u001b[0mval\u001b[0m\u001b[1;33m.\u001b[0m\u001b[0mcheck_kwargs\u001b[0m\u001b[1;33m(\u001b[0m\u001b[0mseasonal_test_args\u001b[0m\u001b[1;33m)\u001b[0m\u001b[1;33m\n",
            "\u001b[0m    \u001b[0mscoring_args\u001b[0m \u001b[1;33m=\u001b[0m \u001b[0mval\u001b[0m\u001b[1;33m.\u001b[0m\u001b[0mcheck_kwargs\u001b[0m\u001b[1;33m(\u001b[0m\u001b[0mscoring_args\u001b[0m\u001b[1;33m)\u001b[0m\u001b[1;33m\n",
            "\u001b[0m    \u001b[0msarimax_kwargs\u001b[0m \u001b[1;33m=\u001b[0m \u001b[0mval\u001b[0m\u001b[1;33m.\u001b[0m\u001b[0mcheck_kwargs\u001b[0m\u001b[1;33m(\u001b[0m\u001b[0msarimax_kwargs\u001b[0m\u001b[1;33m)\u001b[0m\u001b[1;33m\n",
            "\u001b[0m\u001b[1;33m\n",
            "\u001b[0m    \u001b[0mm\u001b[0m \u001b[1;33m=\u001b[0m \u001b[0mval\u001b[0m\u001b[1;33m.\u001b[0m\u001b[0mcheck_m\u001b[0m\u001b[1;33m(\u001b[0m\u001b[0mm\u001b[0m\u001b[1;33m,\u001b[0m \u001b[0mseasonal\u001b[0m\u001b[1;33m)\u001b[0m\u001b[1;33m\n",
            "\u001b[0m    \u001b[0mtrace\u001b[0m \u001b[1;33m=\u001b[0m \u001b[0mval\u001b[0m\u001b[1;33m.\u001b[0m\u001b[0mcheck_trace\u001b[0m\u001b[1;33m(\u001b[0m\u001b[0mtrace\u001b[0m\u001b[1;33m)\u001b[0m\u001b[1;33m\n",
            "\u001b[0m    \u001b[1;31m# can't have stepwise AND parallel\u001b[0m\u001b[1;33m\n",
            "\u001b[0m    \u001b[0mn_jobs\u001b[0m \u001b[1;33m=\u001b[0m \u001b[0mval\u001b[0m\u001b[1;33m.\u001b[0m\u001b[0mcheck_n_jobs\u001b[0m\u001b[1;33m(\u001b[0m\u001b[0mstepwise\u001b[0m\u001b[1;33m,\u001b[0m \u001b[0mn_jobs\u001b[0m\u001b[1;33m)\u001b[0m\u001b[1;33m\n",
            "\u001b[0m\u001b[1;33m\n",
            "\u001b[0m    \u001b[1;31m# validate start/max points\u001b[0m\u001b[1;33m\n",
            "\u001b[0m    \u001b[0mstart_p\u001b[0m\u001b[1;33m,\u001b[0m \u001b[0mmax_p\u001b[0m \u001b[1;33m=\u001b[0m \u001b[0mval\u001b[0m\u001b[1;33m.\u001b[0m\u001b[0mcheck_start_max_values\u001b[0m\u001b[1;33m(\u001b[0m\u001b[0mstart_p\u001b[0m\u001b[1;33m,\u001b[0m \u001b[0mmax_p\u001b[0m\u001b[1;33m,\u001b[0m \u001b[1;34m\"p\"\u001b[0m\u001b[1;33m)\u001b[0m\u001b[1;33m\n",
            "\u001b[0m    \u001b[0mstart_q\u001b[0m\u001b[1;33m,\u001b[0m \u001b[0mmax_q\u001b[0m \u001b[1;33m=\u001b[0m \u001b[0mval\u001b[0m\u001b[1;33m.\u001b[0m\u001b[0mcheck_start_max_values\u001b[0m\u001b[1;33m(\u001b[0m\u001b[0mstart_q\u001b[0m\u001b[1;33m,\u001b[0m \u001b[0mmax_q\u001b[0m\u001b[1;33m,\u001b[0m \u001b[1;34m\"q\"\u001b[0m\u001b[1;33m)\u001b[0m\u001b[1;33m\n",
            "\u001b[0m    \u001b[0mstart_P\u001b[0m\u001b[1;33m,\u001b[0m \u001b[0mmax_P\u001b[0m \u001b[1;33m=\u001b[0m \u001b[0mval\u001b[0m\u001b[1;33m.\u001b[0m\u001b[0mcheck_start_max_values\u001b[0m\u001b[1;33m(\u001b[0m\u001b[0mstart_P\u001b[0m\u001b[1;33m,\u001b[0m \u001b[0mmax_P\u001b[0m\u001b[1;33m,\u001b[0m \u001b[1;34m\"P\"\u001b[0m\u001b[1;33m)\u001b[0m\u001b[1;33m\n",
            "\u001b[0m    \u001b[0mstart_Q\u001b[0m\u001b[1;33m,\u001b[0m \u001b[0mmax_Q\u001b[0m \u001b[1;33m=\u001b[0m \u001b[0mval\u001b[0m\u001b[1;33m.\u001b[0m\u001b[0mcheck_start_max_values\u001b[0m\u001b[1;33m(\u001b[0m\u001b[0mstart_Q\u001b[0m\u001b[1;33m,\u001b[0m \u001b[0mmax_Q\u001b[0m\u001b[1;33m,\u001b[0m \u001b[1;34m\"Q\"\u001b[0m\u001b[1;33m)\u001b[0m\u001b[1;33m\n",
            "\u001b[0m\u001b[1;33m\n",
            "\u001b[0m    \u001b[1;31m# validate d & D\u001b[0m\u001b[1;33m\n",
            "\u001b[0m    \u001b[1;32mfor\u001b[0m \u001b[0m_d\u001b[0m\u001b[1;33m,\u001b[0m \u001b[0m_max_d\u001b[0m \u001b[1;32min\u001b[0m \u001b[1;33m(\u001b[0m\u001b[1;33m(\u001b[0m\u001b[0md\u001b[0m\u001b[1;33m,\u001b[0m \u001b[0mmax_d\u001b[0m\u001b[1;33m)\u001b[0m\u001b[1;33m,\u001b[0m \u001b[1;33m(\u001b[0m\u001b[0mD\u001b[0m\u001b[1;33m,\u001b[0m \u001b[0mmax_D\u001b[0m\u001b[1;33m)\u001b[0m\u001b[1;33m)\u001b[0m\u001b[1;33m:\u001b[0m\u001b[1;33m\n",
            "\u001b[0m        \u001b[1;32mif\u001b[0m \u001b[0m_max_d\u001b[0m \u001b[1;33m<\u001b[0m \u001b[1;36m0\u001b[0m\u001b[1;33m:\u001b[0m\u001b[1;33m\n",
            "\u001b[0m            \u001b[1;32mraise\u001b[0m \u001b[0mValueError\u001b[0m\u001b[1;33m(\u001b[0m\u001b[1;34m'max_d & max_D must be positive integers (>= 0)'\u001b[0m\u001b[1;33m)\u001b[0m\u001b[1;33m\n",
            "\u001b[0m        \u001b[1;32mif\u001b[0m \u001b[0m_d\u001b[0m \u001b[1;32mis\u001b[0m \u001b[1;32mnot\u001b[0m \u001b[1;32mNone\u001b[0m\u001b[1;33m:\u001b[0m\u001b[1;33m\n",
            "\u001b[0m            \u001b[1;32mif\u001b[0m \u001b[0m_d\u001b[0m \u001b[1;33m<\u001b[0m \u001b[1;36m0\u001b[0m\u001b[1;33m:\u001b[0m\u001b[1;33m\n",
            "\u001b[0m                \u001b[1;32mraise\u001b[0m \u001b[0mValueError\u001b[0m\u001b[1;33m(\u001b[0m\u001b[1;34m'd & D must be None or a positive '\u001b[0m\u001b[1;33m\n",
            "\u001b[0m                                 \u001b[1;34m'integer (>= 0)'\u001b[0m\u001b[1;33m)\u001b[0m\u001b[1;33m\n",
            "\u001b[0m\u001b[1;33m\n",
            "\u001b[0m    \u001b[1;31m# check on n_fits\u001b[0m\u001b[1;33m\n",
            "\u001b[0m    \u001b[1;32mif\u001b[0m \u001b[0mrandom\u001b[0m \u001b[1;32mand\u001b[0m \u001b[0mn_fits\u001b[0m \u001b[1;33m<\u001b[0m \u001b[1;36m0\u001b[0m\u001b[1;33m:\u001b[0m\u001b[1;33m\n",
            "\u001b[0m        \u001b[1;32mraise\u001b[0m \u001b[0mValueError\u001b[0m\u001b[1;33m(\u001b[0m\u001b[1;34m'n_fits must be a positive integer '\u001b[0m\u001b[1;33m\n",
            "\u001b[0m                         \u001b[1;34m'for a random search'\u001b[0m\u001b[1;33m)\u001b[0m\u001b[1;33m\n",
            "\u001b[0m\u001b[1;33m\n",
            "\u001b[0m    \u001b[1;31m# validate error action\u001b[0m\u001b[1;33m\n",
            "\u001b[0m    \u001b[0mactions\u001b[0m \u001b[1;33m=\u001b[0m \u001b[1;33m{\u001b[0m\u001b[1;34m'warn'\u001b[0m\u001b[1;33m,\u001b[0m \u001b[1;34m'raise'\u001b[0m\u001b[1;33m,\u001b[0m \u001b[1;34m'ignore'\u001b[0m\u001b[1;33m,\u001b[0m \u001b[1;34m'trace'\u001b[0m\u001b[1;33m,\u001b[0m \u001b[1;32mNone\u001b[0m\u001b[1;33m}\u001b[0m\u001b[1;33m\n",
            "\u001b[0m    \u001b[1;32mif\u001b[0m \u001b[0merror_action\u001b[0m \u001b[1;32mnot\u001b[0m \u001b[1;32min\u001b[0m \u001b[0mactions\u001b[0m\u001b[1;33m:\u001b[0m\u001b[1;33m\n",
            "\u001b[0m        \u001b[1;32mraise\u001b[0m \u001b[0mValueError\u001b[0m\u001b[1;33m(\u001b[0m\u001b[1;34m'error_action must be one of %r, but got %r'\u001b[0m\u001b[1;33m\n",
            "\u001b[0m                         \u001b[1;33m%\u001b[0m \u001b[1;33m(\u001b[0m\u001b[0mactions\u001b[0m\u001b[1;33m,\u001b[0m \u001b[0merror_action\u001b[0m\u001b[1;33m)\u001b[0m\u001b[1;33m)\u001b[0m\u001b[1;33m\n",
            "\u001b[0m\u001b[1;33m\n",
            "\u001b[0m    \u001b[1;31m# start the timer after the parameter validation\u001b[0m\u001b[1;33m\n",
            "\u001b[0m    \u001b[0mstart\u001b[0m \u001b[1;33m=\u001b[0m \u001b[0mtime\u001b[0m\u001b[1;33m.\u001b[0m\u001b[0mtime\u001b[0m\u001b[1;33m(\u001b[0m\u001b[1;33m)\u001b[0m\u001b[1;33m\n",
            "\u001b[0m\u001b[1;33m\n",
            "\u001b[0m    \u001b[1;31m# copy array\u001b[0m\u001b[1;33m\n",
            "\u001b[0m    \u001b[0my\u001b[0m \u001b[1;33m=\u001b[0m \u001b[0mcheck_endog\u001b[0m\u001b[1;33m(\u001b[0m\u001b[0my\u001b[0m\u001b[1;33m,\u001b[0m \u001b[0mdtype\u001b[0m\u001b[1;33m=\u001b[0m\u001b[0mDTYPE\u001b[0m\u001b[1;33m,\u001b[0m \u001b[0mpreserve_series\u001b[0m\u001b[1;33m=\u001b[0m\u001b[1;32mTrue\u001b[0m\u001b[1;33m)\u001b[0m\u001b[1;33m\n",
            "\u001b[0m    \u001b[0mn_samples\u001b[0m \u001b[1;33m=\u001b[0m \u001b[0my\u001b[0m\u001b[1;33m.\u001b[0m\u001b[0mshape\u001b[0m\u001b[1;33m[\u001b[0m\u001b[1;36m0\u001b[0m\u001b[1;33m]\u001b[0m\u001b[1;33m\n",
            "\u001b[0m\u001b[1;33m\n",
            "\u001b[0m    \u001b[1;31m# the workhorse of the model fits\u001b[0m\u001b[1;33m\n",
            "\u001b[0m    \u001b[0mfit_partial\u001b[0m \u001b[1;33m=\u001b[0m \u001b[0mfunctools\u001b[0m\u001b[1;33m.\u001b[0m\u001b[0mpartial\u001b[0m\u001b[1;33m(\u001b[0m\u001b[1;33m\n",
            "\u001b[0m        \u001b[0msolvers\u001b[0m\u001b[1;33m.\u001b[0m\u001b[0m_fit_candidate_model\u001b[0m\u001b[1;33m,\u001b[0m\u001b[1;33m\n",
            "\u001b[0m        \u001b[0mstart_params\u001b[0m\u001b[1;33m=\u001b[0m\u001b[0mstart_params\u001b[0m\u001b[1;33m,\u001b[0m\u001b[1;33m\n",
            "\u001b[0m        \u001b[0mtrend\u001b[0m\u001b[1;33m=\u001b[0m\u001b[0mtrend\u001b[0m\u001b[1;33m,\u001b[0m\u001b[1;33m\n",
            "\u001b[0m        \u001b[0mmethod\u001b[0m\u001b[1;33m=\u001b[0m\u001b[0mmethod\u001b[0m\u001b[1;33m,\u001b[0m\u001b[1;33m\n",
            "\u001b[0m        \u001b[0mmaxiter\u001b[0m\u001b[1;33m=\u001b[0m\u001b[0mmaxiter\u001b[0m\u001b[1;33m,\u001b[0m\u001b[1;33m\n",
            "\u001b[0m        \u001b[0mfit_params\u001b[0m\u001b[1;33m=\u001b[0m\u001b[0mfit_args\u001b[0m\u001b[1;33m,\u001b[0m\u001b[1;33m\n",
            "\u001b[0m        \u001b[0msuppress_warnings\u001b[0m\u001b[1;33m=\u001b[0m\u001b[0msuppress_warnings\u001b[0m\u001b[1;33m,\u001b[0m\u001b[1;33m\n",
            "\u001b[0m        \u001b[0mtrace\u001b[0m\u001b[1;33m=\u001b[0m\u001b[0mtrace\u001b[0m\u001b[1;33m,\u001b[0m\u001b[1;33m\n",
            "\u001b[0m        \u001b[0merror_action\u001b[0m\u001b[1;33m=\u001b[0m\u001b[0merror_action\u001b[0m\u001b[1;33m,\u001b[0m\u001b[1;33m\n",
            "\u001b[0m        \u001b[0mscoring\u001b[0m\u001b[1;33m=\u001b[0m\u001b[0mscoring\u001b[0m\u001b[1;33m,\u001b[0m\u001b[1;33m\n",
            "\u001b[0m        \u001b[0mout_of_sample_size\u001b[0m\u001b[1;33m=\u001b[0m\u001b[0mout_of_sample_size\u001b[0m\u001b[1;33m,\u001b[0m\u001b[1;33m\n",
            "\u001b[0m        \u001b[0mscoring_args\u001b[0m\u001b[1;33m=\u001b[0m\u001b[0mscoring_args\u001b[0m\u001b[1;33m,\u001b[0m\u001b[1;33m\n",
            "\u001b[0m        \u001b[0minformation_criterion\u001b[0m\u001b[1;33m=\u001b[0m\u001b[0minformation_criterion\u001b[0m\u001b[1;33m,\u001b[0m\u001b[1;33m\n",
            "\u001b[0m    \u001b[1;33m)\u001b[0m\u001b[1;33m\n",
            "\u001b[0m\u001b[1;33m\n",
            "\u001b[0m    \u001b[1;31m# check for constant data\u001b[0m\u001b[1;33m\n",
            "\u001b[0m    \u001b[1;32mif\u001b[0m \u001b[0mis_constant\u001b[0m\u001b[1;33m(\u001b[0m\u001b[0my\u001b[0m\u001b[1;33m)\u001b[0m\u001b[1;33m:\u001b[0m\u001b[1;33m\n",
            "\u001b[0m        \u001b[0mwarnings\u001b[0m\u001b[1;33m.\u001b[0m\u001b[0mwarn\u001b[0m\u001b[1;33m(\u001b[0m\u001b[1;34m'Input time-series is completely constant; '\u001b[0m\u001b[1;33m\n",
            "\u001b[0m                      \u001b[1;34m'returning a (0, 0, 0) ARMA.'\u001b[0m\u001b[1;33m)\u001b[0m\u001b[1;33m\n",
            "\u001b[0m\u001b[1;33m\n",
            "\u001b[0m        \u001b[1;32mreturn\u001b[0m \u001b[0m_return_wrapper\u001b[0m\u001b[1;33m(\u001b[0m\u001b[1;33m\n",
            "\u001b[0m            \u001b[0msolvers\u001b[0m\u001b[1;33m.\u001b[0m\u001b[0m_sort_and_filter_fits\u001b[0m\u001b[1;33m(\u001b[0m\u001b[1;33m\n",
            "\u001b[0m                \u001b[0mfit_partial\u001b[0m\u001b[1;33m(\u001b[0m\u001b[1;33m\n",
            "\u001b[0m                    \u001b[0my\u001b[0m\u001b[1;33m,\u001b[0m\u001b[1;33m\n",
            "\u001b[0m                    \u001b[0mX\u001b[0m\u001b[1;33m=\u001b[0m\u001b[0mX\u001b[0m\u001b[1;33m,\u001b[0m\u001b[1;33m\n",
            "\u001b[0m                    \u001b[0morder\u001b[0m\u001b[1;33m=\u001b[0m\u001b[1;33m(\u001b[0m\u001b[1;36m0\u001b[0m\u001b[1;33m,\u001b[0m \u001b[1;36m0\u001b[0m\u001b[1;33m,\u001b[0m \u001b[1;36m0\u001b[0m\u001b[1;33m)\u001b[0m\u001b[1;33m,\u001b[0m\u001b[1;33m\n",
            "\u001b[0m                    \u001b[0mseasonal_order\u001b[0m\u001b[1;33m=\u001b[0m\u001b[1;33m(\u001b[0m\u001b[1;36m0\u001b[0m\u001b[1;33m,\u001b[0m \u001b[1;36m0\u001b[0m\u001b[1;33m,\u001b[0m \u001b[1;36m0\u001b[0m\u001b[1;33m,\u001b[0m \u001b[1;36m0\u001b[0m\u001b[1;33m)\u001b[0m\u001b[1;33m,\u001b[0m\u001b[1;33m\n",
            "\u001b[0m                    \u001b[0mwith_intercept\u001b[0m\u001b[1;33m=\u001b[0m\u001b[0mval\u001b[0m\u001b[1;33m.\u001b[0m\u001b[0mauto_intercept\u001b[0m\u001b[1;33m(\u001b[0m\u001b[1;33m\n",
            "\u001b[0m                        \u001b[0mwith_intercept\u001b[0m\u001b[1;33m,\u001b[0m \u001b[1;32mFalse\u001b[0m\u001b[1;33m)\u001b[0m\u001b[1;33m,\u001b[0m  \u001b[1;31m# False for the constant model\u001b[0m\u001b[1;33m\n",
            "\u001b[0m                    \u001b[1;33m**\u001b[0m\u001b[0msarimax_kwargs\u001b[0m\u001b[1;33m\n",
            "\u001b[0m                \u001b[1;33m)\u001b[0m\u001b[1;33m\n",
            "\u001b[0m            \u001b[1;33m)\u001b[0m\u001b[1;33m,\u001b[0m\u001b[1;33m\n",
            "\u001b[0m            \u001b[0mreturn_valid_fits\u001b[0m\u001b[1;33m,\u001b[0m \u001b[0mstart\u001b[0m\u001b[1;33m,\u001b[0m \u001b[0mtrace\u001b[0m\u001b[1;33m)\u001b[0m\u001b[1;33m\n",
            "\u001b[0m\u001b[1;33m\n",
            "\u001b[0m    \u001b[0minformation_criterion\u001b[0m \u001b[1;33m=\u001b[0m \\\n",
            "        \u001b[0mval\u001b[0m\u001b[1;33m.\u001b[0m\u001b[0mcheck_information_criterion\u001b[0m\u001b[1;33m(\u001b[0m\u001b[0minformation_criterion\u001b[0m\u001b[1;33m,\u001b[0m\u001b[1;33m\n",
            "\u001b[0m                                        \u001b[0mout_of_sample_size\u001b[0m\u001b[1;33m)\u001b[0m\u001b[1;33m\n",
            "\u001b[0m\u001b[1;33m\n",
            "\u001b[0m    \u001b[1;31m# the R code handles this, but I don't think statsmodels\u001b[0m\u001b[1;33m\n",
            "\u001b[0m    \u001b[1;31m# will even fit a model this small...\u001b[0m\u001b[1;33m\n",
            "\u001b[0m    \u001b[1;31m# if n_samples <= 3:\u001b[0m\u001b[1;33m\n",
            "\u001b[0m    \u001b[1;31m#     if information_criterion != 'aic':\u001b[0m\u001b[1;33m\n",
            "\u001b[0m    \u001b[1;31m#         warnings.warn('n_samples (%i) <= 3 '\u001b[0m\u001b[1;33m\n",
            "\u001b[0m    \u001b[1;31m#                       'necessitates using AIC' % n_samples)\u001b[0m\u001b[1;33m\n",
            "\u001b[0m    \u001b[1;31m#     information_criterion = 'aic'\u001b[0m\u001b[1;33m\n",
            "\u001b[0m\u001b[1;33m\n",
            "\u001b[0m    \u001b[1;31m# adjust max p, q -- R code:\u001b[0m\u001b[1;33m\n",
            "\u001b[0m    \u001b[1;31m# max.p <- min(max.p, floor(serieslength/3))\u001b[0m\u001b[1;33m\n",
            "\u001b[0m    \u001b[1;31m# max.q <- min(max.q, floor(serieslength/3))\u001b[0m\u001b[1;33m\n",
            "\u001b[0m    \u001b[0mmax_p\u001b[0m \u001b[1;33m=\u001b[0m \u001b[0mint\u001b[0m\u001b[1;33m(\u001b[0m\u001b[0mmin\u001b[0m\u001b[1;33m(\u001b[0m\u001b[0mmax_p\u001b[0m\u001b[1;33m,\u001b[0m \u001b[0mnp\u001b[0m\u001b[1;33m.\u001b[0m\u001b[0mfloor\u001b[0m\u001b[1;33m(\u001b[0m\u001b[0mn_samples\u001b[0m \u001b[1;33m/\u001b[0m \u001b[1;36m3\u001b[0m\u001b[1;33m)\u001b[0m\u001b[1;33m)\u001b[0m\u001b[1;33m)\u001b[0m\u001b[1;33m\n",
            "\u001b[0m    \u001b[0mmax_q\u001b[0m \u001b[1;33m=\u001b[0m \u001b[0mint\u001b[0m\u001b[1;33m(\u001b[0m\u001b[0mmin\u001b[0m\u001b[1;33m(\u001b[0m\u001b[0mmax_q\u001b[0m\u001b[1;33m,\u001b[0m \u001b[0mnp\u001b[0m\u001b[1;33m.\u001b[0m\u001b[0mfloor\u001b[0m\u001b[1;33m(\u001b[0m\u001b[0mn_samples\u001b[0m \u001b[1;33m/\u001b[0m \u001b[1;36m3\u001b[0m\u001b[1;33m)\u001b[0m\u001b[1;33m)\u001b[0m\u001b[1;33m)\u001b[0m\u001b[1;33m\n",
            "\u001b[0m\u001b[1;33m\n",
            "\u001b[0m    \u001b[1;31m# this is not in the R code and poses a risk that R did not consider...\u001b[0m\u001b[1;33m\n",
            "\u001b[0m    \u001b[1;31m# if max_p|q has now dropped below start_p|q, correct it.\u001b[0m\u001b[1;33m\n",
            "\u001b[0m    \u001b[0mstart_p\u001b[0m \u001b[1;33m=\u001b[0m \u001b[0mmin\u001b[0m\u001b[1;33m(\u001b[0m\u001b[0mstart_p\u001b[0m\u001b[1;33m,\u001b[0m \u001b[0mmax_p\u001b[0m\u001b[1;33m)\u001b[0m\u001b[1;33m\n",
            "\u001b[0m    \u001b[0mstart_q\u001b[0m \u001b[1;33m=\u001b[0m \u001b[0mmin\u001b[0m\u001b[1;33m(\u001b[0m\u001b[0mstart_q\u001b[0m\u001b[1;33m,\u001b[0m \u001b[0mmax_q\u001b[0m\u001b[1;33m)\u001b[0m\u001b[1;33m\n",
            "\u001b[0m\u001b[1;33m\n",
            "\u001b[0m    \u001b[1;31m# if it's not seasonal, we can avoid multiple 'if not is None' comparisons\u001b[0m\u001b[1;33m\n",
            "\u001b[0m    \u001b[1;31m# later by just using this shortcut (hack):\u001b[0m\u001b[1;33m\n",
            "\u001b[0m    \u001b[1;31m# TODO: can we remove this hack now?\u001b[0m\u001b[1;33m\n",
            "\u001b[0m    \u001b[1;32mif\u001b[0m \u001b[1;32mnot\u001b[0m \u001b[0mseasonal\u001b[0m\u001b[1;33m:\u001b[0m\u001b[1;33m\n",
            "\u001b[0m        \u001b[0mD\u001b[0m \u001b[1;33m=\u001b[0m \u001b[0mm\u001b[0m \u001b[1;33m=\u001b[0m \u001b[1;33m-\u001b[0m\u001b[1;36m1\u001b[0m\u001b[1;33m\n",
            "\u001b[0m\u001b[1;33m\n",
            "\u001b[0m    \u001b[1;31m# TODO: check rank deficiency, check for constant Xs, regress if necessary\u001b[0m\u001b[1;33m\n",
            "\u001b[0m    \u001b[0mxx\u001b[0m \u001b[1;33m=\u001b[0m \u001b[0my\u001b[0m\u001b[1;33m.\u001b[0m\u001b[0mcopy\u001b[0m\u001b[1;33m(\u001b[0m\u001b[1;33m)\u001b[0m\u001b[1;33m\n",
            "\u001b[0m    \u001b[1;32mif\u001b[0m \u001b[0mX\u001b[0m \u001b[1;32mis\u001b[0m \u001b[1;32mnot\u001b[0m \u001b[1;32mNone\u001b[0m\u001b[1;33m:\u001b[0m\u001b[1;33m\n",
            "\u001b[0m        \u001b[0mlm\u001b[0m \u001b[1;33m=\u001b[0m \u001b[0mLinearRegression\u001b[0m\u001b[1;33m(\u001b[0m\u001b[1;33m)\u001b[0m\u001b[1;33m.\u001b[0m\u001b[0mfit\u001b[0m\u001b[1;33m(\u001b[0m\u001b[0mX\u001b[0m\u001b[1;33m,\u001b[0m \u001b[0my\u001b[0m\u001b[1;33m)\u001b[0m\u001b[1;33m\n",
            "\u001b[0m        \u001b[0mxx\u001b[0m \u001b[1;33m=\u001b[0m \u001b[0my\u001b[0m \u001b[1;33m-\u001b[0m \u001b[0mlm\u001b[0m\u001b[1;33m.\u001b[0m\u001b[0mpredict\u001b[0m\u001b[1;33m(\u001b[0m\u001b[0mX\u001b[0m\u001b[1;33m)\u001b[0m\u001b[1;33m\n",
            "\u001b[0m\u001b[1;33m\n",
            "\u001b[0m    \u001b[1;31m# choose the order of differencing\u001b[0m\u001b[1;33m\n",
            "\u001b[0m    \u001b[1;31m# is the TS stationary?\u001b[0m\u001b[1;33m\n",
            "\u001b[0m    \u001b[1;32mif\u001b[0m \u001b[0mstationary\u001b[0m\u001b[1;33m:\u001b[0m\u001b[1;33m\n",
            "\u001b[0m        \u001b[0md\u001b[0m \u001b[1;33m=\u001b[0m \u001b[0mD\u001b[0m \u001b[1;33m=\u001b[0m \u001b[1;36m0\u001b[0m\u001b[1;33m\n",
            "\u001b[0m\u001b[1;33m\n",
            "\u001b[0m    \u001b[1;31m# todo: or not seasonal ?\u001b[0m\u001b[1;33m\n",
            "\u001b[0m    \u001b[1;32mif\u001b[0m \u001b[0mm\u001b[0m \u001b[1;33m==\u001b[0m \u001b[1;36m1\u001b[0m\u001b[1;33m:\u001b[0m\u001b[1;33m\n",
            "\u001b[0m        \u001b[0mD\u001b[0m \u001b[1;33m=\u001b[0m \u001b[0mmax_P\u001b[0m \u001b[1;33m=\u001b[0m \u001b[0mmax_Q\u001b[0m \u001b[1;33m=\u001b[0m \u001b[1;36m0\u001b[0m\u001b[1;33m\n",
            "\u001b[0m    \u001b[1;31m# m must be > 1 for nsdiffs\u001b[0m\u001b[1;33m\n",
            "\u001b[0m    \u001b[1;32melif\u001b[0m \u001b[0mD\u001b[0m \u001b[1;32mis\u001b[0m \u001b[1;32mNone\u001b[0m\u001b[1;33m:\u001b[0m  \u001b[1;31m# we don't have a D yet and we need one (seasonal)\u001b[0m\u001b[1;33m\n",
            "\u001b[0m        \u001b[0mD\u001b[0m \u001b[1;33m=\u001b[0m \u001b[0mnsdiffs\u001b[0m\u001b[1;33m(\u001b[0m\u001b[0mxx\u001b[0m\u001b[1;33m,\u001b[0m \u001b[0mm\u001b[0m\u001b[1;33m=\u001b[0m\u001b[0mm\u001b[0m\u001b[1;33m,\u001b[0m \u001b[0mtest\u001b[0m\u001b[1;33m=\u001b[0m\u001b[0mseasonal_test\u001b[0m\u001b[1;33m,\u001b[0m \u001b[0mmax_D\u001b[0m\u001b[1;33m=\u001b[0m\u001b[0mmax_D\u001b[0m\u001b[1;33m,\u001b[0m\u001b[1;33m\n",
            "\u001b[0m                    \u001b[1;33m**\u001b[0m\u001b[0mseasonal_test_args\u001b[0m\u001b[1;33m)\u001b[0m\u001b[1;33m\n",
            "\u001b[0m\u001b[1;33m\n",
            "\u001b[0m        \u001b[1;32mif\u001b[0m \u001b[0mD\u001b[0m \u001b[1;33m>\u001b[0m \u001b[1;36m0\u001b[0m \u001b[1;32mand\u001b[0m \u001b[0mX\u001b[0m \u001b[1;32mis\u001b[0m \u001b[1;32mnot\u001b[0m \u001b[1;32mNone\u001b[0m\u001b[1;33m:\u001b[0m\u001b[1;33m\n",
            "\u001b[0m            \u001b[0mdiffxreg\u001b[0m \u001b[1;33m=\u001b[0m \u001b[0mdiff\u001b[0m\u001b[1;33m(\u001b[0m\u001b[0mX\u001b[0m\u001b[1;33m,\u001b[0m \u001b[0mdifferences\u001b[0m\u001b[1;33m=\u001b[0m\u001b[0mD\u001b[0m\u001b[1;33m,\u001b[0m \u001b[0mlag\u001b[0m\u001b[1;33m=\u001b[0m\u001b[0mm\u001b[0m\u001b[1;33m)\u001b[0m\u001b[1;33m\n",
            "\u001b[0m            \u001b[1;31m# check for constance on any column\u001b[0m\u001b[1;33m\n",
            "\u001b[0m            \u001b[1;32mif\u001b[0m \u001b[0mnp\u001b[0m\u001b[1;33m.\u001b[0m\u001b[0mapply_along_axis\u001b[0m\u001b[1;33m(\u001b[0m\u001b[0mis_constant\u001b[0m\u001b[1;33m,\u001b[0m \u001b[0marr\u001b[0m\u001b[1;33m=\u001b[0m\u001b[0mdiffxreg\u001b[0m\u001b[1;33m,\u001b[0m \u001b[0maxis\u001b[0m\u001b[1;33m=\u001b[0m\u001b[1;36m0\u001b[0m\u001b[1;33m)\u001b[0m\u001b[1;33m.\u001b[0m\u001b[0many\u001b[0m\u001b[1;33m(\u001b[0m\u001b[1;33m)\u001b[0m\u001b[1;33m:\u001b[0m\u001b[1;33m\n",
            "\u001b[0m                \u001b[0mD\u001b[0m \u001b[1;33m-=\u001b[0m \u001b[1;36m1\u001b[0m\u001b[1;33m\n",
            "\u001b[0m\u001b[1;33m\n",
            "\u001b[0m    \u001b[1;31m# D might still be None if not seasonal\u001b[0m\u001b[1;33m\n",
            "\u001b[0m    \u001b[1;32mif\u001b[0m \u001b[0mD\u001b[0m \u001b[1;33m>\u001b[0m \u001b[1;36m0\u001b[0m\u001b[1;33m:\u001b[0m\u001b[1;33m\n",
            "\u001b[0m        \u001b[0mdx\u001b[0m \u001b[1;33m=\u001b[0m \u001b[0mdiff\u001b[0m\u001b[1;33m(\u001b[0m\u001b[0mxx\u001b[0m\u001b[1;33m,\u001b[0m \u001b[0mdifferences\u001b[0m\u001b[1;33m=\u001b[0m\u001b[0mD\u001b[0m\u001b[1;33m,\u001b[0m \u001b[0mlag\u001b[0m\u001b[1;33m=\u001b[0m\u001b[0mm\u001b[0m\u001b[1;33m)\u001b[0m\u001b[1;33m\n",
            "\u001b[0m    \u001b[1;32melse\u001b[0m\u001b[1;33m:\u001b[0m\u001b[1;33m\n",
            "\u001b[0m        \u001b[0mdx\u001b[0m \u001b[1;33m=\u001b[0m \u001b[0mxx\u001b[0m\u001b[1;33m\n",
            "\u001b[0m\u001b[1;33m\n",
            "\u001b[0m    \u001b[1;31m# If D was too big, we might have gotten rid of x altogether!\u001b[0m\u001b[1;33m\n",
            "\u001b[0m    \u001b[1;32mif\u001b[0m \u001b[0mdx\u001b[0m\u001b[1;33m.\u001b[0m\u001b[0mshape\u001b[0m\u001b[1;33m[\u001b[0m\u001b[1;36m0\u001b[0m\u001b[1;33m]\u001b[0m \u001b[1;33m==\u001b[0m \u001b[1;36m0\u001b[0m\u001b[1;33m:\u001b[0m\u001b[1;33m\n",
            "\u001b[0m        \u001b[1;32mraise\u001b[0m \u001b[0mValueError\u001b[0m\u001b[1;33m(\u001b[0m\u001b[1;34m\"The seasonal differencing order, D=%i, was too \"\u001b[0m\u001b[1;33m\n",
            "\u001b[0m                         \u001b[1;34m\"large for your time series, and after differencing, \"\u001b[0m\u001b[1;33m\n",
            "\u001b[0m                         \u001b[1;34m\"there are no samples remaining in your data. \"\u001b[0m\u001b[1;33m\n",
            "\u001b[0m                         \u001b[1;34m\"Try a smaller value for D, or if you didn't set D \"\u001b[0m\u001b[1;33m\n",
            "\u001b[0m                         \u001b[1;34m\"to begin with, try setting it explicitly. This can \"\u001b[0m\u001b[1;33m\n",
            "\u001b[0m                         \u001b[1;34m\"also occur in seasonal settings when m is too large.\"\u001b[0m\u001b[1;33m\n",
            "\u001b[0m                         \u001b[1;33m%\u001b[0m \u001b[0mD\u001b[0m\u001b[1;33m)\u001b[0m\u001b[1;33m\n",
            "\u001b[0m\u001b[1;33m\n",
            "\u001b[0m    \u001b[1;31m# difference the exogenous matrix\u001b[0m\u001b[1;33m\n",
            "\u001b[0m    \u001b[1;32mif\u001b[0m \u001b[0mX\u001b[0m \u001b[1;32mis\u001b[0m \u001b[1;32mnot\u001b[0m \u001b[1;32mNone\u001b[0m\u001b[1;33m:\u001b[0m\u001b[1;33m\n",
            "\u001b[0m        \u001b[1;32mif\u001b[0m \u001b[0mD\u001b[0m \u001b[1;33m>\u001b[0m \u001b[1;36m0\u001b[0m\u001b[1;33m:\u001b[0m\u001b[1;33m\n",
            "\u001b[0m            \u001b[0mdiffxreg\u001b[0m \u001b[1;33m=\u001b[0m \u001b[0mdiff\u001b[0m\u001b[1;33m(\u001b[0m\u001b[0mX\u001b[0m\u001b[1;33m,\u001b[0m \u001b[0mdifferences\u001b[0m\u001b[1;33m=\u001b[0m\u001b[0mD\u001b[0m\u001b[1;33m,\u001b[0m \u001b[0mlag\u001b[0m\u001b[1;33m=\u001b[0m\u001b[0mm\u001b[0m\u001b[1;33m)\u001b[0m\u001b[1;33m\n",
            "\u001b[0m        \u001b[1;32melse\u001b[0m\u001b[1;33m:\u001b[0m\u001b[1;33m\n",
            "\u001b[0m            \u001b[0mdiffxreg\u001b[0m \u001b[1;33m=\u001b[0m \u001b[0mX\u001b[0m\u001b[1;33m\n",
            "\u001b[0m    \u001b[1;32melse\u001b[0m\u001b[1;33m:\u001b[0m\u001b[1;33m\n",
            "\u001b[0m        \u001b[1;31m# here's the thing... we're only going to use diffxreg if exogenous\u001b[0m\u001b[1;33m\n",
            "\u001b[0m        \u001b[1;31m# was not None in the first place. However, PyCharm doesn't know that\u001b[0m\u001b[1;33m\n",
            "\u001b[0m        \u001b[1;31m# and it thinks we might use it before assigning it. Therefore, assign\u001b[0m\u001b[1;33m\n",
            "\u001b[0m        \u001b[1;31m# it to None as a default value and it won't raise the warning anymore.\u001b[0m\u001b[1;33m\n",
            "\u001b[0m        \u001b[0mdiffxreg\u001b[0m \u001b[1;33m=\u001b[0m \u001b[1;32mNone\u001b[0m\u001b[1;33m\n",
            "\u001b[0m\u001b[1;33m\n",
            "\u001b[0m    \u001b[1;31m# determine/set the order of differencing by estimating the number of\u001b[0m\u001b[1;33m\n",
            "\u001b[0m    \u001b[1;31m# orders it would take in order to make the TS stationary.\u001b[0m\u001b[1;33m\n",
            "\u001b[0m    \u001b[1;32mif\u001b[0m \u001b[0md\u001b[0m \u001b[1;32mis\u001b[0m \u001b[1;32mNone\u001b[0m\u001b[1;33m:\u001b[0m\u001b[1;33m\n",
            "\u001b[0m        \u001b[0md\u001b[0m \u001b[1;33m=\u001b[0m \u001b[0mndiffs\u001b[0m\u001b[1;33m(\u001b[0m\u001b[1;33m\n",
            "\u001b[0m            \u001b[0mdx\u001b[0m\u001b[1;33m,\u001b[0m\u001b[1;33m\n",
            "\u001b[0m            \u001b[0mtest\u001b[0m\u001b[1;33m=\u001b[0m\u001b[0mtest\u001b[0m\u001b[1;33m,\u001b[0m\u001b[1;33m\n",
            "\u001b[0m            \u001b[0malpha\u001b[0m\u001b[1;33m=\u001b[0m\u001b[0malpha\u001b[0m\u001b[1;33m,\u001b[0m\u001b[1;33m\n",
            "\u001b[0m            \u001b[0mmax_d\u001b[0m\u001b[1;33m=\u001b[0m\u001b[0mmax_d\u001b[0m\u001b[1;33m,\u001b[0m\u001b[1;33m\n",
            "\u001b[0m            \u001b[1;33m**\u001b[0m\u001b[0moffset_test_args\u001b[0m\u001b[1;33m,\u001b[0m\u001b[1;33m\n",
            "\u001b[0m        \u001b[1;33m)\u001b[0m\u001b[1;33m\n",
            "\u001b[0m\u001b[1;33m\n",
            "\u001b[0m        \u001b[1;32mif\u001b[0m \u001b[0md\u001b[0m \u001b[1;33m>\u001b[0m \u001b[1;36m0\u001b[0m \u001b[1;32mand\u001b[0m \u001b[0mX\u001b[0m \u001b[1;32mis\u001b[0m \u001b[1;32mnot\u001b[0m \u001b[1;32mNone\u001b[0m\u001b[1;33m:\u001b[0m\u001b[1;33m\n",
            "\u001b[0m            \u001b[0mdiffxreg\u001b[0m \u001b[1;33m=\u001b[0m \u001b[0mdiff\u001b[0m\u001b[1;33m(\u001b[0m\u001b[0mdiffxreg\u001b[0m\u001b[1;33m,\u001b[0m \u001b[0mdifferences\u001b[0m\u001b[1;33m=\u001b[0m\u001b[0md\u001b[0m\u001b[1;33m,\u001b[0m \u001b[0mlag\u001b[0m\u001b[1;33m=\u001b[0m\u001b[1;36m1\u001b[0m\u001b[1;33m)\u001b[0m\u001b[1;33m\n",
            "\u001b[0m\u001b[1;33m\n",
            "\u001b[0m            \u001b[1;31m# if any columns are constant, subtract one order of differencing\u001b[0m\u001b[1;33m\n",
            "\u001b[0m            \u001b[1;32mif\u001b[0m \u001b[0mnp\u001b[0m\u001b[1;33m.\u001b[0m\u001b[0mapply_along_axis\u001b[0m\u001b[1;33m(\u001b[0m\u001b[0mis_constant\u001b[0m\u001b[1;33m,\u001b[0m \u001b[0marr\u001b[0m\u001b[1;33m=\u001b[0m\u001b[0mdiffxreg\u001b[0m\u001b[1;33m,\u001b[0m \u001b[0maxis\u001b[0m\u001b[1;33m=\u001b[0m\u001b[1;36m0\u001b[0m\u001b[1;33m)\u001b[0m\u001b[1;33m.\u001b[0m\u001b[0many\u001b[0m\u001b[1;33m(\u001b[0m\u001b[1;33m)\u001b[0m\u001b[1;33m:\u001b[0m\u001b[1;33m\n",
            "\u001b[0m                \u001b[0md\u001b[0m \u001b[1;33m-=\u001b[0m \u001b[1;36m1\u001b[0m\u001b[1;33m\n",
            "\u001b[0m\u001b[1;33m\n",
            "\u001b[0m    \u001b[1;31m# check differences (do we want to warn?...)\u001b[0m\u001b[1;33m\n",
            "\u001b[0m    \u001b[1;32mif\u001b[0m \u001b[1;32mnot\u001b[0m \u001b[0msuppress_warnings\u001b[0m\u001b[1;33m:\u001b[0m  \u001b[1;31m# TODO: context manager for entire block  # noqa: E501\u001b[0m\u001b[1;33m\n",
            "\u001b[0m        \u001b[0mval\u001b[0m\u001b[1;33m.\u001b[0m\u001b[0mwarn_for_D\u001b[0m\u001b[1;33m(\u001b[0m\u001b[0md\u001b[0m\u001b[1;33m=\u001b[0m\u001b[0md\u001b[0m\u001b[1;33m,\u001b[0m \u001b[0mD\u001b[0m\u001b[1;33m=\u001b[0m\u001b[0mD\u001b[0m\u001b[1;33m)\u001b[0m\u001b[1;33m\n",
            "\u001b[0m\u001b[1;33m\n",
            "\u001b[0m    \u001b[1;32mif\u001b[0m \u001b[0md\u001b[0m \u001b[1;33m>\u001b[0m \u001b[1;36m0\u001b[0m\u001b[1;33m:\u001b[0m\u001b[1;33m\n",
            "\u001b[0m        \u001b[0mdx\u001b[0m \u001b[1;33m=\u001b[0m \u001b[0mdiff\u001b[0m\u001b[1;33m(\u001b[0m\u001b[0mdx\u001b[0m\u001b[1;33m,\u001b[0m \u001b[0mdifferences\u001b[0m\u001b[1;33m=\u001b[0m\u001b[0md\u001b[0m\u001b[1;33m,\u001b[0m \u001b[0mlag\u001b[0m\u001b[1;33m=\u001b[0m\u001b[1;36m1\u001b[0m\u001b[1;33m)\u001b[0m\u001b[1;33m\n",
            "\u001b[0m\u001b[1;33m\n",
            "\u001b[0m    \u001b[1;31m# check for constant\u001b[0m\u001b[1;33m\n",
            "\u001b[0m    \u001b[1;32mif\u001b[0m \u001b[0mis_constant\u001b[0m\u001b[1;33m(\u001b[0m\u001b[0mdx\u001b[0m\u001b[1;33m)\u001b[0m\u001b[1;33m:\u001b[0m\u001b[1;33m\n",
            "\u001b[0m        \u001b[0mssn\u001b[0m \u001b[1;33m=\u001b[0m \u001b[1;33m(\u001b[0m\u001b[1;36m0\u001b[0m\u001b[1;33m,\u001b[0m \u001b[1;36m0\u001b[0m\u001b[1;33m,\u001b[0m \u001b[1;36m0\u001b[0m\u001b[1;33m,\u001b[0m \u001b[1;36m0\u001b[0m\u001b[1;33m)\u001b[0m \u001b[1;32mif\u001b[0m \u001b[1;32mnot\u001b[0m \u001b[0mseasonal\u001b[0m \\\n",
            "            \u001b[1;32melse\u001b[0m \u001b[0msm_compat\u001b[0m\u001b[1;33m.\u001b[0m\u001b[0mcheck_seasonal_order\u001b[0m\u001b[1;33m(\u001b[0m\u001b[1;33m(\u001b[0m\u001b[1;36m0\u001b[0m\u001b[1;33m,\u001b[0m \u001b[0mD\u001b[0m\u001b[1;33m,\u001b[0m \u001b[1;36m0\u001b[0m\u001b[1;33m,\u001b[0m \u001b[0mm\u001b[0m\u001b[1;33m)\u001b[0m\u001b[1;33m)\u001b[0m\u001b[1;33m\n",
            "\u001b[0m\u001b[1;33m\n",
            "\u001b[0m        \u001b[1;31m# Include the benign `ifs`, because R's auto.arima does. R has some\u001b[0m\u001b[1;33m\n",
            "\u001b[0m        \u001b[1;31m# more options to control that we don't, but this is more readable\u001b[0m\u001b[1;33m\n",
            "\u001b[0m        \u001b[1;31m# with a single `else` clause than a complex `elif`.\u001b[0m\u001b[1;33m\n",
            "\u001b[0m        \u001b[1;32mif\u001b[0m \u001b[0mD\u001b[0m \u001b[1;33m>\u001b[0m \u001b[1;36m0\u001b[0m \u001b[1;32mand\u001b[0m \u001b[0md\u001b[0m \u001b[1;33m==\u001b[0m \u001b[1;36m0\u001b[0m\u001b[1;33m:\u001b[0m\u001b[1;33m\n",
            "\u001b[0m            \u001b[0mwith_intercept\u001b[0m \u001b[1;33m=\u001b[0m \u001b[0mval\u001b[0m\u001b[1;33m.\u001b[0m\u001b[0mauto_intercept\u001b[0m\u001b[1;33m(\u001b[0m\u001b[0mwith_intercept\u001b[0m\u001b[1;33m,\u001b[0m \u001b[1;32mTrue\u001b[0m\u001b[1;33m)\u001b[0m\u001b[1;33m\n",
            "\u001b[0m            \u001b[1;31m# TODO: if ever implemented in sm\u001b[0m\u001b[1;33m\n",
            "\u001b[0m            \u001b[1;31m# fixed=mean(dx/m, na.rm = TRUE)\u001b[0m\u001b[1;33m\n",
            "\u001b[0m        \u001b[1;32melif\u001b[0m \u001b[0mD\u001b[0m \u001b[1;33m>\u001b[0m \u001b[1;36m0\u001b[0m \u001b[1;32mand\u001b[0m \u001b[0md\u001b[0m \u001b[1;33m>\u001b[0m \u001b[1;36m0\u001b[0m\u001b[1;33m:\u001b[0m\u001b[1;33m\n",
            "\u001b[0m            \u001b[1;32mpass\u001b[0m\u001b[1;33m\n",
            "\u001b[0m        \u001b[1;32melif\u001b[0m \u001b[0md\u001b[0m \u001b[1;33m==\u001b[0m \u001b[1;36m2\u001b[0m\u001b[1;33m:\u001b[0m\u001b[1;33m\n",
            "\u001b[0m            \u001b[1;32mpass\u001b[0m\u001b[1;33m\n",
            "\u001b[0m        \u001b[1;32melif\u001b[0m \u001b[0md\u001b[0m \u001b[1;33m<\u001b[0m \u001b[1;36m2\u001b[0m\u001b[1;33m:\u001b[0m\u001b[1;33m\n",
            "\u001b[0m            \u001b[0mwith_intercept\u001b[0m \u001b[1;33m=\u001b[0m \u001b[0mval\u001b[0m\u001b[1;33m.\u001b[0m\u001b[0mauto_intercept\u001b[0m\u001b[1;33m(\u001b[0m\u001b[0mwith_intercept\u001b[0m\u001b[1;33m,\u001b[0m \u001b[1;32mTrue\u001b[0m\u001b[1;33m)\u001b[0m\u001b[1;33m\n",
            "\u001b[0m            \u001b[1;31m# TODO: if ever implemented in sm\u001b[0m\u001b[1;33m\n",
            "\u001b[0m            \u001b[1;31m# fixed=mean(dx, na.rm = TRUE)\u001b[0m\u001b[1;33m\n",
            "\u001b[0m        \u001b[1;32melse\u001b[0m\u001b[1;33m:\u001b[0m\u001b[1;33m\n",
            "\u001b[0m            \u001b[1;32mraise\u001b[0m \u001b[0mValueError\u001b[0m\u001b[1;33m(\u001b[0m\u001b[1;34m'data follow a simple polynomial and are not '\u001b[0m\u001b[1;33m\n",
            "\u001b[0m                             \u001b[1;34m'suitable for ARIMA modeling'\u001b[0m\u001b[1;33m)\u001b[0m\u001b[1;33m\n",
            "\u001b[0m\u001b[1;33m\n",
            "\u001b[0m        \u001b[1;31m# perfect regression\u001b[0m\u001b[1;33m\n",
            "\u001b[0m        \u001b[1;32mreturn\u001b[0m \u001b[0m_return_wrapper\u001b[0m\u001b[1;33m(\u001b[0m\u001b[1;33m\n",
            "\u001b[0m            \u001b[0msolvers\u001b[0m\u001b[1;33m.\u001b[0m\u001b[0m_sort_and_filter_fits\u001b[0m\u001b[1;33m(\u001b[0m\u001b[1;33m\n",
            "\u001b[0m                \u001b[0mfit_partial\u001b[0m\u001b[1;33m(\u001b[0m\u001b[1;33m\n",
            "\u001b[0m                    \u001b[0my\u001b[0m\u001b[1;33m,\u001b[0m\u001b[1;33m\n",
            "\u001b[0m                    \u001b[0mX\u001b[0m\u001b[1;33m=\u001b[0m\u001b[0mX\u001b[0m\u001b[1;33m,\u001b[0m\u001b[1;33m\n",
            "\u001b[0m                    \u001b[0morder\u001b[0m\u001b[1;33m=\u001b[0m\u001b[1;33m(\u001b[0m\u001b[1;36m0\u001b[0m\u001b[1;33m,\u001b[0m \u001b[0md\u001b[0m\u001b[1;33m,\u001b[0m \u001b[1;36m0\u001b[0m\u001b[1;33m)\u001b[0m\u001b[1;33m,\u001b[0m\u001b[1;33m\n",
            "\u001b[0m                    \u001b[0mseasonal_order\u001b[0m\u001b[1;33m=\u001b[0m\u001b[0mssn\u001b[0m\u001b[1;33m,\u001b[0m\u001b[1;33m\n",
            "\u001b[0m                    \u001b[0mwith_intercept\u001b[0m\u001b[1;33m=\u001b[0m\u001b[0mwith_intercept\u001b[0m\u001b[1;33m,\u001b[0m\u001b[1;33m\n",
            "\u001b[0m                    \u001b[1;33m**\u001b[0m\u001b[0msarimax_kwargs\u001b[0m\u001b[1;33m\n",
            "\u001b[0m                \u001b[1;33m)\u001b[0m\u001b[1;33m\n",
            "\u001b[0m            \u001b[1;33m)\u001b[0m\u001b[1;33m,\u001b[0m\u001b[1;33m\n",
            "\u001b[0m            \u001b[0mreturn_valid_fits\u001b[0m\u001b[1;33m,\u001b[0m \u001b[0mstart\u001b[0m\u001b[1;33m,\u001b[0m \u001b[0mtrace\u001b[0m\u001b[1;33m\n",
            "\u001b[0m        \u001b[1;33m)\u001b[0m\u001b[1;33m\n",
            "\u001b[0m\u001b[1;33m\n",
            "\u001b[0m    \u001b[1;31m# seasonality issues\u001b[0m\u001b[1;33m\n",
            "\u001b[0m    \u001b[1;32mif\u001b[0m \u001b[0mm\u001b[0m \u001b[1;33m>\u001b[0m \u001b[1;36m1\u001b[0m\u001b[1;33m:\u001b[0m\u001b[1;33m\n",
            "\u001b[0m        \u001b[1;32mif\u001b[0m \u001b[0mmax_P\u001b[0m \u001b[1;33m>\u001b[0m \u001b[1;36m0\u001b[0m\u001b[1;33m:\u001b[0m\u001b[1;33m\n",
            "\u001b[0m            \u001b[0mmax_p\u001b[0m \u001b[1;33m=\u001b[0m \u001b[0mmin\u001b[0m\u001b[1;33m(\u001b[0m\u001b[0mmax_p\u001b[0m\u001b[1;33m,\u001b[0m \u001b[0mm\u001b[0m \u001b[1;33m-\u001b[0m \u001b[1;36m1\u001b[0m\u001b[1;33m)\u001b[0m\u001b[1;33m\n",
            "\u001b[0m        \u001b[1;32mif\u001b[0m \u001b[0mmax_Q\u001b[0m \u001b[1;33m>\u001b[0m \u001b[1;36m0\u001b[0m\u001b[1;33m:\u001b[0m\u001b[1;33m\n",
            "\u001b[0m            \u001b[0mmax_q\u001b[0m \u001b[1;33m=\u001b[0m \u001b[0mmin\u001b[0m\u001b[1;33m(\u001b[0m\u001b[0mmax_q\u001b[0m\u001b[1;33m,\u001b[0m \u001b[0mm\u001b[0m \u001b[1;33m-\u001b[0m \u001b[1;36m1\u001b[0m\u001b[1;33m)\u001b[0m\u001b[1;33m\n",
            "\u001b[0m\u001b[1;33m\n",
            "\u001b[0m    \u001b[1;31m# TODO: if approximation\u001b[0m\u001b[1;33m\n",
            "\u001b[0m    \u001b[1;31m#   . we need method='css' or something similar for this\u001b[0m\u001b[1;33m\n",
            "\u001b[0m\u001b[1;33m\n",
            "\u001b[0m    \u001b[1;31m# R determines whether to use a constant like this:\u001b[0m\u001b[1;33m\n",
            "\u001b[0m    \u001b[1;31m#   allowdrift <- allowdrift & (d + D) == 1\u001b[0m\u001b[1;33m\n",
            "\u001b[0m    \u001b[1;31m#   allowmean <- allowmean & (d + D) == 0\u001b[0m\u001b[1;33m\n",
            "\u001b[0m    \u001b[1;31m#   constant <- allowdrift | allowmean\u001b[0m\u001b[1;33m\n",
            "\u001b[0m    \u001b[1;31m# but we don't have `allowdrift` or `allowmean` so use just d and D\u001b[0m\u001b[1;33m\n",
            "\u001b[0m    \u001b[1;32mif\u001b[0m \u001b[0mwith_intercept\u001b[0m \u001b[1;33m==\u001b[0m \u001b[1;34m'auto'\u001b[0m\u001b[1;33m:\u001b[0m\u001b[1;33m\n",
            "\u001b[0m        \u001b[0mwith_intercept\u001b[0m \u001b[1;33m=\u001b[0m \u001b[1;33m(\u001b[0m\u001b[0md\u001b[0m \u001b[1;33m+\u001b[0m \u001b[0mD\u001b[0m\u001b[1;33m)\u001b[0m \u001b[1;32min\u001b[0m \u001b[1;33m(\u001b[0m\u001b[1;36m0\u001b[0m\u001b[1;33m,\u001b[0m \u001b[1;36m1\u001b[0m\u001b[1;33m)\u001b[0m\u001b[1;33m\n",
            "\u001b[0m\u001b[1;33m\n",
            "\u001b[0m    \u001b[1;32mif\u001b[0m \u001b[1;32mnot\u001b[0m \u001b[0mstepwise\u001b[0m\u001b[1;33m:\u001b[0m\u001b[1;33m\n",
            "\u001b[0m\u001b[1;33m\n",
            "\u001b[0m        \u001b[1;31m# validate max_order\u001b[0m\u001b[1;33m\n",
            "\u001b[0m        \u001b[1;32mif\u001b[0m \u001b[0mmax_order\u001b[0m \u001b[1;32mis\u001b[0m \u001b[1;32mNone\u001b[0m\u001b[1;33m:\u001b[0m\u001b[1;33m\n",
            "\u001b[0m            \u001b[0mmax_order\u001b[0m \u001b[1;33m=\u001b[0m \u001b[0mnp\u001b[0m\u001b[1;33m.\u001b[0m\u001b[0minf\u001b[0m\u001b[1;33m\n",
            "\u001b[0m        \u001b[1;32melif\u001b[0m \u001b[0mmax_order\u001b[0m \u001b[1;33m<\u001b[0m \u001b[1;36m0\u001b[0m\u001b[1;33m:\u001b[0m\u001b[1;33m\n",
            "\u001b[0m            \u001b[1;32mraise\u001b[0m \u001b[0mValueError\u001b[0m\u001b[1;33m(\u001b[0m\u001b[1;34m'max_order must be None or a positive '\u001b[0m\u001b[1;33m\n",
            "\u001b[0m                             \u001b[1;34m'integer (>= 0)'\u001b[0m\u001b[1;33m)\u001b[0m\u001b[1;33m\n",
            "\u001b[0m\u001b[1;33m\n",
            "\u001b[0m        \u001b[0msearch\u001b[0m \u001b[1;33m=\u001b[0m \u001b[0msolvers\u001b[0m\u001b[1;33m.\u001b[0m\u001b[0m_RandomFitWrapper\u001b[0m\u001b[1;33m(\u001b[0m\u001b[1;33m\n",
            "\u001b[0m            \u001b[0my\u001b[0m\u001b[1;33m=\u001b[0m\u001b[0my\u001b[0m\u001b[1;33m,\u001b[0m\u001b[1;33m\n",
            "\u001b[0m            \u001b[0mX\u001b[0m\u001b[1;33m=\u001b[0m\u001b[0mX\u001b[0m\u001b[1;33m,\u001b[0m\u001b[1;33m\n",
            "\u001b[0m            \u001b[0mfit_partial\u001b[0m\u001b[1;33m=\u001b[0m\u001b[0mfit_partial\u001b[0m\u001b[1;33m,\u001b[0m\u001b[1;33m\n",
            "\u001b[0m            \u001b[0md\u001b[0m\u001b[1;33m=\u001b[0m\u001b[0md\u001b[0m\u001b[1;33m,\u001b[0m\u001b[1;33m\n",
            "\u001b[0m            \u001b[0mD\u001b[0m\u001b[1;33m=\u001b[0m\u001b[0mD\u001b[0m\u001b[1;33m,\u001b[0m\u001b[1;33m\n",
            "\u001b[0m            \u001b[0mm\u001b[0m\u001b[1;33m=\u001b[0m\u001b[0mm\u001b[0m\u001b[1;33m,\u001b[0m\u001b[1;33m\n",
            "\u001b[0m            \u001b[0mmax_order\u001b[0m\u001b[1;33m=\u001b[0m\u001b[0mmax_order\u001b[0m\u001b[1;33m,\u001b[0m\u001b[1;33m\n",
            "\u001b[0m            \u001b[0mmax_p\u001b[0m\u001b[1;33m=\u001b[0m\u001b[0mmax_p\u001b[0m\u001b[1;33m,\u001b[0m\u001b[1;33m\n",
            "\u001b[0m            \u001b[0mmax_q\u001b[0m\u001b[1;33m=\u001b[0m\u001b[0mmax_q\u001b[0m\u001b[1;33m,\u001b[0m\u001b[1;33m\n",
            "\u001b[0m            \u001b[0mmax_P\u001b[0m\u001b[1;33m=\u001b[0m\u001b[0mmax_P\u001b[0m\u001b[1;33m,\u001b[0m\u001b[1;33m\n",
            "\u001b[0m            \u001b[0mmax_Q\u001b[0m\u001b[1;33m=\u001b[0m\u001b[0mmax_Q\u001b[0m\u001b[1;33m,\u001b[0m\u001b[1;33m\n",
            "\u001b[0m            \u001b[0mrandom\u001b[0m\u001b[1;33m=\u001b[0m\u001b[0mrandom\u001b[0m\u001b[1;33m,\u001b[0m\u001b[1;33m\n",
            "\u001b[0m            \u001b[0mrandom_state\u001b[0m\u001b[1;33m=\u001b[0m\u001b[0mrandom_state\u001b[0m\u001b[1;33m,\u001b[0m\u001b[1;33m\n",
            "\u001b[0m            \u001b[0mn_fits\u001b[0m\u001b[1;33m=\u001b[0m\u001b[0mn_fits\u001b[0m\u001b[1;33m,\u001b[0m\u001b[1;33m\n",
            "\u001b[0m            \u001b[0mn_jobs\u001b[0m\u001b[1;33m=\u001b[0m\u001b[0mn_jobs\u001b[0m\u001b[1;33m,\u001b[0m\u001b[1;33m\n",
            "\u001b[0m            \u001b[0mseasonal\u001b[0m\u001b[1;33m=\u001b[0m\u001b[0mseasonal\u001b[0m\u001b[1;33m,\u001b[0m\u001b[1;33m\n",
            "\u001b[0m            \u001b[0mtrace\u001b[0m\u001b[1;33m=\u001b[0m\u001b[0mtrace\u001b[0m\u001b[1;33m,\u001b[0m\u001b[1;33m\n",
            "\u001b[0m            \u001b[0mwith_intercept\u001b[0m\u001b[1;33m=\u001b[0m\u001b[0mwith_intercept\u001b[0m\u001b[1;33m,\u001b[0m\u001b[1;33m\n",
            "\u001b[0m            \u001b[0msarimax_kwargs\u001b[0m\u001b[1;33m=\u001b[0m\u001b[0msarimax_kwargs\u001b[0m\u001b[1;33m,\u001b[0m\u001b[1;33m\n",
            "\u001b[0m        \u001b[1;33m)\u001b[0m\u001b[1;33m\n",
            "\u001b[0m\u001b[1;33m\n",
            "\u001b[0m    \u001b[1;32melse\u001b[0m\u001b[1;33m:\u001b[0m\u001b[1;33m\n",
            "\u001b[0m        \u001b[1;32mif\u001b[0m \u001b[0mn_samples\u001b[0m \u001b[1;33m<\u001b[0m \u001b[1;36m10\u001b[0m\u001b[1;33m:\u001b[0m\u001b[1;33m\n",
            "\u001b[0m            \u001b[0mstart_p\u001b[0m \u001b[1;33m=\u001b[0m \u001b[0mmin\u001b[0m\u001b[1;33m(\u001b[0m\u001b[0mstart_p\u001b[0m\u001b[1;33m,\u001b[0m \u001b[1;36m1\u001b[0m\u001b[1;33m)\u001b[0m\u001b[1;33m\n",
            "\u001b[0m            \u001b[0mstart_q\u001b[0m \u001b[1;33m=\u001b[0m \u001b[0mmin\u001b[0m\u001b[1;33m(\u001b[0m\u001b[0mstart_q\u001b[0m\u001b[1;33m,\u001b[0m \u001b[1;36m1\u001b[0m\u001b[1;33m)\u001b[0m\u001b[1;33m\n",
            "\u001b[0m            \u001b[0mstart_P\u001b[0m \u001b[1;33m=\u001b[0m \u001b[0mstart_Q\u001b[0m \u001b[1;33m=\u001b[0m \u001b[1;36m0\u001b[0m\u001b[1;33m\n",
            "\u001b[0m\u001b[1;33m\n",
            "\u001b[0m        \u001b[1;31m# seed p, q, P, Q vals\u001b[0m\u001b[1;33m\n",
            "\u001b[0m        \u001b[0mp\u001b[0m \u001b[1;33m=\u001b[0m \u001b[0mmin\u001b[0m\u001b[1;33m(\u001b[0m\u001b[0mstart_p\u001b[0m\u001b[1;33m,\u001b[0m \u001b[0mmax_p\u001b[0m\u001b[1;33m)\u001b[0m\u001b[1;33m\n",
            "\u001b[0m        \u001b[0mq\u001b[0m \u001b[1;33m=\u001b[0m \u001b[0mmin\u001b[0m\u001b[1;33m(\u001b[0m\u001b[0mstart_q\u001b[0m\u001b[1;33m,\u001b[0m \u001b[0mmax_q\u001b[0m\u001b[1;33m)\u001b[0m\u001b[1;33m\n",
            "\u001b[0m        \u001b[0mP\u001b[0m \u001b[1;33m=\u001b[0m \u001b[0mmin\u001b[0m\u001b[1;33m(\u001b[0m\u001b[0mstart_P\u001b[0m\u001b[1;33m,\u001b[0m \u001b[0mmax_P\u001b[0m\u001b[1;33m)\u001b[0m\u001b[1;33m\n",
            "\u001b[0m        \u001b[0mQ\u001b[0m \u001b[1;33m=\u001b[0m \u001b[0mmin\u001b[0m\u001b[1;33m(\u001b[0m\u001b[0mstart_Q\u001b[0m\u001b[1;33m,\u001b[0m \u001b[0mmax_Q\u001b[0m\u001b[1;33m)\u001b[0m\u001b[1;33m\n",
            "\u001b[0m\u001b[1;33m\n",
            "\u001b[0m        \u001b[1;31m# init the stepwise model wrapper\u001b[0m\u001b[1;33m\n",
            "\u001b[0m        \u001b[0msearch\u001b[0m \u001b[1;33m=\u001b[0m \u001b[0msolvers\u001b[0m\u001b[1;33m.\u001b[0m\u001b[0m_StepwiseFitWrapper\u001b[0m\u001b[1;33m(\u001b[0m\u001b[1;33m\n",
            "\u001b[0m            \u001b[0my\u001b[0m\u001b[1;33m,\u001b[0m\u001b[1;33m\n",
            "\u001b[0m            \u001b[0mX\u001b[0m\u001b[1;33m=\u001b[0m\u001b[0mX\u001b[0m\u001b[1;33m,\u001b[0m\u001b[1;33m\n",
            "\u001b[0m            \u001b[0mstart_params\u001b[0m\u001b[1;33m=\u001b[0m\u001b[0mstart_params\u001b[0m\u001b[1;33m,\u001b[0m\u001b[1;33m\n",
            "\u001b[0m            \u001b[0mtrend\u001b[0m\u001b[1;33m=\u001b[0m\u001b[0mtrend\u001b[0m\u001b[1;33m,\u001b[0m\u001b[1;33m\n",
            "\u001b[0m            \u001b[0mmethod\u001b[0m\u001b[1;33m=\u001b[0m\u001b[0mmethod\u001b[0m\u001b[1;33m,\u001b[0m\u001b[1;33m\n",
            "\u001b[0m            \u001b[0mmaxiter\u001b[0m\u001b[1;33m=\u001b[0m\u001b[0mmaxiter\u001b[0m\u001b[1;33m,\u001b[0m\u001b[1;33m\n",
            "\u001b[0m            \u001b[0mfit_params\u001b[0m\u001b[1;33m=\u001b[0m\u001b[0mfit_args\u001b[0m\u001b[1;33m,\u001b[0m\u001b[1;33m\n",
            "\u001b[0m            \u001b[0msuppress_warnings\u001b[0m\u001b[1;33m=\u001b[0m\u001b[0msuppress_warnings\u001b[0m\u001b[1;33m,\u001b[0m\u001b[1;33m\n",
            "\u001b[0m            \u001b[0mtrace\u001b[0m\u001b[1;33m=\u001b[0m\u001b[0mtrace\u001b[0m\u001b[1;33m,\u001b[0m\u001b[1;33m\n",
            "\u001b[0m            \u001b[0merror_action\u001b[0m\u001b[1;33m=\u001b[0m\u001b[0merror_action\u001b[0m\u001b[1;33m,\u001b[0m\u001b[1;33m\n",
            "\u001b[0m            \u001b[0mout_of_sample_size\u001b[0m\u001b[1;33m=\u001b[0m\u001b[0mout_of_sample_size\u001b[0m\u001b[1;33m,\u001b[0m\u001b[1;33m\n",
            "\u001b[0m            \u001b[0mscoring\u001b[0m\u001b[1;33m=\u001b[0m\u001b[0mscoring\u001b[0m\u001b[1;33m,\u001b[0m\u001b[1;33m\n",
            "\u001b[0m            \u001b[0mscoring_args\u001b[0m\u001b[1;33m=\u001b[0m\u001b[0mscoring_args\u001b[0m\u001b[1;33m,\u001b[0m\u001b[1;33m\n",
            "\u001b[0m            \u001b[0mp\u001b[0m\u001b[1;33m=\u001b[0m\u001b[0mp\u001b[0m\u001b[1;33m,\u001b[0m\u001b[1;33m\n",
            "\u001b[0m            \u001b[0md\u001b[0m\u001b[1;33m=\u001b[0m\u001b[0md\u001b[0m\u001b[1;33m,\u001b[0m\u001b[1;33m\n",
            "\u001b[0m            \u001b[0mq\u001b[0m\u001b[1;33m=\u001b[0m\u001b[0mq\u001b[0m\u001b[1;33m,\u001b[0m\u001b[1;33m\n",
            "\u001b[0m            \u001b[0mP\u001b[0m\u001b[1;33m=\u001b[0m\u001b[0mP\u001b[0m\u001b[1;33m,\u001b[0m\u001b[1;33m\n",
            "\u001b[0m            \u001b[0mD\u001b[0m\u001b[1;33m=\u001b[0m\u001b[0mD\u001b[0m\u001b[1;33m,\u001b[0m\u001b[1;33m\n",
            "\u001b[0m            \u001b[0mQ\u001b[0m\u001b[1;33m=\u001b[0m\u001b[0mQ\u001b[0m\u001b[1;33m,\u001b[0m\u001b[1;33m\n",
            "\u001b[0m            \u001b[0mm\u001b[0m\u001b[1;33m=\u001b[0m\u001b[0mm\u001b[0m\u001b[1;33m,\u001b[0m\u001b[1;33m\n",
            "\u001b[0m            \u001b[0mmax_p\u001b[0m\u001b[1;33m=\u001b[0m\u001b[0mmax_p\u001b[0m\u001b[1;33m,\u001b[0m\u001b[1;33m\n",
            "\u001b[0m            \u001b[0mmax_q\u001b[0m\u001b[1;33m=\u001b[0m\u001b[0mmax_q\u001b[0m\u001b[1;33m,\u001b[0m\u001b[1;33m\n",
            "\u001b[0m            \u001b[0mmax_P\u001b[0m\u001b[1;33m=\u001b[0m\u001b[0mmax_P\u001b[0m\u001b[1;33m,\u001b[0m\u001b[1;33m\n",
            "\u001b[0m            \u001b[0mmax_Q\u001b[0m\u001b[1;33m=\u001b[0m\u001b[0mmax_Q\u001b[0m\u001b[1;33m,\u001b[0m\u001b[1;33m\n",
            "\u001b[0m            \u001b[0mseasonal\u001b[0m\u001b[1;33m=\u001b[0m\u001b[0mseasonal\u001b[0m\u001b[1;33m,\u001b[0m\u001b[1;33m\n",
            "\u001b[0m            \u001b[0minformation_criterion\u001b[0m\u001b[1;33m=\u001b[0m\u001b[0minformation_criterion\u001b[0m\u001b[1;33m,\u001b[0m\u001b[1;33m\n",
            "\u001b[0m            \u001b[0mwith_intercept\u001b[0m\u001b[1;33m=\u001b[0m\u001b[0mwith_intercept\u001b[0m\u001b[1;33m,\u001b[0m\u001b[1;33m\n",
            "\u001b[0m            \u001b[1;33m**\u001b[0m\u001b[0msarimax_kwargs\u001b[0m\u001b[1;33m,\u001b[0m\u001b[1;33m\n",
            "\u001b[0m        \u001b[1;33m)\u001b[0m\u001b[1;33m\n",
            "\u001b[0m\u001b[1;33m\n",
            "\u001b[0m    \u001b[0msorted_res\u001b[0m \u001b[1;33m=\u001b[0m \u001b[0msearch\u001b[0m\u001b[1;33m.\u001b[0m\u001b[0msolve\u001b[0m\u001b[1;33m(\u001b[0m\u001b[1;33m)\u001b[0m\u001b[1;33m\n",
            "\u001b[0m    \u001b[1;32mreturn\u001b[0m \u001b[0m_return_wrapper\u001b[0m\u001b[1;33m(\u001b[0m\u001b[0msorted_res\u001b[0m\u001b[1;33m,\u001b[0m \u001b[0mreturn_valid_fits\u001b[0m\u001b[1;33m,\u001b[0m \u001b[0mstart\u001b[0m\u001b[1;33m,\u001b[0m \u001b[0mtrace\u001b[0m\u001b[1;33m)\u001b[0m\u001b[1;33m\u001b[0m\u001b[1;33m\u001b[0m\u001b[0m\n",
            "\u001b[1;31mFile:\u001b[0m      c:\\users\\josel\\anaconda3\\envs\\basic_ds\\lib\\site-packages\\pmdarima\\arima\\auto.py\n",
            "\u001b[1;31mType:\u001b[0m      function\n"
          ]
        }
      ],
      "source": [
        "auto_arima??"
      ]
    },
    {
      "cell_type": "code",
      "execution_count": 70,
      "metadata": {
        "colab": {
          "base_uri": "https://localhost:8080/"
        },
        "id": "6Ml7Wzwm7P4-",
        "outputId": "50e6aa11-b792-4136-e03b-7ac7e2f95869"
      },
      "outputs": [
        {
          "name": "stdout",
          "output_type": "stream",
          "text": [
            "Performing stepwise search to minimize aic\n",
            " ARIMA(1,1,1)(0,0,0)[0] intercept   : AIC=5973.080, Time=1.41 sec\n",
            " ARIMA(0,1,0)(0,0,0)[0] intercept   : AIC=5975.597, Time=0.05 sec\n",
            " ARIMA(1,1,0)(0,0,0)[0] intercept   : AIC=5977.174, Time=0.18 sec\n",
            " ARIMA(0,1,1)(0,0,0)[0] intercept   : AIC=5977.161, Time=0.55 sec\n",
            " ARIMA(0,1,0)(0,0,0)[0]             : AIC=5975.049, Time=0.06 sec\n",
            " ARIMA(2,1,1)(0,0,0)[0] intercept   : AIC=5974.760, Time=1.07 sec\n",
            " ARIMA(1,1,2)(0,0,0)[0] intercept   : AIC=inf, Time=2.33 sec\n",
            " ARIMA(0,1,2)(0,0,0)[0] intercept   : AIC=5978.841, Time=0.32 sec\n",
            " ARIMA(2,1,0)(0,0,0)[0] intercept   : AIC=5978.892, Time=0.34 sec\n",
            " ARIMA(2,1,2)(0,0,0)[0] intercept   : AIC=inf, Time=3.41 sec\n",
            " ARIMA(1,1,1)(0,0,0)[0]             : AIC=5973.656, Time=0.73 sec\n",
            "\n",
            "Best model:  ARIMA(1,1,1)(0,0,0)[0] intercept\n",
            "Total fit time: 10.495 seconds\n",
            "5973.079583243155\n"
          ]
        }
      ],
      "source": [
        "stepwise_model = auto_arima(train,\n",
        "                            start_p=1,\n",
        "                            start_q=1,\n",
        "                            max_d=3,\n",
        "                            max_p=5,\n",
        "                            max_q=5,\n",
        "                            stationary=False,\n",
        "                            trace=True,\n",
        "                           stepwise=True)\n",
        "print(stepwise_model.aic())\n"
      ]
    },
    {
      "cell_type": "markdown",
      "metadata": {
        "id": "fQxbqMwP7P4-"
      },
      "source": [
        "Ya lo tenemos, ahora montaremos el modelo con esos hiperparámetros y vemos que AIC tiene."
      ]
    },
    {
      "cell_type": "code",
      "execution_count": 71,
      "metadata": {
        "colab": {
          "base_uri": "https://localhost:8080/"
        },
        "id": "hZTBM-uv7P4-",
        "outputId": "fc4daf0b-e113-4d7b-f2ef-1e81bdc2b66a"
      },
      "outputs": [
        {
          "name": "stdout",
          "output_type": "stream",
          "text": [
            "                               SARIMAX Results                                \n",
            "==============================================================================\n",
            "Dep. Variable:                      y   No. Observations:                 1240\n",
            "Model:               SARIMAX(1, 1, 1)   Log Likelihood               -2982.540\n",
            "Date:                Wed, 15 Feb 2023   AIC                           5973.080\n",
            "Time:                        19:42:41   BIC                           5993.568\n",
            "Sample:                             0   HQIC                          5980.785\n",
            "                               - 1240                                         \n",
            "Covariance Type:                  opg                                         \n",
            "==============================================================================\n",
            "                 coef    std err          z      P>|z|      [0.025      0.975]\n",
            "------------------------------------------------------------------------------\n",
            "intercept      0.0125      0.012      1.065      0.287      -0.010       0.035\n",
            "ar.L1          0.8642      0.086     10.019      0.000       0.695       1.033\n",
            "ma.L1         -0.9007      0.075    -11.983      0.000      -1.048      -0.753\n",
            "sigma2         7.2179      0.082     88.323      0.000       7.058       7.378\n",
            "===================================================================================\n",
            "Ljung-Box (L1) (Q):                   0.20   Jarque-Bera (JB):            113668.97\n",
            "Prob(Q):                              0.65   Prob(JB):                         0.00\n",
            "Heteroskedasticity (H):               4.82   Skew:                            -2.83\n",
            "Prob(H) (two-sided):                  0.00   Kurtosis:                        49.58\n",
            "===================================================================================\n",
            "\n",
            "Warnings:\n",
            "[1] Covariance matrix calculated using the outer product of gradients (complex-step).\n"
          ]
        }
      ],
      "source": [
        "model = ARIMA(order=(1,1,1))\n",
        "model.fit(train)\n",
        "print(model.summary())"
      ]
    },
    {
      "cell_type": "code",
      "execution_count": 72,
      "metadata": {
        "colab": {
          "base_uri": "https://localhost:8080/"
        },
        "id": "CfJ1UEVP7P4-",
        "outputId": "44163931-b148-400a-c274-b22673010e79"
      },
      "outputs": [
        {
          "name": "stdout",
          "output_type": "stream",
          "text": [
            "mean_squared_error: 45.03466911474756\n"
          ]
        }
      ],
      "source": [
        "predictions = model.predict(19)\n",
        "print(\"mean_squared_error:\", mean_squared_error(test, predictions))"
      ]
    },
    {
      "cell_type": "code",
      "execution_count": 75,
      "metadata": {},
      "outputs": [],
      "source": [
        "from sklearn.metrics import r2_score\n"
      ]
    },
    {
      "cell_type": "code",
      "execution_count": 74,
      "metadata": {},
      "outputs": [
        {
          "name": "stdout",
          "output_type": "stream",
          "text": [
            "mean_squared_error: 6.710787518223741\n"
          ]
        }
      ],
      "source": [
        "\n",
        "predictions = model.predict(19)\n",
        "print(\"mean_squared_error:\", np.sqrt(mean_squared_error(test, predictions)))"
      ]
    },
    {
      "cell_type": "code",
      "execution_count": 79,
      "metadata": {},
      "outputs": [
        {
          "name": "stdout",
          "output_type": "stream",
          "text": [
            "r2_error: -3.5517248198001026\n"
          ]
        }
      ],
      "source": [
        "predictions = model.predict(19)\n",
        "print(\"r2_error:\", r2_score(test, predictions))"
      ]
    },
    {
      "cell_type": "code",
      "execution_count": 77,
      "metadata": {},
      "outputs": [
        {
          "data": {
            "image/png": "[encoded data removed]",
            "text/plain": [
              "<Figure size 432x288 with 1 Axes>"
            ]
          },
          "metadata": {
            "needs_background": "light"
          },
          "output_type": "display_data"
        }
      ],
      "source": [
        "plt.plot(test)\n",
        "plt.plot(predictions,color='red');"
      ]
    },
    {
      "cell_type": "code",
      "execution_count": 78,
      "metadata": {},
      "outputs": [
        {
          "data": {
            "image/png": "[encoded data removed]",
            "text/plain": [
              "<Figure size 432x288 with 1 Axes>"
            ]
          },
          "metadata": {
            "needs_background": "light"
          },
          "output_type": "display_data"
        }
      ],
      "source": [
        "plt.plot(train.tolist() + test.tolist())\n",
        "plt.plot(train.tolist()  + predictions.tolist(),color='red');"
      ]
    },
    {
      "cell_type": "markdown",
      "metadata": {
        "id": "jqDb8kiT7P4_"
      },
      "source": [
        "Vamos ahora a compararlo con el mismo modelo, pero en este caso le añadimos una variable exogena al entrenamiento"
      ]
    },
    {
      "cell_type": "code",
      "execution_count": 85,
      "metadata": {
        "colab": {
          "base_uri": "https://localhost:8080/"
        },
        "id": "Eh0hsmPPQcTT",
        "outputId": "1892e1b8-9935-49d0-db7d-dd66d97638e9"
      },
      "outputs": [
        {
          "data": {
            "text/plain": [
              "array([[ 76.18    ],\n",
              "       [ 75.199997],\n",
              "       [ 76.650002],\n",
              "       ...,\n",
              "       [194.029999],\n",
              "       [191.910004],\n",
              "       [190.      ]])"
            ]
          },
          "execution_count": 85,
          "metadata": {},
          "output_type": "execute_result"
        }
      ],
      "source": [
        "stock_df[['Open']][:1240].values"
      ]
    },
    {
      "cell_type": "code",
      "execution_count": 80,
      "metadata": {
        "colab": {
          "base_uri": "https://localhost:8080/"
        },
        "id": "4s0m87Ym7P4_",
        "outputId": "15d47031-d631-4acc-f187-517848db2b1c"
      },
      "outputs": [
        {
          "name": "stdout",
          "output_type": "stream",
          "text": [
            "                               SARIMAX Results                                \n",
            "==============================================================================\n",
            "Dep. Variable:                      y   No. Observations:                 1240\n",
            "Model:               SARIMAX(1, 1, 1)   Log Likelihood               -2982.540\n",
            "Date:                Wed, 15 Feb 2023   AIC                           5973.080\n",
            "Time:                        19:47:17   BIC                           5993.568\n",
            "Sample:                             0   HQIC                          5980.785\n",
            "                               - 1240                                         \n",
            "Covariance Type:                  opg                                         \n",
            "==============================================================================\n",
            "                 coef    std err          z      P>|z|      [0.025      0.975]\n",
            "------------------------------------------------------------------------------\n",
            "intercept      0.0125      0.012      1.065      0.287      -0.010       0.035\n",
            "ar.L1          0.8642      0.086     10.019      0.000       0.695       1.033\n",
            "ma.L1         -0.9007      0.075    -11.983      0.000      -1.048      -0.753\n",
            "sigma2         7.2179      0.082     88.323      0.000       7.058       7.378\n",
            "===================================================================================\n",
            "Ljung-Box (L1) (Q):                   0.20   Jarque-Bera (JB):            113668.97\n",
            "Prob(Q):                              0.65   Prob(JB):                         0.00\n",
            "Heteroskedasticity (H):               4.82   Skew:                            -2.83\n",
            "Prob(H) (two-sided):                  0.00   Kurtosis:                        49.58\n",
            "===================================================================================\n",
            "\n",
            "Warnings:\n",
            "[1] Covariance matrix calculated using the outer product of gradients (complex-step).\n"
          ]
        }
      ],
      "source": [
        "model = ARIMA(order=(1,1,1))\n",
        "model.fit(train, exogenous = stock_df['Open'][:1240].values.reshape(-1,1))\n",
        "print(model.summary())"
      ]
    },
    {
      "cell_type": "markdown",
      "metadata": {
        "id": "E5gY02I87P4_"
      },
      "source": [
        "Reduce bastante el AIC"
      ]
    },
    {
      "cell_type": "markdown",
      "metadata": {
        "id": "08mszFPe7P4_"
      },
      "source": [
        "Probemos a entrenar el auto arima con la variable exogena"
      ]
    },
    {
      "cell_type": "code",
      "execution_count": 85,
      "metadata": {
        "colab": {
          "base_uri": "https://localhost:8080/"
        },
        "id": "DSAVAXrs7P5A",
        "outputId": "5fe4348f-dcf4-482e-b70d-284ebab03fa4"
      },
      "outputs": [
        {
          "name": "stdout",
          "output_type": "stream",
          "text": [
            "Performing stepwise search to minimize aic\n",
            " ARIMA(1,1,1)(0,0,0)[0] intercept   : AIC=5973.080, Time=1.51 sec\n",
            " ARIMA(0,1,0)(0,0,0)[0] intercept   : AIC=5975.597, Time=0.11 sec\n",
            " ARIMA(1,1,0)(0,0,0)[0] intercept   : AIC=5977.174, Time=0.50 sec\n",
            " ARIMA(0,1,1)(0,0,0)[0] intercept   : AIC=5977.161, Time=0.23 sec\n",
            " ARIMA(0,1,0)(0,0,0)[0]             : AIC=5975.049, Time=0.09 sec\n",
            " ARIMA(2,1,1)(0,0,0)[0] intercept   : AIC=5974.760, Time=1.10 sec\n",
            " ARIMA(1,1,2)(0,0,0)[0] intercept   : AIC=inf, Time=3.03 sec\n",
            " ARIMA(0,1,2)(0,0,0)[0] intercept   : AIC=5978.841, Time=0.43 sec\n",
            " ARIMA(2,1,0)(0,0,0)[0] intercept   : AIC=5978.892, Time=0.24 sec\n",
            " ARIMA(2,1,2)(0,0,0)[0] intercept   : AIC=inf, Time=2.72 sec\n",
            " ARIMA(1,1,1)(0,0,0)[0]             : AIC=5973.656, Time=0.42 sec\n",
            "\n",
            "Best model:  ARIMA(1,1,1)(0,0,0)[0] intercept\n",
            "Total fit time: 10.407 seconds\n",
            "5973.079583243155\n"
          ]
        }
      ],
      "source": [
        "model = auto_arima(train,\n",
        "                   exogenous = stock_df['Open'][:1240].values.reshape(-1,1),\n",
        "                   start_p=1,\n",
        "                    start_q=1,\n",
        "                    max_d=3,\n",
        "                    max_p=5,\n",
        "                    max_q=5,\n",
        "                    stationary=False,\n",
        "                    trace=True,\n",
        "                    stepwise=True)\n",
        "\n",
        "print(model.aic())"
      ]
    },
    {
      "cell_type": "markdown",
      "metadata": {
        "id": "Uc0k3DWx7P5A"
      },
      "source": [
        "Probemos varias variables exogenas\n",
        "\n",
        "NOTA: para este apartado se utiliza el valor 'Low', que en la vida real no lo tendriamos para realizar la predicción."
      ]
    },
    {
      "cell_type": "code",
      "execution_count": 95,
      "metadata": {
        "colab": {
          "base_uri": "https://localhost:8080/"
        },
        "id": "Z_LZ9P4M7P5B",
        "outputId": "36ece39a-cb86-4f90-ac3f-4153f9106399"
      },
      "outputs": [
        {
          "name": "stdout",
          "output_type": "stream",
          "text": [
            "Performing stepwise search to minimize aic\n",
            " ARIMA(1,1,1)(0,0,0)[0] intercept   : AIC=5973.080, Time=1.99 sec\n",
            " ARIMA(0,1,0)(0,0,0)[0] intercept   : AIC=5975.597, Time=0.07 sec\n",
            " ARIMA(1,1,0)(0,0,0)[0] intercept   : AIC=5977.174, Time=0.16 sec\n",
            " ARIMA(0,1,1)(0,0,0)[0] intercept   : AIC=5977.161, Time=0.26 sec\n",
            " ARIMA(0,1,0)(0,0,0)[0]             : AIC=5975.049, Time=0.08 sec\n",
            " ARIMA(2,1,1)(0,0,0)[0] intercept   : AIC=5974.760, Time=1.49 sec\n",
            " ARIMA(1,1,2)(0,0,0)[0] intercept   : AIC=inf, Time=2.76 sec\n",
            " ARIMA(0,1,2)(0,0,0)[0] intercept   : AIC=5978.841, Time=0.43 sec\n",
            " ARIMA(2,1,0)(0,0,0)[0] intercept   : AIC=5978.892, Time=0.24 sec\n",
            " ARIMA(2,1,2)(0,0,0)[0] intercept   : AIC=inf, Time=3.41 sec\n",
            " ARIMA(1,1,1)(0,0,0)[0]             : AIC=5973.656, Time=0.43 sec\n",
            "\n",
            "Best model:  ARIMA(1,1,1)(0,0,0)[0] intercept\n",
            "Total fit time: 11.346 seconds\n",
            "5973.079583243155\n"
          ]
        }
      ],
      "source": [
        "model = auto_arima(train,\n",
        "                   exogenous = stock_df[['Open', 'Low']][:1240].values,\n",
        "                   start_p=1,\n",
        "                    start_q=1,\n",
        "                    max_d=3,\n",
        "                    max_p=5,\n",
        "                    max_q=5,\n",
        "                    stationary=False,\n",
        "                    trace=True,\n",
        "                    stepwise=True)\n",
        "\n",
        "print(model.aic())\n",
        "\n"
      ]
    },
    {
      "cell_type": "code",
      "execution_count": 47,
      "metadata": {},
      "outputs": [
        {
          "data": {
            "text/html": [
              "<table class=\"simpletable\">\n",
              "<caption>SARIMAX Results</caption>\n",
              "<tr>\n",
              "  <th>Dep. Variable:</th>           <td>y</td>        <th>  No. Observations:  </th>   <td>1240</td>   \n",
              "</tr>\n",
              "<tr>\n",
              "  <th>Model:</th>           <td>SARIMAX(3, 1, 1)</td> <th>  Log Likelihood     </th> <td>-2029.575</td>\n",
              "</tr>\n",
              "<tr>\n",
              "  <th>Date:</th>            <td>Thu, 31 Mar 2022</td> <th>  AIC                </th> <td>4075.150</td> \n",
              "</tr>\n",
              "<tr>\n",
              "  <th>Time:</th>                <td>14:11:30</td>     <th>  BIC                </th> <td>4116.126</td> \n",
              "</tr>\n",
              "<tr>\n",
              "  <th>Sample:</th>                  <td>0</td>        <th>  HQIC               </th> <td>4090.561</td> \n",
              "</tr>\n",
              "<tr>\n",
              "  <th></th>                      <td> - 1240</td>     <th>                     </th>     <td> </td>    \n",
              "</tr>\n",
              "<tr>\n",
              "  <th>Covariance Type:</th>        <td>opg</td>       <th>                     </th>     <td> </td>    \n",
              "</tr>\n",
              "</table>\n",
              "<table class=\"simpletable\">\n",
              "<tr>\n",
              "      <td></td>         <th>coef</th>     <th>std err</th>      <th>z</th>      <th>P>|z|</th>  <th>[0.025</th>    <th>0.975]</th>  \n",
              "</tr>\n",
              "<tr>\n",
              "  <th>intercept</th> <td>    0.0057</td> <td>    0.004</td> <td>    1.487</td> <td> 0.137</td> <td>   -0.002</td> <td>    0.013</td>\n",
              "</tr>\n",
              "<tr>\n",
              "  <th>x1</th>        <td>   -0.0766</td> <td>    0.016</td> <td>   -4.678</td> <td> 0.000</td> <td>   -0.109</td> <td>   -0.045</td>\n",
              "</tr>\n",
              "<tr>\n",
              "  <th>x2</th>        <td>    1.0291</td> <td>    0.015</td> <td>   68.855</td> <td> 0.000</td> <td>    1.000</td> <td>    1.058</td>\n",
              "</tr>\n",
              "<tr>\n",
              "  <th>ar.L1</th>     <td>   -0.0816</td> <td>    0.028</td> <td>   -2.927</td> <td> 0.003</td> <td>   -0.136</td> <td>   -0.027</td>\n",
              "</tr>\n",
              "<tr>\n",
              "  <th>ar.L2</th>     <td>   -0.0629</td> <td>    0.027</td> <td>   -2.299</td> <td> 0.021</td> <td>   -0.116</td> <td>   -0.009</td>\n",
              "</tr>\n",
              "<tr>\n",
              "  <th>ar.L3</th>     <td>    0.0645</td> <td>    0.026</td> <td>    2.458</td> <td> 0.014</td> <td>    0.013</td> <td>    0.116</td>\n",
              "</tr>\n",
              "<tr>\n",
              "  <th>ma.L1</th>     <td>   -0.9097</td> <td>    0.015</td> <td>  -62.728</td> <td> 0.000</td> <td>   -0.938</td> <td>   -0.881</td>\n",
              "</tr>\n",
              "<tr>\n",
              "  <th>sigma2</th>    <td>    1.5477</td> <td>    0.049</td> <td>   31.820</td> <td> 0.000</td> <td>    1.452</td> <td>    1.643</td>\n",
              "</tr>\n",
              "</table>\n",
              "<table class=\"simpletable\">\n",
              "<tr>\n",
              "  <th>Ljung-Box (L1) (Q):</th>     <td>0.01</td> <th>  Jarque-Bera (JB):  </th> <td>1156.08</td>\n",
              "</tr>\n",
              "<tr>\n",
              "  <th>Prob(Q):</th>                <td>0.94</td> <th>  Prob(JB):          </th>  <td>0.00</td>  \n",
              "</tr>\n",
              "<tr>\n",
              "  <th>Heteroskedasticity (H):</th> <td>2.62</td> <th>  Skew:              </th>  <td>1.26</td>  \n",
              "</tr>\n",
              "<tr>\n",
              "  <th>Prob(H) (two-sided):</th>    <td>0.00</td> <th>  Kurtosis:          </th>  <td>7.00</td>  \n",
              "</tr>\n",
              "</table><br/><br/>Warnings:<br/>[1] Covariance matrix calculated using the outer product of gradients (complex-step)."
            ],
            "text/plain": [
              "<class 'statsmodels.iolib.summary.Summary'>\n",
              "\"\"\"\n",
              "                               SARIMAX Results                                \n",
              "==============================================================================\n",
              "Dep. Variable:                      y   No. Observations:                 1240\n",
              "Model:               SARIMAX(3, 1, 1)   Log Likelihood               -2029.575\n",
              "Date:                Thu, 31 Mar 2022   AIC                           4075.150\n",
              "Time:                        14:11:30   BIC                           4116.126\n",
              "Sample:                             0   HQIC                          4090.561\n",
              "                               - 1240                                         \n",
              "Covariance Type:                  opg                                         \n",
              "==============================================================================\n",
              "                 coef    std err          z      P>|z|      [0.025      0.975]\n",
              "------------------------------------------------------------------------------\n",
              "intercept      0.0057      0.004      1.487      0.137      -0.002       0.013\n",
              "x1            -0.0766      0.016     -4.678      0.000      -0.109      -0.045\n",
              "x2             1.0291      0.015     68.855      0.000       1.000       1.058\n",
              "ar.L1         -0.0816      0.028     -2.927      0.003      -0.136      -0.027\n",
              "ar.L2         -0.0629      0.027     -2.299      0.021      -0.116      -0.009\n",
              "ar.L3          0.0645      0.026      2.458      0.014       0.013       0.116\n",
              "ma.L1         -0.9097      0.015    -62.728      0.000      -0.938      -0.881\n",
              "sigma2         1.5477      0.049     31.820      0.000       1.452       1.643\n",
              "===================================================================================\n",
              "Ljung-Box (L1) (Q):                   0.01   Jarque-Bera (JB):              1156.08\n",
              "Prob(Q):                              0.94   Prob(JB):                         0.00\n",
              "Heteroskedasticity (H):               2.62   Skew:                             1.26\n",
              "Prob(H) (two-sided):                  0.00   Kurtosis:                         7.00\n",
              "===================================================================================\n",
              "\n",
              "Warnings:\n",
              "[1] Covariance matrix calculated using the outer product of gradients (complex-step).\n",
              "\"\"\""
            ]
          },
          "execution_count": 47,
          "metadata": {},
          "output_type": "execute_result"
        }
      ],
      "source": [
        "model.summary()"
      ]
    },
    {
      "cell_type": "code",
      "execution_count": 82,
      "metadata": {},
      "outputs": [
        {
          "name": "stdout",
          "output_type": "stream",
          "text": [
            "mean_squared_error: 45.03466911474756\n",
            "r2_error: -3.5517248198001026\n"
          ]
        },
        {
          "data": {
            "image/png": "[encoded data removed]",
            "text/plain": [
              "<Figure size 432x288 with 1 Axes>"
            ]
          },
          "metadata": {
            "needs_background": "light"
          },
          "output_type": "display_data"
        }
      ],
      "source": [
        "model = ARIMA(order=(1,1,1))\n",
        "model.fit(train, exogenous = stock_df[['Open']][:1240].values)\n",
        "predictions = model.predict(19 , exogenous = stock_df[['Open']][1240:])\n",
        "print(\"mean_squared_error:\", mean_squared_error(test, predictions))\n",
        "print(\"r2_error:\", r2_score(test, predictions))\n",
        "plt.plot(test)\n",
        "plt.plot(predictions,color='red');"
      ]
    },
    {
      "cell_type": "code",
      "execution_count": 96,
      "metadata": {},
      "outputs": [
        {
          "name": "stdout",
          "output_type": "stream",
          "text": [
            "mean_squared_error: 43.15056649665685\n"
          ]
        },
        {
          "data": {
            "image/png": "[encoded data removed]",
            "text/plain": [
              "<Figure size 432x288 with 1 Axes>"
            ]
          },
          "metadata": {
            "needs_background": "light"
          },
          "output_type": "display_data"
        }
      ],
      "source": [
        "model = ARIMA(order=(3,1,1))\n",
        "model.fit(train, exogenous = stock_df[['Open', 'Low']][:1240].values)\n",
        "predictions = model.predict(19 , exogenous = stock_df[['Open', 'Low']][1240:])\n",
        "print(\"mean_squared_error:\", mean_squared_error(test, predictions))\n",
        "plt.plot(test)\n",
        "plt.plot(predictions,color='red');"
      ]
    },
    {
      "cell_type": "markdown",
      "metadata": {
        "id": "BzrfmiF57P5B"
      },
      "source": [
        "## SARIMA\n",
        "Veamos cómo podemos predecir con datos que tienen estacionalidad, es decir, que cuentan con un patrón que se repite a lo largo del tiempo."
      ]
    },
    {
      "cell_type": "code",
      "execution_count": 108,
      "metadata": {
        "colab": {
          "base_uri": "https://localhost:8080/",
          "height": 255
        },
        "id": "FY2tT5577P5C",
        "outputId": "1ef78f9f-b453-4e48-a733-d274bc1f5dc8"
      },
      "outputs": [
        {
          "name": "stdout",
          "output_type": "stream",
          "text": [
            "204\n"
          ]
        },
        {
          "data": {
            "text/html": [
              "<div>\n",
              "<style scoped>\n",
              "    .dataframe tbody tr th:only-of-type {\n",
              "        vertical-align: middle;\n",
              "    }\n",
              "\n",
              "    .dataframe tbody tr th {\n",
              "        vertical-align: top;\n",
              "    }\n",
              "\n",
              "    .dataframe thead th {\n",
              "        text-align: right;\n",
              "    }\n",
              "</style>\n",
              "<table border=\"1\" class=\"dataframe\">\n",
              "  <thead>\n",
              "    <tr style=\"text-align: right;\">\n",
              "      <th></th>\n",
              "      <th>value</th>\n",
              "    </tr>\n",
              "    <tr>\n",
              "      <th>date</th>\n",
              "      <th></th>\n",
              "    </tr>\n",
              "  </thead>\n",
              "  <tbody>\n",
              "    <tr>\n",
              "      <th>1991-07-01</th>\n",
              "      <td>3.526591</td>\n",
              "    </tr>\n",
              "    <tr>\n",
              "      <th>1991-08-01</th>\n",
              "      <td>3.180891</td>\n",
              "    </tr>\n",
              "    <tr>\n",
              "      <th>1991-09-01</th>\n",
              "      <td>3.252221</td>\n",
              "    </tr>\n",
              "    <tr>\n",
              "      <th>1991-10-01</th>\n",
              "      <td>3.611003</td>\n",
              "    </tr>\n",
              "    <tr>\n",
              "      <th>1991-11-01</th>\n",
              "      <td>3.565869</td>\n",
              "    </tr>\n",
              "  </tbody>\n",
              "</table>\n",
              "</div>"
            ],
            "text/plain": [
              "               value\n",
              "date                \n",
              "1991-07-01  3.526591\n",
              "1991-08-01  3.180891\n",
              "1991-09-01  3.252221\n",
              "1991-10-01  3.611003\n",
              "1991-11-01  3.565869"
            ]
          },
          "execution_count": 108,
          "metadata": {},
          "output_type": "execute_result"
        }
      ],
      "source": [
        "df = pd.read_csv('data/a10.csv', parse_dates=['date'], index_col='date')\n",
        "print(len(df))\n",
        "df.head()"
      ]
    },
    {
      "cell_type": "code",
      "execution_count": 109,
      "metadata": {
        "colab": {
          "base_uri": "https://localhost:8080/",
          "height": 388
        },
        "id": "ryrBd6Sk7P5D",
        "outputId": "fa803524-0e77-4e14-8aed-f1ff1c0c1fe2"
      },
      "outputs": [
        {
          "data": {
            "image/png": "[encoded data removed]",
            "text/plain": [
              "<Figure size 1080x432 with 1 Axes>"
            ]
          },
          "metadata": {
            "needs_background": "light"
          },
          "output_type": "display_data"
        }
      ],
      "source": [
        "df['value'].plot(figsize=(15,6));"
      ]
    },
    {
      "cell_type": "code",
      "execution_count": 110,
      "metadata": {
        "colab": {
          "base_uri": "https://localhost:8080/",
          "height": 441
        },
        "id": "kczJzIYc7P5D",
        "outputId": "f81d8ec9-c4ba-4f66-cd1d-2c1ebf56f1a7"
      },
      "outputs": [
        {
          "data": {
            "image/png": "[encoded data removed]",
            "text/plain": [
              "<Figure size 432x432 with 4 Axes>"
            ]
          },
          "metadata": {
            "needs_background": "light"
          },
          "output_type": "display_data"
        }
      ],
      "source": [
        "from statsmodels.tsa.seasonal import seasonal_decompose\n",
        "\n",
        "result_add = seasonal_decompose(df[['value']], model='additive', extrapolate_trend='freq')\n",
        "\n",
        "# Plot\n",
        "plt.rcParams.update({'figure.figsize': (6,6)})\n",
        "result_add.plot();"
      ]
    },
    {
      "cell_type": "code",
      "execution_count": 111,
      "metadata": {
        "id": "5e44k5rW7P5D"
      },
      "outputs": [],
      "source": [
        "X = df[['value']]\n",
        "train = X[:-20]\n",
        "test = X[-20:]"
      ]
    },
    {
      "cell_type": "code",
      "execution_count": 112,
      "metadata": {},
      "outputs": [
        {
          "data": {
            "text/plain": [
              "20"
            ]
          },
          "execution_count": 112,
          "metadata": {},
          "output_type": "execute_result"
        }
      ],
      "source": [
        "len(test)"
      ]
    },
    {
      "cell_type": "code",
      "execution_count": 113,
      "metadata": {
        "colab": {
          "base_uri": "https://localhost:8080/",
          "height": 390
        },
        "id": "82_P6vaH7P5E",
        "outputId": "19e88635-35f9-4b1a-8262-aea7d5911c89"
      },
      "outputs": [
        {
          "data": {
            "image/png": "[encoded data removed]",
            "text/plain": [
              "<Figure size 432x432 with 1 Axes>"
            ]
          },
          "metadata": {
            "needs_background": "light"
          },
          "output_type": "display_data"
        }
      ],
      "source": [
        "plot_acf(train);"
      ]
    },
    {
      "cell_type": "markdown",
      "metadata": {
        "id": "k1XTZnsf7P5F"
      },
      "source": [
        "Probemos el auto arima sin indicarle que hay componente de seasonality"
      ]
    },
    {
      "cell_type": "markdown",
      "metadata": {
        "id": "AeNpxugX7P5G"
      },
      "source": [
        "Ahora le añadimos el componente seasonality mediante el parametro `m`."
      ]
    },
    {
      "cell_type": "code",
      "execution_count": 114,
      "metadata": {
        "colab": {
          "base_uri": "https://localhost:8080/"
        },
        "id": "35rOP97L7P5G",
        "outputId": "a3e8a8bd-beb7-4c2e-b796-8c80f0f1983c"
      },
      "outputs": [
        {
          "name": "stdout",
          "output_type": "stream",
          "text": [
            "Performing stepwise search to minimize aic\n",
            " ARIMA(1,1,1)(1,1,1)[12]             : AIC=359.383, Time=2.00 sec\n",
            " ARIMA(0,1,0)(0,1,0)[12]             : AIC=480.967, Time=0.10 sec\n",
            " ARIMA(1,1,0)(1,1,0)[12]             : AIC=391.380, Time=0.44 sec\n",
            " ARIMA(0,1,1)(0,1,1)[12]             : AIC=366.538, Time=0.44 sec\n",
            " ARIMA(1,1,1)(0,1,1)[12]             : AIC=357.778, Time=0.51 sec\n",
            " ARIMA(1,1,1)(0,1,0)[12]             : AIC=367.053, Time=0.14 sec\n",
            " ARIMA(1,1,1)(0,1,2)[12]             : AIC=358.591, Time=0.81 sec\n",
            " ARIMA(1,1,1)(1,1,0)[12]             : AIC=361.813, Time=0.18 sec\n",
            " ARIMA(1,1,1)(1,1,2)[12]             : AIC=357.470, Time=1.45 sec\n",
            " ARIMA(1,1,1)(2,1,2)[12]             : AIC=356.290, Time=1.91 sec\n",
            " ARIMA(1,1,1)(2,1,1)[12]             : AIC=354.319, Time=0.92 sec\n",
            " ARIMA(1,1,1)(2,1,0)[12]             : AIC=353.117, Time=0.46 sec\n",
            " ARIMA(0,1,1)(2,1,0)[12]             : AIC=362.795, Time=0.48 sec\n",
            " ARIMA(1,1,0)(2,1,0)[12]             : AIC=378.264, Time=0.29 sec\n",
            " ARIMA(2,1,1)(2,1,0)[12]             : AIC=352.725, Time=0.77 sec\n",
            " ARIMA(2,1,1)(1,1,0)[12]             : AIC=362.720, Time=0.38 sec\n",
            " ARIMA(2,1,1)(2,1,1)[12]             : AIC=354.658, Time=0.99 sec\n",
            " ARIMA(2,1,1)(1,1,1)[12]             : AIC=359.203, Time=0.67 sec\n",
            " ARIMA(2,1,0)(2,1,0)[12]             : AIC=358.376, Time=0.37 sec\n",
            " ARIMA(3,1,1)(2,1,0)[12]             : AIC=350.112, Time=0.86 sec\n",
            " ARIMA(3,1,1)(1,1,0)[12]             : AIC=361.530, Time=0.56 sec\n",
            " ARIMA(3,1,1)(2,1,1)[12]             : AIC=350.928, Time=1.90 sec\n",
            " ARIMA(3,1,1)(1,1,1)[12]             : AIC=358.632, Time=0.85 sec\n",
            " ARIMA(3,1,0)(2,1,0)[12]             : AIC=359.972, Time=0.52 sec\n",
            " ARIMA(4,1,1)(2,1,0)[12]             : AIC=350.815, Time=1.47 sec\n",
            " ARIMA(3,1,2)(2,1,0)[12]             : AIC=346.048, Time=1.16 sec\n",
            " ARIMA(3,1,2)(1,1,0)[12]             : AIC=357.566, Time=0.88 sec\n",
            " ARIMA(3,1,2)(2,1,1)[12]             : AIC=347.241, Time=2.13 sec\n",
            " ARIMA(3,1,2)(1,1,1)[12]             : AIC=354.730, Time=1.11 sec\n",
            " ARIMA(2,1,2)(2,1,0)[12]             : AIC=352.984, Time=0.94 sec\n",
            " ARIMA(4,1,2)(2,1,0)[12]             : AIC=348.041, Time=2.24 sec\n",
            " ARIMA(3,1,3)(2,1,0)[12]             : AIC=348.038, Time=1.68 sec\n",
            " ARIMA(2,1,3)(2,1,0)[12]             : AIC=346.654, Time=1.31 sec\n",
            " ARIMA(4,1,3)(2,1,0)[12]             : AIC=346.055, Time=5.27 sec\n",
            " ARIMA(3,1,2)(2,1,0)[12] intercept   : AIC=inf, Time=3.58 sec\n",
            "\n",
            "Best model:  ARIMA(3,1,2)(2,1,0)[12]          \n",
            "Total fit time: 40.102 seconds\n",
            "346.04774994725693\n",
            "mean_squared_error: 11.361827071738617\n"
          ]
        }
      ],
      "source": [
        "model = auto_arima(train,\n",
        "                    start_p=1,\n",
        "                    start_q=1,\n",
        "                    max_d=3,\n",
        "                    max_p=5,\n",
        "                    max_q=5,\n",
        "                    m = 12,\n",
        "                    trace=True,\n",
        "                    stepwise=True)\n",
        "\n",
        "print(model.aic())\n",
        "\n",
        "predictions = model.predict(20)\n",
        "print(\"mean_squared_error:\", mean_squared_error(test, predictions))"
      ]
    },
    {
      "cell_type": "code",
      "execution_count": 115,
      "metadata": {},
      "outputs": [
        {
          "data": {
            "text/plain": [
              "2006-11-01    18.570329\n",
              "2006-12-01    22.084873\n",
              "2007-01-01    24.115982\n",
              "2007-02-01    14.365636\n",
              "2007-03-01    17.673849\n",
              "2007-04-01    15.421369\n",
              "2007-05-01    19.613829\n",
              "2007-06-01    17.414783\n",
              "2007-07-01    19.077560\n",
              "2007-08-01    19.775307\n",
              "2007-09-01    18.593206\n",
              "2007-10-01    22.553716\n",
              "2007-11-01    20.329120\n",
              "2007-12-01    23.594820\n",
              "2008-01-01    25.213158\n",
              "2008-02-01    16.140529\n",
              "2008-03-01    18.666503\n",
              "2008-04-01    17.487842\n",
              "2008-05-01    20.446404\n",
              "2008-06-01    19.188696\n",
              "Freq: MS, dtype: float64"
            ]
          },
          "execution_count": 115,
          "metadata": {},
          "output_type": "execute_result"
        }
      ],
      "source": [
        "predictions = model.predict(20)\n",
        "predictions\n"
      ]
    },
    {
      "cell_type": "code",
      "execution_count": 118,
      "metadata": {},
      "outputs": [
        {
          "data": {
            "text/plain": [
              "date\n",
              "2006-11-01    23.575517\n",
              "2006-12-01    23.334206\n",
              "2007-01-01    28.038383\n",
              "2007-02-01    16.763869\n",
              "2007-03-01    19.792754\n",
              "2007-04-01    16.427305\n",
              "2007-05-01    21.000742\n",
              "2007-06-01    20.681002\n",
              "2007-07-01    21.834890\n",
              "2007-08-01    23.930204\n",
              "2007-09-01    22.930357\n",
              "2007-10-01    23.263340\n",
              "2007-11-01    25.250030\n",
              "2007-12-01    25.806090\n",
              "2008-01-01    29.665356\n",
              "2008-02-01    21.654285\n",
              "2008-03-01    18.264945\n",
              "2008-04-01    23.107677\n",
              "2008-05-01    22.912510\n",
              "2008-06-01    19.431740\n",
              "Name: value, dtype: float64"
            ]
          },
          "execution_count": 118,
          "metadata": {},
          "output_type": "execute_result"
        }
      ],
      "source": [
        "test[\"value\"]"
      ]
    },
    {
      "cell_type": "code",
      "execution_count": 117,
      "metadata": {},
      "outputs": [
        {
          "data": {
            "text/plain": [
              "2006-11-01    18.570329\n",
              "2006-12-01    22.084873\n",
              "2007-01-01    24.115982\n",
              "2007-02-01    14.365636\n",
              "2007-03-01    17.673849\n",
              "2007-04-01    15.421369\n",
              "2007-05-01    19.613829\n",
              "2007-06-01    17.414783\n",
              "2007-07-01    19.077560\n",
              "2007-08-01    19.775307\n",
              "2007-09-01    18.593206\n",
              "2007-10-01    22.553716\n",
              "2007-11-01    20.329120\n",
              "2007-12-01    23.594820\n",
              "2008-01-01    25.213158\n",
              "2008-02-01    16.140529\n",
              "2008-03-01    18.666503\n",
              "2008-04-01    17.487842\n",
              "2008-05-01    20.446404\n",
              "2008-06-01    19.188696\n",
              "Freq: MS, dtype: float64"
            ]
          },
          "execution_count": 117,
          "metadata": {},
          "output_type": "execute_result"
        }
      ],
      "source": [
        "predictions"
      ]
    },
    {
      "cell_type": "code",
      "execution_count": 121,
      "metadata": {},
      "outputs": [
        {
          "name": "stdout",
          "output_type": "stream",
          "text": [
            "mean_squared_error: 11.361827071738617\n"
          ]
        },
        {
          "data": {
            "image/png": "[encoded data removed]",
            "text/plain": [
              "<Figure size 432x432 with 1 Axes>"
            ]
          },
          "metadata": {
            "needs_background": "light"
          },
          "output_type": "display_data"
        }
      ],
      "source": [
        "\n",
        "print(\"mean_squared_error:\", mean_squared_error(test, predictions))\n",
        "plt.plot(test.value)\n",
        "plt.plot(predictions, color='red');"
      ]
    },
    {
      "cell_type": "code",
      "execution_count": 122,
      "metadata": {},
      "outputs": [
        {
          "name": "stdout",
          "output_type": "stream",
          "text": [
            "r2_error: -0.04903010725276813\n"
          ]
        }
      ],
      "source": [
        "print(\"r2_error:\", r2_score(test, predictions))"
      ]
    },
    {
      "cell_type": "code",
      "execution_count": 117,
      "metadata": {},
      "outputs": [
        {
          "data": {
            "text/plain": [
              "array([ 3.526591  ,  3.180891  ,  3.252221  ,  3.611003  ,  3.565869  ,\n",
              "        4.306371  ,  5.088335  ,  2.81452   ,  2.985811  ,  3.20478   ,\n",
              "        3.127578  ,  3.270523  ,  3.73785082,  3.55877609,  3.77720173,\n",
              "        3.92449042,  4.38653092,  5.81054917,  6.19206769,  3.45085699,\n",
              "        3.77230686,  3.7343029 ,  3.90539892,  4.04968714,  4.31556552,\n",
              "        4.56218455,  4.60866203,  4.66785129,  5.09384145,  7.1799622 ,\n",
              "        6.73147308,  3.84127758,  4.39407557,  4.07534073,  4.5406449 ,\n",
              "        4.64561508,  4.75260653,  5.35060467,  5.20445484,  5.3016513 ,\n",
              "        5.77374216,  6.20459348,  6.74948382,  4.21606735,  4.94934946,\n",
              "        4.8230449 ,  5.19475419,  5.17078711,  5.25674157,  5.85527729,\n",
              "        5.49072901,  6.11529323,  6.08847284,  7.41659792,  8.32945212,\n",
              "        5.06979585,  5.26255667,  5.59712628,  6.110296  ,  5.68916084,\n",
              "        6.48684933,  6.30056933,  6.46747574,  6.82862939,  6.64907826,\n",
              "        8.60693721,  8.52447101,  5.27791837,  5.71430345,  6.21452908,\n",
              "        6.41192919,  6.66771564,  7.05083102,  6.70491861,  7.25098761,\n",
              "        7.81973318,  7.39810106, 10.09623339,  8.79851303,  5.91826076,\n",
              "        6.53449298,  6.67573561,  7.06420058,  7.38338118,  7.81349587,\n",
              "        7.43189221,  8.27511722,  8.26044138,  8.59615575, 10.55893902,\n",
              "       10.3914156 ,  6.42153456,  8.06261937,  7.2977391 ,  7.93691594,\n",
              "        8.16532298,  8.71742046,  9.07096378,  9.17711337,  9.25188674,\n",
              "        9.93313643, 11.53297428, 12.51146235,  7.45719853,  8.59119084,\n",
              "        8.47400037,  9.3868026 ,  9.56039945, 10.8342948 , 10.64375083,\n",
              "        9.90816186, 11.7100413 , 11.34015074, 12.07913184, 14.49758109,\n",
              "        8.04927477, 10.31289116,  9.75335821, 10.85038183,  9.96171916,\n",
              "       11.44360144, 11.65923889, 10.64705979, 12.65213444, 13.67446631,\n",
              "       12.96573509, 16.30026927,  9.05348536, 10.00244879, 10.78875007,\n",
              "       12.10670515, 10.95410107, 12.84456587, 12.19649985, 12.85474787,\n",
              "       13.54200436, 13.28764   , 15.13491784, 16.82834968,  9.80021461,\n",
              "       10.81699371, 10.65422256, 12.51232269, 12.16120969, 12.9980462 ,\n",
              "       12.51727568, 13.26865761, 14.73362169, 13.66938174, 16.50396561,\n",
              "       18.00376795, 11.93802987, 12.9979001 , 12.88264507, 13.94344681,\n",
              "       13.9894722 , 15.33909742, 15.37076394, 16.142005  , 16.685754  ,\n",
              "       17.636728  , 18.869325  , 20.778723  , 12.154552  , 13.402392  ,\n",
              "       14.459239  , 14.795102  , 15.705248  , 15.82955   , 17.554701  ,\n",
              "       18.100864  , 17.496668  , 19.347265  , 20.031291  , 23.486694  ,\n",
              "       12.536987  , 15.467018  , 14.233539  , 17.783058  , 16.291602  ,\n",
              "       16.980282  , 18.612189  , 16.623343  , 21.430241  ])"
            ]
          },
          "execution_count": 117,
          "metadata": {},
          "output_type": "execute_result"
        }
      ],
      "source": [
        "train.values.reshape(1,-1)[0]"
      ]
    },
    {
      "cell_type": "code",
      "execution_count": 115,
      "metadata": {},
      "outputs": [
        {
          "data": {
            "text/plain": [
              "[18.570329390139975,\n",
              " 22.0848728840088,\n",
              " 24.11598216234188,\n",
              " 14.365635631419812,\n",
              " 17.67384891763012,\n",
              " 15.421368935937947,\n",
              " 19.61382906378225,\n",
              " 17.41478323759308,\n",
              " 19.077559530321366,\n",
              " 19.775307469428757,\n",
              " 18.593205921447368,\n",
              " 22.55371638859858,\n",
              " 20.329119813193497,\n",
              " 23.594819743371406,\n",
              " 25.213157778055553,\n",
              " 16.14052854893588,\n",
              " 18.666502831270382,\n",
              " 17.487842116167254,\n",
              " 20.44640373749015,\n",
              " 19.18869607043284]"
            ]
          },
          "execution_count": 115,
          "metadata": {},
          "output_type": "execute_result"
        }
      ],
      "source": [
        "predictions.tolist()"
      ]
    },
    {
      "cell_type": "markdown",
      "metadata": {},
      "source": [
        "## Transformar dataset para poder predecir con otros modelos"
      ]
    },
    {
      "cell_type": "code",
      "execution_count": 123,
      "metadata": {},
      "outputs": [
        {
          "name": "stdout",
          "output_type": "stream",
          "text": [
            "204\n"
          ]
        },
        {
          "data": {
            "text/html": [
              "<div>\n",
              "<style scoped>\n",
              "    .dataframe tbody tr th:only-of-type {\n",
              "        vertical-align: middle;\n",
              "    }\n",
              "\n",
              "    .dataframe tbody tr th {\n",
              "        vertical-align: top;\n",
              "    }\n",
              "\n",
              "    .dataframe thead th {\n",
              "        text-align: right;\n",
              "    }\n",
              "</style>\n",
              "<table border=\"1\" class=\"dataframe\">\n",
              "  <thead>\n",
              "    <tr style=\"text-align: right;\">\n",
              "      <th></th>\n",
              "      <th>value</th>\n",
              "    </tr>\n",
              "    <tr>\n",
              "      <th>date</th>\n",
              "      <th></th>\n",
              "    </tr>\n",
              "  </thead>\n",
              "  <tbody>\n",
              "    <tr>\n",
              "      <th>1991-07-01</th>\n",
              "      <td>3.526591</td>\n",
              "    </tr>\n",
              "    <tr>\n",
              "      <th>1991-08-01</th>\n",
              "      <td>3.180891</td>\n",
              "    </tr>\n",
              "    <tr>\n",
              "      <th>1991-09-01</th>\n",
              "      <td>3.252221</td>\n",
              "    </tr>\n",
              "    <tr>\n",
              "      <th>1991-10-01</th>\n",
              "      <td>3.611003</td>\n",
              "    </tr>\n",
              "    <tr>\n",
              "      <th>1991-11-01</th>\n",
              "      <td>3.565869</td>\n",
              "    </tr>\n",
              "  </tbody>\n",
              "</table>\n",
              "</div>"
            ],
            "text/plain": [
              "               value\n",
              "date                \n",
              "1991-07-01  3.526591\n",
              "1991-08-01  3.180891\n",
              "1991-09-01  3.252221\n",
              "1991-10-01  3.611003\n",
              "1991-11-01  3.565869"
            ]
          },
          "execution_count": 123,
          "metadata": {},
          "output_type": "execute_result"
        }
      ],
      "source": [
        "df = pd.read_csv('data/a10.csv', parse_dates=['date'], index_col='date')\n",
        "print(len(df))\n",
        "df.head()"
      ]
    },
    {
      "cell_type": "code",
      "execution_count": 130,
      "metadata": {},
      "outputs": [
        {
          "data": {
            "text/html": [
              "<div>\n",
              "<style scoped>\n",
              "    .dataframe tbody tr th:only-of-type {\n",
              "        vertical-align: middle;\n",
              "    }\n",
              "\n",
              "    .dataframe tbody tr th {\n",
              "        vertical-align: top;\n",
              "    }\n",
              "\n",
              "    .dataframe thead th {\n",
              "        text-align: right;\n",
              "    }\n",
              "</style>\n",
              "<table border=\"1\" class=\"dataframe\">\n",
              "  <thead>\n",
              "    <tr style=\"text-align: right;\">\n",
              "      <th></th>\n",
              "      <th>value</th>\n",
              "    </tr>\n",
              "    <tr>\n",
              "      <th>date</th>\n",
              "      <th></th>\n",
              "    </tr>\n",
              "  </thead>\n",
              "  <tbody>\n",
              "    <tr>\n",
              "      <th>1991-07-01</th>\n",
              "      <td>3.526591</td>\n",
              "    </tr>\n",
              "    <tr>\n",
              "      <th>1991-08-01</th>\n",
              "      <td>3.180891</td>\n",
              "    </tr>\n",
              "    <tr>\n",
              "      <th>1991-09-01</th>\n",
              "      <td>3.252221</td>\n",
              "    </tr>\n",
              "    <tr>\n",
              "      <th>1991-10-01</th>\n",
              "      <td>3.611003</td>\n",
              "    </tr>\n",
              "    <tr>\n",
              "      <th>1991-11-01</th>\n",
              "      <td>3.565869</td>\n",
              "    </tr>\n",
              "    <tr>\n",
              "      <th>1991-12-01</th>\n",
              "      <td>4.306371</td>\n",
              "    </tr>\n",
              "    <tr>\n",
              "      <th>1992-01-01</th>\n",
              "      <td>5.088335</td>\n",
              "    </tr>\n",
              "    <tr>\n",
              "      <th>1992-02-01</th>\n",
              "      <td>2.814520</td>\n",
              "    </tr>\n",
              "    <tr>\n",
              "      <th>1992-03-01</th>\n",
              "      <td>2.985811</td>\n",
              "    </tr>\n",
              "    <tr>\n",
              "      <th>1992-04-01</th>\n",
              "      <td>3.204780</td>\n",
              "    </tr>\n",
              "    <tr>\n",
              "      <th>1992-05-01</th>\n",
              "      <td>3.127578</td>\n",
              "    </tr>\n",
              "    <tr>\n",
              "      <th>1992-06-01</th>\n",
              "      <td>3.270523</td>\n",
              "    </tr>\n",
              "    <tr>\n",
              "      <th>1992-07-01</th>\n",
              "      <td>3.737851</td>\n",
              "    </tr>\n",
              "    <tr>\n",
              "      <th>1992-08-01</th>\n",
              "      <td>3.558776</td>\n",
              "    </tr>\n",
              "    <tr>\n",
              "      <th>1992-09-01</th>\n",
              "      <td>3.777202</td>\n",
              "    </tr>\n",
              "  </tbody>\n",
              "</table>\n",
              "</div>"
            ],
            "text/plain": [
              "               value\n",
              "date                \n",
              "1991-07-01  3.526591\n",
              "1991-08-01  3.180891\n",
              "1991-09-01  3.252221\n",
              "1991-10-01  3.611003\n",
              "1991-11-01  3.565869\n",
              "1991-12-01  4.306371\n",
              "1992-01-01  5.088335\n",
              "1992-02-01  2.814520\n",
              "1992-03-01  2.985811\n",
              "1992-04-01  3.204780\n",
              "1992-05-01  3.127578\n",
              "1992-06-01  3.270523\n",
              "1992-07-01  3.737851\n",
              "1992-08-01  3.558776\n",
              "1992-09-01  3.777202"
            ]
          },
          "execution_count": 130,
          "metadata": {},
          "output_type": "execute_result"
        }
      ],
      "source": [
        "df.head(15)"
      ]
    },
    {
      "cell_type": "code",
      "execution_count": 124,
      "metadata": {},
      "outputs": [
        {
          "data": {
            "text/html": [
              "<div>\n",
              "<style scoped>\n",
              "    .dataframe tbody tr th:only-of-type {\n",
              "        vertical-align: middle;\n",
              "    }\n",
              "\n",
              "    .dataframe tbody tr th {\n",
              "        vertical-align: top;\n",
              "    }\n",
              "\n",
              "    .dataframe thead th {\n",
              "        text-align: right;\n",
              "    }\n",
              "</style>\n",
              "<table border=\"1\" class=\"dataframe\">\n",
              "  <thead>\n",
              "    <tr style=\"text-align: right;\">\n",
              "      <th></th>\n",
              "      <th>value</th>\n",
              "      <th>t-12</th>\n",
              "      <th>t-11</th>\n",
              "      <th>t-10</th>\n",
              "      <th>t-9</th>\n",
              "      <th>t-8</th>\n",
              "      <th>t-7</th>\n",
              "      <th>t-6</th>\n",
              "      <th>t-5</th>\n",
              "      <th>t-4</th>\n",
              "      <th>t-3</th>\n",
              "      <th>t-2</th>\n",
              "      <th>t-1</th>\n",
              "    </tr>\n",
              "    <tr>\n",
              "      <th>date</th>\n",
              "      <th></th>\n",
              "      <th></th>\n",
              "      <th></th>\n",
              "      <th></th>\n",
              "      <th></th>\n",
              "      <th></th>\n",
              "      <th></th>\n",
              "      <th></th>\n",
              "      <th></th>\n",
              "      <th></th>\n",
              "      <th></th>\n",
              "      <th></th>\n",
              "      <th></th>\n",
              "    </tr>\n",
              "  </thead>\n",
              "  <tbody>\n",
              "    <tr>\n",
              "      <th>1992-07-01</th>\n",
              "      <td>3.737851</td>\n",
              "      <td>3.526591</td>\n",
              "      <td>3.180891</td>\n",
              "      <td>3.252221</td>\n",
              "      <td>3.611003</td>\n",
              "      <td>3.565869</td>\n",
              "      <td>4.306371</td>\n",
              "      <td>5.088335</td>\n",
              "      <td>2.814520</td>\n",
              "      <td>2.985811</td>\n",
              "      <td>3.204780</td>\n",
              "      <td>3.127578</td>\n",
              "      <td>3.270523</td>\n",
              "    </tr>\n",
              "    <tr>\n",
              "      <th>1992-08-01</th>\n",
              "      <td>3.558776</td>\n",
              "      <td>3.180891</td>\n",
              "      <td>3.252221</td>\n",
              "      <td>3.611003</td>\n",
              "      <td>3.565869</td>\n",
              "      <td>4.306371</td>\n",
              "      <td>5.088335</td>\n",
              "      <td>2.814520</td>\n",
              "      <td>2.985811</td>\n",
              "      <td>3.204780</td>\n",
              "      <td>3.127578</td>\n",
              "      <td>3.270523</td>\n",
              "      <td>3.737851</td>\n",
              "    </tr>\n",
              "    <tr>\n",
              "      <th>1992-09-01</th>\n",
              "      <td>3.777202</td>\n",
              "      <td>3.252221</td>\n",
              "      <td>3.611003</td>\n",
              "      <td>3.565869</td>\n",
              "      <td>4.306371</td>\n",
              "      <td>5.088335</td>\n",
              "      <td>2.814520</td>\n",
              "      <td>2.985811</td>\n",
              "      <td>3.204780</td>\n",
              "      <td>3.127578</td>\n",
              "      <td>3.270523</td>\n",
              "      <td>3.737851</td>\n",
              "      <td>3.558776</td>\n",
              "    </tr>\n",
              "    <tr>\n",
              "      <th>1992-10-01</th>\n",
              "      <td>3.924490</td>\n",
              "      <td>3.611003</td>\n",
              "      <td>3.565869</td>\n",
              "      <td>4.306371</td>\n",
              "      <td>5.088335</td>\n",
              "      <td>2.814520</td>\n",
              "      <td>2.985811</td>\n",
              "      <td>3.204780</td>\n",
              "      <td>3.127578</td>\n",
              "      <td>3.270523</td>\n",
              "      <td>3.737851</td>\n",
              "      <td>3.558776</td>\n",
              "      <td>3.777202</td>\n",
              "    </tr>\n",
              "    <tr>\n",
              "      <th>1992-11-01</th>\n",
              "      <td>4.386531</td>\n",
              "      <td>3.565869</td>\n",
              "      <td>4.306371</td>\n",
              "      <td>5.088335</td>\n",
              "      <td>2.814520</td>\n",
              "      <td>2.985811</td>\n",
              "      <td>3.204780</td>\n",
              "      <td>3.127578</td>\n",
              "      <td>3.270523</td>\n",
              "      <td>3.737851</td>\n",
              "      <td>3.558776</td>\n",
              "      <td>3.777202</td>\n",
              "      <td>3.924490</td>\n",
              "    </tr>\n",
              "    <tr>\n",
              "      <th>...</th>\n",
              "      <td>...</td>\n",
              "      <td>...</td>\n",
              "      <td>...</td>\n",
              "      <td>...</td>\n",
              "      <td>...</td>\n",
              "      <td>...</td>\n",
              "      <td>...</td>\n",
              "      <td>...</td>\n",
              "      <td>...</td>\n",
              "      <td>...</td>\n",
              "      <td>...</td>\n",
              "      <td>...</td>\n",
              "      <td>...</td>\n",
              "    </tr>\n",
              "    <tr>\n",
              "      <th>2008-02-01</th>\n",
              "      <td>21.654285</td>\n",
              "      <td>16.763869</td>\n",
              "      <td>19.792754</td>\n",
              "      <td>16.427305</td>\n",
              "      <td>21.000742</td>\n",
              "      <td>20.681002</td>\n",
              "      <td>21.834890</td>\n",
              "      <td>23.930204</td>\n",
              "      <td>22.930357</td>\n",
              "      <td>23.263340</td>\n",
              "      <td>25.250030</td>\n",
              "      <td>25.806090</td>\n",
              "      <td>29.665356</td>\n",
              "    </tr>\n",
              "    <tr>\n",
              "      <th>2008-03-01</th>\n",
              "      <td>18.264945</td>\n",
              "      <td>19.792754</td>\n",
              "      <td>16.427305</td>\n",
              "      <td>21.000742</td>\n",
              "      <td>20.681002</td>\n",
              "      <td>21.834890</td>\n",
              "      <td>23.930204</td>\n",
              "      <td>22.930357</td>\n",
              "      <td>23.263340</td>\n",
              "      <td>25.250030</td>\n",
              "      <td>25.806090</td>\n",
              "      <td>29.665356</td>\n",
              "      <td>21.654285</td>\n",
              "    </tr>\n",
              "    <tr>\n",
              "      <th>2008-04-01</th>\n",
              "      <td>23.107677</td>\n",
              "      <td>16.427305</td>\n",
              "      <td>21.000742</td>\n",
              "      <td>20.681002</td>\n",
              "      <td>21.834890</td>\n",
              "      <td>23.930204</td>\n",
              "      <td>22.930357</td>\n",
              "      <td>23.263340</td>\n",
              "      <td>25.250030</td>\n",
              "      <td>25.806090</td>\n",
              "      <td>29.665356</td>\n",
              "      <td>21.654285</td>\n",
              "      <td>18.264945</td>\n",
              "    </tr>\n",
              "    <tr>\n",
              "      <th>2008-05-01</th>\n",
              "      <td>22.912510</td>\n",
              "      <td>21.000742</td>\n",
              "      <td>20.681002</td>\n",
              "      <td>21.834890</td>\n",
              "      <td>23.930204</td>\n",
              "      <td>22.930357</td>\n",
              "      <td>23.263340</td>\n",
              "      <td>25.250030</td>\n",
              "      <td>25.806090</td>\n",
              "      <td>29.665356</td>\n",
              "      <td>21.654285</td>\n",
              "      <td>18.264945</td>\n",
              "      <td>23.107677</td>\n",
              "    </tr>\n",
              "    <tr>\n",
              "      <th>2008-06-01</th>\n",
              "      <td>19.431740</td>\n",
              "      <td>20.681002</td>\n",
              "      <td>21.834890</td>\n",
              "      <td>23.930204</td>\n",
              "      <td>22.930357</td>\n",
              "      <td>23.263340</td>\n",
              "      <td>25.250030</td>\n",
              "      <td>25.806090</td>\n",
              "      <td>29.665356</td>\n",
              "      <td>21.654285</td>\n",
              "      <td>18.264945</td>\n",
              "      <td>23.107677</td>\n",
              "      <td>22.912510</td>\n",
              "    </tr>\n",
              "  </tbody>\n",
              "</table>\n",
              "<p>192 rows × 13 columns</p>\n",
              "</div>"
            ],
            "text/plain": [
              "                value       t-12       t-11       t-10        t-9        t-8  \\\n",
              "date                                                                           \n",
              "1992-07-01   3.737851   3.526591   3.180891   3.252221   3.611003   3.565869   \n",
              "1992-08-01   3.558776   3.180891   3.252221   3.611003   3.565869   4.306371   \n",
              "1992-09-01   3.777202   3.252221   3.611003   3.565869   4.306371   5.088335   \n",
              "1992-10-01   3.924490   3.611003   3.565869   4.306371   5.088335   2.814520   \n",
              "1992-11-01   4.386531   3.565869   4.306371   5.088335   2.814520   2.985811   \n",
              "...               ...        ...        ...        ...        ...        ...   \n",
              "2008-02-01  21.654285  16.763869  19.792754  16.427305  21.000742  20.681002   \n",
              "2008-03-01  18.264945  19.792754  16.427305  21.000742  20.681002  21.834890   \n",
              "2008-04-01  23.107677  16.427305  21.000742  20.681002  21.834890  23.930204   \n",
              "2008-05-01  22.912510  21.000742  20.681002  21.834890  23.930204  22.930357   \n",
              "2008-06-01  19.431740  20.681002  21.834890  23.930204  22.930357  23.263340   \n",
              "\n",
              "                  t-7        t-6        t-5        t-4        t-3        t-2  \\\n",
              "date                                                                           \n",
              "1992-07-01   4.306371   5.088335   2.814520   2.985811   3.204780   3.127578   \n",
              "1992-08-01   5.088335   2.814520   2.985811   3.204780   3.127578   3.270523   \n",
              "1992-09-01   2.814520   2.985811   3.204780   3.127578   3.270523   3.737851   \n",
              "1992-10-01   2.985811   3.204780   3.127578   3.270523   3.737851   3.558776   \n",
              "1992-11-01   3.204780   3.127578   3.270523   3.737851   3.558776   3.777202   \n",
              "...               ...        ...        ...        ...        ...        ...   \n",
              "2008-02-01  21.834890  23.930204  22.930357  23.263340  25.250030  25.806090   \n",
              "2008-03-01  23.930204  22.930357  23.263340  25.250030  25.806090  29.665356   \n",
              "2008-04-01  22.930357  23.263340  25.250030  25.806090  29.665356  21.654285   \n",
              "2008-05-01  23.263340  25.250030  25.806090  29.665356  21.654285  18.264945   \n",
              "2008-06-01  25.250030  25.806090  29.665356  21.654285  18.264945  23.107677   \n",
              "\n",
              "                  t-1  \n",
              "date                   \n",
              "1992-07-01   3.270523  \n",
              "1992-08-01   3.737851  \n",
              "1992-09-01   3.558776  \n",
              "1992-10-01   3.777202  \n",
              "1992-11-01   3.924490  \n",
              "...               ...  \n",
              "2008-02-01  29.665356  \n",
              "2008-03-01  21.654285  \n",
              "2008-04-01  18.264945  \n",
              "2008-05-01  23.107677  \n",
              "2008-06-01  22.912510  \n",
              "\n",
              "[192 rows x 13 columns]"
            ]
          },
          "execution_count": 124,
          "metadata": {},
          "output_type": "execute_result"
        }
      ],
      "source": [
        "for i in range(12,0,-1):\n",
        "    df['t-'+str(i)] = df['value'].shift(i)\n",
        "\n",
        "df.dropna(inplace=True)\n",
        "df"
      ]
    },
    {
      "cell_type": "code",
      "execution_count": 125,
      "metadata": {},
      "outputs": [],
      "source": [
        "from sklearn.model_selection import train_test_split"
      ]
    },
    {
      "cell_type": "code",
      "execution_count": 126,
      "metadata": {},
      "outputs": [],
      "source": [
        "X_train, X_test, y_train, y_test = train_test_split(df.drop(\"value\", axis=1), df[\"value\"])"
      ]
    },
    {
      "cell_type": "code",
      "execution_count": 127,
      "metadata": {},
      "outputs": [],
      "source": [
        "from sklearn.ensemble import RandomForestRegressor"
      ]
    },
    {
      "cell_type": "code",
      "execution_count": 128,
      "metadata": {},
      "outputs": [],
      "source": [
        "rf_reg = RandomForestRegressor(max_depth=3, n_estimators=500)"
      ]
    },
    {
      "cell_type": "code",
      "execution_count": 144,
      "metadata": {},
      "outputs": [
        {
          "data": {
            "text/plain": [
              "date\n",
              "1993-11-01     5.093841\n",
              "2008-03-01    18.264945\n",
              "2007-04-01    16.427305\n",
              "2001-07-01    11.443601\n",
              "2003-12-01    16.503966\n",
              "                ...    \n",
              "2006-02-01    12.536987\n",
              "1996-06-01     5.689161\n",
              "2001-09-01    10.647060\n",
              "2006-07-01    16.980282\n",
              "1993-12-01     7.179962\n",
              "Name: value, Length: 144, dtype: float64"
            ]
          },
          "execution_count": 144,
          "metadata": {},
          "output_type": "execute_result"
        }
      ],
      "source": [
        "y_train"
      ]
    },
    {
      "cell_type": "code",
      "execution_count": 129,
      "metadata": {},
      "outputs": [
        {
          "data": {
            "text/plain": [
              "RandomForestRegressor(max_depth=3, n_estimators=500)"
            ]
          },
          "execution_count": 129,
          "metadata": {},
          "output_type": "execute_result"
        }
      ],
      "source": [
        "from sklearn.model_selection import train_test_split\n",
        "X_train, X_test, y_train, y_test = train_test_split(df.drop(\"value\", axis=1), df[\"value\"])\n",
        "from sklearn.ensemble import RandomForestRegressor\n",
        "rf_reg = RandomForestRegressor(max_depth=3, n_estimators=500)\n",
        "rf_reg.fit(X_train, y_train)\n",
        "rf_reg.score(X_test, y_test)"
      ]
    },
    {
      "cell_type": "code",
      "execution_count": 131,
      "metadata": {},
      "outputs": [
        {
          "data": {
            "text/plain": [
              "0.9614691591485242"
            ]
          },
          "execution_count": 131,
          "metadata": {},
          "output_type": "execute_result"
        }
      ],
      "source": [
        "rf_reg.score(X_test, y_test)"
      ]
    },
    {
      "cell_type": "code",
      "execution_count": null,
      "metadata": {},
      "outputs": [],
      "source": []
    },
    {
      "cell_type": "code",
      "execution_count": 122,
      "metadata": {},
      "outputs": [],
      "source": [
        "from sklearn.impute import KNNImputer\n",
        "import numpy as np"
      ]
    },
    {
      "cell_type": "code",
      "execution_count": 123,
      "metadata": {},
      "outputs": [
        {
          "data": {
            "text/html": [
              "<div>\n",
              "<style scoped>\n",
              "    .dataframe tbody tr th:only-of-type {\n",
              "        vertical-align: middle;\n",
              "    }\n",
              "\n",
              "    .dataframe tbody tr th {\n",
              "        vertical-align: top;\n",
              "    }\n",
              "\n",
              "    .dataframe thead th {\n",
              "        text-align: right;\n",
              "    }\n",
              "</style>\n",
              "<table border=\"1\" class=\"dataframe\">\n",
              "  <thead>\n",
              "    <tr style=\"text-align: right;\">\n",
              "      <th></th>\n",
              "      <th>a</th>\n",
              "      <th>b</th>\n",
              "    </tr>\n",
              "  </thead>\n",
              "  <tbody>\n",
              "    <tr>\n",
              "      <th>0</th>\n",
              "      <td>10.0</td>\n",
              "      <td>6.0</td>\n",
              "    </tr>\n",
              "    <tr>\n",
              "      <th>1</th>\n",
              "      <td>2.0</td>\n",
              "      <td>NaN</td>\n",
              "    </tr>\n",
              "    <tr>\n",
              "      <th>2</th>\n",
              "      <td>3.0</td>\n",
              "      <td>8.0</td>\n",
              "    </tr>\n",
              "    <tr>\n",
              "      <th>3</th>\n",
              "      <td>NaN</td>\n",
              "      <td>9.0</td>\n",
              "    </tr>\n",
              "    <tr>\n",
              "      <th>4</th>\n",
              "      <td>NaN</td>\n",
              "      <td>10.0</td>\n",
              "    </tr>\n",
              "  </tbody>\n",
              "</table>\n",
              "</div>"
            ],
            "text/plain": [
              "      a     b\n",
              "0  10.0   6.0\n",
              "1   2.0   NaN\n",
              "2   3.0   8.0\n",
              "3   NaN   9.0\n",
              "4   NaN  10.0"
            ]
          },
          "execution_count": 123,
          "metadata": {},
          "output_type": "execute_result"
        }
      ],
      "source": [
        "df = pd.DataFrame({\"a\": [10,2,3,np.nan, np.nan], \"b\": [6,np.nan, 8,9,10]})\n",
        "df"
      ]
    },
    {
      "cell_type": "code",
      "execution_count": 124,
      "metadata": {},
      "outputs": [],
      "source": [
        "knni = KNNImputer(n_neighbors = 5)"
      ]
    },
    {
      "cell_type": "code",
      "execution_count": 125,
      "metadata": {},
      "outputs": [],
      "source": [
        "df = pd.DataFrame(knni.fit_transform(df), columns=df.columns)"
      ]
    },
    {
      "cell_type": "code",
      "execution_count": 126,
      "metadata": {},
      "outputs": [
        {
          "data": {
            "text/html": [
              "<div>\n",
              "<style scoped>\n",
              "    .dataframe tbody tr th:only-of-type {\n",
              "        vertical-align: middle;\n",
              "    }\n",
              "\n",
              "    .dataframe tbody tr th {\n",
              "        vertical-align: top;\n",
              "    }\n",
              "\n",
              "    .dataframe thead th {\n",
              "        text-align: right;\n",
              "    }\n",
              "</style>\n",
              "<table border=\"1\" class=\"dataframe\">\n",
              "  <thead>\n",
              "    <tr style=\"text-align: right;\">\n",
              "      <th></th>\n",
              "      <th>a</th>\n",
              "      <th>b</th>\n",
              "    </tr>\n",
              "  </thead>\n",
              "  <tbody>\n",
              "    <tr>\n",
              "      <th>0</th>\n",
              "      <td>10.0</td>\n",
              "      <td>6.00</td>\n",
              "    </tr>\n",
              "    <tr>\n",
              "      <th>1</th>\n",
              "      <td>2.0</td>\n",
              "      <td>8.25</td>\n",
              "    </tr>\n",
              "    <tr>\n",
              "      <th>2</th>\n",
              "      <td>3.0</td>\n",
              "      <td>8.00</td>\n",
              "    </tr>\n",
              "    <tr>\n",
              "      <th>3</th>\n",
              "      <td>5.0</td>\n",
              "      <td>9.00</td>\n",
              "    </tr>\n",
              "    <tr>\n",
              "      <th>4</th>\n",
              "      <td>5.0</td>\n",
              "      <td>10.00</td>\n",
              "    </tr>\n",
              "  </tbody>\n",
              "</table>\n",
              "</div>"
            ],
            "text/plain": [
              "      a      b\n",
              "0  10.0   6.00\n",
              "1   2.0   8.25\n",
              "2   3.0   8.00\n",
              "3   5.0   9.00\n",
              "4   5.0  10.00"
            ]
          },
          "execution_count": 126,
          "metadata": {},
          "output_type": "execute_result"
        }
      ],
      "source": [
        "df"
      ]
    },
    {
      "cell_type": "code",
      "execution_count": null,
      "metadata": {},
      "outputs": [],
      "source": []
    },
    {
      "cell_type": "code",
      "execution_count": 47,
      "metadata": {},
      "outputs": [
        {
          "ename": "NameError",
          "evalue": "name 'ddf' is not defined",
          "output_type": "error",
          "traceback": [
            "\u001b[1;31m---------------------------------------------------------------------------\u001b[0m",
            "\u001b[1;31mNameError\u001b[0m                                 Traceback (most recent call last)",
            "\u001b[1;32mc:\\Users\\josel\\Documents\\THISONE\\AQUI\\ds_thebridge_1_22\\3-Machine_Learning\\3-Time_Series\\2 - ARIMA.ipynb Cell 93'\u001b[0m in \u001b[0;36m<cell line: 1>\u001b[1;34m()\u001b[0m\n\u001b[1;32m----> <a href='vscode-notebook-cell:/c%3A/Users/josel/Documents/THISONE/AQUI/ds_thebridge_1_22/3-Machine_Learning/3-Time_Series/2%20-%20ARIMA.ipynb#ch0000093?line=0'>1</a>\u001b[0m ddf\n",
            "\u001b[1;31mNameError\u001b[0m: name 'ddf' is not defined"
          ]
        }
      ],
      "source": []
    },
    {
      "cell_type": "code",
      "execution_count": null,
      "metadata": {},
      "outputs": [],
      "source": []
    }
  ],
  "metadata": {
    "colab": {
      "name": "2 - ARIMA.ipynb",
      "provenance": []
    },
    "kernelspec": {
      "display_name": "Python 3.7.11 ('basic_ds')",
      "language": "python",
      "name": "python3"
    },
    "language_info": {
      "codemirror_mode": {
        "name": "ipython",
        "version": 3
      },
      "file_extension": ".py",
      "mimetype": "text/x-python",
      "name": "python",
      "nbconvert_exporter": "python",
      "pygments_lexer": "ipython3",
      "version": "3.7.11"
    },
    "vscode": {
      "interpreter": {
        "hash": "70dd3549dabd1ce49e5001f72f872ceffdb9455a9d169ec133c29fbc27295603"
      }
    }
  },
  "nbformat": 4,
  "nbformat_minor": 0
}
