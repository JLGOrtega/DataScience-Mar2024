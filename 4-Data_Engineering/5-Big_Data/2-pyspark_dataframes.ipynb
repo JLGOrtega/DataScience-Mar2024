{
 "cells": [
  {
   "cell_type": "markdown",
   "id": "a4e3626d",
   "metadata": {},
   "source": [
    "# Pyspark Dataframes\n",
    "### Qué vamos a ver\n",
    "- PySpark Dataframe \n",
    "- Leer un dataset\n",
    "- Comprobar los Datatypes de las columnas (Schema)\n",
    "- Seleccionar columnas e indexarlas\n",
    "- Check Describe option similar to Pandas\n",
    "- Añadir columnas\n",
    "- Eliminar columnas\n",
    "- Renombrar Columnas"
   ]
  },
  {
   "cell_type": "code",
   "execution_count": null,
   "id": "7ffc4c8f",
   "metadata": {},
   "outputs": [],
   "source": []
  },
  {
   "cell_type": "code",
   "execution_count": 1,
   "id": "beb48484",
   "metadata": {},
   "outputs": [],
   "source": [
    "import pyspark\n",
    "from pyspark.sql import SparkSession"
   ]
  },
  {
   "cell_type": "code",
   "execution_count": 2,
   "id": "74bf850d",
   "metadata": {},
   "outputs": [],
   "source": [
    "spark = SparkSession.builder.appName('Practise').getOrCreate()"
   ]
  },
  {
   "cell_type": "code",
   "execution_count": 3,
   "id": "c8ec9421",
   "metadata": {},
   "outputs": [
    {
     "data": {
      "text/html": [
       "\n",
       "            <div>\n",
       "                <p><b>SparkSession - in-memory</b></p>\n",
       "                \n",
       "        <div>\n",
       "            <p><b>SparkContext</b></p>\n",
       "\n",
       "            <p><a href=\"http://LAPTOP-G810CJLM:4041\">Spark UI</a></p>\n",
       "\n",
       "            <dl>\n",
       "              <dt>Version</dt>\n",
       "                <dd><code>v3.3.0</code></dd>\n",
       "              <dt>Master</dt>\n",
       "                <dd><code>local[*]</code></dd>\n",
       "              <dt>AppName</dt>\n",
       "                <dd><code>Practise</code></dd>\n",
       "            </dl>\n",
       "        </div>\n",
       "        \n",
       "            </div>\n",
       "        "
      ],
      "text/plain": [
       "<pyspark.sql.session.SparkSession at 0x18527529df0>"
      ]
     },
     "execution_count": 3,
     "metadata": {},
     "output_type": "execute_result"
    }
   ],
   "source": [
    "spark"
   ]
  },
  {
   "cell_type": "markdown",
   "id": "d6a0eede",
   "metadata": {},
   "source": [
    "LEEMOS EL DATASET"
   ]
  },
  {
   "cell_type": "code",
   "execution_count": 4,
   "id": "bad76311",
   "metadata": {},
   "outputs": [
    {
     "name": "stdout",
     "output_type": "stream",
     "text": [
      "+---------+---+----------+------+\n",
      "|     Name|age|Experience|Salary|\n",
      "+---------+---+----------+------+\n",
      "|    Krish| 31|        10| 30000|\n",
      "|Sudhanshu| 30|         8| 25000|\n",
      "|    Sunny| 29|         4| 20000|\n",
      "|     Paul| 24|         3| 20000|\n",
      "|   Harsha| 21|         1| 15000|\n",
      "|  Shubham| 23|         2| 18000|\n",
      "+---------+---+----------+------+\n",
      "\n"
     ]
    }
   ],
   "source": [
    "df_pyspark = spark.read.option('header', 'true').csv('data/test1.csv')\n",
    "df_pyspark.show()"
   ]
  },
  {
   "cell_type": "markdown",
   "id": "bc4c194c",
   "metadata": {},
   "source": [
    "COMPROBAMOS EL TIPO DE DATOS QUE TENEMOS"
   ]
  },
  {
   "cell_type": "code",
   "execution_count": 5,
   "id": "85a9ce1f",
   "metadata": {},
   "outputs": [
    {
     "name": "stdout",
     "output_type": "stream",
     "text": [
      "root\n",
      " |-- Name: string (nullable = true)\n",
      " |-- age: string (nullable = true)\n",
      " |-- Experience: string (nullable = true)\n",
      " |-- Salary: string (nullable = true)\n",
      "\n"
     ]
    }
   ],
   "source": [
    "df_pyspark.printSchema()"
   ]
  },
  {
   "cell_type": "code",
   "execution_count": 18,
   "id": "1f62ab79",
   "metadata": {},
   "outputs": [
    {
     "name": "stdout",
     "output_type": "stream",
     "text": [
      "+---------+---+----------+------+\n",
      "|     Name|age|Experience|Salary|\n",
      "+---------+---+----------+------+\n",
      "|    Krish| 31|        10| 30000|\n",
      "|Sudhanshu| 30|         8| 25000|\n",
      "|    Sunny| 29|         4| 20000|\n",
      "|     Paul| 24|         3| 20000|\n",
      "|   Harsha| 21|         1| 15000|\n",
      "|  Shubham| 23|         2| 18000|\n",
      "+---------+---+----------+------+\n",
      "\n"
     ]
    }
   ],
   "source": [
    "df_pyspark = spark.read.csv('data/test1.csv', header=True, inferSchema=True) # equivalente a spark.read.option('header', 'true').option('inferSchema', 'true').csv('data/test1.csv')\n",
    "df_pyspark.show()"
   ]
  },
  {
   "cell_type": "code",
   "execution_count": 21,
   "metadata": {},
   "outputs": [],
   "source": [
    "from pyspark.sql.types import StructField, TimestampType, StringType, StructType, IntegerType, FloatType"
   ]
  },
  {
   "cell_type": "code",
   "execution_count": 27,
   "id": "0d6daa12",
   "metadata": {},
   "outputs": [
    {
     "name": "stdout",
     "output_type": "stream",
     "text": [
      "+---------+----+----------+-------+\n",
      "|     name| age|Experience| Salary|\n",
      "+---------+----+----------+-------+\n",
      "|    Krish|null|        10|30000.0|\n",
      "|Sudhanshu|null|         8|25000.0|\n",
      "|    Sunny|null|         4|20000.0|\n",
      "|     Paul|null|         3|20000.0|\n",
      "|   Harsha|null|         1|15000.0|\n",
      "|  Shubham|null|         2|18000.0|\n",
      "+---------+----+----------+-------+\n",
      "\n"
     ]
    }
   ],
   "source": [
    "# también podríamos pasarle el esquema manualmente, muy últil para formatos timestamps por ejemplo\n",
    "\n",
    "\n",
    "data_schema = StructType([StructField(\"name\", StringType(), True),\n",
    "               StructField(\"age\", TimestampType(), True),\n",
    "               StructField(\"Experience\", IntegerType(), True),\n",
    "               StructField(\"Salary\", FloatType(), True),\n",
    "               ])\n",
    "\n",
    "df_pyspark = spark.read.format(\"csv\").option(\"header\", True).schema(data_schema).load('data/test1.csv')\n",
    "df_pyspark.show()"
   ]
  },
  {
   "cell_type": "markdown",
   "id": "7425b880",
   "metadata": {},
   "source": [
    "VOLVEMOS A COMPROBAR LOS DATOS"
   ]
  },
  {
   "cell_type": "code",
   "execution_count": 15,
   "id": "5158dcbb",
   "metadata": {},
   "outputs": [
    {
     "name": "stdout",
     "output_type": "stream",
     "text": [
      "root\n",
      " |-- time: timestamp (nullable = true)\n",
      " |-- action: string (nullable = true)\n",
      "\n"
     ]
    }
   ],
   "source": [
    "df_pyspark.printSchema()"
   ]
  },
  {
   "cell_type": "code",
   "execution_count": null,
   "id": "4dcc3380",
   "metadata": {},
   "outputs": [],
   "source": [
    "df_pyspark.dtypes"
   ]
  },
  {
   "cell_type": "code",
   "execution_count": null,
   "id": "798af2f7",
   "metadata": {},
   "outputs": [],
   "source": [
    "df_pyspark.describe().show()"
   ]
  },
  {
   "cell_type": "markdown",
   "id": "4349715e",
   "metadata": {},
   "source": [
    "MOSTRAMOS LOS PRIMEROS VALORES"
   ]
  },
  {
   "cell_type": "code",
   "execution_count": null,
   "id": "2cd5c13d",
   "metadata": {},
   "outputs": [],
   "source": [
    "df_pyspark.head(3)"
   ]
  },
  {
   "cell_type": "markdown",
   "id": "98a68d4b",
   "metadata": {},
   "source": [
    "#### SELECCIONAR COLUMNAS (select)"
   ]
  },
  {
   "cell_type": "markdown",
   "id": "7f033842",
   "metadata": {},
   "source": [
    "SELECCIONAR COLUMNAS POR NOMBRE"
   ]
  },
  {
   "cell_type": "code",
   "execution_count": 28,
   "id": "e4e8920f",
   "metadata": {},
   "outputs": [
    {
     "name": "stdout",
     "output_type": "stream",
     "text": [
      "+---------+----------+\n",
      "|     Name|Experience|\n",
      "+---------+----------+\n",
      "|    Krish|        10|\n",
      "|Sudhanshu|         8|\n",
      "|    Sunny|         4|\n",
      "|     Paul|         3|\n",
      "|   Harsha|         1|\n",
      "|  Shubham|         2|\n",
      "+---------+----------+\n",
      "\n"
     ]
    }
   ],
   "source": [
    "df_pyspark.select(['Name', 'Experience']).show()"
   ]
  },
  {
   "cell_type": "code",
   "execution_count": 44,
   "id": "4eed0f25",
   "metadata": {},
   "outputs": [
    {
     "data": {
      "text/plain": [
       "Column<'Name'>"
      ]
     },
     "execution_count": 44,
     "metadata": {},
     "output_type": "execute_result"
    }
   ],
   "source": [
    "df_pyspark[\"Name\"]"
   ]
  },
  {
   "cell_type": "markdown",
   "id": "ade3b90c",
   "metadata": {},
   "source": [
    "SELECCIONAR COLUMNAS POR ÍNDICE"
   ]
  },
  {
   "cell_type": "markdown",
   "id": "13519351",
   "metadata": {},
   "source": [
    "No existe el comando como tal, pero podemos trampearlo de esta forma:"
   ]
  },
  {
   "cell_type": "code",
   "execution_count": 45,
   "id": "0bc84cc6",
   "metadata": {},
   "outputs": [
    {
     "data": {
      "text/plain": [
       "['name', 'age', 'Experience']"
      ]
     },
     "execution_count": 45,
     "metadata": {},
     "output_type": "execute_result"
    }
   ],
   "source": [
    "# El método columns nos devuelve una lista de las columnas que le indiquemos por índice\n",
    "\n",
    "df_pyspark.columns[:3]"
   ]
  },
  {
   "cell_type": "code",
   "execution_count": 47,
   "id": "3ce6c4ae",
   "metadata": {},
   "outputs": [
    {
     "name": "stdout",
     "output_type": "stream",
     "text": [
      "+---------+----+----------+\n",
      "|     name| age|Experience|\n",
      "+---------+----+----------+\n",
      "|    Krish|null|        10|\n",
      "|Sudhanshu|null|         8|\n",
      "|    Sunny|null|         4|\n",
      "+---------+----+----------+\n",
      "only showing top 3 rows\n",
      "\n"
     ]
    }
   ],
   "source": [
    "# De este modo, podemos obtener de forma indirecta las columnas por índice\n",
    "\n",
    "df_pyspark.select(df_pyspark.columns[:3]).show(3)"
   ]
  },
  {
   "cell_type": "markdown",
   "id": "0dc7ee61",
   "metadata": {},
   "source": [
    "#### AÑADIR, ELIMINAR Y RENOMBRAR COLUMNAS"
   ]
  },
  {
   "cell_type": "markdown",
   "id": "08595b60",
   "metadata": {},
   "source": [
    "AÑADIR COLUMNAS"
   ]
  },
  {
   "cell_type": "code",
   "execution_count": 50,
   "id": "227fcee5",
   "metadata": {},
   "outputs": [],
   "source": [
    "df_pyspark_new_column = df_pyspark.withColumn('Experience after 2 years', df_pyspark['Experience']+2) # Nombre de la columna y valores de la columna"
   ]
  },
  {
   "cell_type": "code",
   "execution_count": 51,
   "id": "c26bdaff",
   "metadata": {},
   "outputs": [
    {
     "name": "stdout",
     "output_type": "stream",
     "text": [
      "+---------+----+----------+-------+------------------------+\n",
      "|     name| age|Experience| Salary|Experience after 2 years|\n",
      "+---------+----+----------+-------+------------------------+\n",
      "|    Krish|null|        10|30000.0|                      12|\n",
      "|Sudhanshu|null|         8|25000.0|                      10|\n",
      "|    Sunny|null|         4|20000.0|                       6|\n",
      "|     Paul|null|         3|20000.0|                       5|\n",
      "|   Harsha|null|         1|15000.0|                       3|\n",
      "|  Shubham|null|         2|18000.0|                       4|\n",
      "+---------+----+----------+-------+------------------------+\n",
      "\n"
     ]
    }
   ],
   "source": [
    "df_pyspark_new_column.show()"
   ]
  },
  {
   "cell_type": "markdown",
   "id": "c104a4a2",
   "metadata": {},
   "source": [
    "ELIMINAR COLUMNAS"
   ]
  },
  {
   "cell_type": "code",
   "execution_count": 53,
   "id": "67252acb",
   "metadata": {},
   "outputs": [],
   "source": [
    "df_pyspark_drop_column = df_pyspark.drop('Experience after 2 years')\n"
   ]
  },
  {
   "cell_type": "code",
   "execution_count": 54,
   "id": "dbaaaf72",
   "metadata": {},
   "outputs": [
    {
     "name": "stdout",
     "output_type": "stream",
     "text": [
      "+---------+----+----------+-------+\n",
      "|     name| age|Experience| Salary|\n",
      "+---------+----+----------+-------+\n",
      "|    Krish|null|        10|30000.0|\n",
      "|Sudhanshu|null|         8|25000.0|\n",
      "|    Sunny|null|         4|20000.0|\n",
      "|     Paul|null|         3|20000.0|\n",
      "|   Harsha|null|         1|15000.0|\n",
      "|  Shubham|null|         2|18000.0|\n",
      "+---------+----+----------+-------+\n",
      "\n"
     ]
    }
   ],
   "source": [
    "df_pyspark_drop_column.show()"
   ]
  },
  {
   "cell_type": "markdown",
   "id": "63799878",
   "metadata": {},
   "source": [
    "RENOMBRAR COLUMNAS"
   ]
  },
  {
   "cell_type": "code",
   "execution_count": 55,
   "id": "6c023025",
   "metadata": {},
   "outputs": [
    {
     "name": "stdout",
     "output_type": "stream",
     "text": [
      "+---------+----+----------+-------+\n",
      "| New_name| age|Experience| Salary|\n",
      "+---------+----+----------+-------+\n",
      "|    Krish|null|        10|30000.0|\n",
      "|Sudhanshu|null|         8|25000.0|\n",
      "|    Sunny|null|         4|20000.0|\n",
      "|     Paul|null|         3|20000.0|\n",
      "|   Harsha|null|         1|15000.0|\n",
      "|  Shubham|null|         2|18000.0|\n",
      "+---------+----+----------+-------+\n",
      "\n"
     ]
    }
   ],
   "source": [
    "df_pyspark.withColumnRenamed('Name', 'New_name').show()"
   ]
  },
  {
   "cell_type": "code",
   "execution_count": null,
   "id": "72f71928",
   "metadata": {},
   "outputs": [],
   "source": []
  }
 ],
 "metadata": {
  "kernelspec": {
   "display_name": "Python 3.8.13 ('pyspark_env')",
   "language": "python",
   "name": "python3"
  },
  "language_info": {
   "codemirror_mode": {
    "name": "ipython",
    "version": 3
   },
   "file_extension": ".py",
   "mimetype": "text/x-python",
   "name": "python",
   "nbconvert_exporter": "python",
   "pygments_lexer": "ipython3",
   "version": "3.8.13"
  },
  "vscode": {
   "interpreter": {
    "hash": "3a3a425e162f4862738cbecfd5f787bbbf005b9ca551466c5a6c30f0a4f3fc04"
   }
  }
 },
 "nbformat": 4,
 "nbformat_minor": 5
}
