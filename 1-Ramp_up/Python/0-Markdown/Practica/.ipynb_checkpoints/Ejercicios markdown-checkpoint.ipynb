{
 "cells": [
  {
   "cell_type": "markdown",
   "metadata": {},
   "source": [
    "![imagen](./img/ejercicios.png)\n",
    "# Markdown\n",
    "\n",
    "## Ejercicio 1\n",
    "Vamos a aplicar los conocimientos adquiridos en este notebook, intentando reproducir la siguiente imagen en markdown. En el link va la página: https://www.kaggle.com/\n",
    "\n",
    "**TIP**: en [este enlace](https://www.markdownguide.org/basic-syntax/) tienes más ejemplos, por si te atascas con algo :)\n"
   ]
  },
  {
   "cell_type": "markdown",
   "metadata": {},
   "source": [
    "![imagen](./img/md_ejercicio1.png)"
   ]
  },
  {
   "cell_type": "markdown",
   "metadata": {},
   "source": [
    "### Aptitudes de Data Scientist\n",
    "> **Lo más importante**\n",
    ">\n",
    "> - Matemáticas\n",
    "> - Programación\n",
    "> - SQL\n",
    "> - Python\n",
    ">\n",
    "> ![imagen](./img/python.png)\n",
    ">\n",
    "> Otro tema importante es el *Business Intelligence*\n",
    ">\n",
    "> Si tienes tudas, puedes escribirme a: <miguel.nievas@thebridgeschool.es>\n",
    ">\n",
    "> En esta página se aprende mucho de machine learning: **[pagina con ML](https://www.kaggle.com/)**"
   ]
  },
  {
   "cell_type": "markdown",
   "metadata": {},
   "source": [
    "## Ejercicio 2\n",
    "Para este ejercicio vas a crear dos nuevos elementos que no hemos visto en la teoría: una tabla y una fórmula. Busca en la web la sintaxis y replica ambos elementos. Ojo con los espacios en blanco entre la tabla y la fórmula"
   ]
  },
  {
   "cell_type": "markdown",
   "metadata": {},
   "source": [
    "<div style=\"text-align:center\"><img src=\"./img/md_ejercicio2.png\" /></div>"
   ]
  },
  {
   "cell_type": "markdown",
   "metadata": {},
   "source": [
    "|Ramp Up|Data Analysis|Machine Learning|Data & Business|\n",
    "|:--|:--|:--|:--|\n",
    "|Python|EDA|Supervised|Productivización|\n",
    "|Estadística|R|Non supervised|Storytelling|\n",
    "|SQL|Feat. Eng.|Deep Learning|API|\n",
    "\n",
    "<br>\n",
    "<br>\n",
    "\n",
    "$$\\sqrt{3x-1}+(1+x)^2$$\n"
   ]
  },
  {
   "cell_type": "markdown",
   "metadata": {},
   "source": []
  }
 ],
 "metadata": {
  "kernelspec": {
   "display_name": "Python 3 (ipykernel)",
   "language": "python",
   "name": "python3"
  },
  "language_info": {
   "codemirror_mode": {
    "name": "ipython",
    "version": 3
   },
   "file_extension": ".py",
   "mimetype": "text/x-python",
   "name": "python",
   "nbconvert_exporter": "python",
   "pygments_lexer": "ipython3",
   "version": "3.7.13"
  }
 },
 "nbformat": 4,
 "nbformat_minor": 4
}
